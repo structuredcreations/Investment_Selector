{
 "cells": [
  {
   "cell_type": "code",
   "execution_count": null,
   "metadata": {},
   "outputs": [],
   "source": [
    "# The aim of this script is to calculate the rental yield by suburb\n",
    "# then to identify arbtriage opportunities to rent, live in or invest \n",
    "# the dataset produced on the back of this process can be used to analyse market gaps and biasa"
   ]
  },
  {
   "cell_type": "code",
   "execution_count": 21,
   "metadata": {},
   "outputs": [],
   "source": [
    "import pandas as pd\n",
    "\n",
    "# R_INFO_ACT = pd.read_pickle ('/Users/joezhou/Downloads/Realestate/R_RENT_ACT.pkl') \n",
    "# A_INFO_ACT = pd.read_pickle ('/Users/joezhou/Downloads/Realestate/R_ALL_ACT.pkl') \n",
    "\n",
    "# R_INFO_NSW = pd.read_pickle ('/Users/joezhou/Downloads/Realestate/R_RENT_NSW.pkl') \n",
    "# A_INFO_NSW = pd.read_pickle ('/Users/joezhou/Downloads/Realestate/R_ALL_NSW.pkl') \n",
    "\n",
    "# R_INFO_NT = pd.read_pickle ('/Users/joezhou/Downloads/Realestate/R_RENT_NT.pkl') \n",
    "# A_INFO_NT = pd.read_pickle ('/Users/joezhou/Downloads/Realestate/R_ALL_NT.pkl') \n",
    "\n",
    "# R_INFO_QLD = pd.read_pickle ('/Users/joezhou/Downloads/Realestate/R_RENT_QLD.pkl') \n",
    "# A_INFO_QLD = pd.read_pickle ('/Users/joezhou/Downloads/Realestate/R_ALL_QLD.pkl') \n",
    "\n",
    "# R_INFO_SA = pd.read_pickle ('/Users/joezhou/Downloads/Realestate/R_RENT_SA.pkl') \n",
    "# A_INFO_SA = pd.read_pickle ('/Users/joezhou/Downloads/Realestate/R_ALL_SA.pkl') \n",
    "\n",
    "# R_INFO_TAS = pd.read_pickle ('/Users/joezhou/Downloads/Realestate/R_RENT_TAS.pkl') \n",
    "# A_INFO_TAS = pd.read_pickle ('/Users/joezhou/Downloads/Realestate/R_ALL_TAS.pkl') \n",
    "\n",
    "# R_INFO_VIC = pd.read_pickle ('/Users/joezhou/Downloads/Realestate/R_RENT_VIC.pkl') \n",
    "# A_INFO_VIC = pd.read_pickle ('/Users/joezhou/Downloads/Realestate/R_ALL_VIC.pkl') \n",
    "\n",
    "R_INFO_WA = pd.read_pickle ('/Users/joezhou/Downloads/Realestate/R_RENT_WA.pkl') \n",
    "A_INFO_WA = pd.read_pickle ('/Users/joezhou/Downloads/Realestate/R_ALL_WA.pkl')\n",
    "\n",
    "\n",
    "# Append state based files\n",
    "R_INFO_ALL = pd.DataFrame()\n",
    "A_INFO_ALL = pd.DataFrame()\n",
    "\n",
    "R_INFO_ALL = R_INFO_ALL.append([R_INFO_WA],ignore_index=True).reset_index()\n",
    "A_INFO_ALL = A_INFO_ALL.append([A_INFO_WA],ignore_index=True).reset_index() \n",
    "\n",
    "\n",
    "# R_INFO_ALL = R_INFO_ALL.append([R_INFO_ACT, R_INFO_NSW, R_INFO_NT, R_INFO_QLD, R_INFO_SA, R_INFO_TAS, R_INFO_VI, R_INFO_WA],ignore_index=True).reset_index() \n",
    "# A_INFO_ALL = A_INFO_ALL.append([A_INFO_ACT, A_INFO_NSW, A_INFO_NT, A_INFO_QLD, A_INFO_SA, A_INFO_TAS, A_INFO_VIC, A_INFO_WA],ignore_index=True).reset_index() \n",
    "\n",
    "del R_INFO_WA\n",
    "del A_INFO_WA\n",
    "\n",
    "# del R_INFO_ACT, R_INFO_NSW, R_INFO_NT, R_INFO_QLD, R_INFO_SA, R_INFO_TAS, R_INFO_VIC, R_INFO_WA\n",
    "# del A_INFO_ACT, A_INFO_NSW, A_INFO_NT, A_INFO_QLD, A_INFO_SA, A_INFO_TAS, A_INFO_VIC, A_INFO_WA\n",
    "\n",
    "# temp download file for testing\n",
    "# from datetime import datetime as dt\n",
    "# dte = dt.now().strftime('%Y%m%d')\n",
    "# fname = \"/Users/joezhou/Downloads/test_extract_rent_WA{}.xlsx\".format(dte)\n",
    "# I_INFO.to_excel(fname)\n",
    "\n",
    "\n",
    "# create masterlist of postcode and suburbs\n",
    "\n",
    "REF_PCODE_SBRB = R_INFO_ALL.append([A_INFO_ALL],ignore_index=True).reset_index() \n",
    "REF_PCODE_SBRB = REF_PCODE_SBRB[[\"postcode\",\"suburb\"]]\n",
    "REF_PCODE_SBRB = REF_PCODE_SBRB.drop_duplicates()\n",
    "\n"
   ]
  },
  {
   "cell_type": "code",
   "execution_count": 25,
   "metadata": {},
   "outputs": [],
   "source": [
    "# Rental data\n",
    "R_INFO_SUBSET = R_INFO_ALL.drop(columns=['badge','url','listing_company_name','listing_company_phone','description']).fillna(0)\n",
    "R_INFO_SUBSET = R_INFO_SUBSET.drop_duplicates()\n",
    "# summarise by postcode and suburb\n",
    "\n",
    "R_INFO_SUBSET_MED = R_INFO_SUBSET.groupby([\"postcode\",\"suburb\"])[\"price\"].median().reset_index()\n",
    "R_INFO_SUBSET_MED.rename(columns={'price':'price_RENT'}, inplace = True)\n",
    "\n",
    "R_INFO_SUBSET_FREQ = R_INFO_SUBSET.groupby([\"postcode\",\"suburb\"])[\"full_address\"].count().reset_index()\n",
    "R_INFO_SUBSET_FREQ.rename(columns={'full_address':'num_RENT'}, inplace = True)\n",
    "\n"
   ]
  },
  {
   "cell_type": "code",
   "execution_count": 43,
   "metadata": {},
   "outputs": [],
   "source": [
    "# Sales data\n",
    "A_INFO_SUBSET = A_INFO_ALL.drop(columns=['id','images','images_floorplans','badge','url','listing_company_name','listing_company_phone','description','listers']).fillna(0)\n",
    "A_INFO_SUBSET= A_INFO_SUBSET.reset_index()\n",
    "# A_INFO_SUBSET.drop_duplicates()\n",
    "# summarise by postcode and suburb\n",
    "\n",
    "A_INFO_SUBSET_MED = A_INFO_SUBSET.groupby([\"postcode\",\"suburb\"])[\"price\"].median().reset_index()\n",
    "A_INFO_SUBSET_MED.rename(columns={'price':'price_BUY'}, inplace = True)\n",
    "\n",
    "A_INFO_SUBSET_FREQ = A_INFO_SUBSET.groupby([\"postcode\",\"suburb\"])[\"full_address\"].count().reset_index()\n",
    "A_INFO_SUBSET_FREQ.rename(columns={'full_address':'num_BUY'}, inplace = True)"
   ]
  },
  {
   "cell_type": "code",
   "execution_count": 44,
   "metadata": {},
   "outputs": [],
   "source": [
    "df_comp = REF_PCODE_SBRB.merge(R_INFO_SUBSET_MED,how='left',on=[\"postcode\",\"suburb\"]).merge(R_INFO_SUBSET_FREQ,how='left',on=[\"postcode\",\"suburb\"]).fillna(0)\n",
    "df_comp = df_comp.merge(A_INFO_SUBSET_MED,how='left',on=[\"postcode\",\"suburb\"]).merge(A_INFO_SUBSET_FREQ,how='left',on=[\"postcode\",\"suburb\"]).fillna(0)\n",
    "\n",
    "df_comp['YEARLY_RENT']=df_comp['price_RENT']*52\n",
    "df_comp['RENT_YIELD']=df_comp['YEARLY_RENT']/df_comp['price_BUY']\n",
    "\n",
    "# 7303"
   ]
  }
 ],
 "metadata": {
  "kernelspec": {
   "display_name": "Python 3.8.5 ('base')",
   "language": "python",
   "name": "python3"
  },
  "language_info": {
   "codemirror_mode": {
    "name": "ipython",
    "version": 3
   },
   "file_extension": ".py",
   "mimetype": "text/x-python",
   "name": "python",
   "nbconvert_exporter": "python",
   "pygments_lexer": "ipython3",
   "version": "3.8.5"
  },
  "orig_nbformat": 4,
  "vscode": {
   "interpreter": {
    "hash": "29ef60e46f341bb51c2a63b17c19fb7c83213fa52e6b916fbf12c8b5ee03317f"
   }
  }
 },
 "nbformat": 4,
 "nbformat_minor": 2
}
