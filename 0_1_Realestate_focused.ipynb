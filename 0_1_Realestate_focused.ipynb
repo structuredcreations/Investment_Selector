{
 "cells": [
  {
   "cell_type": "code",
   "execution_count": 2,
   "metadata": {},
   "outputs": [
    {
     "name": "stderr",
     "output_type": "stream",
     "text": [
      "INFO:numexpr.utils:NumExpr defaulting to 4 threads.\n"
     ]
    }
   ],
   "source": [
    "# The script aims to descibe the properties available in a suburb and find rental yields\n",
    "import pandas as pd\n",
    "import numpy as np\n"
   ]
  },
  {
   "cell_type": "code",
   "execution_count": 6,
   "metadata": {},
   "outputs": [],
   "source": [
    "# pip install -e git+https://github.com/tomquirk/realestate-com-au-api.git#egg=realestate_com_au_api\n",
    "\n",
    "from realestate_com_au import RealestateComAu\n",
    "\n",
    "api = RealestateComAu()\n",
    "\n",
    "# Get property listings\n",
    "# listings = api.search(locations=[\"seventeen seventy, qld 4677\"], channel=\"buy\", keywords=[\"tenant\"], exclude_keywords=[\"pool\"])"
   ]
  },
  {
   "cell_type": "code",
   "execution_count": 8,
   "metadata": {},
   "outputs": [
    {
     "ename": "JSONDecodeError",
     "evalue": "Expecting value: line 1 column 1 (char 0)",
     "output_type": "error",
     "traceback": [
      "\u001b[0;31m---------------------------------------------------------------------------\u001b[0m",
      "\u001b[0;31mJSONDecodeError\u001b[0m                           Traceback (most recent call last)",
      "File \u001b[0;32m~/anaconda3/lib/python3.10/site-packages/requests/models.py:971\u001b[0m, in \u001b[0;36mResponse.json\u001b[0;34m(self, **kwargs)\u001b[0m\n\u001b[1;32m    970\u001b[0m \u001b[39mtry\u001b[39;00m:\n\u001b[0;32m--> 971\u001b[0m     \u001b[39mreturn\u001b[39;00m complexjson\u001b[39m.\u001b[39;49mloads(\u001b[39mself\u001b[39;49m\u001b[39m.\u001b[39;49mtext, \u001b[39m*\u001b[39;49m\u001b[39m*\u001b[39;49mkwargs)\n\u001b[1;32m    972\u001b[0m \u001b[39mexcept\u001b[39;00m JSONDecodeError \u001b[39mas\u001b[39;00m e:\n\u001b[1;32m    973\u001b[0m     \u001b[39m# Catch JSON-related errors and raise as requests.JSONDecodeError\u001b[39;00m\n\u001b[1;32m    974\u001b[0m     \u001b[39m# This aliases json.JSONDecodeError and simplejson.JSONDecodeError\u001b[39;00m\n",
      "File \u001b[0;32m~/anaconda3/lib/python3.10/json/__init__.py:346\u001b[0m, in \u001b[0;36mloads\u001b[0;34m(s, cls, object_hook, parse_float, parse_int, parse_constant, object_pairs_hook, **kw)\u001b[0m\n\u001b[1;32m    343\u001b[0m \u001b[39mif\u001b[39;00m (\u001b[39mcls\u001b[39m \u001b[39mis\u001b[39;00m \u001b[39mNone\u001b[39;00m \u001b[39mand\u001b[39;00m object_hook \u001b[39mis\u001b[39;00m \u001b[39mNone\u001b[39;00m \u001b[39mand\u001b[39;00m\n\u001b[1;32m    344\u001b[0m         parse_int \u001b[39mis\u001b[39;00m \u001b[39mNone\u001b[39;00m \u001b[39mand\u001b[39;00m parse_float \u001b[39mis\u001b[39;00m \u001b[39mNone\u001b[39;00m \u001b[39mand\u001b[39;00m\n\u001b[1;32m    345\u001b[0m         parse_constant \u001b[39mis\u001b[39;00m \u001b[39mNone\u001b[39;00m \u001b[39mand\u001b[39;00m object_pairs_hook \u001b[39mis\u001b[39;00m \u001b[39mNone\u001b[39;00m \u001b[39mand\u001b[39;00m \u001b[39mnot\u001b[39;00m kw):\n\u001b[0;32m--> 346\u001b[0m     \u001b[39mreturn\u001b[39;00m _default_decoder\u001b[39m.\u001b[39;49mdecode(s)\n\u001b[1;32m    347\u001b[0m \u001b[39mif\u001b[39;00m \u001b[39mcls\u001b[39m \u001b[39mis\u001b[39;00m \u001b[39mNone\u001b[39;00m:\n",
      "File \u001b[0;32m~/anaconda3/lib/python3.10/json/decoder.py:337\u001b[0m, in \u001b[0;36mJSONDecoder.decode\u001b[0;34m(self, s, _w)\u001b[0m\n\u001b[1;32m    333\u001b[0m \u001b[39m\"\"\"Return the Python representation of ``s`` (a ``str`` instance\u001b[39;00m\n\u001b[1;32m    334\u001b[0m \u001b[39mcontaining a JSON document).\u001b[39;00m\n\u001b[1;32m    335\u001b[0m \n\u001b[1;32m    336\u001b[0m \u001b[39m\"\"\"\u001b[39;00m\n\u001b[0;32m--> 337\u001b[0m obj, end \u001b[39m=\u001b[39m \u001b[39mself\u001b[39;49m\u001b[39m.\u001b[39;49mraw_decode(s, idx\u001b[39m=\u001b[39;49m_w(s, \u001b[39m0\u001b[39;49m)\u001b[39m.\u001b[39;49mend())\n\u001b[1;32m    338\u001b[0m end \u001b[39m=\u001b[39m _w(s, end)\u001b[39m.\u001b[39mend()\n",
      "File \u001b[0;32m~/anaconda3/lib/python3.10/json/decoder.py:355\u001b[0m, in \u001b[0;36mJSONDecoder.raw_decode\u001b[0;34m(self, s, idx)\u001b[0m\n\u001b[1;32m    354\u001b[0m \u001b[39mexcept\u001b[39;00m \u001b[39mStopIteration\u001b[39;00m \u001b[39mas\u001b[39;00m err:\n\u001b[0;32m--> 355\u001b[0m     \u001b[39mraise\u001b[39;00m JSONDecodeError(\u001b[39m\"\u001b[39m\u001b[39mExpecting value\u001b[39m\u001b[39m\"\u001b[39m, s, err\u001b[39m.\u001b[39mvalue) \u001b[39mfrom\u001b[39;00m \u001b[39mNone\u001b[39m\n\u001b[1;32m    356\u001b[0m \u001b[39mreturn\u001b[39;00m obj, end\n",
      "\u001b[0;31mJSONDecodeError\u001b[0m: Expecting value: line 1 column 1 (char 0)",
      "\nDuring handling of the above exception, another exception occurred:\n",
      "\u001b[0;31mJSONDecodeError\u001b[0m                           Traceback (most recent call last)",
      "Cell \u001b[0;32mIn[8], line 1\u001b[0m\n\u001b[0;32m----> 1\u001b[0m df \u001b[39m=\u001b[39m api\u001b[39m.\u001b[39;49msearch(channel\u001b[39m=\u001b[39;49m\u001b[39m\"\u001b[39;49m\u001b[39mbuy\u001b[39;49m\u001b[39m\"\u001b[39;49m)\n",
      "File \u001b[0;32m~/Github_Repo/Investment_Selector/src/realestate-com-au-api/realestate_com_au/realestate_com_au.py:221\u001b[0m, in \u001b[0;36mRealestateComAu.search\u001b[0;34m(self, limit, start_page, sold_limit, channel, locations, surrounding_suburbs, exclude_no_sale_price, furnished, pets_allowed, ex_under_contract, min_price, max_price, min_bedrooms, max_bedrooms, property_types, min_bathrooms, min_carspaces, min_land_size, construction_status, keywords, exclude_keywords, sort_type)\u001b[0m\n\u001b[1;32m    217\u001b[0m         \u001b[39mreturn\u001b[39;00m \u001b[39mTrue\u001b[39;00m\n\u001b[1;32m    219\u001b[0m     \u001b[39mreturn\u001b[39;00m \u001b[39mFalse\u001b[39;00m\n\u001b[0;32m--> 221\u001b[0m listings \u001b[39m=\u001b[39m \u001b[39mself\u001b[39;49m\u001b[39m.\u001b[39;49m_scroll(\n\u001b[1;32m    222\u001b[0m     \u001b[39m\"\u001b[39;49m\u001b[39m\"\u001b[39;49m,\n\u001b[1;32m    223\u001b[0m     \u001b[39m\"\u001b[39;49m\u001b[39mPOST\u001b[39;49m\u001b[39m\"\u001b[39;49m,\n\u001b[1;32m    224\u001b[0m     parse_items,\n\u001b[1;32m    225\u001b[0m     next_page,\n\u001b[1;32m    226\u001b[0m     is_done,\n\u001b[1;32m    227\u001b[0m     json\u001b[39m=\u001b[39;49mget_payload(get_query_variables(\u001b[39m1\u001b[39;49m)),\n\u001b[1;32m    228\u001b[0m )\n\u001b[1;32m    230\u001b[0m \u001b[39mreturn\u001b[39;00m listings\n",
      "File \u001b[0;32m~/anaconda3/lib/python3.10/site-packages/fajita/fajita.py:86\u001b[0m, in \u001b[0;36mFajita._scroll\u001b[0;34m(self, uri, method, parse_items, next_page_fn, done_fn, items, **kwargs)\u001b[0m\n\u001b[1;32m     84\u001b[0m \u001b[39melif\u001b[39;00m method \u001b[39m==\u001b[39m \u001b[39m\"\u001b[39m\u001b[39mPOST\u001b[39m\u001b[39m\"\u001b[39m:\n\u001b[1;32m     85\u001b[0m     res \u001b[39m=\u001b[39m \u001b[39mself\u001b[39m\u001b[39m.\u001b[39m_post(uri, \u001b[39m*\u001b[39m\u001b[39m*\u001b[39mkwargs)\n\u001b[0;32m---> 86\u001b[0m items \u001b[39m=\u001b[39m items \u001b[39m+\u001b[39m parse_items(res)\n\u001b[1;32m     88\u001b[0m \u001b[39mif\u001b[39;00m done_fn(items, res, \u001b[39m*\u001b[39m\u001b[39m*\u001b[39mkwargs):\n\u001b[1;32m     89\u001b[0m     \u001b[39mreturn\u001b[39;00m items\n",
      "File \u001b[0;32m~/Github_Repo/Investment_Selector/src/realestate-com-au-api/realestate_com_au/realestate_com_au.py:162\u001b[0m, in \u001b[0;36mRealestateComAu.search.<locals>.parse_items\u001b[0;34m(res)\u001b[0m\n\u001b[1;32m    161\u001b[0m \u001b[39mdef\u001b[39;00m \u001b[39mparse_items\u001b[39m(res):\n\u001b[0;32m--> 162\u001b[0m     data \u001b[39m=\u001b[39m res\u001b[39m.\u001b[39;49mjson()\n\u001b[1;32m    163\u001b[0m     results \u001b[39m=\u001b[39m (\n\u001b[1;32m    164\u001b[0m         data\u001b[39m.\u001b[39mget(\u001b[39m\"\u001b[39m\u001b[39mdata\u001b[39m\u001b[39m\"\u001b[39m, {})\u001b[39m.\u001b[39mget(\u001b[39mf\u001b[39m\u001b[39m\"\u001b[39m\u001b[39m{\u001b[39;00mchannel\u001b[39m}\u001b[39;00m\u001b[39mSearch\u001b[39m\u001b[39m\"\u001b[39m, {})\u001b[39m.\u001b[39mget(\u001b[39m\"\u001b[39m\u001b[39mresults\u001b[39m\u001b[39m\"\u001b[39m, {})\n\u001b[1;32m    165\u001b[0m     )\n\u001b[1;32m    167\u001b[0m     exact_listings \u001b[39m=\u001b[39m (results\u001b[39m.\u001b[39mget(\u001b[39m\"\u001b[39m\u001b[39mexact\u001b[39m\u001b[39m\"\u001b[39m, {}) \u001b[39mor\u001b[39;00m {})\u001b[39m.\u001b[39mget(\u001b[39m\"\u001b[39m\u001b[39mitems\u001b[39m\u001b[39m\"\u001b[39m, [])\n",
      "File \u001b[0;32m~/anaconda3/lib/python3.10/site-packages/requests/models.py:975\u001b[0m, in \u001b[0;36mResponse.json\u001b[0;34m(self, **kwargs)\u001b[0m\n\u001b[1;32m    971\u001b[0m     \u001b[39mreturn\u001b[39;00m complexjson\u001b[39m.\u001b[39mloads(\u001b[39mself\u001b[39m\u001b[39m.\u001b[39mtext, \u001b[39m*\u001b[39m\u001b[39m*\u001b[39mkwargs)\n\u001b[1;32m    972\u001b[0m \u001b[39mexcept\u001b[39;00m JSONDecodeError \u001b[39mas\u001b[39;00m e:\n\u001b[1;32m    973\u001b[0m     \u001b[39m# Catch JSON-related errors and raise as requests.JSONDecodeError\u001b[39;00m\n\u001b[1;32m    974\u001b[0m     \u001b[39m# This aliases json.JSONDecodeError and simplejson.JSONDecodeError\u001b[39;00m\n\u001b[0;32m--> 975\u001b[0m     \u001b[39mraise\u001b[39;00m RequestsJSONDecodeError(e\u001b[39m.\u001b[39mmsg, e\u001b[39m.\u001b[39mdoc, e\u001b[39m.\u001b[39mpos)\n",
      "\u001b[0;31mJSONDecodeError\u001b[0m: Expecting value: line 1 column 1 (char 0)"
     ]
    }
   ],
   "source": [
    "df = api.search(channel=\"buy\")\n"
   ]
  },
  {
   "cell_type": "code",
   "execution_count": null,
   "metadata": {},
   "outputs": [],
   "source": [
    "# Part 1: download information\n",
    "df_rent = api.search(locations=['2144,AUBURN'],channel=\"rent\")\n",
    "# df_all = api.search(locations=['2144,AUBURN'])\n",
    "# last dowload was 6.24 minutes for both lines\n",
    "\n",
    "# df_rent = pd.DataFrame(df_rent)\n",
    "# df_rent1 = df_rent.reset_index()\n",
    "# df_rent2 = df_rent1.drop(columns=['id','index','images','images_floorplans','listers'])\n",
    "# df_rent_Unique = df_rent2.drop_duplicates()\n",
    "\n",
    "# df_all = pd.DataFrame(df_all)\n",
    "# df_all1 = df_all.reset_index()\n",
    "# df_all2 = df_all1.drop(columns=['id','index','images','images_floorplans','listers'])\n",
    "# df_all_Unique = df_all2.drop_duplicates()\n",
    "\n",
    "# del df_rent1, df_rent2, df_all1, df_all2"
   ]
  },
  {
   "cell_type": "code",
   "execution_count": 36,
   "metadata": {},
   "outputs": [],
   "source": [
    "# part 2.1 create masterlist of postcode and suburbs\n",
    "\n",
    "REF_PCODE_SBRB = df_all_Unique.append([df_all_Unique],ignore_index=True).reset_index() \n",
    "# REF_PCODE_SBRB = REF_PCODE_SBRB[[\"postcode\",\"suburb\"]]\n",
    "# full comparison version\n",
    "REF_PCODE_SBRB = REF_PCODE_SBRB[[\"postcode\",\"suburb\",\"property_type\",\"bedrooms\"]]\n",
    "REF_PCODE_SBRB = REF_PCODE_SBRB.drop_duplicates()\n"
   ]
  },
  {
   "cell_type": "code",
   "execution_count": 37,
   "metadata": {},
   "outputs": [],
   "source": [
    "# Part 2.2 Remove rentals from the masterlist\n",
    "\n",
    "A_FIND_BUY = df_all_Unique[df_all_Unique['price']>10000]\n",
    "INFO_BUY = A_FIND_BUY.reset_index()\n",
    "# INFO_BUY.columns = INFO_BUY.columns.str.replace(\"_x\",\"\")"
   ]
  },
  {
   "cell_type": "code",
   "execution_count": 38,
   "metadata": {},
   "outputs": [],
   "source": [
    "# Part 2.3: format rental and sales data to calculate yield\n",
    "\n",
    "# Rental data\n",
    "INFO_RENT_1 = df_rent_Unique[['suburb','state','postcode','short_address','full_address','property_type','price','price_text','bedrooms','bathrooms','parking_spaces','building_size','building_size_unit','land_size','land_size_unit']].fillna(0)\n",
    "\n",
    "# INFO_RENT_1 = R_INFO_ALL.drop(columns=['badge','url','listing_company_name','listing_company_phone','description']).fillna(0)\n",
    "INFO_RENT_1 = INFO_RENT_1.drop_duplicates()\n",
    "# summarise by postcode and suburb\n",
    "\n",
    "INFO_RENT_MED = INFO_RENT_1.groupby([\"postcode\",\"suburb\",\"property_type\",\"bedrooms\"])[\"price\"].median().reset_index()\n",
    "INFO_RENT_MED.rename(columns={'price':'price_RENT'}, inplace = True)\n",
    "\n",
    "INFO_RENT_FREQ = INFO_RENT_1.groupby([\"postcode\",\"suburb\",\"property_type\",\"bedrooms\"])[\"full_address\"].count().reset_index()\n",
    "INFO_RENT_FREQ.rename(columns={'full_address':'num_RENT'}, inplace = True)\n",
    "\n",
    "\n",
    "# Sales data\n",
    "INFO_BUY_1 = INFO_BUY[['suburb','state','postcode','short_address','full_address','property_type','price','price_text','bedrooms','bathrooms','parking_spaces','building_size','building_size_unit','land_size','land_size_unit']].fillna(0)\n",
    "# A_INFO_SUBSET= INFO_BUY_.reset_index()\n",
    "INFO_BUY_1.drop_duplicates()\n",
    "# summarise by postcode and suburb\n",
    "\n",
    "INFO_BUY_MED = INFO_BUY_1.groupby([\"postcode\",\"suburb\",\"property_type\",\"bedrooms\"])[\"price\"].median().reset_index()\n",
    "INFO_BUY_MED.rename(columns={'price':'price_BUY'}, inplace = True)\n",
    "\n",
    "INFO_BUY_FREQ = INFO_BUY_1.groupby([\"postcode\",\"suburb\",\"property_type\",\"bedrooms\"])[\"full_address\"].count().reset_index()\n",
    "INFO_BUY_FREQ.rename(columns={'full_address':'num_BUY'}, inplace = True)\n",
    "\n",
    "# del INFO_RENT_1, INFO_BUY_1\n",
    "\n"
   ]
  },
  {
   "cell_type": "code",
   "execution_count": 39,
   "metadata": {},
   "outputs": [],
   "source": [
    "# part 2.4: calculate rental yield\n",
    "\n",
    "df_comp = REF_PCODE_SBRB.merge(INFO_BUY_MED,how='left',on=[\"postcode\",\"suburb\",\"property_type\",\"bedrooms\"]).merge(INFO_RENT_MED,how='left',on=[\"postcode\",\"suburb\",\"property_type\",\"bedrooms\"]).fillna(0)\n",
    "df_comp = df_comp.merge(INFO_BUY_FREQ,how='left',on=[\"postcode\",\"suburb\",\"property_type\",\"bedrooms\"]).merge(INFO_RENT_FREQ,how='left',on=[\"postcode\",\"suburb\",\"property_type\",\"bedrooms\"]).fillna(0)\n",
    "\n",
    "df_comp.dtypes\n",
    "# df_comp = REF_PCODE_SBRB.merge(R_INFO_SUBSET_MED,how='left',on=[\"postcode\",\"suburb\"]).merge(R_INFO_SUBSET_FREQ,how='left',on=[\"postcode\",\"suburb\"]).fillna(0)\n",
    "# df_comp = df_comp.merge(A_INFO_SUBSET_MED,how='left',on=[\"postcode\",\"suburb\"]).merge(A_INFO_SUBSET_FREQ,how='left',on=[\"postcode\",\"suburb\"]).fillna(0)\n",
    "\n",
    "\n",
    "df_comp = df_comp.loc[(df_comp['num_RENT']>1) | (df_comp['num_BUY']>1)]\n",
    "df_comp['num_RENT'] = df_comp['num_RENT'].astype('int')\n",
    "df_comp.dtypes\n",
    "\n",
    "df_comp['TOTAL_AVAILABLE'] = df_comp['num_RENT'] + df_comp['num_BUY']\n",
    "\n",
    "df_comp['YEARLY_RENT']=df_comp['price_RENT']*52\n",
    "df_comp['RENT_YIELD']=df_comp['YEARLY_RENT']/df_comp['price_BUY']\n",
    "\n",
    "df_comp.replace([np.inf, -np.inf], 0, inplace=True)\n",
    "\n",
    "# df['Marks'] = df['Marks'].astype(str)\n",
    "\n",
    "# create combo key\n",
    "df_comp['Property Desc'] = df_comp['postcode']+' ('+df_comp['suburb']+') : '+df_comp['property_type']+' '+df_comp['bedrooms'].astype(str)+' bedrooms'\n",
    "\n",
    "# del R_INFO_SUBSET_MED, R_INFO_SUBSET_FREQ, A_INFO_SUBSET_MED, A_INFO_SUBSET_FREQ\n",
    "# 7303"
   ]
  },
  {
   "cell_type": "code",
   "execution_count": 40,
   "metadata": {},
   "outputs": [],
   "source": [
    "# temp download file for testing\n",
    "from datetime import datetime as dt\n",
    "dte = dt.now().strftime('%Y%m%d')\n",
    "fname = \"/Users/joezhou/Downloads/REALESTATE_SUBURB_FOCUS{}.xlsx\".format(dte)\n",
    "df_comp.to_excel(fname)"
   ]
  },
  {
   "cell_type": "code",
   "execution_count": null,
   "metadata": {},
   "outputs": [],
   "source": []
  }
 ],
 "metadata": {
  "kernelspec": {
   "display_name": "Python 3.8.5 ('base')",
   "language": "python",
   "name": "python3"
  },
  "language_info": {
   "codemirror_mode": {
    "name": "ipython",
    "version": 3
   },
   "file_extension": ".py",
   "mimetype": "text/x-python",
   "name": "python",
   "nbconvert_exporter": "python",
   "pygments_lexer": "ipython3",
   "version": "3.10.9"
  },
  "orig_nbformat": 4,
  "vscode": {
   "interpreter": {
    "hash": "29ef60e46f341bb51c2a63b17c19fb7c83213fa52e6b916fbf12c8b5ee03317f"
   }
  }
 },
 "nbformat": 4,
 "nbformat_minor": 2
}
