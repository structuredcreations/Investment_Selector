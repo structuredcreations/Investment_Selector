{
 "cells": [
  {
   "cell_type": "code",
   "execution_count": null,
   "metadata": {},
   "outputs": [],
   "source": [
    "# The aim of this module is to create ticker level data for calculation\n",
    "\n",
    "# File name convention\n",
    "# R_ = raw extract \n",
    "# E_ = Entry files into enrichment layer\n",
    "# C_ = enriched layer with calculation\n",
    "# I = insights layer, designed for model baselines\n",
    "# V_ = validation"
   ]
  },
  {
   "cell_type": "code",
   "execution_count": 1,
   "metadata": {},
   "outputs": [],
   "source": [
    "import pandas as pd\n",
    "import numpy as np"
   ]
  },
  {
   "cell_type": "code",
   "execution_count": 17,
   "metadata": {},
   "outputs": [],
   "source": [
    "I_TIC = pd.read_csv (r'/Users/joezhou/Downloads/E_TICK_INPUTS.csv',sep='|') \n",
    "I_INFO = pd.read_csv (r'/Users/joezhou/Downloads/E_ALL_INFO.csv',sep='|') \n",
    "I_DIV = pd.read_csv (r'/Users/joezhou/Downloads/E_ALL_Div.csv',sep='|') \n",
    "I_PRICE = pd.read_csv (r'/Users/joezhou/Downloads/E_ALL_Prices.csv',sep='|') \n",
    "I_FIN = pd.read_csv (r'/Users/joezhou/Downloads/E_ALL_FIN.csv',sep='|') \n",
    "\n",
    "TIC = pd.read_csv(r'/Users/joezhou/Downloads/R_ALL_TICKER.csv',sep='|')\n",
    "\n",
    "TIC_U = TIC.drop_duplicates(subset=['colummn']).rename(columns={'colummn': 'TickName'})[['TickName']]\n",
    "\n",
    "del TIC\n"
   ]
  },
  {
   "cell_type": "code",
   "execution_count": 18,
   "metadata": {},
   "outputs": [],
   "source": [
    "# Join it back together\n",
    "TIC_FLAT = TIC_U.merge(I_TIC,how='left',on='TickName').merge(I_DIV,how='left',on='TickName').merge(I_INFO,how='left',on='TickName').merge(I_PRICE,how='left',on='TickName').merge(I_FIN,how='left',on='TickName')\n",
    "# .fillna('Missing')\n",
    "\n",
    "TIC_FLAT_NAN = TIC_FLAT.isna().sum()\n",
    "writer = pd.ExcelWriter(\"/Users/joezhou/Downloads/TIC_FLAT_NAN_COUNT.xlsx\", engine='xlsxwriter')\n"
   ]
  },
  {
   "cell_type": "code",
   "execution_count": 19,
   "metadata": {},
   "outputs": [],
   "source": [
    "\n",
    "TIC_FLAT.to_csv('/Users/joezhou/Downloads/C_TICKER_FLAT.csv', sep='|', index=False)\n"
   ]
  },
  {
   "cell_type": "code",
   "execution_count": null,
   "metadata": {},
   "outputs": [],
   "source": []
  }
 ],
 "metadata": {
  "kernelspec": {
   "display_name": "Python 3.8.5 ('base')",
   "language": "python",
   "name": "python3"
  },
  "language_info": {
   "codemirror_mode": {
    "name": "ipython",
    "version": 3
   },
   "file_extension": ".py",
   "mimetype": "text/x-python",
   "name": "python",
   "nbconvert_exporter": "python",
   "pygments_lexer": "ipython3",
   "version": "3.8.5"
  },
  "orig_nbformat": 2,
  "vscode": {
   "interpreter": {
    "hash": "29ef60e46f341bb51c2a63b17c19fb7c83213fa52e6b916fbf12c8b5ee03317f"
   }
  }
 },
 "nbformat": 4,
 "nbformat_minor": 2
}
