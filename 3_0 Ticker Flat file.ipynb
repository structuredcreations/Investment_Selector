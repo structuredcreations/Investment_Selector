{
 "metadata": {
  "language_info": {
   "codemirror_mode": {
    "name": "ipython",
    "version": 3
   },
   "file_extension": ".py",
   "mimetype": "text/x-python",
   "name": "python",
   "nbconvert_exporter": "python",
   "pygments_lexer": "ipython3",
   "version": "3.8.5-final"
  },
  "orig_nbformat": 2,
  "kernelspec": {
   "name": "python3",
   "display_name": "Python 3",
   "language": "python"
  }
 },
 "nbformat": 4,
 "nbformat_minor": 2,
 "cells": [
  {
   "cell_type": "code",
   "execution_count": null,
   "metadata": {},
   "outputs": [],
   "source": [
    "import pandas as pd\n"
   ]
  },
  {
   "cell_type": "code",
   "execution_count": 16,
   "metadata": {},
   "outputs": [],
   "source": [
    "#import all flat files\n",
    "\n",
    "INF_Feature = pd.read_excel (r'/Users/joezhou/Downloads/ALL_INFO_FEATURES.xlsx') \n",
    "PRICE_Feature = pd.read_excel (r'/Users/joezhou/Downloads/ALL_Prices_features.xlsx')\n",
    "FIN_Feature = pd.read_excel (r'/Users/joezhou/Downloads/ALL_FIN_features.xlsx')\n",
    "DIV_Feature = pd.read_excel (r'/Users/joezhou/Downloads/ALL_Div_FEATURES.xlsx') \n",
    " \n"
   ]
  },
  {
   "cell_type": "code",
   "execution_count": 36,
   "metadata": {},
   "outputs": [],
   "source": [
    "# Find data coverage\n",
    "\n",
    "import pandas as pd\n",
    "\n",
    "TIC = pd.read_csv(r'/Users/joezhou/Downloads/ALL_TICKER.csv')\n",
    "TIC_U = TIC.drop_duplicates(subset=['colummn']).rename(columns={'colummn': 'TickName'})[['TickName']]\n",
    "TIC_U['Counter'] = 1\n",
    "\n",
    "\n",
    "INF_U = INF_Feature.drop_duplicates(subset=['TickName'])[['TickName']]\n",
    "INF_U['IN_INFO']=\"In Info Extract\"\n",
    "\n",
    "PRICE_U = PRICE_Feature.drop_duplicates(subset=['TickName'])[['TickName']]\n",
    "PRICE_U['IN_PRICE']=\"In Price Extract\"\n",
    "\n",
    "FIN_U = FIN_Feature.drop_duplicates(subset=['TickName'])[['TickName']]\n",
    "FIN_U['IN_FIN']=\"In Financial Extract\"\n",
    "\n",
    "DIV_U = DIV_Feature.drop_duplicates(subset=['TickName'])[['TickName']]\n",
    "DIV_U['IN_DIV']=\"In Dividend Extract\"\n"
   ]
  },
  {
   "cell_type": "code",
   "execution_count": 37,
   "metadata": {},
   "outputs": [
    {
     "output_type": "execute_result",
     "data": {
      "text/plain": [
       "           IN_INFO          IN_PRICE                IN_FIN  \\\n",
       "3  In Info Extract  In Price Extract               Missing   \n",
       "2  In Info Extract  In Price Extract               Missing   \n",
       "6  In Info Extract           Missing               Missing   \n",
       "5  In Info Extract           Missing               Missing   \n",
       "9          Missing           Missing               Missing   \n",
       "8          Missing  In Price Extract               Missing   \n",
       "0  In Info Extract  In Price Extract  In Financial Extract   \n",
       "7          Missing  In Price Extract               Missing   \n",
       "1  In Info Extract  In Price Extract  In Financial Extract   \n",
       "4  In Info Extract           Missing  In Financial Extract   \n",
       "\n",
       "                IN_DIV  Counter  Percentage  \n",
       "3              Missing      806   37.558248  \n",
       "2  In Dividend Extract      501   23.345760  \n",
       "6              Missing      416   19.384902  \n",
       "5  In Dividend Extract      230   10.717614  \n",
       "9              Missing      180    8.387698  \n",
       "8              Missing        7    0.326188  \n",
       "0  In Dividend Extract        2    0.093197  \n",
       "7  In Dividend Extract        2    0.093197  \n",
       "1              Missing        1    0.046598  \n",
       "4              Missing        1    0.046598  "
      ],
      "text/html": "<div>\n<style scoped>\n    .dataframe tbody tr th:only-of-type {\n        vertical-align: middle;\n    }\n\n    .dataframe tbody tr th {\n        vertical-align: top;\n    }\n\n    .dataframe thead th {\n        text-align: right;\n    }\n</style>\n<table border=\"1\" class=\"dataframe\">\n  <thead>\n    <tr style=\"text-align: right;\">\n      <th></th>\n      <th>IN_INFO</th>\n      <th>IN_PRICE</th>\n      <th>IN_FIN</th>\n      <th>IN_DIV</th>\n      <th>Counter</th>\n      <th>Percentage</th>\n    </tr>\n  </thead>\n  <tbody>\n    <tr>\n      <th>3</th>\n      <td>In Info Extract</td>\n      <td>In Price Extract</td>\n      <td>Missing</td>\n      <td>Missing</td>\n      <td>806</td>\n      <td>37.558248</td>\n    </tr>\n    <tr>\n      <th>2</th>\n      <td>In Info Extract</td>\n      <td>In Price Extract</td>\n      <td>Missing</td>\n      <td>In Dividend Extract</td>\n      <td>501</td>\n      <td>23.345760</td>\n    </tr>\n    <tr>\n      <th>6</th>\n      <td>In Info Extract</td>\n      <td>Missing</td>\n      <td>Missing</td>\n      <td>Missing</td>\n      <td>416</td>\n      <td>19.384902</td>\n    </tr>\n    <tr>\n      <th>5</th>\n      <td>In Info Extract</td>\n      <td>Missing</td>\n      <td>Missing</td>\n      <td>In Dividend Extract</td>\n      <td>230</td>\n      <td>10.717614</td>\n    </tr>\n    <tr>\n      <th>9</th>\n      <td>Missing</td>\n      <td>Missing</td>\n      <td>Missing</td>\n      <td>Missing</td>\n      <td>180</td>\n      <td>8.387698</td>\n    </tr>\n    <tr>\n      <th>8</th>\n      <td>Missing</td>\n      <td>In Price Extract</td>\n      <td>Missing</td>\n      <td>Missing</td>\n      <td>7</td>\n      <td>0.326188</td>\n    </tr>\n    <tr>\n      <th>0</th>\n      <td>In Info Extract</td>\n      <td>In Price Extract</td>\n      <td>In Financial Extract</td>\n      <td>In Dividend Extract</td>\n      <td>2</td>\n      <td>0.093197</td>\n    </tr>\n    <tr>\n      <th>7</th>\n      <td>Missing</td>\n      <td>In Price Extract</td>\n      <td>Missing</td>\n      <td>In Dividend Extract</td>\n      <td>2</td>\n      <td>0.093197</td>\n    </tr>\n    <tr>\n      <th>1</th>\n      <td>In Info Extract</td>\n      <td>In Price Extract</td>\n      <td>In Financial Extract</td>\n      <td>Missing</td>\n      <td>1</td>\n      <td>0.046598</td>\n    </tr>\n    <tr>\n      <th>4</th>\n      <td>In Info Extract</td>\n      <td>Missing</td>\n      <td>In Financial Extract</td>\n      <td>Missing</td>\n      <td>1</td>\n      <td>0.046598</td>\n    </tr>\n  </tbody>\n</table>\n</div>"
     },
     "metadata": {},
     "execution_count": 37
    }
   ],
   "source": [
    "# Join it back together\n",
    "TIC_COVERAGE = TIC_U.merge(INF_U,how='left',on='TickName').merge(PRICE_U,how='left',on='TickName').merge(FIN_U,how='left',on='TickName').merge(DIV_U,how='left',on='TickName').fillna('Missing')\n",
    "\n",
    "\n",
    "Tbl_Coverage = TIC_COVERAGE.groupby(['IN_INFO','IN_PRICE','IN_FIN', 'IN_DIV'])['Counter'].count().reset_index().sort_values(by=['Counter'],ascending=False)\n",
    "Tbl_Coverage['Percentage'] = 100 * Tbl_Coverage['Counter']  / Tbl_Coverage['Counter'].sum()\n",
    "\n",
    "Tbl_Coverage.head(27)\n",
    "# To-do: add market cap data in here to quantify the proportion missing"
   ]
  },
  {
   "cell_type": "code",
   "execution_count": 39,
   "metadata": {},
   "outputs": [],
   "source": [
    "\n",
    "#Remove tickers without complete variable set\n",
    "dp_cov_comp = TIC_COVERAGE[(TIC_COVERAGE.IN_INFO == 'In Info Extract') \n",
    "                    & (TIC_COVERAGE.IN_PRICE == 'In Price Extract')\n",
    "                    & (TIC_COVERAGE.IN_FIN == 'In Financial Extract')\n",
    "                    & (TIC_COVERAGE.IN_DIV == 'In Dividend Extract')\n",
    "                    ]\n",
    "\n",
    "\n"
   ]
  },
  {
   "cell_type": "code",
   "execution_count": 40,
   "metadata": {},
   "outputs": [
    {
     "output_type": "execute_result",
     "data": {
      "text/plain": [
       "TickName    2\n",
       "Counter     2\n",
       "IN_INFO     2\n",
       "IN_PRICE    2\n",
       "IN_FIN      2\n",
       "IN_DIV      2\n",
       "dtype: int64"
      ]
     },
     "metadata": {},
     "execution_count": 40
    }
   ],
   "source": [
    "dp_cov_comp.count()"
   ]
  },
  {
   "cell_type": "code",
   "execution_count": 41,
   "metadata": {},
   "outputs": [],
   "source": [
    "\n",
    "# Combine the feature sets\n",
    "\n",
    "TIC_FLAT = dp_cov_comp.merge(PRICE_Feature,how='left',on='TickName').merge(DIV_Feature,how='left',on='TickName').merge(INF_Feature,how='left',on='TickName')\n",
    "\n",
    "# .merge(FIN_Feature,how='left',on='TickName')\n",
    "\n",
    "\n",
    "# .fillna('Missing')\n",
    "\n",
    "# merge(INF_Feature,how='left',on='TickName').\n"
   ]
  },
  {
   "cell_type": "code",
   "execution_count": 42,
   "metadata": {},
   "outputs": [
    {
     "output_type": "execute_result",
     "data": {
      "text/plain": [
       "  TickName  Counter          IN_INFO          IN_PRICE                IN_FIN  \\\n",
       "0   ANZ.AX        1  In Info Extract  In Price Extract  In Financial Extract   \n",
       "1   CBA.AX        1  In Info Extract  In Price Extract  In Financial Extract   \n",
       "\n",
       "                IN_DIV  Unnamed: 0_x  absmvmtOPEN_MEDIAN  absmvmtOPEN_STD  \\\n",
       "0  In Dividend Extract           220            0.018436         0.007378   \n",
       "1  In Dividend Extract           476            0.014674         0.007270   \n",
       "\n",
       "   Unnamed: 0_y  ...  fullTimeEmployees  forwardEps  forwardPE  \\\n",
       "0            86  ...            37506.0        2.47  10.238867   \n",
       "1           194  ...            41778.0        5.54  16.000000   \n",
       "\n",
       "        shortName                                         longName  \\\n",
       "0    ANZ BANK FPO  Australia and New Zealand Banking Group Limited   \n",
       "1  CWLTH BANK FPO                   Commonwealth Bank of Australia   \n",
       "\n",
       "                                 longBusinessSummary  \\\n",
       "0  Australia and New Zealand Banking Group Limite...   \n",
       "1  Commonwealth Bank of Australia provides integr...   \n",
       "\n",
       "                      website  messageBoardId           industry  \\\n",
       "0       http://www.anz.com.au    finmb_384998  Banks—Diversified   \n",
       "1  http://www.commbank.com.au    finmb_874262  Banks—Diversified   \n",
       "\n",
       "               sector  \n",
       "0  Financial Services  \n",
       "1  Financial Services  \n",
       "\n",
       "[2 rows x 68 columns]"
      ],
      "text/html": "<div>\n<style scoped>\n    .dataframe tbody tr th:only-of-type {\n        vertical-align: middle;\n    }\n\n    .dataframe tbody tr th {\n        vertical-align: top;\n    }\n\n    .dataframe thead th {\n        text-align: right;\n    }\n</style>\n<table border=\"1\" class=\"dataframe\">\n  <thead>\n    <tr style=\"text-align: right;\">\n      <th></th>\n      <th>TickName</th>\n      <th>Counter</th>\n      <th>IN_INFO</th>\n      <th>IN_PRICE</th>\n      <th>IN_FIN</th>\n      <th>IN_DIV</th>\n      <th>Unnamed: 0_x</th>\n      <th>absmvmtOPEN_MEDIAN</th>\n      <th>absmvmtOPEN_STD</th>\n      <th>Unnamed: 0_y</th>\n      <th>...</th>\n      <th>fullTimeEmployees</th>\n      <th>forwardEps</th>\n      <th>forwardPE</th>\n      <th>shortName</th>\n      <th>longName</th>\n      <th>longBusinessSummary</th>\n      <th>website</th>\n      <th>messageBoardId</th>\n      <th>industry</th>\n      <th>sector</th>\n    </tr>\n  </thead>\n  <tbody>\n    <tr>\n      <th>0</th>\n      <td>ANZ.AX</td>\n      <td>1</td>\n      <td>In Info Extract</td>\n      <td>In Price Extract</td>\n      <td>In Financial Extract</td>\n      <td>In Dividend Extract</td>\n      <td>220</td>\n      <td>0.018436</td>\n      <td>0.007378</td>\n      <td>86</td>\n      <td>...</td>\n      <td>37506.0</td>\n      <td>2.47</td>\n      <td>10.238867</td>\n      <td>ANZ BANK FPO</td>\n      <td>Australia and New Zealand Banking Group Limited</td>\n      <td>Australia and New Zealand Banking Group Limite...</td>\n      <td>http://www.anz.com.au</td>\n      <td>finmb_384998</td>\n      <td>Banks—Diversified</td>\n      <td>Financial Services</td>\n    </tr>\n    <tr>\n      <th>1</th>\n      <td>CBA.AX</td>\n      <td>1</td>\n      <td>In Info Extract</td>\n      <td>In Price Extract</td>\n      <td>In Financial Extract</td>\n      <td>In Dividend Extract</td>\n      <td>476</td>\n      <td>0.014674</td>\n      <td>0.007270</td>\n      <td>194</td>\n      <td>...</td>\n      <td>41778.0</td>\n      <td>5.54</td>\n      <td>16.000000</td>\n      <td>CWLTH BANK FPO</td>\n      <td>Commonwealth Bank of Australia</td>\n      <td>Commonwealth Bank of Australia provides integr...</td>\n      <td>http://www.commbank.com.au</td>\n      <td>finmb_874262</td>\n      <td>Banks—Diversified</td>\n      <td>Financial Services</td>\n    </tr>\n  </tbody>\n</table>\n<p>2 rows × 68 columns</p>\n</div>"
     },
     "metadata": {},
     "execution_count": 42
    }
   ],
   "source": [
    "TIC_FLAT.head(5)"
   ]
  },
  {
   "cell_type": "code",
   "execution_count": 43,
   "metadata": {},
   "outputs": [],
   "source": [
    "TIC_FLAT.to_excel('/Users/joezhou/Downloads/TIC_FLAT.xlsx')  \n"
   ]
  },
  {
   "cell_type": "code",
   "execution_count": null,
   "metadata": {},
   "outputs": [],
   "source": []
  }
 ]
}