{
 "metadata": {
  "language_info": {
   "codemirror_mode": {
    "name": "ipython",
    "version": 3
   },
   "file_extension": ".py",
   "mimetype": "text/x-python",
   "name": "python",
   "nbconvert_exporter": "python",
   "pygments_lexer": "ipython3",
   "version": "3.8.5"
  },
  "orig_nbformat": 2,
  "kernelspec": {
   "name": "python3",
   "display_name": "Python 3.8.5 64-bit ('base': conda)"
  },
  "interpreter": {
   "hash": "2e80b46cd7ab2c4b8091b0b314a25adce498b8045c83140c5966e92a27ab602b"
  }
 },
 "nbformat": 4,
 "nbformat_minor": 2,
 "cells": [
  {
   "cell_type": "code",
   "execution_count": 1,
   "metadata": {},
   "outputs": [],
   "source": [
    "import pandas as pd\n",
    "\n",
    "DF = pd.read_excel (r'/Users/joezhou/Downloads/ALL_Prices.xlsx')\n",
    "# HIST_PRICE_DF_RAW = pd.read_csv (r'/Users/joezhou/Downloads/ALL_Prices.csv', sep='|')\n",
    "\n",
    "#Create a sample for code testing purposes\n",
    "HIST_PRICE_DF = DF[DF['TickName'].isin(['CBA.AX','WES.AX'])]\n",
    "\n",
    "#create a baselist for adding on the feature engineered variables\n",
    "TICKER_LIST = HIST_PRICE_DF['TickName'].drop_duplicates().reset_index(drop=True)"
   ]
  },
  {
   "cell_type": "code",
   "execution_count": 2,
   "metadata": {},
   "outputs": [],
   "source": [
    "# Freature Engineering at daily level\n",
    "HIST_PRICE_DF = DF[DF['TickName'].isin(['CBA.AX','WES.AX'])].reset_index(drop=True)\n",
    "\n",
    "#Movement relative to Open price\n",
    "HIST_PRICE_DF['HIGHtakeLOW'] = (HIST_PRICE_DF['High']-HIST_PRICE_DF['Low']).abs()\n",
    "HIST_PRICE_DF['CLOSEtakeOPEN'] = (HIST_PRICE_DF['Close']-HIST_PRICE_DF['Open']).abs()\n",
    "HIST_PRICE_DF['HIGHdivideLOW'] = HIST_PRICE_DF['High']/HIST_PRICE_DF['Low']-1\n",
    "HIST_PRICE_DF['CLOSEdivideOPEN'] = HIST_PRICE_DF['Close']/HIST_PRICE_DF['Open']-1\n",
    "\n",
    "HIST_PRICE_DF.loc[HIST_PRICE_DF['Close'] > HIST_PRICE_DF['Open'] , ['V_CloseHigher'] ] = HIST_PRICE_DF['CLOSEdivideOPEN']\n",
    "HIST_PRICE_DF.loc[HIST_PRICE_DF['Close'] < HIST_PRICE_DF['Open'] , ['V_CloseLower'] ] = HIST_PRICE_DF['CLOSEdivideOPEN']\n",
    "\n",
    "HIST_PRICE_DF.loc[HIST_PRICE_DF['Close'] > HIST_PRICE_DF['Open'] , ['C_CloseHigher'] ] = 1\n",
    "HIST_PRICE_DF.loc[HIST_PRICE_DF['Close'] < HIST_PRICE_DF['Open'] , ['C_CloseLower'] ] = 1\n",
    "\n",
    "# Create flags for aggregation\n",
    "HIST_PRICE_DF['Freq'] = 1\n",
    "HIST_PRICE_DF.loc[HIST_PRICE_DF['Close'] > HIST_PRICE_DF['Open'] , ['C_CLOSEaboveOPEN'] ] = 1\n",
    "HIST_PRICE_DF.loc[HIST_PRICE_DF['Open'] > HIST_PRICE_DF['Low'] , ['C_LOWaboveOpen'] ] = 1\n",
    "\n",
    "\n",
    "# Running totals\n",
    "# t = HIST_PRICE_DF.groupby(['TickName', 'Date','C_CloseHigher']).sum().groupby(level=0).cumsum().reset_index()\n"
   ]
  },
  {
   "cell_type": "code",
   "execution_count": 42,
   "metadata": {},
   "outputs": [],
   "source": [
    "# Col = variable\n",
    "# count = new column\n",
    "\n",
    "#   df['count'] = df.groupby((df['col'] != df['col'].shift(1)).cumsum()).cumcount()+1\n",
    "\n",
    "\n",
    "HIST_PRICE_DF['TickName_Plus'] = HIST_PRICE_DF['TickName'] + HIST_PRICE_DF['C_CloseHigher'].astype(str)\n",
    "\n",
    "\n",
    "# HIST_PRICE_DF['count'] = HIST_PRICE_DF.groupby('TickName_Plus')['V_CloseHigher'].cumsum()\n",
    "HIST_PRICE_DF['vol'] = HIST_PRICE_DF.groupby(HIST_PRICE_DF['TickName_Plus'] != HIST_PRICE_DF['TickName_Plus'].shift(1))['V_CloseHigher'].cumsum().cumsum()+0\n",
    "\n",
    "\n",
    "# HIST_PRICE_DF['count'] = HIST_PRICE_DF.groupby((HIST_PRICE_DF['TickName_Plus'] != HIST_PRICE_DF['TickName_Plus'].shift(1)).cumsum())['V_CloseHigher'].cumcount()+1\n",
    "HIST_PRICE_DF['count'] = HIST_PRICE_DF.groupby((HIST_PRICE_DF['TickName_Plus'] != HIST_PRICE_DF['TickName_Plus'].shift(1)).cumsum()).cumcount()+1\n",
    "\n",
    "# df['CUMSUM_C'] = df['SUM_C'].cumsum()\n",
    "\n",
    "t = HIST_PRICE_DF[['TickName','Date','C_CloseHigher','TickName_Plus','vol','V_CloseHigher','count']]\n"
   ]
  },
  {
   "cell_type": "code",
   "execution_count": 124,
   "metadata": {},
   "outputs": [
    {
     "output_type": "stream",
     "name": "stderr",
     "text": [
      "<ipython-input-124-6df2220db16e>:1: FutureWarning: Indexing with multiple keys (implicitly converted to a tuple of keys) will be deprecated, use a list instead.\n  HIST_PRICE_DF_med = HIST_PRICE_DF.groupby(['TickName'])['HIGHtakeLOW','CLOSEtakeOPEN','HIGHdivideLOW','CLOSEdivideOPEN','V_CloseHigher','V_CloseLower'].median().add_suffix('_med')\n<ipython-input-124-6df2220db16e>:2: FutureWarning: Indexing with multiple keys (implicitly converted to a tuple of keys) will be deprecated, use a list instead.\n  HIST_PRICE_DF_Sum = HIST_PRICE_DF.groupby(['TickName'])['Freq','C_CloseHigher','C_CloseLower','C_LOWaboveOpen'].sum().add_suffix('_sum')\n"
     ]
    }
   ],
   "source": [
    "\n",
    "\n",
    "HIST_PRICE_DF_med = HIST_PRICE_DF.groupby(['TickName'])['HIGHtakeLOW','CLOSEtakeOPEN','HIGHdivideLOW','CLOSEdivideOPEN','V_CloseHigher','V_CloseLower'].median().add_suffix('_med')\n",
    "HIST_PRICE_DF_Sum = HIST_PRICE_DF.groupby(['TickName'])['Freq','C_CloseHigher','C_CloseLower','C_LOWaboveOpen'].sum().add_suffix('_sum')\n",
    "\n",
    "\n",
    "HIST_PRICE_DF_ADDED = pd.merge(HIST_PRICE_DF_Sum,HIST_PRICE_DF_med,on='TickName')\n",
    "\n",
    "\n",
    "# Calculate probability of increase\n",
    "HIST_PRICE_DF_ADDED['P_CloseHigher'] = HIST_PRICE_DF_ADDED['C_CloseHigher_sum'] / HIST_PRICE_DF_ADDED['Freq_sum'] \n",
    "HIST_PRICE_DF_ADDED['Mvmt_Likihood'] = (HIST_PRICE_DF_ADDED['P_CloseHigher']*HIST_PRICE_DF_ADDED['V_CloseHigher_med'])+((1-HIST_PRICE_DF_ADDED['P_CloseHigher'])*HIST_PRICE_DF_ADDED['V_CloseLower_med'])\n",
    "\n"
   ]
  },
  {
   "cell_type": "code",
   "execution_count": null,
   "metadata": {},
   "outputs": [],
   "source": []
  },
  {
   "cell_type": "code",
   "execution_count": null,
   "metadata": {},
   "outputs": [],
   "source": []
  },
  {
   "cell_type": "code",
   "execution_count": null,
   "metadata": {},
   "outputs": [],
   "source": [
    "#Feature Engineering at Ticker level\n",
    "\n",
    "# BASELINE = BASELINE.columns = ['TickerName']\n",
    "PRICE_MEDIAN = HIST_PRICE_DF.groupby(\"TickName\")[\"absmvmtOPEN\"].median()\n",
    "PRICE_STD_DEV = HIST_PRICE_DF.groupby(\"TickName\")[\"absmvmtOPEN\"].std()\n",
    "\n",
    "\n",
    "TICKER_LIST_ADDED = pd.merge(TICKER_LIST,PRICE_MEDIAN,on='TickName').rename(columns={'absmvmtOPEN': 'absmvmtOPEN_MEDIAN'})\n",
    "\n",
    "\n",
    "TICKER_LIST_ADDED = pd.merge(TICKER_LIST_ADDED,PRICE_STD_DEV,on='TickName').rename(columns={'absmvmtOPEN': 'absmvmtOPEN_STD'})\n",
    "\n"
   ]
  },
  {
   "cell_type": "code",
   "execution_count": null,
   "metadata": {},
   "outputs": [],
   "source": []
  },
  {
   "cell_type": "code",
   "execution_count": null,
   "metadata": {},
   "outputs": [],
   "source": []
  },
  {
   "cell_type": "code",
   "execution_count": null,
   "metadata": {},
   "outputs": [],
   "source": [
    "\n",
    "\n",
    "TICKER_LIST_ADDED.to_excel('/Users/joezhou/Downloads/ALL_Prices_Features.xlsx')  \n"
   ]
  },
  {
   "cell_type": "code",
   "execution_count": null,
   "metadata": {},
   "outputs": [],
   "source": []
  }
 ]
}