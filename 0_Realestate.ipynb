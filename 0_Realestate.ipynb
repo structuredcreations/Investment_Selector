{
 "cells": [
  {
   "cell_type": "code",
   "execution_count": null,
   "metadata": {},
   "outputs": [],
   "source": [
    "# pip install -e git+https://github.com/tomquirk/realestate-com-au-api.git#egg=realestate_com_au_api\n"
   ]
  },
  {
   "cell_type": "code",
   "execution_count": 16,
   "metadata": {},
   "outputs": [],
   "source": [
    "from realestate_com_au import RealestateComAu\n",
    "\n",
    "api = RealestateComAu()\n",
    "\n",
    "# Get property listings\n",
    "# listings = api.search(locations=[\"seventeen seventy, qld 4677\"], channel=\"buy\", keywords=[\"tenant\"], exclude_keywords=[\"pool\"])\n",
    "\n"
   ]
  },
  {
   "cell_type": "code",
   "execution_count": 6,
   "metadata": {},
   "outputs": [],
   "source": [
    "import pandas as pd\n",
    "\n",
    "# https://www.matthewproctor.com/australian_postcodes\n",
    "df_postcode = pd.read_excel (r'/Users/joezhou/Downloads/Realestate/australian_postcodes.xlsx', sheet_name='Sheet1')\n",
    "\n",
    "# sample test suburb\n",
    "df_postcode_subset = df_postcode.loc[(df_postcode['Locality']=='LIDCOMBE') & (df_postcode['Postcode']==2141)]\n",
    "\n",
    "df_postcode_subset[\"VAR_Find\"] = '[\"'+df_postcode_subset['Postcode'].apply(str)+\",\"+df_postcode_subset['Locality']+'\"]'\n",
    "\n",
    "list_postcode = list(df_postcode_subset['VAR_Find'].dropna())\n"
   ]
  },
  {
   "cell_type": "code",
   "execution_count": 6,
   "metadata": {},
   "outputs": [],
   "source": [
    "# listings_rent = api.search(locations=[\"ACT, NT, SA, WA, NSW, QLD, VIC, TAS\"], channel=\"rent\")\n",
    "# listings_all = api.search(locations=[\"ACT, NT, SA, WA, NSW, QLD, VIC, TAS\"])\n",
    "\n",
    "# last run for rent was 7 mins\n",
    "#note, output caps out at 2,000 records"
   ]
  },
  {
   "cell_type": "code",
   "execution_count": null,
   "metadata": {},
   "outputs": [],
   "source": [
    "#  Find_Text = [\"2141,LIDCOMBE\"]\n",
    "\n",
    "#  df_out = api.search(locations=Find_Text)\n",
    "# 870 search records with single quotes"
   ]
  },
  {
   "cell_type": "code",
   "execution_count": 42,
   "metadata": {},
   "outputs": [
    {
     "name": "stdout",
     "output_type": "stream",
     "text": [
      "found for: [\"2141,LIDCOMBE\"]\n"
     ]
    }
   ],
   "source": [
    "# try a loop approach by suburb\n",
    "\n",
    "DF_RENT = pd.DataFrame()\n",
    "DF_ALL = pd.DataFrame()\n",
    "\n",
    "def REALT_INFO(Find_Text):    \n",
    "    global DF_RENT\n",
    "    try:\n",
    "        df_imp_rent = api.search(locations=Find_Text, channel=\"rent\")\n",
    "        df_imp_all = api.search(locations=Find_Text)\n",
    "\n",
    "        DF_RENT = DF_RENT.append(df_imp_rent, ignore_index=True) \n",
    "        DF_ALL = DF_ALL.append(df_imp_all, ignore_index=True) \n",
    "\n",
    "        print(\"found for:\",Find_Text)\n",
    "        \n",
    "    except Exception:\n",
    "        print(\"Error with:\",Find_Text)\n",
    "        pass\n",
    "    \n",
    "    return()\n",
    "\n",
    "# Download all\n",
    "for Find_Var in list_postcode:\n",
    "   REALT_INFO(Find_Var)\n"
   ]
  },
  {
   "cell_type": "code",
   "execution_count": 8,
   "metadata": {},
   "outputs": [],
   "source": [
    "\n",
    "\n",
    "# RAW_DATA = pd.read_pickle ('/Users/joezhou/Downloads/Realestate/R_REALESTATE_ALL.pkl') \n",
    "\n",
    "RAW_DATA_SUBSET = DF_ALL.drop(columns=['images', 'images_floorplans', 'listers'])\n",
    "\n",
    "# summarise by postcode\n",
    "\n",
    "RAW_DATA_SUM = RAW_DATA_SUBSET.groupby(\"postcode\")[\"price\"].median()\n",
    "RAW_DATA_SUM = pd.DataFrame(RAW_DATA_SUM)\n",
    "RAW_DATA_SUM.rename(columns={'price':'price_BUY'}, inplace = True)\n"
   ]
  },
  {
   "cell_type": "code",
   "execution_count": 5,
   "metadata": {},
   "outputs": [],
   "source": [
    "# RAW_DATA_RENT = pd.read_pickle ('/Users/joezhou/Downloads/Realestate/R_REALESTATE_RENT.pkl') \n",
    "\n",
    "RAW_DATA_RENT_SUBSET = DF_RENT.drop(columns=['images', 'images_floorplans', 'listers'])\n",
    "\n",
    "# summarise by postcode\n",
    "\n",
    "RAW_DATA_RENT_SUM = RAW_DATA_RENT_SUBSET.groupby(\"postcode\")[\"price\"].median()\n",
    "RAW_DATA_RENT_SUM = pd.DataFrame(RAW_DATA_RENT_SUM)\n",
    "RAW_DATA_RENT_SUM.rename(columns={\"price\": \"price_RENT\"}, inplace = True)\n"
   ]
  },
  {
   "cell_type": "code",
   "execution_count": 9,
   "metadata": {},
   "outputs": [
    {
     "name": "stderr",
     "output_type": "stream",
     "text": [
      "INFO:numexpr.utils:NumExpr defaulting to 4 threads.\n"
     ]
    }
   ],
   "source": [
    "df_comp = RAW_DATA_SUM.merge(RAW_DATA_RENT_SUM,how='left',on='postcode')\n",
    "\n",
    "df_comp['YEARLY_RENT']=df_comp['price_RENT']*52\n",
    "df_comp['RENT_YIELD']=df_comp['YEARLY_RENT']/df_comp['price_BUY']\n",
    "\n",
    "# 7303"
   ]
  },
  {
   "cell_type": "code",
   "execution_count": null,
   "metadata": {},
   "outputs": [],
   "source": []
  }
 ],
 "metadata": {
  "kernelspec": {
   "display_name": "Python 3.8.5 ('base')",
   "language": "python",
   "name": "python3"
  },
  "language_info": {
   "codemirror_mode": {
    "name": "ipython",
    "version": 3
   },
   "file_extension": ".py",
   "mimetype": "text/x-python",
   "name": "python",
   "nbconvert_exporter": "python",
   "pygments_lexer": "ipython3",
   "version": "3.8.5"
  },
  "orig_nbformat": 4,
  "vscode": {
   "interpreter": {
    "hash": "29ef60e46f341bb51c2a63b17c19fb7c83213fa52e6b916fbf12c8b5ee03317f"
   }
  }
 },
 "nbformat": 4,
 "nbformat_minor": 2
}
