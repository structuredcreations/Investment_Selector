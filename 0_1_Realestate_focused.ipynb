{
 "cells": [
  {
   "cell_type": "code",
   "execution_count": 1,
   "metadata": {},
   "outputs": [],
   "source": [
    "# The script aims to descibe the properties available in a suburb and find rental yields\n",
    "import pandas as pd\n",
    "import numpy as np\n"
   ]
  },
  {
   "cell_type": "code",
   "execution_count": null,
   "metadata": {},
   "outputs": [],
   "source": [
    "# pip install -e git+https://github.com/tomquirk/realestate-com-au-api.git#egg=realestate_com_au_api\n",
    "\n",
    "from realestate_com_au import RealestateComAu\n",
    "\n",
    "api = RealestateComAu()\n",
    "\n",
    "# Get property listings\n",
    "listings = api.search(locations=[\"seventeen seventy, qld 4677\"], channel=\"buy\", keywords=[\"tenant\"], exclude_keywords=[\"pool\"])"
   ]
  },
  {
   "cell_type": "code",
   "execution_count": null,
   "metadata": {},
   "outputs": [],
   "source": [
    "df = api.search(channel=\"buy\")\n"
   ]
  },
  {
   "cell_type": "code",
   "execution_count": null,
   "metadata": {},
   "outputs": [],
   "source": [
    "# Part 1: download information\n",
    "# df_rent = api.search(locations=['2144,AUBURN'],channel=\"rent\")\n",
    "# df_all = api.search(locations=['2144,AUBURN'])\n",
    "# last dowload was 6.24 minutes for both lines\n",
    "\n",
    "# df_rent = pd.DataFrame(df_rent)\n",
    "# df_rent1 = df_rent.reset_index()\n",
    "# df_rent2 = df_rent1.drop(columns=['id','index','images','images_floorplans','listers'])\n",
    "# df_rent_Unique = df_rent2.drop_duplicates()\n",
    "\n",
    "# df_all = pd.DataFrame(df_all)\n",
    "# df_all1 = df_all.reset_index()\n",
    "# df_all2 = df_all1.drop(columns=['id','index','images','images_floorplans','listers'])\n",
    "# df_all_Unique = df_all2.drop_duplicates()\n",
    "\n",
    "# del df_rent1, df_rent2, df_all1, df_all2"
   ]
  },
  {
   "cell_type": "code",
   "execution_count": 36,
   "metadata": {},
   "outputs": [],
   "source": [
    "# part 2.1 create masterlist of postcode and suburbs\n",
    "\n",
    "REF_PCODE_SBRB = df_all_Unique.append([df_all_Unique],ignore_index=True).reset_index() \n",
    "# REF_PCODE_SBRB = REF_PCODE_SBRB[[\"postcode\",\"suburb\"]]\n",
    "# full comparison version\n",
    "REF_PCODE_SBRB = REF_PCODE_SBRB[[\"postcode\",\"suburb\",\"property_type\",\"bedrooms\"]]\n",
    "REF_PCODE_SBRB = REF_PCODE_SBRB.drop_duplicates()\n"
   ]
  },
  {
   "cell_type": "code",
   "execution_count": 37,
   "metadata": {},
   "outputs": [],
   "source": [
    "# Part 2.2 Remove rentals from the masterlist\n",
    "\n",
    "A_FIND_BUY = df_all_Unique[df_all_Unique['price']>10000]\n",
    "INFO_BUY = A_FIND_BUY.reset_index()\n",
    "# INFO_BUY.columns = INFO_BUY.columns.str.replace(\"_x\",\"\")"
   ]
  },
  {
   "cell_type": "code",
   "execution_count": 38,
   "metadata": {},
   "outputs": [],
   "source": [
    "# Part 2.3: format rental and sales data to calculate yield\n",
    "\n",
    "# Rental data\n",
    "INFO_RENT_1 = df_rent_Unique[['suburb','state','postcode','short_address','full_address','property_type','price','price_text','bedrooms','bathrooms','parking_spaces','building_size','building_size_unit','land_size','land_size_unit']].fillna(0)\n",
    "\n",
    "# INFO_RENT_1 = R_INFO_ALL.drop(columns=['badge','url','listing_company_name','listing_company_phone','description']).fillna(0)\n",
    "INFO_RENT_1 = INFO_RENT_1.drop_duplicates()\n",
    "# summarise by postcode and suburb\n",
    "\n",
    "INFO_RENT_MED = INFO_RENT_1.groupby([\"postcode\",\"suburb\",\"property_type\",\"bedrooms\"])[\"price\"].median().reset_index()\n",
    "INFO_RENT_MED.rename(columns={'price':'price_RENT'}, inplace = True)\n",
    "\n",
    "INFO_RENT_FREQ = INFO_RENT_1.groupby([\"postcode\",\"suburb\",\"property_type\",\"bedrooms\"])[\"full_address\"].count().reset_index()\n",
    "INFO_RENT_FREQ.rename(columns={'full_address':'num_RENT'}, inplace = True)\n",
    "\n",
    "\n",
    "# Sales data\n",
    "INFO_BUY_1 = INFO_BUY[['suburb','state','postcode','short_address','full_address','property_type','price','price_text','bedrooms','bathrooms','parking_spaces','building_size','building_size_unit','land_size','land_size_unit']].fillna(0)\n",
    "# A_INFO_SUBSET= INFO_BUY_.reset_index()\n",
    "INFO_BUY_1.drop_duplicates()\n",
    "# summarise by postcode and suburb\n",
    "\n",
    "INFO_BUY_MED = INFO_BUY_1.groupby([\"postcode\",\"suburb\",\"property_type\",\"bedrooms\"])[\"price\"].median().reset_index()\n",
    "INFO_BUY_MED.rename(columns={'price':'price_BUY'}, inplace = True)\n",
    "\n",
    "INFO_BUY_FREQ = INFO_BUY_1.groupby([\"postcode\",\"suburb\",\"property_type\",\"bedrooms\"])[\"full_address\"].count().reset_index()\n",
    "INFO_BUY_FREQ.rename(columns={'full_address':'num_BUY'}, inplace = True)\n",
    "\n",
    "# del INFO_RENT_1, INFO_BUY_1\n",
    "\n"
   ]
  },
  {
   "cell_type": "code",
   "execution_count": 39,
   "metadata": {},
   "outputs": [],
   "source": [
    "# part 2.4: calculate rental yield\n",
    "\n",
    "df_comp = REF_PCODE_SBRB.merge(INFO_BUY_MED,how='left',on=[\"postcode\",\"suburb\",\"property_type\",\"bedrooms\"]).merge(INFO_RENT_MED,how='left',on=[\"postcode\",\"suburb\",\"property_type\",\"bedrooms\"]).fillna(0)\n",
    "df_comp = df_comp.merge(INFO_BUY_FREQ,how='left',on=[\"postcode\",\"suburb\",\"property_type\",\"bedrooms\"]).merge(INFO_RENT_FREQ,how='left',on=[\"postcode\",\"suburb\",\"property_type\",\"bedrooms\"]).fillna(0)\n",
    "\n",
    "df_comp.dtypes\n",
    "# df_comp = REF_PCODE_SBRB.merge(R_INFO_SUBSET_MED,how='left',on=[\"postcode\",\"suburb\"]).merge(R_INFO_SUBSET_FREQ,how='left',on=[\"postcode\",\"suburb\"]).fillna(0)\n",
    "# df_comp = df_comp.merge(A_INFO_SUBSET_MED,how='left',on=[\"postcode\",\"suburb\"]).merge(A_INFO_SUBSET_FREQ,how='left',on=[\"postcode\",\"suburb\"]).fillna(0)\n",
    "\n",
    "\n",
    "df_comp = df_comp.loc[(df_comp['num_RENT']>1) | (df_comp['num_BUY']>1)]\n",
    "df_comp['num_RENT'] = df_comp['num_RENT'].astype('int')\n",
    "df_comp.dtypes\n",
    "\n",
    "df_comp['TOTAL_AVAILABLE'] = df_comp['num_RENT'] + df_comp['num_BUY']\n",
    "\n",
    "df_comp['YEARLY_RENT']=df_comp['price_RENT']*52\n",
    "df_comp['RENT_YIELD']=df_comp['YEARLY_RENT']/df_comp['price_BUY']\n",
    "\n",
    "df_comp.replace([np.inf, -np.inf], 0, inplace=True)\n",
    "\n",
    "# df['Marks'] = df['Marks'].astype(str)\n",
    "\n",
    "# create combo key\n",
    "df_comp['Property Desc'] = df_comp['postcode']+' ('+df_comp['suburb']+') : '+df_comp['property_type']+' '+df_comp['bedrooms'].astype(str)+' bedrooms'\n",
    "\n",
    "# del R_INFO_SUBSET_MED, R_INFO_SUBSET_FREQ, A_INFO_SUBSET_MED, A_INFO_SUBSET_FREQ\n",
    "# 7303"
   ]
  },
  {
   "cell_type": "code",
   "execution_count": 40,
   "metadata": {},
   "outputs": [],
   "source": [
    "# temp download file for testing\n",
    "from datetime import datetime as dt\n",
    "dte = dt.now().strftime('%Y%m%d')\n",
    "fname = \"/Users/joezhou/Downloads/REALESTATE_SUBURB_FOCUS{}.xlsx\".format(dte)\n",
    "df_comp.to_excel(fname)"
   ]
  },
  {
   "cell_type": "code",
   "execution_count": null,
   "metadata": {},
   "outputs": [],
   "source": []
  }
 ],
 "metadata": {
  "kernelspec": {
   "display_name": "base",
   "language": "python",
   "name": "python3"
  },
  "language_info": {
   "codemirror_mode": {
    "name": "ipython",
    "version": 3
   },
   "file_extension": ".py",
   "mimetype": "text/x-python",
   "name": "python",
   "nbconvert_exporter": "python",
   "pygments_lexer": "ipython3",
   "version": "3.10.9"
  },
  "orig_nbformat": 4
 },
 "nbformat": 4,
 "nbformat_minor": 2
}
