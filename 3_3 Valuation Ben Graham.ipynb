{
 "cells": [
  {
   "cell_type": "code",
   "execution_count": null,
   "metadata": {},
   "outputs": [],
   "source": [
    "# The aim of this module is to company value and expected growth rate using Ben Graham's formula\n",
    "\n",
    "# File name convention\n",
    "# R_ = raw extract \n",
    "# E_ = Entry files into enrichment layer\n",
    "# C_ = enriched layer with calculation\n",
    "# I = insights layer, designed for model baselines\n",
    "# V_ = validation"
   ]
  },
  {
   "cell_type": "code",
   "execution_count": null,
   "metadata": {},
   "outputs": [],
   "source": [
    "import pandas as pd\n",
    "import numpy as np\n",
    "pd.options.mode.chained_assignment = None  # default='warn'\n",
    "\n",
    "I_FLAT = pd.read_pickle ('/Users/joezhou/Downloads/C_TICKER_FLAT.pkl') \n",
    "C_BG_MODEL = pd.read_pickle ('/Users/joezhou/Downloads/C_BEN_G_MODEL.pkl') \n"
   ]
  },
  {
   "cell_type": "code",
   "execution_count": null,
   "metadata": {},
   "outputs": [],
   "source": [
    "# Calculate Ben Graham intrensic valuations and revse engineer a target growth rate based on latest closing price\n",
    "\n",
    "# the current yield on AAA corporate bonds (CURR_AAA_Y)\n",
    "CURR_AAA_Y = 3.38\n",
    "# the average yield of AAA corporate bonds (AVG_BND_Y)\n",
    "AVG_BND_Y = 4.4\n",
    "# EPS of non growing company (EPS_NG)\n",
    "EPS_NG = 8.5\n",
    "\n",
    "# reasonably expected 7 to 10 Year Growth Rate of EPS (EPS_G = 8.5)\n",
    "EPS_G = ADDED_PRICE_INF['earningsQuarterlyGrowth']*3\n",
    "\n",
    "# actual formula\n",
    "# ADDED_PRICE_INF['CALC_BF_IV'] = ADDED_PRICE_INF['trailingEps']*(EPS_NG+2*EPS_G))*AVG_BND_Y/CURR_AAA_Y\n",
    "# conservative\n",
    "ADDED_PRICE_INF['CALC_BF_IV'] = ADDED_PRICE_INF['trailingEps']*(EPS_NG+EPS_G)*AVG_BND_Y/CURR_AAA_Y\n",
    "\n",
    "ADDED_PRICE_INF['CALC_BF_GRWTH'] = (ADDED_PRICE_INF['Last_Close_price']*CURR_AAA_Y/AVG_BND_Y/ADDED_PRICE_INF['trailingEps']-EPS_NG)/2\n",
    "\n"
   ]
  },
  {
   "cell_type": "code",
   "execution_count": null,
   "metadata": {},
   "outputs": [],
   "source": []
  },
  {
   "cell_type": "code",
   "execution_count": null,
   "metadata": {},
   "outputs": [],
   "source": []
  },
  {
   "cell_type": "code",
   "execution_count": null,
   "metadata": {},
   "outputs": [],
   "source": [
    "# BG_MODEL.to_pickle(\"/Users/joezhou/Downloads/C_CALCS.pkl\")\n",
    "# BG_MODEL.to_excel('/Users/joezhou/Downloads/C_CALCS.xlsx', engine='xlsxwriter')  \n",
    "\n"
   ]
  }
 ],
 "metadata": {
  "language_info": {
   "name": "python"
  },
  "orig_nbformat": 4
 },
 "nbformat": 4,
 "nbformat_minor": 2
}
