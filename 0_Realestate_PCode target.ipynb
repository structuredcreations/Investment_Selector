{
 "cells": [
  {
   "cell_type": "code",
   "execution_count": 1,
   "metadata": {},
   "outputs": [],
   "source": [
    "# The aim of this script is to download all rental property data and all available property from realestate website.\n",
    "# the looping method doesn't work, hence the long winded version\n",
    "\n",
    "# pip install -e git+https://github.com/tomquirk/realestate-com-au-api.git#egg=realestate_com_au_api\n",
    "\n",
    "from realestate_com_au import RealestateComAu\n",
    "api = RealestateComAu()\n",
    "\n",
    "# Get property listings\n",
    "# listings = api.search(locations=[\"seventeen seventy, qld 4677\"], channel=\"buy\", keywords=[\"tenant\"], exclude_keywords=[\"pool\"])\n",
    "\n",
    "import pandas as pd"
   ]
  },
  {
   "cell_type": "code",
   "execution_count": null,
   "metadata": {},
   "outputs": [],
   "source": [
    "# https://www.matthewproctor.com/australian_postcodes\n",
    "# df_postcode = pd.read_excel (r'/Users/joezhou/Downloads/Realestate/australian_postcodes.xlsx', sheet_name='Sheet1')\n",
    "\n",
    "# sample test suburb\n",
    "# df_postcode_subset = df_postcode.loc[(df_postcode['Locality']=='LIDCOMBE') & (df_postcode['Postcode']==2141) ]\n",
    "\n",
    "# df_postcode_subset[\"VAR_Find\"] = '[\"'+df_postcode_subset['Postcode'].apply(str)+\",\"+df_postcode_subset['Locality']+'\"]'\n",
    "# list_postcode = list(df_postcode_subset['VAR_Find'].dropna())"
   ]
  },
  {
   "cell_type": "code",
   "execution_count": 3,
   "metadata": {},
   "outputs": [
    {
     "name": "stdout",
     "output_type": "stream",
     "text": [
      "finished rent:2141-LIDCOMBE\n",
      "finished all:2141-LIDCOMBE\n"
     ]
    }
   ],
   "source": [
    "DF_RENT = pd.DataFrame()\n",
    "\n",
    "df_out = api.search(locations=['2141,LIDCOMBE'],channel=\"rent\")\n",
    "DF_RENT = DF_RENT.append(df_out, ignore_index=True) \n",
    "print(\"finished rent:2141-LIDCOMBE\")\n",
    "\n",
    "\n",
    "DF_RENT1 = DF_RENT.reset_index()\n",
    "DF_RENT2 = DF_RENT1.drop(columns=['id','index','images','images_floorplans','listers'])\n",
    "DF_RENT_UNIQ = DF_RENT2.drop_duplicates()\n",
    "\n",
    "DF_RENT_UNIQ.to_pickle(\"/Users/joezhou/Downloads/Realestate/_PCODE_R_RENT_NSW.pkl\")\n",
    "\n",
    "# Everything within the postcode\n",
    "DF_ALL = pd.DataFrame()\n",
    "\n",
    "df_out = api.search(locations=['2141,LIDCOMBE'] )\n",
    "DF_ALL = DF_ALL.append(df_out, ignore_index=True) \n",
    "print(\"finished all:2141-LIDCOMBE\")\n",
    "df_out = pd.DataFrame(df_out)\n",
    "\n",
    "DF_ALL1 = DF_ALL.reset_index()\n",
    "DF_ALL2 = DF_ALL1.drop(columns=['id','index','images','images_floorplans','listers'])\n",
    "DF_ALL_UNIQ = DF_ALL2.drop_duplicates()\n",
    "\n",
    "DF_ALL_UNIQ.to_pickle(\"/Users/joezhou/Downloads/Realestate/_PCODE_R_ALL_NSW.pkl\")\n",
    "\n",
    "del DF_RENT1, DF_RENT2, DF_ALL1, DF_ALL2, df_out"
   ]
  },
  {
   "cell_type": "code",
   "execution_count": 6,
   "metadata": {},
   "outputs": [
    {
     "name": "stderr",
     "output_type": "stream",
     "text": [
      "INFO:numexpr.utils:NumExpr defaulting to 4 threads.\n"
     ]
    }
   ],
   "source": [
    "# consolidate for aggregation comparisons\n",
    "\n",
    "INFO_ALL = DF_ALL.reset_index() \n",
    "INFO_RENT = DF_RENT.reset_index()\n",
    "\n",
    "\n",
    "REF_PCODE_SBRB = INFO_ALL.append([INFO_ALL],ignore_index=True).reset_index() \n",
    "# REF_PCODE_SBRB = REF_PCODE_SBRB[[\"postcode\",\"suburb\"]]\n",
    "# full comparison version\n",
    "REF_PCODE_SBRB = REF_PCODE_SBRB[[\"postcode\",\"suburb\",\"property_type\"]]\n",
    "REF_PCODE_SBRB = REF_PCODE_SBRB.drop_duplicates()\n",
    "\n",
    "\n",
    "# Remove rentals from the masterlist\n",
    "A_FIND_BUY = INFO_ALL.merge(INFO_RENT,how='outer',on=[\"postcode\",\"suburb\",\"property_type\",\"bedrooms\",\"bathrooms\"], indicator= True)\n",
    "INFO_BUY = A_FIND_BUY[A_FIND_BUY['_merge']==\"left_only\"]\n",
    "INFO_BUY = INFO_BUY.reset_index()\n",
    "INFO_BUY.columns = INFO_BUY.columns.str.replace(\"_x\",\"\")\n",
    "# del A_FIND_BUY\n"
   ]
  },
  {
   "cell_type": "code",
   "execution_count": 7,
   "metadata": {},
   "outputs": [],
   "source": [
    "# Rental data\n",
    "INFO_RENT_1 = INFO_RENT[['suburb','state','postcode','short_address','full_address','property_type','price','price_text','bedrooms','bathrooms','parking_spaces','building_size','building_size_unit','land_size','land_size_unit']].fillna(0)\n",
    "\n",
    "# INFO_RENT_1 = R_INFO_ALL.drop(columns=['badge','url','listing_company_name','listing_company_phone','description']).fillna(0)\n",
    "INFO_RENT_1 = INFO_RENT_1.drop_duplicates()\n",
    "# summarise by postcode and suburb\n",
    "\n",
    "# INFO_RENT_MED = INFO_RENT_1.groupby([\"postcode\",\"suburb\"])[\"price\"].median().reset_index()\n",
    "INFO_RENT_MED = INFO_RENT_1.groupby([\"postcode\",\"suburb\",\"property_type\"])[\"price\"].median().reset_index()\n",
    "INFO_RENT_MED.rename(columns={'price':'price_RENT'}, inplace = True)\n",
    "\n",
    "# INFO_RENT_FREQ = INFO_RENT_1.groupby([\"postcode\",\"suburb\"])[\"full_address\"].count().reset_index()\n",
    "INFO_RENT_FREQ = INFO_RENT_1.groupby([\"postcode\",\"suburb\",\"property_type\"])[\"full_address\"].count().reset_index()\n",
    "INFO_RENT_FREQ.rename(columns={'full_address':'num_RENT'}, inplace = True)\n",
    "\n",
    "# del INFO_RENT_1 "
   ]
  },
  {
   "cell_type": "code",
   "execution_count": 8,
   "metadata": {},
   "outputs": [],
   "source": [
    "# Sales data\n",
    "INFO_BUY_1 = INFO_BUY[['suburb','state','postcode','short_address','full_address','property_type','price','price_text','bedrooms','bathrooms','parking_spaces','building_size','building_size_unit','land_size','land_size_unit']].fillna(0)\n",
    "# A_INFO_SUBSET= INFO_BUY_.reset_index()\n",
    "INFO_BUY_1.drop_duplicates()\n",
    "# summarise by postcode and suburb\n",
    "\n",
    "# INFO_BUY_MED = INFO_BUY_1.groupby([\"postcode\",\"suburb\"])[\"price\"].median().reset_index()\n",
    "INFO_BUY_MED = INFO_BUY_1.groupby([\"postcode\",\"suburb\",\"property_type\"])[\"price\"].median().reset_index()\n",
    "INFO_BUY_MED.rename(columns={'price':'price_BUY'}, inplace = True)\n",
    "\n",
    "# INFO_BUY_FREQ = INFO_BUY_1.groupby([\"postcode\",\"suburb\"])[\"full_address\"].count().reset_index()\n",
    "INFO_BUY_FREQ = INFO_BUY_1.groupby([\"postcode\",\"suburb\",\"property_type\"])[\"full_address\"].count().reset_index()\n",
    "INFO_BUY_FREQ.rename(columns={'full_address':'num_BUY'}, inplace = True)\n",
    "\n",
    "# del INFO_BUY_1"
   ]
  },
  {
   "cell_type": "code",
   "execution_count": 9,
   "metadata": {},
   "outputs": [],
   "source": [
    "df_comp = REF_PCODE_SBRB.merge(INFO_BUY_MED,how='left',on=[\"postcode\",\"suburb\",\"property_type\"]).merge(INFO_RENT_MED,how='left',on=[\"postcode\",\"suburb\",\"property_type\"]).fillna(0)\n",
    "df_comp = df_comp.merge(INFO_BUY_FREQ,how='left',on=[\"postcode\",\"suburb\",\"property_type\"]).merge(INFO_RENT_FREQ,how='left',on=[\"postcode\",\"suburb\",\"property_type\"]).fillna(0)\n",
    "\n",
    "df_comp.dtypes\n",
    "# df_comp = REF_PCODE_SBRB.merge(R_INFO_SUBSET_MED,how='left',on=[\"postcode\",\"suburb\"]).merge(R_INFO_SUBSET_FREQ,how='left',on=[\"postcode\",\"suburb\"]).fillna(0)\n",
    "# df_comp = df_comp.merge(A_INFO_SUBSET_MED,how='left',on=[\"postcode\",\"suburb\"]).merge(A_INFO_SUBSET_FREQ,how='left',on=[\"postcode\",\"suburb\"]).fillna(0)\n",
    "\n",
    "# if pd.to_numeric(df_comp['price_RENT']) == 0:\n",
    "    # df_comp['YEARLY_RENT']  = 0\n",
    "    # df_comp['RENT_YIELD']   = 0\n",
    "    # df_comp['RENT_DIV_BUY'] = 0\n",
    "# else:\n",
    "df_comp['YEARLY_RENT']=df_comp['price_RENT']*52\n",
    "df_comp['RENT_YIELD']=df_comp['YEARLY_RENT']/df_comp['price_BUY']\n",
    "df_comp['RENT_DIV_BUY'] = df_comp['num_RENT'] / df_comp['num_BUY']\n",
    "\n",
    "\n",
    "\n",
    "        # if INF['dividendRate'] is not None:\n",
    "        #     INF['dr']=INF['dividendRate']\n",
    "        # else:\n",
    "        #     INF['dr']=0\n",
    "\n",
    "\n",
    "# create combo key\n",
    "# df_comp['Property Desc'] = df_comp['postcode']+' ('+df_comp['suburb']+') :'+df_comp['property_type']+' '+df_comp['property_type']+str(df_comp['bedrooms'])+'bedroom '+str(df_comp['bathrooms'])+'baths'\n",
    "\n",
    "# del R_INFO_SUBSET_MED, R_INFO_SUBSET_FREQ, A_INFO_SUBSET_MED, A_INFO_SUBSET_FREQ\n",
    "# 7303"
   ]
  },
  {
   "cell_type": "code",
   "execution_count": null,
   "metadata": {},
   "outputs": [],
   "source": []
  }
 ],
 "metadata": {
  "kernelspec": {
   "display_name": "Python 3.8.5 ('base')",
   "language": "python",
   "name": "python3"
  },
  "language_info": {
   "codemirror_mode": {
    "name": "ipython",
    "version": 3
   },
   "file_extension": ".py",
   "mimetype": "text/x-python",
   "name": "python",
   "nbconvert_exporter": "python",
   "pygments_lexer": "ipython3",
   "version": "3.8.5"
  },
  "orig_nbformat": 4,
  "vscode": {
   "interpreter": {
    "hash": "29ef60e46f341bb51c2a63b17c19fb7c83213fa52e6b916fbf12c8b5ee03317f"
   }
  }
 },
 "nbformat": 4,
 "nbformat_minor": 2
}
