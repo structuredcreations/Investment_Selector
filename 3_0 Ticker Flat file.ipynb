{
 "metadata": {
  "language_info": {
   "codemirror_mode": {
    "name": "ipython",
    "version": 3
   },
   "file_extension": ".py",
   "mimetype": "text/x-python",
   "name": "python",
   "nbconvert_exporter": "python",
   "pygments_lexer": "ipython3",
   "version": "3.8.5"
  },
  "orig_nbformat": 2,
  "kernelspec": {
   "name": "python3",
   "display_name": "Python 3",
   "language": "python"
  }
 },
 "nbformat": 4,
 "nbformat_minor": 2,
 "cells": [
  {
   "cell_type": "code",
   "execution_count": 2,
   "metadata": {},
   "outputs": [],
   "source": [
    "import pandas as pd\n"
   ]
  },
  {
   "cell_type": "code",
   "execution_count": 3,
   "metadata": {},
   "outputs": [],
   "source": [
    "#import all flat files\n",
    "\n",
    "INF_Feature = pd.read_excel (r'/Users/joezhou/Downloads/C_ALL_INFO_FEATURES.xlsx') \n",
    "PRICE_Feature = pd.read_excel (r'/Users/joezhou/Downloads/C_ALL_Prices_features.xlsx')\n",
    "FIN_Feature = pd.read_excel (r'/Users/joezhou/Downloads/C_ALL_FIN_features.xlsx')\n",
    "DIV_Feature = pd.read_excel (r'/Users/joezhou/Downloads/C_ALL_Div_FEATURES.xlsx') \n",
    " \n"
   ]
  },
  {
   "cell_type": "code",
   "execution_count": 4,
   "metadata": {},
   "outputs": [],
   "source": [
    "# Find data coverage\n",
    "\n",
    "import pandas as pd\n",
    "\n",
    "TIC = pd.read_csv(r'/Users/joezhou/Downloads/C_ALL_TICKER.csv')\n",
    "TIC_U = TIC.drop_duplicates(subset=['colummn']).rename(columns={'colummn': 'TickName'})[['TickName']]\n",
    "TIC_U['Counter'] = 1\n",
    "\n",
    "\n",
    "INF_U = INF_Feature.drop_duplicates(subset=['TickName'])[['TickName']]\n",
    "INF_U['IN_INFO']=\"In Info Extract\"\n",
    "\n",
    "PRICE_U = PRICE_Feature.drop_duplicates(subset=['TickName'])[['TickName']]\n",
    "PRICE_U['IN_PRICE']=\"In Price Extract\"\n",
    "\n",
    "FIN_U = FIN_Feature.drop_duplicates(subset=['TickName'])[['TickName']]\n",
    "FIN_U['IN_FIN']=\"In Financial Extract\"\n",
    "\n",
    "DIV_U = DIV_Feature.drop_duplicates(subset=['TickName'])[['TickName']]\n",
    "DIV_U['IN_DIV']=\"In Dividend Extract\"\n"
   ]
  },
  {
   "cell_type": "code",
   "execution_count": 5,
   "metadata": {},
   "outputs": [
    {
     "output_type": "execute_result",
     "data": {
      "text/plain": [
       "            IN_INFO          IN_PRICE                IN_FIN  \\\n",
       "1   In Info Extract  In Price Extract  In Financial Extract   \n",
       "5   In Info Extract           Missing  In Financial Extract   \n",
       "0   In Info Extract  In Price Extract  In Financial Extract   \n",
       "11          Missing           Missing               Missing   \n",
       "4   In Info Extract           Missing  In Financial Extract   \n",
       "3   In Info Extract  In Price Extract               Missing   \n",
       "7   In Info Extract           Missing               Missing   \n",
       "2   In Info Extract  In Price Extract               Missing   \n",
       "6   In Info Extract           Missing               Missing   \n",
       "9           Missing  In Price Extract               Missing   \n",
       "8           Missing  In Price Extract  In Financial Extract   \n",
       "10          Missing           Missing  In Financial Extract   \n",
       "\n",
       "                 IN_DIV  Counter  Percentage  \n",
       "1               Missing      918   42.777260  \n",
       "5               Missing      444   20.689655  \n",
       "0   In Dividend Extract      264   12.301957  \n",
       "11              Missing      178    8.294501  \n",
       "4   In Dividend Extract      125    5.824790  \n",
       "3               Missing      108    5.032619  \n",
       "7               Missing       69    3.215284  \n",
       "2   In Dividend Extract       20    0.931966  \n",
       "6   In Dividend Extract        9    0.419385  \n",
       "9               Missing        5    0.232992  \n",
       "8               Missing        4    0.186393  \n",
       "10              Missing        2    0.093197  "
      ],
      "text/html": "<div>\n<style scoped>\n    .dataframe tbody tr th:only-of-type {\n        vertical-align: middle;\n    }\n\n    .dataframe tbody tr th {\n        vertical-align: top;\n    }\n\n    .dataframe thead th {\n        text-align: right;\n    }\n</style>\n<table border=\"1\" class=\"dataframe\">\n  <thead>\n    <tr style=\"text-align: right;\">\n      <th></th>\n      <th>IN_INFO</th>\n      <th>IN_PRICE</th>\n      <th>IN_FIN</th>\n      <th>IN_DIV</th>\n      <th>Counter</th>\n      <th>Percentage</th>\n    </tr>\n  </thead>\n  <tbody>\n    <tr>\n      <th>1</th>\n      <td>In Info Extract</td>\n      <td>In Price Extract</td>\n      <td>In Financial Extract</td>\n      <td>Missing</td>\n      <td>918</td>\n      <td>42.777260</td>\n    </tr>\n    <tr>\n      <th>5</th>\n      <td>In Info Extract</td>\n      <td>Missing</td>\n      <td>In Financial Extract</td>\n      <td>Missing</td>\n      <td>444</td>\n      <td>20.689655</td>\n    </tr>\n    <tr>\n      <th>0</th>\n      <td>In Info Extract</td>\n      <td>In Price Extract</td>\n      <td>In Financial Extract</td>\n      <td>In Dividend Extract</td>\n      <td>264</td>\n      <td>12.301957</td>\n    </tr>\n    <tr>\n      <th>11</th>\n      <td>Missing</td>\n      <td>Missing</td>\n      <td>Missing</td>\n      <td>Missing</td>\n      <td>178</td>\n      <td>8.294501</td>\n    </tr>\n    <tr>\n      <th>4</th>\n      <td>In Info Extract</td>\n      <td>Missing</td>\n      <td>In Financial Extract</td>\n      <td>In Dividend Extract</td>\n      <td>125</td>\n      <td>5.824790</td>\n    </tr>\n    <tr>\n      <th>3</th>\n      <td>In Info Extract</td>\n      <td>In Price Extract</td>\n      <td>Missing</td>\n      <td>Missing</td>\n      <td>108</td>\n      <td>5.032619</td>\n    </tr>\n    <tr>\n      <th>7</th>\n      <td>In Info Extract</td>\n      <td>Missing</td>\n      <td>Missing</td>\n      <td>Missing</td>\n      <td>69</td>\n      <td>3.215284</td>\n    </tr>\n    <tr>\n      <th>2</th>\n      <td>In Info Extract</td>\n      <td>In Price Extract</td>\n      <td>Missing</td>\n      <td>In Dividend Extract</td>\n      <td>20</td>\n      <td>0.931966</td>\n    </tr>\n    <tr>\n      <th>6</th>\n      <td>In Info Extract</td>\n      <td>Missing</td>\n      <td>Missing</td>\n      <td>In Dividend Extract</td>\n      <td>9</td>\n      <td>0.419385</td>\n    </tr>\n    <tr>\n      <th>9</th>\n      <td>Missing</td>\n      <td>In Price Extract</td>\n      <td>Missing</td>\n      <td>Missing</td>\n      <td>5</td>\n      <td>0.232992</td>\n    </tr>\n    <tr>\n      <th>8</th>\n      <td>Missing</td>\n      <td>In Price Extract</td>\n      <td>In Financial Extract</td>\n      <td>Missing</td>\n      <td>4</td>\n      <td>0.186393</td>\n    </tr>\n    <tr>\n      <th>10</th>\n      <td>Missing</td>\n      <td>Missing</td>\n      <td>In Financial Extract</td>\n      <td>Missing</td>\n      <td>2</td>\n      <td>0.093197</td>\n    </tr>\n  </tbody>\n</table>\n</div>"
     },
     "metadata": {},
     "execution_count": 5
    }
   ],
   "source": [
    "# Join it back together\n",
    "TIC_COVERAGE = TIC_U.merge(INF_U,how='left',on='TickName').merge(PRICE_U,how='left',on='TickName').merge(FIN_U,how='left',on='TickName').merge(DIV_U,how='left',on='TickName').fillna('Missing')\n",
    "\n",
    "\n",
    "Tbl_Coverage = TIC_COVERAGE.groupby(['IN_INFO','IN_PRICE','IN_FIN', 'IN_DIV'])['Counter'].count().reset_index().sort_values(by=['Counter'],ascending=False)\n",
    "Tbl_Coverage['Percentage'] = 100 * Tbl_Coverage['Counter']  / Tbl_Coverage['Counter'].sum()\n",
    "\n",
    "Tbl_Coverage.head(27)\n",
    "# To-do: add market cap data in here to quantify the proportion missing"
   ]
  },
  {
   "cell_type": "code",
   "execution_count": 6,
   "metadata": {},
   "outputs": [],
   "source": [
    "\n",
    "#Remove tickers without complete variable set\n",
    "dp_cov_comp = TIC_COVERAGE[(TIC_COVERAGE.IN_INFO == 'In Info Extract') \n",
    "                    & (TIC_COVERAGE.IN_PRICE == 'In Price Extract')\n",
    "                    & (TIC_COVERAGE.IN_FIN == 'In Financial Extract')\n",
    "                    & (TIC_COVERAGE.IN_DIV == 'In Dividend Extract')\n",
    "                    ]\n",
    "\n",
    "\n"
   ]
  },
  {
   "cell_type": "code",
   "execution_count": 7,
   "metadata": {},
   "outputs": [
    {
     "output_type": "execute_result",
     "data": {
      "text/plain": [
       "TickName    264\n",
       "Counter     264\n",
       "IN_INFO     264\n",
       "IN_PRICE    264\n",
       "IN_FIN      264\n",
       "IN_DIV      264\n",
       "dtype: int64"
      ]
     },
     "metadata": {},
     "execution_count": 7
    }
   ],
   "source": [
    "dp_cov_comp.count()"
   ]
  },
  {
   "cell_type": "code",
   "execution_count": 8,
   "metadata": {},
   "outputs": [],
   "source": [
    "\n",
    "# Combine the feature sets\n",
    "\n",
    "TIC_FLAT = dp_cov_comp.merge(PRICE_Feature,how='left',on='TickName').merge(DIV_Feature,how='left',on='TickName').merge(INF_Feature,how='left',on='TickName')\n",
    "\n",
    "# .merge(FIN_Feature,how='left',on='TickName')\n",
    "\n",
    "\n",
    "# .fillna('Missing')\n",
    "\n",
    "# merge(INF_Feature,how='left',on='TickName').\n"
   ]
  },
  {
   "cell_type": "code",
   "execution_count": 9,
   "metadata": {},
   "outputs": [
    {
     "output_type": "execute_result",
     "data": {
      "text/plain": [
       "  TickName  Counter          IN_INFO          IN_PRICE                IN_FIN  \\\n",
       "0   ONT.AX        1  In Info Extract  In Price Extract  In Financial Extract   \n",
       "1   TGP.AX        1  In Info Extract  In Price Extract  In Financial Extract   \n",
       "2   TOT.AX        1  In Info Extract  In Price Extract  In Financial Extract   \n",
       "3   5GN.AX        1  In Info Extract  In Price Extract  In Financial Extract   \n",
       "4   ABP.AX        1  In Info Extract  In Price Extract  In Financial Extract   \n",
       "\n",
       "                IN_DIV  Unnamed: 0_x  absmvmtOPEN_MEDIAN  absmvmtOPEN_STD  \\\n",
       "0  In Dividend Extract             1            0.007143         0.016702   \n",
       "1  In Dividend Extract             7            0.024242         0.014032   \n",
       "2  In Dividend Extract             8            0.011364         0.006939   \n",
       "3  In Dividend Extract            14            0.041177         0.026274   \n",
       "4  In Dividend Extract            25            0.024476         0.010031   \n",
       "\n",
       "   Unnamed: 0_y  ...  fullTimeEmployees  forwardEps  forwardPE  \\\n",
       "0             0  ...              337.0        0.36  19.277777   \n",
       "1             2  ...                NaN        0.05  18.699999   \n",
       "2             3  ...                NaN         NaN        NaN   \n",
       "3             4  ...                NaN         NaN        NaN   \n",
       "4             6  ...                NaN        0.27  10.074074   \n",
       "\n",
       "            shortName                   longName  \\\n",
       "0      SMILES LTD FPO         1300SMILES Limited   \n",
       "1   360 GROUP STAPLED  360 Capital Group Limited   \n",
       "2  360CAPITAL STAPLED           360 Capital REIT   \n",
       "3      5G NETWORK FPO        5G Networks Limited   \n",
       "4      ABACUS STAPLED      Abacus Property Group   \n",
       "\n",
       "                                 longBusinessSummary  \\\n",
       "0  1300SMILES Limited provides dental and managem...   \n",
       "1  360 Capital Group is an ASX-listed, investment...   \n",
       "2  360 Capital REIT invests across the entire rea...   \n",
       "3  5G Networks Limited, together with its subsidi...   \n",
       "4  Abacus Property Group (ASX:ABP), is a diversif...   \n",
       "\n",
       "                                             website   messageBoardId  \\\n",
       "0                       http://www.1300smiles.com.au   finmb_21811671   \n",
       "1                       http://www.360capital.com.au   finmb_22986008   \n",
       "2  http://www.360capital.com.au/investment-strate...  finmb_289139858   \n",
       "3                       http://www.5gnetworks.com.au  finmb_537651034   \n",
       "4                   http://www.abacusproperty.com.au    finmb_7657684   \n",
       "\n",
       "                  industry                  sector  \n",
       "0  Medical Care Facilities              Healthcare  \n",
       "1     Real Estate Services             Real Estate  \n",
       "2         REIT—Diversified             Real Estate  \n",
       "3         Telecom Services  Communication Services  \n",
       "4         REIT—Diversified             Real Estate  \n",
       "\n",
       "[5 rows x 72 columns]"
      ],
      "text/html": "<div>\n<style scoped>\n    .dataframe tbody tr th:only-of-type {\n        vertical-align: middle;\n    }\n\n    .dataframe tbody tr th {\n        vertical-align: top;\n    }\n\n    .dataframe thead th {\n        text-align: right;\n    }\n</style>\n<table border=\"1\" class=\"dataframe\">\n  <thead>\n    <tr style=\"text-align: right;\">\n      <th></th>\n      <th>TickName</th>\n      <th>Counter</th>\n      <th>IN_INFO</th>\n      <th>IN_PRICE</th>\n      <th>IN_FIN</th>\n      <th>IN_DIV</th>\n      <th>Unnamed: 0_x</th>\n      <th>absmvmtOPEN_MEDIAN</th>\n      <th>absmvmtOPEN_STD</th>\n      <th>Unnamed: 0_y</th>\n      <th>...</th>\n      <th>fullTimeEmployees</th>\n      <th>forwardEps</th>\n      <th>forwardPE</th>\n      <th>shortName</th>\n      <th>longName</th>\n      <th>longBusinessSummary</th>\n      <th>website</th>\n      <th>messageBoardId</th>\n      <th>industry</th>\n      <th>sector</th>\n    </tr>\n  </thead>\n  <tbody>\n    <tr>\n      <th>0</th>\n      <td>ONT.AX</td>\n      <td>1</td>\n      <td>In Info Extract</td>\n      <td>In Price Extract</td>\n      <td>In Financial Extract</td>\n      <td>In Dividend Extract</td>\n      <td>1</td>\n      <td>0.007143</td>\n      <td>0.016702</td>\n      <td>0</td>\n      <td>...</td>\n      <td>337.0</td>\n      <td>0.36</td>\n      <td>19.277777</td>\n      <td>SMILES LTD FPO</td>\n      <td>1300SMILES Limited</td>\n      <td>1300SMILES Limited provides dental and managem...</td>\n      <td>http://www.1300smiles.com.au</td>\n      <td>finmb_21811671</td>\n      <td>Medical Care Facilities</td>\n      <td>Healthcare</td>\n    </tr>\n    <tr>\n      <th>1</th>\n      <td>TGP.AX</td>\n      <td>1</td>\n      <td>In Info Extract</td>\n      <td>In Price Extract</td>\n      <td>In Financial Extract</td>\n      <td>In Dividend Extract</td>\n      <td>7</td>\n      <td>0.024242</td>\n      <td>0.014032</td>\n      <td>2</td>\n      <td>...</td>\n      <td>NaN</td>\n      <td>0.05</td>\n      <td>18.699999</td>\n      <td>360 GROUP STAPLED</td>\n      <td>360 Capital Group Limited</td>\n      <td>360 Capital Group is an ASX-listed, investment...</td>\n      <td>http://www.360capital.com.au</td>\n      <td>finmb_22986008</td>\n      <td>Real Estate Services</td>\n      <td>Real Estate</td>\n    </tr>\n    <tr>\n      <th>2</th>\n      <td>TOT.AX</td>\n      <td>1</td>\n      <td>In Info Extract</td>\n      <td>In Price Extract</td>\n      <td>In Financial Extract</td>\n      <td>In Dividend Extract</td>\n      <td>8</td>\n      <td>0.011364</td>\n      <td>0.006939</td>\n      <td>3</td>\n      <td>...</td>\n      <td>NaN</td>\n      <td>NaN</td>\n      <td>NaN</td>\n      <td>360CAPITAL STAPLED</td>\n      <td>360 Capital REIT</td>\n      <td>360 Capital REIT invests across the entire rea...</td>\n      <td>http://www.360capital.com.au/investment-strate...</td>\n      <td>finmb_289139858</td>\n      <td>REIT—Diversified</td>\n      <td>Real Estate</td>\n    </tr>\n    <tr>\n      <th>3</th>\n      <td>5GN.AX</td>\n      <td>1</td>\n      <td>In Info Extract</td>\n      <td>In Price Extract</td>\n      <td>In Financial Extract</td>\n      <td>In Dividend Extract</td>\n      <td>14</td>\n      <td>0.041177</td>\n      <td>0.026274</td>\n      <td>4</td>\n      <td>...</td>\n      <td>NaN</td>\n      <td>NaN</td>\n      <td>NaN</td>\n      <td>5G NETWORK FPO</td>\n      <td>5G Networks Limited</td>\n      <td>5G Networks Limited, together with its subsidi...</td>\n      <td>http://www.5gnetworks.com.au</td>\n      <td>finmb_537651034</td>\n      <td>Telecom Services</td>\n      <td>Communication Services</td>\n    </tr>\n    <tr>\n      <th>4</th>\n      <td>ABP.AX</td>\n      <td>1</td>\n      <td>In Info Extract</td>\n      <td>In Price Extract</td>\n      <td>In Financial Extract</td>\n      <td>In Dividend Extract</td>\n      <td>25</td>\n      <td>0.024476</td>\n      <td>0.010031</td>\n      <td>6</td>\n      <td>...</td>\n      <td>NaN</td>\n      <td>0.27</td>\n      <td>10.074074</td>\n      <td>ABACUS STAPLED</td>\n      <td>Abacus Property Group</td>\n      <td>Abacus Property Group (ASX:ABP), is a diversif...</td>\n      <td>http://www.abacusproperty.com.au</td>\n      <td>finmb_7657684</td>\n      <td>REIT—Diversified</td>\n      <td>Real Estate</td>\n    </tr>\n  </tbody>\n</table>\n<p>5 rows × 72 columns</p>\n</div>"
     },
     "metadata": {},
     "execution_count": 9
    }
   ],
   "source": [
    "TIC_FLAT.head(5)"
   ]
  },
  {
   "cell_type": "code",
   "execution_count": 10,
   "metadata": {},
   "outputs": [],
   "source": [
    "TIC_FLAT.to_excel('/Users/joezhou/Downloads/C_TIC_FLAT.xlsx', engine='xlsxwriter')  \n",
    "\n"
   ]
  },
  {
   "cell_type": "code",
   "execution_count": null,
   "metadata": {},
   "outputs": [],
   "source": []
  }
 ]
}