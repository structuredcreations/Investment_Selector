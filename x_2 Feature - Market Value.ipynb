{
 "metadata": {
  "language_info": {
   "codemirror_mode": {
    "name": "ipython",
    "version": 3
   },
   "file_extension": ".py",
   "mimetype": "text/x-python",
   "name": "python",
   "nbconvert_exporter": "python",
   "pygments_lexer": "ipython3",
   "version": "3.7.4-final"
  },
  "orig_nbformat": 2,
  "kernelspec": {
   "name": "python_defaultSpec_1599476823541",
   "display_name": "Python 3.7.4 64-bit ('base': conda)"
  }
 },
 "nbformat": 4,
 "nbformat_minor": 2,
 "cells": [
  {
   "cell_type": "code",
   "execution_count": 1,
   "metadata": {},
   "outputs": [],
   "source": [
    "import pandas as pd\n",
    "DF = pd.read_excel (r'/Users/JZ/Downloads/PRICES_ALL.xlsx')\n",
    "#Create a sample for code testing purposes\n",
    "HIST_PRICE_DF = DF[DF['TickName'].isin(['CBA.AX','ANZ.AX','APT.AX','Z1P.AX'])]\n",
    "\n",
    "#create a baselist for adding on the feature engineered variables\n",
    "TICKER_LIST = HIST_PRICE_DF['TickName'].drop_duplicates().reset_index(drop=True)\n"
   ]
  },
  {
   "cell_type": "code",
   "execution_count": 2,
   "metadata": {},
   "outputs": [],
   "source": [
    "#Calculate Day level movement\n",
    "\n",
    "#Movement relative to Open price\n",
    "HIST_PRICE_DF['HIGHtakeLOW'] = HIST_PRICE_DF['High']-HIST_PRICE_DF['Low']\n",
    "HIST_PRICE_DF['CLOSEtakeOPEN'] = HIST_PRICE_DF['Close']-HIST_PRICE_DF['Open']\n",
    "HIST_PRICE_DF['HIGHdivideLOW'] = HIST_PRICE_DF['High']/HIST_PRICE_DF['Low']\n",
    "HIST_PRICE_DF['CLOSEdivideOPEN'] = HIST_PRICE_DF['Close']/HIST_PRICE_DF['Open']\n",
    "HIST_PRICE_DF['absmvmtOPEN']=HIST_PRICE_DF['HIGHtakeLOW'].abs()/HIST_PRICE_DF['Open']\n",
    "\n",
    "#Signal Counters\n",
    "#if positive then 1\n",
    "\n",
    "\n",
    "#Threshold Counters\n",
    "#if the volatility is 10%, 20% or 30% above opening etc\n",
    "\n",
    "\n",
    "\n",
    "\n",
    "\n",
    "#create a rolling list for the variables created above, the list will be used to calculate median and std deviation and feed into the loop below\n",
    "\n",
    "\n",
    "\n",
    "#HIST_PRICE_DF.to_excel('/Users/JZ/Downloads/X_TEST.xlsx')  \n"
   ]
  },
  {
   "cell_type": "code",
   "execution_count": null,
   "metadata": {},
   "outputs": [],
   "source": [
    "# Running total type of measures\n",
    "\n",
    "# Calculate Moving median and moving stand deviation across the period"
   ]
  },
  {
   "cell_type": "code",
   "execution_count": 6,
   "metadata": {},
   "outputs": [],
   "source": [
    "#Build a function to cycle through the metrics and add onto the base datamart\n",
    "\n",
    "\n",
    "\n",
    "\n",
    "# BASELINE = list(dict.fromkeys(HIST_PRICE_DF['TickName']))\n",
    "# BASELINE = BASELINE.columns = ['TickerName']\n",
    "PRICE_MEDIAN = HIST_PRICE_DF.groupby(\"TickName\")[\"absmvmtOPEN\"].median()\n",
    "PRICE_STD_DEV = HIST_PRICE_DF.groupby(\"TickName\")[\"absmvmtOPEN\"].std()\n",
    "\n",
    "\n",
    "TICKER_LIST_ADDED = pd.merge(TICKER_LIST,PRICE_MEDIAN,on='TickName').rename({'absmvmtOPEN': 'absmvmtOPEN_MEDIAN'},axis=1)\n",
    "# TICKER_LIST_ADDED = pd.merge(TICKER_LIST_ADDED,PRICE_STD_DEV,on='TickName')\n",
    "\n",
    "\n",
    "\n",
    "\n",
    "\n",
    "\n",
    "\n"
   ]
  },
  {
   "cell_type": "code",
   "execution_count": null,
   "metadata": {},
   "outputs": [],
   "source": []
  }
 ]
}