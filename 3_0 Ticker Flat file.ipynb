{
 "cells": [
  {
   "cell_type": "code",
   "execution_count": null,
   "metadata": {},
   "outputs": [],
   "source": [
    "# The aim of this module is to create ticker level data for calculation\n",
    "\n",
    "# File name convention\n",
    "# R_ = raw extract \n",
    "# E_ = Entry files into enrichment layer\n",
    "# C_ = enriched layer with calculation\n",
    "# I = insights layer, designed for model baselines\n",
    "# V_ = validation"
   ]
  },
  {
   "cell_type": "code",
   "execution_count": 2,
   "metadata": {},
   "outputs": [],
   "source": [
    "import pandas as pd\n",
    "import numpy as np"
   ]
  },
  {
   "cell_type": "code",
   "execution_count": 3,
   "metadata": {},
   "outputs": [],
   "source": [
    "\n",
    "\n",
    "I_TIC = pd.read_pickle ('/Users/joezhou/Downloads/Investment/1 data/E_TICK_INPUTS.pkl') \n",
    "I_INFO = pd.read_pickle ('/Users/joezhou/Downloads/Investment/1 data/E_ALL_INFO.pkl') \n",
    "I_DIV = pd.read_pickle ('/Users/joezhou/Downloads/Investment/1 data/E_ALL_Div.pkl') \n",
    "I_PRICE = pd.read_pickle ('/Users/joezhou/Downloads/Investment/1 data/E_ALL_Prices.pkl') \n",
    "I_FIN = pd.read_pickle ('/Users/joezhou/Downloads/Investment/1 data/E_ALL_FIN.pkl') \n",
    "\n",
    "\n",
    "TIC = pd.read_pickle ('/Users/joezhou/Downloads/Investment/1 data/R_ALL_TICKER.pkl') \n",
    "TIC_U = TIC.drop_duplicates(subset=['colummn']).rename(columns={'colummn': 'TickName'})[['TickName']]\n",
    "\n",
    "del TIC"
   ]
  },
  {
   "cell_type": "code",
   "execution_count": 4,
   "metadata": {},
   "outputs": [],
   "source": [
    "# Join it back together\n",
    "\n",
    "TIC_FLAT = TIC_U.merge(I_TIC,how='inner',on='TickName').merge(I_DIV,how='inner',on='TickName').merge(I_INFO,how='inner',on='TickName').merge(I_PRICE,how='inner',on='TickName').merge(I_FIN,how='inner',on='TickName')\n",
    "# full join when all financials are downloaded\n",
    "# TIC_FLAT = TIC_U.merge(I_TIC,how='left',on='TickName').merge(I_DIV,how='left',on='TickName').merge(I_INFO,how='left',on='TickName').merge(I_PRICE,how='left',on='TickName').merge(I_FIN,how='left',on='TickName')\n",
    "# .fillna('Missing')\n",
    "\n",
    "TIC_FLAT_NAN = TIC_FLAT.isna().sum()\n",
    "\n",
    "# from datetime import datetime as dt\n",
    "# dte = dt.now().strftime('%Y%m%d')\n",
    "# fname = \"/Users/joezhou/Downloads/TIC_FLAT_NAN_COUNT{}.xlsx\".format(dte)\n",
    "# TIC_FLAT_NAN.to_excel(fname)"
   ]
  },
  {
   "cell_type": "code",
   "execution_count": 11,
   "metadata": {},
   "outputs": [],
   "source": [
    "# calculate key features\n",
    "\n",
    "TIC_FLAT['CALC_CURR_RATIO'] = TIC_FLAT['Total Current Assets']/TIC_FLAT['Total Current Liabilities']\n",
    "TIC_FLAT['CALC_PE_RATIO'] = TIC_FLAT['Last_Close_price']/(TIC_FLAT['Net Income']/TIC_FLAT['sharesOutstanding'])\n",
    "\n",
    "TIC_FLAT['CALC_DIV_OPEX_RATE'] = TIC_FLAT['Dividends Paid'] / TIC_FLAT['Total Operating Expenses']\n",
    "TIC_FLAT['CALC_TAX_RATE'] = TIC_FLAT['Income Tax Expense'] / TIC_FLAT['Income Before Tax']\n",
    "\n",
    "TIC_FLAT['CALC_TOTAL_DEBT'] = TIC_FLAT['Short Long Term Debt'] + TIC_FLAT['Long Term Debt'] \n",
    "TIC_FLAT['CALC_TOTAL_CAPITAL'] = TIC_FLAT['CALC_TOTAL_DEBT'] + TIC_FLAT['Total Stockholder Equity']\n",
    "TIC_FLAT['CALC_PERC_DEBT'] = TIC_FLAT['CALC_TOTAL_DEBT'] / TIC_FLAT['CALC_TOTAL_CAPITAL']\n",
    "TIC_FLAT['CALC_PERC_EQTY'] = TIC_FLAT['Total Stockholder Equity'] / TIC_FLAT['CALC_TOTAL_CAPITAL']\n",
    "TIC_FLAT['CALC_DEBT_EQUITY'] = TIC_FLAT['CALC_TOTAL_DEBT'] / TIC_FLAT['Total Stockholder Equity']\n",
    "\n",
    "\n",
    "TIC_FLAT['CALC_COST_DEBT'] = TIC_FLAT['Long Term Debt']/TIC_FLAT['Total Assets']\n",
    "\n",
    "\n",
    "\n",
    "\n",
    "# TIC_FLAT['CALC_WACC']= (TIC_FLAT['CALC_PERC_EQTY']*TIC_FLAT[''])+ (TIC_FLAT['CALC_PERC_DEBT']*TIC_FLAT['CALC_COST_DEBT'])*(1-TIC_FLAT['CALC_TAX_RATE']) "
   ]
  },
  {
   "cell_type": "code",
   "execution_count": null,
   "metadata": {},
   "outputs": [],
   "source": []
  },
  {
   "cell_type": "code",
   "execution_count": 12,
   "metadata": {},
   "outputs": [],
   "source": [
    "TIC_FLAT.to_pickle(\"/Users/joezhou/Downloads/Investment/1 data/C_TICKER_FLAT.pkl\")\n",
    "\n"
   ]
  },
  {
   "cell_type": "code",
   "execution_count": null,
   "metadata": {},
   "outputs": [],
   "source": []
  }
 ],
 "metadata": {
  "kernelspec": {
   "display_name": "Python 3.8.5 ('base')",
   "language": "python",
   "name": "python3"
  },
  "language_info": {
   "codemirror_mode": {
    "name": "ipython",
    "version": 3
   },
   "file_extension": ".py",
   "mimetype": "text/x-python",
   "name": "python",
   "nbconvert_exporter": "python",
   "pygments_lexer": "ipython3",
   "version": "3.8.5"
  },
  "orig_nbformat": 2,
  "vscode": {
   "interpreter": {
    "hash": "29ef60e46f341bb51c2a63b17c19fb7c83213fa52e6b916fbf12c8b5ee03317f"
   }
  }
 },
 "nbformat": 4,
 "nbformat_minor": 2
}
