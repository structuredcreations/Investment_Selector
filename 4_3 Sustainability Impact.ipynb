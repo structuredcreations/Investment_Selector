{
 "cells": [
  {
   "cell_type": "code",
   "execution_count": null,
   "metadata": {},
   "outputs": [],
   "source": [
    "#Download sustainability data and find correlation between the score and stock prices\n",
    "\n",
    "import numpy as np\n",
    "import pandas as  pd\n",
    "import matplotlib.pyplot as plt\n",
    "import seaborn as sns\n",
    "\n",
    "#!pip install yfinance --upgrade --no-cache-dir\n",
    "#!pip uninstall yfinance\n",
    "#!pip install git+https://github.com/rodrigobercini/yfinance.git\n",
    "import yfinance as yf\n",
    "import yahoofinancials as yfin"
   ]
  },
  {
   "cell_type": "code",
   "execution_count": null,
   "metadata": {},
   "outputs": [],
   "source": [
    "import pandas as pd\n",
    "ASX_data = pd.read_csv('https://www.asx.com.au/asx/research/ASXListedCompanies.csv',skiprows=1)\n",
    "# format to align with yahoo finance ticker\n",
    "ASX_data[\"Ticker\"] = ASX_data['ASX code']+\".AX\"\n",
    "ASX_TICKER_LIST = list(ASX_data['Ticker'])"
   ]
  },
  {
   "cell_type": "code",
   "execution_count": null,
   "metadata": {},
   "outputs": [],
   "source": [
    "import time\n",
    "start_time = time.time()\n",
    "\n",
    "company_df = pd.DataFrame()\n",
    "\n",
    "def Info_Extract(TickName):\n",
    "    \n",
    "    global company_df\n",
    "    \n",
    "    try:\n",
    "        tick = yf.Ticker(TickName)\n",
    "        tick_sustain = tick.sustainability.transpose()\n",
    "        tick_sustain['TICKER'] = TickName\n",
    "    \n",
    "        company_df = company_df.append(tick_sustain, ignore_index=True) \n",
    "         \n",
    "    except Exception:\n",
    "        print(\"Error with\",TickName)\n",
    "        pass\n",
    "\n",
    "    return()\n",
    "\n",
    "for company in ASX_TICKER_LIST:\n",
    "    Info_Extract(company)\n",
    "\n",
    "#company_df.to_excel(\"/Users/JZ/Downloads/ALL_ORDS_500_SUSTAINABILITY.xlsx\", sheet_name='Sheet_name_1')\n",
    "\n",
    "print(\"--- %s seconds ---\" % (time.time() - start_time))\n",
    "\n",
    "\n",
    "\n"
   ]
  }
 ],
 "metadata": {
  "kernelspec": {
   "display_name": "Python 3.8.5 ('base')",
   "language": "python",
   "name": "python3"
  },
  "language_info": {
   "codemirror_mode": {
    "name": "ipython",
    "version": 3
   },
   "file_extension": ".py",
   "mimetype": "text/x-python",
   "name": "python",
   "nbconvert_exporter": "python",
   "pygments_lexer": "ipython3",
   "version": "3.8.5"
  },
  "orig_nbformat": 2,
  "vscode": {
   "interpreter": {
    "hash": "29ef60e46f341bb51c2a63b17c19fb7c83213fa52e6b916fbf12c8b5ee03317f"
   }
  }
 },
 "nbformat": 4,
 "nbformat_minor": 2
}
