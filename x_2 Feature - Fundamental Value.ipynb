{
 "metadata": {
  "language_info": {
   "codemirror_mode": {
    "name": "ipython",
    "version": 3
   },
   "file_extension": ".py",
   "mimetype": "text/x-python",
   "name": "python",
   "nbconvert_exporter": "python",
   "pygments_lexer": "ipython3",
   "version": "3.7.4-final"
  },
  "orig_nbformat": 2,
  "kernelspec": {
   "name": "python_defaultSpec_1598752158937",
   "display_name": "Python 3.7.4 64-bit ('base': conda)"
  }
 },
 "nbformat": 4,
 "nbformat_minor": 2,
 "cells": [
  {
   "cell_type": "code",
   "execution_count": null,
   "metadata": {},
   "outputs": [],
   "source": [
    "#valuation based on PE ratio\n",
    "\n",
    "\n",
    "DF=company_df.fillna(0, inplace=True)\n",
    "DF[\"trailingPE\"] = DF.trailingPE.astype(float)\n",
    "#.dropna(subset, inplace=True) \n",
    "#\n",
    "DF['SHARE_VAL_PE_BASED'] = (DF['enterpriseValue']/DF['enterpriseToRevenue']) * DF['profitMargins']/DF['sharesOutstanding']*float(DF['trailingPE'])\n",
    "DF['SHARE_VAL_TO_GAIN'] = DF['SHARE_VAL_PE_BASED'] - DF['regularMarketPreviousClose']\n",
    "\n",
    "\n",
    "DF.head().sort_values(by=['SHARE_VAL_TO_GAIN'],ascending=False)    \n",
    "\n",
    "DF2 = DF.sort_values(by=['profitMargins'],ascending=False).dropna()   \n",
    "\n",
    "DF2.head(10)\n"
   ]
  },
  {
   "cell_type": "code",
   "execution_count": null,
   "metadata": {},
   "outputs": [],
   "source": [
    "company_df.head().dropna()\n",
    "\n",
    "DF=company_df\n",
    "DF['SHARE_VAL_PE_BASED'] = (DF['enterpriseValue']/DF['enterpriseToRevenue']) * DF['profitMargins']/DF['sharesOutstanding']*DF['trailingPE']\n",
    "DF['SHARE_VAL_TO_GAIN'] = DF['SHARE_VAL_PE_BASED'] - DF['regularMarketPreviousClose']\n",
    "\n",
    "    \n",
    "DF.head().sort_values(by=['SHARE_VAL_TO_GAIN'],ascending=False)    \n",
    "\n"
   ]
  },
  {
   "cell_type": "code",
   "execution_count": null,
   "metadata": {},
   "outputs": [],
   "source": [
    "DF=company_df\n",
    "\n",
    "DF['SHARE_VAL_PE_BASED'] = (DF['enterpriseValue']/DF['enterpriseToRevenue']) * DF['profitMargins']/DF['sharesOutstanding']*DF['trailingPE']\n",
    "#DF_COMPARE = DF_CALCS['SHARE_VAL_PE_BASED'] - DF_CALCS['regularMarketPreviousClose']\n",
    "\n",
    "DF.head()"
   ]
  }
 ]
}