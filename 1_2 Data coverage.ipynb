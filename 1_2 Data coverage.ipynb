{
 "metadata": {
  "language_info": {
   "codemirror_mode": {
    "name": "ipython",
    "version": 3
   },
   "file_extension": ".py",
   "mimetype": "text/x-python",
   "name": "python",
   "nbconvert_exporter": "python",
   "pygments_lexer": "ipython3",
   "version": "3.8.5"
  },
  "orig_nbformat": 2,
  "kernelspec": {
   "name": "python3",
   "display_name": "Python 3.8.5 64-bit ('base': conda)"
  },
  "interpreter": {
   "hash": "2e80b46cd7ab2c4b8091b0b314a25adce498b8045c83140c5966e92a27ab602b"
  }
 },
 "nbformat": 4,
 "nbformat_minor": 2,
 "cells": [
  {
   "cell_type": "code",
   "execution_count": 1,
   "metadata": {},
   "outputs": [],
   "source": [
    "#Develop ticker coverage table\n",
    "import pandas as pd\n",
    "\n",
    "TIC = pd.read_csv(r'/Users/joezhou/Downloads/ALL_TICKER.csv')\n",
    "\n",
    "TIC_U = TIC.drop_duplicates(subset=['colummn']).rename(columns={'colummn': 'TickName'})[['TickName']]\n",
    "\n",
    "TIC_U['Counter'] = 1"
   ]
  },
  {
   "cell_type": "code",
   "execution_count": 2,
   "metadata": {},
   "outputs": [],
   "source": [
    "\n",
    "INF = pd.read_excel (r'/Users/joezhou/Downloads/ALL_INFO.xlsx') \n",
    "INF_U = INF.drop_duplicates(subset=['symbol']).rename(columns={'symbol': 'TickName'})[['TickName']]\n",
    "INF_U['IN_INFO']=\"In Info Extract\"\n",
    "\n",
    "PRICE = pd.read_csv (r'/Users/joezhou/Downloads/ALL_Prices.csv', sep='|')\n",
    "PRICE_U = PRICE.drop_duplicates(subset=['TickName'])[['TickName']]\n",
    "PRICE_U['IN_PRICE']=\"In Price Extract\"\n",
    "\n",
    "FIN = pd.read_csv (r'/Users/joezhou/Downloads/ALL_FIN.csv', sep='|')\n",
    "FIN_U = FIN.drop_duplicates(subset=['TickName'])[['TickName']]\n",
    "FIN_U['IN_FIN']=\"In Financial Extract\"\n"
   ]
  },
  {
   "cell_type": "code",
   "execution_count": 3,
   "metadata": {},
   "outputs": [
    {
     "output_type": "execute_result",
     "data": {
      "text/plain": [
       "           IN_INFO          IN_PRICE                IN_FIN  Counter  \\\n",
       "0  In Info Extract  In Price Extract  In Financial Extract     1017   \n",
       "2  In Info Extract           Missing  In Financial Extract      476   \n",
       "3  In Info Extract           Missing               Missing      265   \n",
       "1  In Info Extract  In Price Extract               Missing      264   \n",
       "5          Missing           Missing               Missing      169   \n",
       "4          Missing           Missing  In Financial Extract        4   \n",
       "\n",
       "   Percentage  \n",
       "0   46.332574  \n",
       "2   21.685649  \n",
       "3   12.072893  \n",
       "1   12.027335  \n",
       "5    7.699317  \n",
       "4    0.182232  "
      ],
      "text/html": "<div>\n<style scoped>\n    .dataframe tbody tr th:only-of-type {\n        vertical-align: middle;\n    }\n\n    .dataframe tbody tr th {\n        vertical-align: top;\n    }\n\n    .dataframe thead th {\n        text-align: right;\n    }\n</style>\n<table border=\"1\" class=\"dataframe\">\n  <thead>\n    <tr style=\"text-align: right;\">\n      <th></th>\n      <th>IN_INFO</th>\n      <th>IN_PRICE</th>\n      <th>IN_FIN</th>\n      <th>Counter</th>\n      <th>Percentage</th>\n    </tr>\n  </thead>\n  <tbody>\n    <tr>\n      <th>0</th>\n      <td>In Info Extract</td>\n      <td>In Price Extract</td>\n      <td>In Financial Extract</td>\n      <td>1017</td>\n      <td>46.332574</td>\n    </tr>\n    <tr>\n      <th>2</th>\n      <td>In Info Extract</td>\n      <td>Missing</td>\n      <td>In Financial Extract</td>\n      <td>476</td>\n      <td>21.685649</td>\n    </tr>\n    <tr>\n      <th>3</th>\n      <td>In Info Extract</td>\n      <td>Missing</td>\n      <td>Missing</td>\n      <td>265</td>\n      <td>12.072893</td>\n    </tr>\n    <tr>\n      <th>1</th>\n      <td>In Info Extract</td>\n      <td>In Price Extract</td>\n      <td>Missing</td>\n      <td>264</td>\n      <td>12.027335</td>\n    </tr>\n    <tr>\n      <th>5</th>\n      <td>Missing</td>\n      <td>Missing</td>\n      <td>Missing</td>\n      <td>169</td>\n      <td>7.699317</td>\n    </tr>\n    <tr>\n      <th>4</th>\n      <td>Missing</td>\n      <td>Missing</td>\n      <td>In Financial Extract</td>\n      <td>4</td>\n      <td>0.182232</td>\n    </tr>\n  </tbody>\n</table>\n</div>"
     },
     "metadata": {},
     "execution_count": 3
    }
   ],
   "source": [
    "# Join it back together\n",
    "TIC_COVERAGE = TIC_U.merge(INF_U,how='left',on='TickName').merge(PRICE_U,how='left',on='TickName').merge(FIN_U,how='left',on='TickName').fillna('Missing')\n",
    "\n",
    "\n",
    "Tbl_Coverage = TIC_COVERAGE.groupby(['IN_INFO','IN_PRICE','IN_FIN'])['Counter'].count().reset_index().sort_values(by=['Counter'],ascending=False)\n",
    "\n",
    "Tbl_Coverage['Percentage'] = 100 * Tbl_Coverage['Counter']  / Tbl_Coverage['Counter'].sum()\n",
    "\n",
    "Tbl_Coverage.head(27)\n",
    "# To-do: add market cap data in here to quantify the proportion missing"
   ]
  },
  {
   "cell_type": "code",
   "execution_count": 4,
   "metadata": {},
   "outputs": [],
   "source": [
    "TIC_COVERAGE.to_excel('/Users/joezhou/Downloads/_0_ALL_TICKER_COVERAGE.xlsx')  \n"
   ]
  },
  {
   "cell_type": "code",
   "execution_count": null,
   "metadata": {},
   "outputs": [],
   "source": []
  }
 ]
}