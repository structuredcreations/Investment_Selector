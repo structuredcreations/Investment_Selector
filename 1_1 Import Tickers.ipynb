{
 "cells": [
  {
   "cell_type": "code",
   "execution_count": null,
   "metadata": {},
   "outputs": [],
   "source": [
    "# The aim of this module is to extract data from yahood finance and export to pipe delimitered CSV files\n",
    "\n",
    "# Exports are:\n",
    "# R_ALL_TICKER >> list of all tickers in scope\n",
    "# R_ALL_INFO >> point in time information\n",
    "# R_ALL_FIN >> financial information, balance sheet, income statement and cashflow\n",
    "# R_ALL_Prices >> historical prices over last x months\n",
    "# R_ALL_Div >> dividend price over time\n"
   ]
  },
  {
   "cell_type": "code",
   "execution_count": null,
   "metadata": {},
   "outputs": [],
   "source": [
    "# pip install yfinance --upgrade --no-cache-dir\n"
   ]
  },
  {
   "cell_type": "code",
   "execution_count": null,
   "metadata": {},
   "outputs": [],
   "source": [
    "import pandas as pd\n",
    "import yfinance as yf\n",
    "import numpy as np\n",
    "\n",
    "\n",
    "# File name convention\n",
    "# R_ = raw extract \n",
    "# E_ = Entry files into enrichment layer\n",
    "# C_ = enriched layer with calculation\n",
    "# I = insights layer, designed for model baselines\n",
    "# V_ = validation"
   ]
  },
  {
   "cell_type": "code",
   "execution_count": null,
   "metadata": {},
   "outputs": [],
   "source": [
    "#ASX Tickers\n",
    "RAW_TICKER_ASX = pd.read_csv('https://www.asx.com.au/asx/research/ASXListedCompanies.csv',skiprows=1)\n",
    "RAW_TICKER_ASX[\"Ticker\"] = RAW_TICKER_ASX['ASX code']+\".AX\"\n",
    "TICKER_ASX = list(RAW_TICKER_ASX['Ticker'].dropna())"
   ]
  },
  {
   "cell_type": "code",
   "execution_count": null,
   "metadata": {},
   "outputs": [],
   "source": [
    "# Nasdaq Tickers \n",
    "\n",
    "# Note: need to find new site, the link below no longer works\n",
    "#ftp.nasdaqtrader.com/SymbolDirectory/nasdaqlisted.txt\n",
    "#ftp.nasdaqtrader.com/SymbolDirectory/otherlisted.txt\n",
    "\n",
    "# RAW_TICKER_NDQ = pd.read_csv('/Users/joezhou/Downloads/nasdaqlisted.txt',sep=\"|\")\n",
    "# RAW_TICKER_NDQ[\"Ticker\"] = RAW_TICKER_NDQ['Symbol']\n",
    "# TICKER_NDQ = list(RAW_TICKER_NDQ['Ticker'].dropna())"
   ]
  },
  {
   "cell_type": "code",
   "execution_count": null,
   "metadata": {},
   "outputs": [],
   "source": [
    "#London Stock Exchange Tickers\n",
    "RAW_TICKER_LSE = pd.read_excel (r'https://docs.londonstockexchange.com/sites/default/files/documents/list_of_sets_securities_14.xls', sheet_name='SETS',skiprows=3)\n",
    "RAW_TICKER_LSE[\"Ticker\"] = RAW_TICKER_LSE['Mnemonic']+\".L\"\n",
    "TICKER_LSE = list(RAW_TICKER_LSE['Ticker'].dropna())\n",
    "\n",
    "#note the link above no longer works"
   ]
  },
  {
   "cell_type": "code",
   "execution_count": null,
   "metadata": {},
   "outputs": [],
   "source": [
    "#NYSE Tickers\n",
    "# RAW_TICKER_NYSE = pd.read_excel (r'https://www.theice.com/publicdocs/data/NYSE_Equity_Index_Ticker_List.xlsx', sheet_name='SETS',skiprows=3)\n",
    "\n",
    "#Note: Need to find a better data source"
   ]
  },
  {
   "cell_type": "code",
   "execution_count": null,
   "metadata": {},
   "outputs": [],
   "source": [
    "#Append list for data extraction layer\n",
    "TICKER_ALL = TICKER_ASX\n",
    "# TICKER_ALL = (TICKER_ASX + TICKER_NDQ + TICKER_LSE)\n",
    "\n",
    "TICKER_ALL.sort()\n",
    "four_split = np.array_split(TICKER_ALL, 4)\n",
    "\n",
    "TICKER_ALL_1 = four_split[0]\n",
    "TICKER_ALL_2 = four_split[1]\n",
    "TICKER_ALL_3 = four_split[2]\n",
    "TICKER_ALL_4 = four_split[3]\n",
    "\n",
    "#Remove Duplicates\n",
    "# TICKER_ALL = list(dict.fromkeys(TICKER_ALL))\n",
    "\n",
    "\n",
    "# Export all ticker list for referencing purposes\n",
    "df_x = pd.DataFrame(TICKER_ALL, columns=[\"colummn\"])\n",
    "df_x.to_pickle(\"/Users/joezhou/Downloads/Investment/1 data/R_ALL_TICKER.pkl\")\n"
   ]
  },
  {
   "cell_type": "code",
   "execution_count": null,
   "metadata": {},
   "outputs": [
    {
     "ename": "AttributeError",
     "evalue": "'list' object has no attribute 'info'",
     "output_type": "error",
     "traceback": [
      "\u001b[0;31m---------------------------------------------------------------------------\u001b[0m",
      "\u001b[0;31mAttributeError\u001b[0m                            Traceback (most recent call last)",
      "Cell \u001b[0;32mIn[29], line 1\u001b[0m\n\u001b[0;32m----> 1\u001b[0m \u001b[43mTICKER_ALL\u001b[49m\u001b[38;5;241;43m.\u001b[39;49m\u001b[43minfo\u001b[49m()\n",
      "\u001b[0;31mAttributeError\u001b[0m: 'list' object has no attribute 'info'"
     ]
    }
   ],
   "source": [
    "TICKER_ALL."
   ]
  },
  {
   "cell_type": "code",
   "execution_count": null,
   "metadata": {},
   "outputs": [],
   "source": [
    "#Sample top 5 for testing code purposes\n",
    "# TICKER_ASXs = TICKER_ASX[:5]\n",
    "# TICKER_NDQs = TICKER_NDQ[:5]\n",
    "# TICKER_LSEs = TICKER_LSE[:5]\n",
    "\n",
    "# TICKER_ALL = (TICKER_ASXs + TICKER_NDQs + TICKER_LSEs)"
   ]
  },
  {
   "cell_type": "code",
   "execution_count": 24,
   "metadata": {},
   "outputs": [
    {
     "name": "stdout",
     "output_type": "stream",
     "text": [
      "{'address1': 'Commonwealth Bank Place South', 'address2': 'Level 1 11 Harbour Street', 'city': 'Sydney', 'state': 'NSW', 'zip': '2000', 'country': 'Australia', 'phone': '61 2 9262 8200', 'website': 'https://www.commbank.com.au', 'industry': 'Banks - Diversified', 'industryKey': 'banks-diversified', 'industryDisp': 'Banks - Diversified', 'sector': 'Financial Services', 'sectorKey': 'financial-services', 'sectorDisp': 'Financial Services', 'longBusinessSummary': 'Commonwealth Bank of Australia provides retail and commercial banking services in Australia, New Zealand, and internationally. It operates through Retail Banking Services, Business Banking, Institutional Banking and Markets, and New Zealand segments. The company offers savings accounts and term deposits, banking accounts, credit cards, personal and business loans, car and equipment finance, business overdraft, and international payment services; home loans; and home and content, car, health, life, income protection, pet, and travel insurance products. It also provides business cards; and capital raising solutions, transaction banking services, and risk management products and services. Commonwealth Bank of Australia was founded in 1911 and is based in Sydney, Australia.and home and content, car, health, life, income protection, pet, and travel insurance products. It also provides business cards; and capital raising solutions, transaction banking services, and risk management products and services. Commonwealth Bank of Australia was founded in 1911 and is based in Sydney, Australia.', 'fullTimeEmployees': 49682, 'companyOfficers': [{'maxAge': 1, 'name': 'Mr. Matthew  Comyn EMBA', 'age': 48, 'title': 'CEO, MD & Executive Director', 'yearBorn': 1976, 'fiscalYear': 2024, 'totalPay': 3531138, 'exercisedValue': 0, 'unexercisedValue': 0}, {'maxAge': 1, 'name': 'Mr. Alan  Docherty', 'title': 'Group Executive of Financial Services & Group CFO', 'fiscalYear': 2024, 'totalPay': 1582515, 'exercisedValue': 0, 'unexercisedValue': 0}, {'maxAge': 1, 'name': 'Mr. Gavin  Munroe', 'title': 'Group Chief Information Officer', 'fiscalYear': 2024, 'totalPay': 2378437, 'exercisedValue': 0, 'unexercisedValue': 0}, {'maxAge': 1, 'name': 'Mr. Andrew  Hinchliff', 'title': 'Group Chief Risk Officer', 'fiscalYear': 2024, 'totalPay': 1753780, 'exercisedValue': 0, 'unexercisedValue': 0}, {'maxAge': 1, 'name': 'Ms. Vittoria Annabel June Shortt BMS, CA', 'title': 'Chief Executive & MD of ASB Bank Ltd.', 'fiscalYear': 2024, 'totalPay': 1636543, 'exercisedValue': 0, 'unexercisedValue': 0}, {'maxAge': 1, 'name': 'Ms. Emma  Bunnell', 'title': 'Chief Operations Officer', 'fiscalYear': 2024, 'exercisedValue': 0, 'unexercisedValue': 0}, {'maxAge': 1, 'name': 'Mr. Rodrigo  Castillo', 'title': 'Chief Technology Officer', 'fiscalYear': 2024, 'exercisedValue': 0, 'unexercisedValue': 0}, {'maxAge': 1, 'name': 'Ms. Melanie  Kirk', 'title': 'Head of Investor Relations', 'fiscalYear': 2024, 'exercisedValue': 0, 'unexercisedValue': 0}, {'maxAge': 1, 'name': \"Ms. Karen  O'Flynn\", 'title': 'Group General Counsel, Company Secretary and Group Executive of Legal & Group Secretariat', 'fiscalYear': 2024, 'exercisedValue': 0, 'unexercisedValue': 0}, {'maxAge': 1, 'name': 'Ms. Monique  Macleod', 'title': 'Group Executive of Marketing & Corporate Affairs', 'fiscalYear': 2024, 'exercisedValue': 0, 'unexercisedValue': 0}], 'auditRisk': 8, 'boardRisk': 2, 'compensationRisk': 1, 'shareHolderRightsRisk': 1, 'overallRisk': 1, 'governanceEpochDate': 1743465600, 'compensationAsOfEpochDate': 1735603200, 'executiveTeam': [], 'maxAge': 86400, 'priceHint': 2, 'previousClose': 156.37, 'open': 153.69, 'dayLow': 153.26, 'dayHigh': 156.2, 'regularMarketPreviousClose': 156.37, 'regularMarketOpen': 153.69, 'regularMarketDayLow': 153.26, 'regularMarketDayHigh': 156.2, 'dividendRate': 4.5, 'dividendYield': 2.92, 'exDividendDate': 1739923200, 'payoutRatio': 0.7972, 'fiveYearAvgDividendYield': 3.85, 'beta': 0.811, 'trailingPE': 26.369862, 'forwardPE': 25.581396, 'volume': 3424516, 'regularMarketVolume': 3424516, 'averageVolume': 2115670, 'averageVolume10days': 2127590, 'averageDailyVolume10Day': 2127590, 'bid': 154.0, 'ask': 154.1, 'bidSize': 0, 'askSize': 0, 'marketCap': 257487994880, 'fiftyTwoWeekLow': 109.94, 'fiftyTwoWeekHigh': 167.92, 'priceToSalesTrailing12Months': 9.63148, 'fiftyDayAverage': 154.677, 'twoHundredDayAverage': 146.56735, 'trailingAnnualDividendRate': 4.75, 'trailingAnnualDividendYield': 0.03037667, 'currency': 'AUD', 'tradeable': False, 'enterpriseValue': 454439796736, 'profitMargins': 0.36541, 'floatShares': 1670326764, 'sharesOutstanding': 1672000000, 'heldPercentInsiders': 0.0019699999, 'heldPercentInstitutions': 0.29950002, 'impliedSharesOutstanding': 1697730048, 'bookValue': 45.014, 'priceToBook': 3.4211578, 'lastFiscalYearEnd': 1719705600, 'nextFiscalYearEnd': 1751241600, 'mostRecentQuarter': 1735603200, 'earningsQuarterlyGrowth': 0.079, 'netIncomeToCommon': 9786000384, 'trailingEps': 5.84, 'forwardEps': 6.02, 'lastSplitFactor': '1:1', 'lastSplitDate': 939168000, 'enterpriseToRevenue': 16.999, '52WeekChange': 0.30298674, 'SandP52WeekChange': -0.024663687, 'lastDividendValue': 2.25, 'lastDividendDate': 1739836800, 'quoteType': 'EQUITY', 'currentPrice': 154.0, 'targetHighPrice': 142.0, 'targetLowPrice': 90.75, 'targetMeanPrice': 111.97954, 'targetMedianPrice': 111.0, 'recommendationMean': 4.46154, 'recommendationKey': 'underperform', 'numberOfAnalystOpinions': 12, 'totalCash': 119196000256, 'totalCashPerShare': 71.29, 'totalDebt': 316147990528, 'totalRevenue': 26734000128, 'revenuePerShare': 15.989, 'returnOnAssets': 0.0075700004, 'returnOnEquity': 0.13215, 'grossProfits': 26734000128, 'operatingCashflow': -36029001728, 'earningsGrowth': 0.087, 'revenueGrowth': 0.047, 'grossMargins': 0.0, 'ebitdaMargins': 0.0, 'operatingMargins': 0.5614, 'financialCurrency': 'AUD', 'symbol': 'CBA.AX', 'language': 'en-US', 'region': 'US', 'typeDisp': 'Equity', 'quoteSourceName': 'Delayed Quote', 'triggerable': False, 'customPriceAlertConfidence': 'LOW', 'regularMarketChangePercent': -1.515633, 'regularMarketPrice': 154.0, 'marketState': 'CLOSED', 'longName': 'Commonwealth Bank of Australia', 'corporateActions': [], 'regularMarketTime': 1743743437, 'exchange': 'ASX', 'messageBoardId': 'finmb_874262', 'exchangeTimezoneName': 'Australia/Sydney', 'exchangeTimezoneShortName': 'AEST', 'gmtOffSetMilliseconds': 36000000, 'market': 'au_market', 'esgPopulated': False, 'regularMarketChange': -2.369995, 'regularMarketDayRange': '153.26 - 156.2', 'fullExchangeName': 'ASX', 'averageDailyVolume3Month': 2115670, 'fiftyTwoWeekLowChange': 44.059998, 'fiftyTwoWeekLowChangePercent': 0.40076402, 'fiftyTwoWeekRange': '109.94 - 167.92', 'fiftyTwoWeekHighChange': -13.919998, 'fiftyTwoWeekHighChangePercent': -0.082896605, 'fiftyTwoWeekChangePercent': 30.298674, 'earningsTimestamp': 1739305836, 'earningsTimestampStart': 1739305836, 'earningsTimestampEnd': 1739305836, 'earningsCallTimestampStart': 1739316600, 'earningsCallTimestampEnd': 1739316600, 'isEarningsDateEstimate': False, 'epsTrailingTwelveMonths': 5.84, 'epsForward': 6.02, 'epsCurrentYear': 6.10511, 'priceEpsCurrentYear': 25.22477, 'fiftyDayAverageChange': -0.67700195, 'fiftyDayAverageChangePercent': -0.0043768752, 'twoHundredDayAverageChange': 7.4326477, 'twoHundredDayAverageChangePercent': 0.050711483, 'sourceInterval': 20, 'exchangeDataDelayedBy': 20, 'averageAnalystRating': '4.5 - Underperform', 'shortName': 'CWLTH BANK FPO [CBA]', 'cryptoTradeable': False, 'hasPrePostMarketData': False, 'firstTradeDateMilliseconds': 686188800000, 'trailingPegRatio': None}\n"
     ]
    }
   ],
   "source": [
    "# tick = yf.Ticker('CBA.AX') \n",
    "# INF = tick.info\n",
    "# info.keys()\n",
    "\n",
    "# dhr.get_financials()\n",
    "stock_name = yf.Ticker(\"CBA.AX\").info\n",
    "print(stock_name)\n"
   ]
  },
  {
   "cell_type": "code",
   "execution_count": null,
   "metadata": {},
   "outputs": [],
   "source": [
    "print(stock_name)"
   ]
  },
  {
   "cell_type": "code",
   "execution_count": null,
   "metadata": {},
   "outputs": [],
   "source": [
    "#Download part 1: Company Information\n",
    "\n",
    "INF_DF = pd.DataFrame()\n",
    "\n",
    "def Info_Extract(TickName):    \n",
    "    global INF_DF\n",
    "    try:\n",
    "        tick = yf.Ticker(TickName) \n",
    "        INF = tick.info\n",
    "        INF_DF = INF_DF.append(INF, ignore_index=True) \n",
    "         \n",
    "        print(\"finished Info:\",TickName)\n",
    "        \n",
    "    except Exception:\n",
    "        print(\"Error with Info:\",TickName)\n",
    "        pass\n",
    "    \n",
    "    return()\n",
    "\n",
    "# Download all\n",
    "for company in TICKER_ALL:\n",
    "   Info_Extract(company) \n",
    "INF_DF.to_pickle(\"/Users/joezhou/Downloads/Investment/1 data/R_ALL_INFO.pkl\")\n",
    "\n",
    "# download partial\n",
    "# for company in TICKER_ALL_1:\n",
    "#    Info_Extract(company)\n",
    "# INF_DF_1 = INF_DF\n",
    "# INF_DF_1.to_pickle(\"/Users/joezhou/Downloads/Investment/1 data/R_ALL_INFO_1.pkl\")\n",
    "# End with CVV\n",
    "\n",
    "# for company in TICKER_ALL_2:\n",
    "#    Info_Extract(company)\n",
    "# INF_DF_2 = INF_DF\n",
    "# INF_DF_2.to_pickle(\"/Users/joezhou/Downloads/Investment/1 data/R_ALL_INFO_2.pkl\")\n",
    "# End with KOB\n",
    "\n",
    "# for company in TICKER_ALL_3:\n",
    "#    Info_Extract(company)\n",
    "# INF_DF_3 = INF_DF\n",
    "# INF_DF_3.to_pickle(\"/Users/joezhou/Downloads/Investment/1 data/R_ALL_INFO_3.pkl\")\n",
    "# End with R8R\n",
    "\n",
    "# for company in TICKER_ALL_4:\n",
    "#    Info_Extract(company)\n",
    "# INF_DF_4 = INF_DF\n",
    "# INF_DF_4.to_pickle(\"/Users/joezhou/Downloads/Investment/1 data/R_ALL_INFO_4.pkl\")\n",
    "# End with ZOR\n",
    "\n",
    "# INF_DF_Master = pd.concat([INF_DF_1, INF_DF_2, INF_DF_3, INF_DF_4], ignore_index=True)\n",
    "# INF_DF_Master.to_pickle(\"/Users/joezhou/Downloads/Investment/1 data/R_ALL_INFO.pkl\")\n",
    "\n",
    "\n",
    "\n"
   ]
  },
  {
   "cell_type": "code",
   "execution_count": null,
   "metadata": {},
   "outputs": [],
   "source": [
    "from datetime import datetime as dt\n",
    "dte = dt.now().strftime('%Y%m%d')\n",
    "fname = \"/Users/joezhou/Downloads/RAW_INFO{}.xlsx\".format(dte)\n",
    "INF_DF.to_excel(fname)"
   ]
  },
  {
   "cell_type": "code",
   "execution_count": null,
   "metadata": {},
   "outputs": [],
   "source": [
    "tick_test = yf.Ticker('CBA.AX')\n",
    "\n",
    "tick_test.income_stmt\n",
    "        "
   ]
  },
  {
   "cell_type": "code",
   "execution_count": null,
   "metadata": {
    "tags": []
   },
   "outputs": [],
   "source": [
    "#Download part 2: financial data\n",
    "\n",
    "FINANCIALS_DF = pd.DataFrame()\n",
    "\n",
    "def Financials_Extract(TickName):\n",
    "    global FINANCIALS_DF\n",
    "    try:\n",
    "        tick = yf.Ticker(TickName) \n",
    "        \n",
    "        #income statement\n",
    "        FIN_OG = tick.financials\n",
    "        FIN_OG2 = FIN_OG.reset_index()\n",
    "        FIN_OG2.rename(columns = {'index':'Metric'}, inplace = True)\n",
    "        FIN_OG3=FIN_OG2.melt(id_vars=[\"Metric\"],var_name=\"Date\",value_name=\"Value\")\n",
    "        FIN_OG3['TickName']=TickName\n",
    "        FIN_OG3['Financial Data Type']=\"Income Statement\"\n",
    "        \n",
    "        FINANCIALS_DF = FINANCIALS_DF.append(FIN_OG3, ignore_index=True)\n",
    "         \n",
    "        #balance sheet\n",
    "        BS_OG = tick.balance_sheet\n",
    "        BS_OG2 = BS_OG.reset_index()\n",
    "        BS_OG2.rename(columns = {'index':'Metric'}, inplace = True)\n",
    "        BS_OG3=BS_OG2.melt(id_vars=[\"Metric\"],var_name=\"Date\",value_name=\"Value\")\n",
    "        BS_OG3['TickName']=TickName\n",
    "        BS_OG3['Financial Data Type']=\"Balance Sheet\"\n",
    "        \n",
    "        FINANCIALS_DF = FINANCIALS_DF.append(BS_OG3, ignore_index=True)\n",
    "        \n",
    "        #cashflow\n",
    "        CF_OG = tick.cashflow\n",
    "        CF_OG2 = CF_OG.reset_index()\n",
    "        CF_OG2.rename(columns = {'index':'Metric'}, inplace = True)\n",
    "        CF_OG3=CF_OG2.melt(id_vars=[\"Metric\"],var_name=\"Date\",value_name=\"Value\")\n",
    "        CF_OG3['TickName']=TickName\n",
    "        CF_OG3['Financial Data Type']=\"Cashflow\"\n",
    "        \n",
    "        FINANCIALS_DF = FINANCIALS_DF.append(CF_OG3, ignore_index=True)\n",
    "        \n",
    "            \n",
    "        print(\"finished Financial:\",TickName)\n",
    "        \n",
    "    except Exception:\n",
    "        print(\"Error with Financial:\",TickName)\n",
    "        pass\n",
    "\n",
    "    return()\n",
    "\n",
    "# download all at once\n",
    "for company in TICKER_ALL:\n",
    "   Financials_Extract(company)\n",
    "\n",
    "\n",
    "#  download partial\n",
    "# for company in TICKER_ALL_1:\n",
    "#    Financials_Extract(company)\n",
    "# FINANCIALS_DF_1 = FINANCIALS_DF\n",
    "# FINANCIALS_DF_1.to_pickle(\"/Users/joezhou/Downloads/Investment/1 data/R_ALL_FIN_1.pkl\")\n",
    "# last run - 15mins\n",
    "\n",
    "# for company in TICKER_ALL_2:\n",
    "#    Financials_Extract(company)\n",
    "# FINANCIALS_DF_2 = FINANCIALS_DF\n",
    "# FINANCIALS_DF_2.to_pickle(\"/Users/joezhou/Downloads/Investment/1 data/R_ALL_FIN_2.pkl\")\n",
    "#last run - 12mins\n",
    "\n",
    "# for company in TICKER_ALL_3:\n",
    "#    Financials_Extract(company)\n",
    "# FINANCIALS_DF_3 = FINANCIALS_DF\n",
    "# FINANCIALS_DF_3.to_pickle(\"/Users/joezhou/Downloads/Investment/1 data/R_ALL_FIN_3.pkl\")\n",
    "#last run - 15mins\n",
    "\n",
    "# for company in TICKER_ALL_4:\n",
    "#    Financials_Extract(company)\n",
    "# FINANCIALS_DF_4 = FINANCIALS_DF\n",
    "# FINANCIALS_DF_4.to_pickle(\"/Users/joezhou/Downloads/Investment/1 data/R_ALL_FIN_4.pkl\")\n",
    "# last run - 11mins\n",
    "\n",
    "# INF_DF_Master = pd.concat([FINANCIALS_DF_1, FINANCIALS_DF_2, FINANCIALS_DF_3, FINANCIALS_DF_4], ignore_index=True)\n",
    "# INF_DF_Master.to_pickle(\"/Users/joezhou/Downloads/Investment/1 data/R_ALL_FIN.pkl\")\n",
    "\n",
    "for company in TICKER_ALL:\n",
    "    Financials_Extract(company)\n",
    "FINANCIALS_DF.to_pickle(\"/Users/joezhou/Downloads/Investment/1 data/R_ALL_FIN.pkl\")\n",
    "\n",
    "# last download was 87mins"
   ]
  },
  {
   "cell_type": "code",
   "execution_count": null,
   "metadata": {},
   "outputs": [],
   "source": [
    "# note: 3 is partial\n",
    "# FINANCIALS_DF_3 = FINANCIALS_DF\n",
    "# FINANCIALS_DF_3.to_pickle(\"/Users/joezhou/Downloads/Investment/1 data/R_ALL_FIN_3.pkl\")\n",
    "\n",
    "FINANCIALS_DF_4 = FINANCIALS_DF\n",
    "FINANCIALS_DF_4.to_pickle(\"/Users/joezhou/Downloads/Investment/1 data/R_ALL_FIN_4.pkl\")"
   ]
  },
  {
   "cell_type": "code",
   "execution_count": null,
   "metadata": {
    "tags": []
   },
   "outputs": [],
   "source": [
    "#Download part 3: Download historical share prices\n",
    "HIST_PRICE_DF = pd.DataFrame()\n",
    "\n",
    "def Prices_Extract(TickName):\n",
    "    \n",
    "    global HIST_PRICE_DF\n",
    "\n",
    "    try:\n",
    "        tick = yf.Ticker(TickName) \n",
    "        \n",
    "        hist_p = tick.history(period=\"12mo\")\n",
    "        hist_p2 = hist_p.reset_index()\n",
    "        hist_p2.rename(columns = {'index':'Metric'}, inplace = True)\n",
    "        \n",
    "        hist_p2['TickName']=TickName\n",
    "\n",
    "        HIST_PRICE_DF = HIST_PRICE_DF.append(hist_p2, ignore_index=True)\n",
    "        \n",
    "            \n",
    "        print(\"finished Price:\",TickName)\n",
    "        \n",
    "    except Exception:\n",
    "        print(\"Error with Price:\",TickName)\n",
    "        pass\n",
    "\n",
    "    return()\n",
    "\n",
    "\n",
    "for company in TICKER_ALL:\n",
    "    Prices_Extract(company)\n",
    "\n",
    "# HIST_PRICE_DF.to_pickle(\"/Users/joezhou/Downloads/Investment/1 data/R_ALL_Prices.pkl\")\n",
    "# last download time was 20 mins"
   ]
  },
  {
   "cell_type": "code",
   "execution_count": null,
   "metadata": {},
   "outputs": [],
   "source": [
    "HIST_PRICE_DF.to_pickle(\"/Users/joezhou/Downloads/Investment/1 data/R_ALL_Prices.pkl\")\n"
   ]
  },
  {
   "cell_type": "code",
   "execution_count": null,
   "metadata": {
    "tags": []
   },
   "outputs": [],
   "source": [
    "#Part 4: historical dividend information\n",
    "\n",
    "#DIV = tick.dividends  \n",
    "\n",
    "\n",
    "HIST_DIV_DF = pd.DataFrame()\n",
    "\n",
    "def Dividend_Extract(TickName):\n",
    "    global HIST_DIV_DF\n",
    "    try:\n",
    "        tick = yf.Ticker(TickName) \n",
    "        \n",
    "        #income statement\n",
    "        DIV_OG = tick.dividends\n",
    "        DIV_OG2 = DIV_OG.reset_index()\n",
    "        DIV_OG2.rename(columns = {'index':'Metric'}, inplace = True)\n",
    "        DIV_OG2['TickName']=TickName\n",
    "        \n",
    "        HIST_DIV_DF = HIST_DIV_DF.append(DIV_OG2, ignore_index=True)\n",
    "        \n",
    "            \n",
    "        print(\"finished Dividend\",TickName)\n",
    "        \n",
    "    except Exception:\n",
    "        print(\"Error with Dividend\",TickName)\n",
    "\n",
    "        pass\n",
    "\n",
    "    return()\n",
    "\n",
    "for company in TICKER_ALL:\n",
    "   Dividend_Extract(company)\n",
    "\n",
    "HIST_DIV_DF.to_pickle(\"/Users/joezhou/Downloads/Investment/1 data/R_ALL_DIV.pkl\")\n",
    "\n",
    "# last download time was 19 mins"
   ]
  },
  {
   "cell_type": "code",
   "execution_count": null,
   "metadata": {},
   "outputs": [],
   "source": [
    "#Inject data into SQL lite database or some kind of clouud database"
   ]
  },
  {
   "cell_type": "code",
   "execution_count": null,
   "metadata": {},
   "outputs": [],
   "source": [
    "#Insert data\n",
    "#DF_SHORT.to_sql('test', db_sql, if_exists='replace')\n",
    "\n",
    "#pd.read_sql('select * from test', db_sql)"
   ]
  },
  {
   "cell_type": "code",
   "execution_count": null,
   "metadata": {},
   "outputs": [],
   "source": [
    "# pip install yfinance==0.1.62\n",
    "\n",
    "# ticker = yf.Ticker('AAPL')\n",
    "# aapl_df = ticker.history(period=\"1y\")\n",
    "# aapl_df['Close'].plot(title=\"APPLE's stock price\")\n",
    "\n",
    "# aapl_df = yf.download('AAPL', \n",
    "                    #   start='2022-01-01', \n",
    "                    #   end='2022-03-16', \n",
    "                    #   progress=False,\n",
    "# )\n",
    "# aapl_df.head()"
   ]
  },
  {
   "cell_type": "code",
   "execution_count": 27,
   "metadata": {},
   "outputs": [
    {
     "data": {
      "text/plain": [
       "Date\n",
       "1992-04-03 00:00:00+10:00    0.200195\n",
       "1992-10-01 00:00:00+10:00    0.200195\n",
       "1993-04-02 00:00:00+10:00    0.200195\n",
       "1993-09-29 00:00:00+10:00    0.220215\n",
       "1994-03-31 00:00:00+10:00    0.240234\n",
       "                               ...   \n",
       "2023-02-22 00:00:00+11:00    2.100000\n",
       "2023-08-16 00:00:00+10:00    2.400000\n",
       "2024-02-21 00:00:00+11:00    2.150000\n",
       "2024-08-21 00:00:00+10:00    2.500000\n",
       "2025-02-19 00:00:00+11:00    2.250000\n",
       "Name: Dividends, Length: 67, dtype: float64"
      ]
     },
     "execution_count": 27,
     "metadata": {},
     "output_type": "execute_result"
    }
   ],
   "source": [
    "sample = yf.Ticker('CBA.AX')\n",
    "\n",
    "sample.dividends"
   ]
  },
  {
   "cell_type": "code",
   "execution_count": 26,
   "metadata": {},
   "outputs": [
    {
     "name": "stdout",
     "output_type": "stream",
     "text": [
      "['14D.AX', '1AD.AX', '1AE.AX', '1AI.AX', '1CG.AX', '1MC.AX', '1TT.AX', '29M.AX', '360.AX', '3DA.AX', '3DP.AX', '3PL.AX', '4DS.AX', '4DX.AX', '5EA.AX', '5GG.AX', '5GN.AX', '88E.AX', '8CO.AX', '8IH.AX', 'A11.AX', 'A1G.AX', 'A1M.AX', 'A1N.AX', 'A2M.AX', 'A3D.AX', 'A4N.AX', 'A8G.AX', 'AAC.AX', 'AAI.AX', 'AAJ.AX', 'AAL.AX', 'AAM.AX', 'AAP.AX', 'AAR.AX', 'AAU.AX', 'ABB.AX', 'ABE.AX', 'ABG.AX', 'ABV.AX', 'ABX.AX', 'ABY.AX', 'ACE.AX', 'ACF.AX', 'ACL.AX', 'ACM.AX', 'ACP.AX', 'ACQ.AX', 'ACR.AX', 'ACS.AX', 'ACU.AX', 'ACW.AX', 'AD1.AX', 'AD8.AX', 'ADC.AX', 'ADD.AX', 'ADG.AX', 'ADH.AX', 'ADN.AX', 'ADO.AX', 'ADR.AX', 'ADS.AX', 'ADT.AX', 'ADV.AX', 'ADX.AX', 'ADY.AX', 'AEE.AX', 'AEF.AX', 'AEI.AX', 'AEL.AX', 'AER.AX', 'AEV.AX', 'AF3.AX', 'AF4.AX', 'AFA.AX', 'AFG.AX', 'AFI.AX', 'AFL.AX', 'AFP.AX', 'AFT.AX', 'AGC.AX', 'AGD.AX', 'AGE.AX', 'AGH.AX', 'AGI.AX', 'AGL.AX', 'AGN.AX', 'AGR.AX', 'AGY.AX', 'AHC.AX', 'AHF.AX', 'AHI.AX', 'AHK.AX', 'AHL.AX', 'AHN.AX', 'AHX.AX', 'AI1.AX', 'AIA.AX', 'AII.AX', 'AIM.AX', 'AIQ.AX', 'AIS.AX', 'AIV.AX', 'AIZ.AX', 'AJL.AX', 'AJX.AX', 'AKA.AX', 'AKG.AX', 'AKM.AX', 'AKN.AX', 'AKO.AX', 'AKP.AX', 'AL3.AX', 'ALA.AX', 'ALB.AX', 'ALC.AX', 'ALD.AX', 'ALI.AX', 'ALK.AX', 'ALL.AX', 'ALM.AX', 'ALQ.AX', 'ALR.AX', 'ALV.AX', 'ALX.AX', 'ALY.AX', 'AM5.AX', 'AM7.AX', 'AMA.AX', 'AMC.AX', 'AMD.AX', 'AMH.AX', 'AMI.AX', 'AML.AX', 'AMN.AX', 'AMO.AX', 'AMP.AX', 'AMS.AX', 'AMX.AX', 'AN1.AX', 'AN3.AX', 'ANG.AX', 'ANN.AX', 'ANO.AX', 'ANR.AX', 'ANV.AX', 'ANX.AX', 'ANZ.AX', 'AO1.AX', 'AO2.AX', 'AO3.AX', 'AOA.AX', 'AOF.AX', 'AOH.AX', 'AOK.AX', 'AOL.AX', 'AON.AX', 'AOV.AX', 'AP2.AX', 'APA.AX', 'APC.AX', 'APE.AX', 'APL.AX', 'APW.AX', 'APX.AX', 'APZ.AX', 'AQC.AX', 'AQD.AX', 'AQI.AX', 'AQN.AX', 'AQX.AX', 'AQZ.AX', 'AR1.AX', 'AR3.AX', 'AR9.AX', 'ARA.AX', 'ARB.AX', 'ARC.AX', 'ARD.AX', 'ARF.AX', 'ARG.AX', 'ARI.AX', 'ARL.AX', 'ARN.AX', 'ARR.AX', 'ART.AX', 'ARU.AX', 'ARV.AX', 'ARX.AX', 'AS1.AX', 'AS2.AX', 'ASB.AX', 'ASE.AX', 'ASG.AX', 'ASH.AX', 'ASK.AX', 'ASL.AX', 'ASM.AX', 'ASN.AX', 'ASO.AX', 'ASP.AX', 'ASQ.AX', 'ASR.AX', 'ASV.AX', 'ASX.AX', 'AT1.AX', 'ATA.AX', 'ATB.AX', 'ATC.AX', 'ATG.AX', 'ATH.AX', 'ATM.AX', 'ATP.AX', 'ATR.AX', 'ATS.AX', 'ATV.AX', 'ATX.AX', 'AU1.AX', 'AUA.AX', 'AUB.AX', 'AUC.AX', 'AUE.AX', 'AUG.AX', 'AUH.AX', 'AUI.AX', 'AUK.AX', 'AUN.AX', 'AUQ.AX', 'AUR.AX', 'AUZ.AX', 'AV1.AX', 'AVA.AX', 'AVC.AX', 'AVD.AX', 'AVE.AX', 'AVG.AX', 'AVH.AX', 'AVJ.AX', 'AVL.AX', 'AVM.AX', 'AVR.AX', 'AVW.AX', 'AW1.AX', 'AWJ.AX', 'AX1.AX', 'AX8.AX', 'AXE.AX', 'AXI.AX', 'AXL.AX', 'AXN.AX', 'AXP.AX', 'AYA.AX', 'AYI.AX', 'AYM.AX', 'AYT.AX', 'AYU.AX', 'AZ9.AX', 'AZI.AX', 'AZJ.AX', 'AZL.AX', 'AZY.AX', 'B01.AX', 'B4P.AX', 'BA2.AX', 'BAP.AX', 'BAS.AX', 'BB1.AX', 'BBC.AX', 'BBL.AX', 'BBN.AX', 'BBT.AX', 'BC8.AX', 'BCA.AX', 'BCB.AX', 'BCC.AX', 'BCI.AX', 'BCK.AX', 'BCM.AX', 'BCN.AX', 'BCT.AX', 'BDG.AX', 'BDM.AX', 'BDT.AX', 'BDX.AX', 'BEL.AX', 'BEN.AX', 'BEO.AX', 'BET.AX', 'BEZ.AX', 'BFC.AX', 'BFG.AX', 'BFL.AX', 'BGA.AX', 'BGD.AX', 'BGE.AX', 'BGL.AX', 'BGP.AX', 'BGT.AX', 'BHD.AX', 'BHP.AX', 'BIM.AX', 'BIO.AX', 'BIS.AX', 'BIT.AX', 'BKI.AX', 'BKT.AX', 'BKW.AX', 'BKY.AX', 'BLG.AX', 'BLU.AX', 'BLX.AX', 'BLZ.AX', 'BM8.AX', 'BMG.AX', 'BMH.AX', 'BML.AX', 'BMM.AX', 'BMN.AX', 'BMO.AX', 'BMR.AX', 'BMT.AX', 'BNL.AX', 'BNR.AX', 'BNZ.AX', 'BOA.AX', 'BOC.AX', 'BOD.AX', 'BOE.AX', 'BOL.AX', 'BOQ.AX', 'BOT.AX', 'BP1.AX', 'BP8.AX', 'BPH.AX', 'BPM.AX', 'BPP.AX', 'BPT.AX', 'BRE.AX', 'BRG.AX', 'BRI.AX', 'BRK.AX', 'BRL.AX', 'BRN.AX', 'BRU.AX', 'BRX.AX', 'BS1.AX', 'BSA.AX', 'BSL.AX', 'BSN.AX', 'BSX.AX', 'BTC.AX', 'BTE.AX', 'BTH.AX', 'BTI.AX', 'BTM.AX', 'BTN.AX', 'BTR.AX', 'BUB.AX', 'BUR.AX', 'BUS.AX', 'BUX.AX', 'BUY.AX', 'BVR.AX', 'BVS.AX', 'BWF.AX', 'BWN.AX', 'BWP.AX', 'BXB.AX', 'BXN.AX', 'BYH.AX', 'C1X.AX', 'C29.AX', 'C2F.AX', 'C79.AX', 'C7A.AX', 'CAA.AX', 'CAE.AX', 'CAF.AX', 'CAG.AX', 'CAM.AX', 'CAN.AX', 'CAQ.AX', 'CAR.AX', 'CAT.AX', 'CAV.AX', 'CAY.AX', 'CAZ.AX', 'CBA.AX', 'CBE.AX', 'CBH.AX', 'CBL.AX', 'CBO.AX', 'CBY.AX', 'CC5.AX', 'CC9.AX', 'CCA.AX', 'CCE.AX', 'CCG.AX', 'CCL.AX', 'CCM.AX', 'CCO.AX', 'CCP.AX', 'CCR.AX', 'CCV.AX', 'CCX.AX', 'CD1.AX', 'CD2.AX', 'CD3.AX', 'CDA.AX', 'CDE.AX', 'CDM.AX', 'CDO.AX', 'CDP.AX', 'CDR.AX', 'CDT.AX', 'CDX.AX', 'CEH.AX', 'CEL.AX', 'CEN.AX', 'CF1.AX', 'CG1.AX', 'CGF.AX', 'CGO.AX', 'CGR.AX', 'CGS.AX', 'CHC.AX', 'CHL.AX', 'CHM.AX', 'CHN.AX', 'CHR.AX', 'CHW.AX', 'CI1.AX', 'CIA.AX', 'CIN.AX', 'CIP.AX', 'CIW.AX', 'CKA.AX', 'CKF.AX', 'CL8.AX', 'CLA.AX', 'CLE.AX', 'CLG.AX', 'CLU.AX', 'CLV.AX', 'CLW.AX', 'CLX.AX', 'CLZ.AX', 'CMB.AX', 'CMD.AX', 'CMG.AX', 'CML.AX', 'CMM.AX', 'CMO.AX', 'CMP.AX', 'CMW.AX', 'CMX.AX', 'CNB.AX', 'CND.AX', 'CNI.AX', 'CNJ.AX', 'CNQ.AX', 'CNU.AX', 'COB.AX', 'COD.AX', 'COF.AX', 'COG.AX', 'COH.AX', 'COI.AX', 'COL.AX', 'COS.AX', 'COV.AX', 'COY.AX', 'CP8.AX', 'CPL.AX', 'CPM.AX', 'CPN.AX', 'CPO.AX', 'CPU.AX', 'CPV.AX', 'CQE.AX', 'CQR.AX', 'CR1.AX', 'CR3.AX', 'CR9.AX', 'CRB.AX', 'CRD.AX', 'CRI.AX', 'CRN.AX', 'CRR.AX', 'CRS.AX', 'CSC.AX', 'CSL.AX', 'CSS.AX', 'CST.AX', 'CSX.AX', 'CT1.AX', 'CTD.AX', 'CTE.AX', 'CTM.AX', 'CTN.AX', 'CTO.AX', 'CTP.AX', 'CTQ.AX', 'CTT.AX', 'CU6.AX', 'CUE.AX', 'CUF.AX', 'CUL.AX', 'CUP.AX', 'CUS.AX', 'CUV.AX', 'CVB.AX', 'CVC.AX', 'CVL.AX', 'CVN.AX', 'CVR.AX', 'CVV.AX', 'CVW.AX', 'CWP.AX', 'CWX.AX', 'CWY.AX', 'CXL.AX', 'CXM.AX', 'CXO.AX', 'CXU.AX', 'CXZ.AX', 'CY5.AX', 'CYB.AX', 'CYC.AX', 'CYG.AX', 'CYL.AX', 'CYM.AX', 'CYP.AX', 'CYQ.AX', 'CZN.AX', 'CZR.AX', 'D10.AX', 'D2O.AX', 'D3E.AX', 'DA8.AX', 'DA9.AX', 'DAF.AX', 'DAI.AX', 'DAL.AX', 'DAM.AX', 'DAT.AX', 'DBF.AX', 'DBI.AX', 'DBO.AX', 'DCC.AX', 'DDB.AX', 'DDR.AX', 'DDT.AX', 'DEG.AX', 'DEL.AX', 'DEM.AX', 'DES.AX', 'DEV.AX', 'DGH.AX', 'DGL.AX', 'DGR.AX', 'DGT.AX', 'DHG.AX', 'DJW.AX', 'DKM.AX', 'DLI.AX', 'DM1.AX', 'DME.AX', 'DMG.AX', 'DMM.AX', 'DMP.AX', 'DN1.AX', 'DNA.AX', 'DNL.AX', 'DOC.AX', 'DOW.AX', 'DRE.AX', 'DRO.AX', 'DRR.AX', 'DRX.AX', 'DSE.AX', 'DSK.AX', 'DTI.AX', 'DTL.AX', 'DTM.AX', 'DTR.AX', 'DTZ.AX', 'DUB.AX', 'DUG.AX', 'DUI.AX', 'DUN.AX', 'DUR.AX', 'DVL.AX', 'DVP.AX', 'DWG.AX', 'DXA.AX', 'DXB.AX', 'DXC.AX', 'DXI.AX', 'DXN.AX', 'DXS.AX', 'DY6.AX', 'DYL.AX', 'DYM.AX', 'E25.AX', 'E79.AX', 'EAT.AX', 'EAX.AX', 'EBO.AX', 'EBR.AX', 'ECF.AX', 'ECH.AX', 'ECL.AX', 'ECP.AX', 'ECS.AX', 'ECT.AX', 'EDC.AX', 'EDE.AX', 'EDU.AX', 'EDV.AX', 'EE1.AX', 'EEG.AX', 'EEL.AX', 'EFE.AX', 'EG1.AX', 'EGG.AX', 'EGH.AX', 'EGL.AX', 'EGN.AX', 'EGR.AX', 'EGY.AX', 'EHL.AX', 'EIQ.AX', 'EL8.AX', 'ELD.AX', 'ELS.AX', 'ELT.AX', 'EM2.AX', 'EMB.AX', 'EMC.AX', 'EMD.AX', 'EME.AX', 'EMH.AX', 'EMI.AX', 'EML.AX', 'EMN.AX', 'EMP.AX', 'EMR.AX', 'EMS.AX', 'EMT.AX', 'EMU.AX', 'EMV.AX', 'ENL.AX', 'ENN.AX', 'ENR.AX', 'ENT.AX', 'ENV.AX', 'ENX.AX', 'EOF.AX', 'EOL.AX', 'EOS.AX', 'EPM.AX', 'EPN.AX', 'EPX.AX', 'EPY.AX', 'EQN.AX', 'EQR.AX', 'EQS.AX', 'EQT.AX', 'EQX.AX', 'ERA.AX', 'ERD.AX', 'ERG.AX', 'ERL.AX', 'ERM.AX', 'ERW.AX', 'ESK.AX', 'ESR.AX', 'ETM.AX', 'ETR.AX', 'EUR.AX', 'EV1.AX', 'EVE.AX', 'EVG.AX', 'EVN.AX', 'EVO.AX', 'EVR.AX', 'EVS.AX', 'EVT.AX', 'EVZ.AX', 'EWC.AX', 'EXL.AX', 'EXP.AX', 'EXR.AX', 'EXT.AX', 'EYE.AX', 'EZL.AX', 'EZZ.AX', 'FA1.AX', 'FAL.AX', 'FAR.AX', 'FAU.AX', 'FBM.AX', 'FBR.AX', 'FBU.AX', 'FCG.AX', 'FCL.AX', 'FCT.AX', 'FDR.AX', 'FDV.AX', 'FEG.AX', 'FEX.AX', 'FFF.AX', 'FFG.AX', 'FFI.AX', 'FFM.AX', 'FG1.AX', 'FGG.AX', 'FGH.AX', 'FGR.AX', 'FGX.AX', 'FHE.AX', 'FHS.AX', 'FID.AX', 'FIN.AX', 'FL1.AX', 'FLC.AX', 'FLG.AX', 'FLN.AX', 'FLT.AX', 'FLX.AX', 'FM1.AX', 'FM2.AX', 'FM3.AX', 'FM4.AX', 'FM5.AX', 'FME.AX', 'FMG.AX', 'FML.AX', 'FMR.AX', 'FND.AX', 'FNR.AX', 'FNX.AX', 'FOS.AX', 'FPC.AX', 'FPH.AX', 'FPP.AX', 'FPR.AX', 'FRB.AX', 'FRE.AX', 'FRI.AX', 'FRM.AX', 'FRS.AX', 'FRW.AX', 'FRX.AX', 'FSA.AX', 'FSG.AX', 'FSI.AX', 'FTC.AX', 'FTL.AX', 'FUL.AX', 'FWD.AX', 'FXG.AX', 'FZR.AX', 'G11.AX', 'G50.AX', 'G6M.AX', 'G88.AX', 'GAL.AX', 'GAP.AX', 'GAS.AX', 'GBE.AX', 'GBR.AX', 'GBZ.AX', 'GC1.AX', 'GCI.AX', 'GCM.AX', 'GCR.AX', 'GDC.AX', 'GDF.AX', 'GDG.AX', 'GDI.AX', 'GDM.AX', 'GED.AX', 'GEM.AX', 'GEN.AX', 'GES.AX', 'GFL.AX', 'GG8.AX', 'GGE.AX', 'GGX.AX', 'GHM.AX', 'GHY.AX', 'GIB.AX', 'GL1.AX', 'GLA.AX', 'GLB.AX', 'GLE.AX', 'GLH.AX', 'GLL.AX', 'GLN.AX', 'GMD.AX', 'GMG.AX', 'GML.AX', 'GMN.AX', 'GNC.AX', 'GNE.AX', 'GNG.AX', 'GNM.AX', 'GNP.AX', 'GO2.AX', 'GOR.AX', 'GOW.AX', 'GOZ.AX', 'GPR.AX', 'GPT.AX', 'GQG.AX', 'GR8.AX', 'GRE.AX', 'GRL.AX', 'GRR.AX', 'GRV.AX', 'GRX.AX', 'GSM.AX', 'GSN.AX', 'GSS.AX', 'GT1.AX', 'GT3.AX', 'GTE.AX', 'GTG.AX', 'GTH.AX', 'GTI.AX', 'GTK.AX', 'GTN.AX', 'GTR.AX', 'GUE.AX', 'GUL.AX', 'GUM.AX', 'GVF.AX', 'GW1.AX', 'GWA.AX', 'GWR.AX', 'GYG.AX', 'H2G.AX', 'HAL.AX', 'HAR.AX', 'HAS.AX', 'HAV.AX', 'HAW.AX', 'HCD.AX', 'HCF.AX', 'HCH.AX', 'HCL.AX', 'HCT.AX', 'HCW.AX', 'HDN.AX', 'HE8.AX', 'HFR.AX', 'HFY.AX', 'HGH.AX', 'HGL.AX', 'HGO.AX', 'HHR.AX', 'HIO.AX', 'HIQ.AX', 'HIT.AX', 'HLI.AX', 'HLO.AX', 'HLS.AX', 'HLX.AX', 'HM1.AX', 'HMC.AX', 'HMD.AX', 'HMG.AX', 'HMI.AX', 'HMX.AX', 'HMY.AX', 'HNG.AX', 'HOR.AX', 'HPC.AX', 'HPG.AX', 'HPP.AX', 'HPR.AX', 'HRE.AX', 'HRN.AX', 'HRZ.AX', 'HSN.AX', 'HT8.AX', 'HTA.AX', 'HTG.AX', 'HTM.AX', 'HUB.AX', 'HUM.AX', 'HVN.AX', 'HVY.AX', 'HWK.AX', 'HXL.AX', 'HYD.AX', 'HYT.AX', 'HZN.AX', 'HZR.AX', 'I88.AX', 'IAG.AX', 'IAM.AX', 'IBC.AX', 'IBX.AX', 'ICE.AX', 'ICG.AX', 'ICI.AX', 'ICL.AX', 'ICN.AX', 'ICR.AX', 'ICU.AX', 'ID8.AX', 'IDA.AX', 'IDT.AX', 'IDX.AX', 'IEL.AX', 'IEQ.AX', 'IF1.AX', 'IFG.AX', 'IFL.AX', 'IFM.AX', 'IFT.AX', 'IFX.AX', 'IG6.AX', 'IGL.AX', 'IGN.AX', 'IGO.AX', 'IIQ.AX', 'IKE.AX', 'ILA.AX', 'ILT.AX', 'ILU.AX', 'IMA.AX', 'IMB.AX', 'IMC.AX', 'IMD.AX', 'IME.AX', 'IMI.AX', 'IMM.AX', 'IMR.AX', 'IMU.AX', 'INA.AX', 'IND.AX', 'INF.AX', 'ING.AX', 'INR.AX', 'INV.AX', 'IOD.AX', 'ION.AX', 'IPB.AX', 'IPC.AX', 'IPD.AX', 'IPG.AX', 'IPH.AX', 'IPT.AX', 'IPX.AX', 'IR1.AX', 'IRD.AX', 'IRE.AX', 'IRI.AX', 'IRX.AX', 'IS3.AX', 'ITM.AX', 'IVG.AX', 'IVR.AX', 'IVT.AX', 'IVX.AX', 'IVZ.AX', 'IXC.AX', 'IXR.AX', 'JAL.AX', 'JAN.AX', 'JAT.AX', 'JAV.AX', 'JAY.AX', 'JBH.AX', 'JBY.AX', 'JCS.AX', 'JDO.AX', 'JGH.AX', 'JHX.AX', 'JIN.AX', 'JLG.AX', 'JLL.AX', 'JMS.AX', 'JNO.AX', 'JPR.AX', 'JRV.AX', 'JYC.AX', 'KAI.AX', 'KAL.AX', 'KAM.AX', 'KAR.AX', 'KAT.AX', 'KAU.AX', 'KBC.AX', 'KCC.AX', 'KCN.AX', 'KEY.AX', 'KFM.AX', 'KFW.AX', 'KGD.AX', 'KGL.AX', 'KGN.AX', 'KI1.AX', 'KIG.AX', 'KKC.AX', 'KKO.AX', 'KLI.AX', 'KLL.AX', 'KLR.AX', 'KLS.AX', 'KM1.AX', 'KMD.AX', 'KME.AX', 'KNB.AX', 'KNG.AX', 'KNI.AX', 'KNM.AX', 'KNO.AX', 'KOB.AX', 'KOR.AX', 'KOV.AX', 'KP2.AX', 'KPG.AX', 'KPO.AX', 'KRM.AX', 'KRR.AX', 'KSC.AX', 'KSL.AX', 'KSN.AX', 'KTA.AX', 'KYP.AX', 'KZR.AX', 'L1M.AX', 'LAM.AX', 'LAT.AX', 'LAU.AX', 'LAW.AX', 'LBL.AX', 'LCE.AX', 'LCL.AX', 'LCN.AX', 'LCY.AX', 'LDR.AX', 'LDX.AX', 'LEG.AX', 'LEL.AX', 'LEX.AX', 'LFG.AX', 'LFS.AX', 'LGI.AX', 'LGL.AX', 'LGM.AX', 'LGP.AX', 'LHM.AX', 'LI8.AX', 'LI9.AX', 'LIC.AX', 'LIN.AX', 'LIO.AX', 'LIS.AX', 'LIT.AX', 'LKE.AX', 'LKO.AX', 'LKY.AX', 'LLC.AX', 'LLI.AX', 'LLL.AX', 'LM1.AX', 'LM8.AX', 'LMG.AX', 'LML.AX', 'LMS.AX', 'LN1.AX', 'LN2.AX', 'LN3.AX', 'LNR.AX', 'LNU.AX', 'LNW.AX', 'LO1.AX', 'LOM.AX', 'LOT.AX', 'LOV.AX', 'LP1.AX', 'LPD.AX', 'LPE.AX', 'LPM.AX', 'LR1.AX', 'LR3.AX', 'LR4.AX', 'LR5.AX', 'LRD.AX', 'LRK.AX', 'LRT.AX', 'LRV.AX', 'LSA.AX', 'LSF.AX', 'LSR.AX', 'LSX.AX', 'LT8.AX', 'LT9.AX', 'LTP.AX', 'LTR.AX', 'LU7.AX', 'LVE.AX', 'LYC.AX', 'LYK.AX', 'LYL.AX', 'M24.AX', 'M2M.AX', 'M2R.AX', 'M3M.AX', 'M4M.AX', 'M7T.AX', 'MA1.AX', 'MAC.AX', 'MAD.AX', 'MAF.AX', 'MAG.AX', 'MAH.AX', 'MAM.AX', 'MAN.AX', 'MAP.AX', 'MAQ.AX', 'MAT.AX', 'MAU.AX', 'MAY.AX', 'MBH.AX', 'MBK.AX', 'MBL.AX', 'MBX.AX', 'MC2.AX', 'MCA.AX', 'MCE.AX', 'MCM.AX', 'MCO.AX', 'MCP.AX', 'MCY.AX', 'MDI.AX', 'MDR.AX', 'MDX.AX', 'MEC.AX', 'MEG.AX', 'MEI.AX', 'MEK.AX', 'MEL.AX', 'MEM.AX', 'MEU.AX', 'MEZ.AX', 'MF1.AX', 'MF2.AX', 'MF3.AX', 'MF4.AX', 'MFD.AX', 'MFF.AX', 'MFG.AX', 'MGA.AX', 'MGH.AX', 'MGL.AX', 'MGR.AX', 'MGT.AX', 'MGU.AX', 'MGX.AX', 'MHC.AX', 'MHI.AX', 'MHJ.AX', 'MHK.AX', 'MHM.AX', 'MI6.AX', 'MIN.AX', 'MIO.AX', 'MIR.AX', 'MKL.AX', 'MKR.AX', 'MLG.AX', 'MLS.AX', 'MLX.AX', 'MM1.AX', 'MM2.AX', 'MM8.AX', 'MMA.AX', 'MME.AX', 'MMI.AX', 'MML.AX', 'MMR.AX', 'MMS.AX', 'MNB.AX', 'MNC.AX', 'MND.AX', 'MNS.AX', 'MOH.AX', 'MOM.AX', 'MOT.AX', 'MOV.AX', 'MOZ.AX', 'MP1.AX', 'MPA.AX', 'MPK.AX', 'MPL.AX', 'MPP.AX', 'MPR.AX', 'MPW.AX', 'MPX.AX', 'MQG.AX', 'MQR.AX', 'MRC.AX', 'MRD.AX', 'MRE.AX', 'MRI.AX', 'MRL.AX', 'MRQ.AX', 'MRR.AX', 'MRZ.AX', 'MSB.AX', 'MSG.AX', 'MSI.AX', 'MSV.AX', 'MTB.AX', 'MTC.AX', 'MTH.AX', 'MTL.AX', 'MTM.AX', 'MTO.AX', 'MTS.AX', 'MVF.AX', 'MVL.AX', 'MVP.AX', 'MX1.AX', 'MXI.AX', 'MXO.AX', 'MXR.AX', 'MXT.AX', 'MYE.AX', 'MYG.AX', 'MYR.AX', 'MYS.AX', 'MYX.AX', 'MZ1.AX', 'MZ2.AX', 'MZF.AX', 'MZT.AX', 'N1H.AX', 'NAB.AX', 'NAC.AX', 'NAE.AX', 'NAG.AX', 'NAN.AX', 'NBS.AX', 'NC1.AX', 'NC6.AX', 'NCC.AX', 'NCK.AX', 'NDO.AX', 'NEC.AX', 'NEM.AX', 'NES.AX', 'NET.AX', 'NEU.AX', 'NFL.AX', 'NFM.AX', 'NFN.AX', 'NGE.AX', 'NGI.AX', 'NGS.AX', 'NGX.AX', 'NGY.AX', 'NH3.AX', 'NHC.AX', 'NHE.AX', 'NHF.AX', 'NIC.AX', 'NIM.AX', 'NME.AX', 'NMG.AX', 'NMR.AX', 'NMT.AX', 'NNG.AX', 'NNL.AX', 'NOL.AX', 'NOR.AX', 'NOU.AX', 'NOV.AX', 'NOX.AX', 'NPM.AX', 'NRM.AX', 'NRO.AX', 'NRP.AX', 'NRX.AX', 'NRZ.AX', 'NSB.AX', 'NSC.AX', 'NSM.AX', 'NSR.AX', 'NST.AX', 'NSX.AX', 'NTD.AX', 'NTI.AX', 'NTM.AX', 'NTU.AX', 'NUC.AX', 'NUF.AX', 'NUZ.AX', 'NVA.AX', 'NVO.AX', 'NVQ.AX', 'NVU.AX', 'NVX.AX', 'NW1.AX', 'NWC.AX', 'NWF.AX', 'NWH.AX', 'NWL.AX', 'NWM.AX', 'NWS.AX', 'NXD.AX', 'NXG.AX', 'NXL.AX', 'NXM.AX', 'NXS.AX', 'NXT.AX', 'NYM.AX', 'NYR.AX', 'NZK.AX', 'NZM.AX', 'NZS.AX', 'OAK.AX', 'OB1.AX', 'OBL.AX', 'OBM.AX', 'OCA.AX', 'OCC.AX', 'OCL.AX', 'OCN.AX', 'OCT.AX', 'OD6.AX', 'ODA.AX', 'ODE.AX', 'ODY.AX', 'OEC.AX', 'OEL.AX', 'OEQ.AX', 'OFX.AX', 'OIL.AX', 'OKJ.AX', 'OLH.AX', 'OLI.AX', 'OLL.AX', 'OLY.AX', 'OM1.AX', 'OMA.AX', 'OMH.AX', 'OML.AX', 'OMX.AX', 'ONE.AX', 'OPH.AX', 'OPL.AX', 'OPN.AX', 'OPT.AX', 'ORA.AX', 'ORD.AX', 'ORG.AX', 'ORI.AX', 'ORN.AX', 'ORP.AX', 'OSL.AX', 'OSM.AX', 'OSX.AX', 'OVT.AX', 'OXT.AX', 'OYS.AX', 'OZM.AX', 'OZZ.AX', 'PA1.AX', 'PA2.AX', 'PA3.AX', 'PA4.AX', 'PAB.AX', 'PAC.AX', 'PAI.AX', 'PAR.AX', 'PAT.AX', 'PBH.AX', 'PBL.AX', 'PCG.AX', 'PCI.AX', 'PCK.AX', 'PCL.AX', 'PCX.AX', 'PDI.AX', 'PDN.AX', 'PE1.AX', 'PE5.AX', 'PEA.AX', 'PEB.AX', 'PEC.AX', 'PEK.AX', 'PEN.AX', 'PEP.AX', 'PER.AX', 'PET.AX', 'PEV.AX', 'PEX.AX', 'PFE.AX', 'PFG.AX', 'PFP.AX', 'PFT.AX', 'PGC.AX', 'PGD.AX', 'PGF.AX', 'PGH.AX', 'PGM.AX', 'PGO.AX', 'PGS.AX', 'PGY.AX', 'PH2.AX', 'PHL.AX', 'PHO.AX', 'PHX.AX', 'PIA.AX', 'PIC.AX', 'PIL.AX', 'PIM.AX', 'PIQ.AX', 'PKD.AX', 'PKO.AX', 'PL3.AX', 'PL8.AX', 'PLC.AX', 'PLG.AX', 'PLL.AX', 'PLN.AX', 'PLS.AX', 'PLT.AX', 'PLY.AX', 'PMC.AX', 'PME.AX', 'PMT.AX', 'PMV.AX', 'PNC.AX', 'PNI.AX', 'PNM.AX', 'PNN.AX', 'PNR.AX', 'PNT.AX', 'PNV.AX', 'POA.AX', 'POB.AX', 'POC.AX', 'POD.AX', 'POE.AX', 'POF.AX', 'POG.AX', 'POH.AX', 'POL.AX', 'POT.AX', 'PP1.AX', 'PPC.AX', 'PPE.AX', 'PPG.AX', 'PPK.AX', 'PPL.AX', 'PPM.AX', 'PPS.AX', 'PPT.AX', 'PPY.AX', 'PR1.AX', 'PR2.AX', 'PRG.AX', 'PRM.AX', 'PRN.AX', 'PRO.AX', 'PRS.AX', 'PRU.AX', 'PRX.AX', 'PS2.AX', 'PSC.AX', 'PSL.AX', 'PSQ.AX', 'PTL.AX', 'PTM.AX', 'PTN.AX', 'PTR.AX', 'PTX.AX', 'PU6.AX', 'PU8.AX', 'PUA.AX', 'PUR.AX', 'PUT.AX', 'PUU.AX', 'PV1.AX', 'PVE.AX', 'PVL.AX', 'PVT.AX', 'PVW.AX', 'PWH.AX', 'PWN.AX', 'PWR.AX', 'PXA.AX', 'PXX.AX', 'PYC.AX', 'QAL.AX', 'QAN.AX', 'QBE.AX', 'QEM.AX', 'QFE.AX', 'QGL.AX', 'QHL.AX', 'QML.AX', 'QNB.AX', 'QOR.AX', 'QPM.AX', 'QRI.AX', 'QUB.AX', 'QUE.AX', 'QXR.AX', 'R8R.AX', 'RA2.AX', 'RA3.AX', 'RAC.AX', 'RAD.AX', 'RAG.AX', 'RAN.AX', 'RAS.AX', 'RAU.AX', 'RB6.AX', 'RBD.AX', 'RBR.AX', 'RBX.AX', 'RC1.AX', 'RCE.AX', 'RCL.AX', 'RCR.AX', 'RCT.AX', 'RDG.AX', 'RDM.AX', 'RDN.AX', 'RDS.AX', 'RDX.AX', 'RDY.AX', 'REA.AX', 'REC.AX', 'REE.AX', 'REG.AX', 'REH.AX', 'REM.AX', 'REP.AX', 'REX.AX', 'REY.AX', 'REZ.AX', 'RF1.AX', 'RFA.AX', 'RFF.AX', 'RFG.AX', 'RFT.AX', 'RFX.AX', 'RG8.AX', 'RGL.AX', 'RGN.AX', 'RGT.AX', 'RHC.AX', 'RHI.AX', 'RHT.AX', 'RHY.AX', 'RIC.AX', 'RIE.AX', 'RIL.AX', 'RIM.AX', 'RIO.AX', 'RKN.AX', 'RKT.AX', 'RLC.AX', 'RLF.AX', 'RLG.AX', 'RLL.AX', 'RLT.AX', 'RM1.AX', 'RMC.AX', 'RMD.AX', 'RMI.AX', 'RML.AX', 'RMS.AX', 'RMX.AX', 'RMY.AX', 'RND.AX', 'RNE.AX', 'RNT.AX', 'RNU.AX', 'RNV.AX', 'RNX.AX', 'ROC.AX', 'ROG.AX', 'RON.AX', 'RPG.AX', 'RPL.AX', 'RPM.AX', 'RR1.AX', 'RRL.AX', 'RRR.AX', 'RSG.AX', 'RSH.AX', 'RTG.AX', 'RTH.AX', 'RTR.AX', 'RUL.AX', 'RVT.AX', 'RWC.AX', 'RWD.AX', 'RWL.AX', 'RXH.AX', 'RXL.AX', 'RYD.AX', 'RZI.AX', 'S2R.AX', 'S32.AX', 'S66.AX', 'SAN.AX', 'SB2.AX', 'SBM.AX', 'SBR.AX', 'SC1.AX', 'SCA.AX', 'SCG.AX', 'SCN.AX', 'SCP.AX', 'SCT.AX', 'SCW.AX', 'SDF.AX', 'SDI.AX', 'SDR.AX', 'SDV.AX', 'SEC.AX', 'SEG.AX', 'SEK.AX', 'SEN.AX', 'SEQ.AX', 'SER.AX', 'SFC.AX', 'SFG.AX', 'SFM.AX', 'SFR.AX', 'SFV.AX', 'SFX.AX', 'SFY.AX', 'SGA.AX', 'SGF.AX', 'SGH.AX', 'SGI.AX', 'SGL.AX', 'SGM.AX', 'SGP.AX', 'SGQ.AX', 'SGR.AX', 'SHA.AX', 'SHE.AX', 'SHG.AX', 'SHJ.AX', 'SHL.AX', 'SHM.AX', 'SHN.AX', 'SHO.AX', 'SHP.AX', 'SHV.AX', 'SHZ.AX', 'SIG.AX', 'SIO.AX', 'SIQ.AX', 'SIS.AX', 'SIT.AX', 'SIV.AX', 'SIX.AX', 'SKC.AX', 'SKK.AX', 'SKM.AX', 'SKN.AX', 'SKO.AX', 'SKS.AX', 'SKT.AX', 'SKY.AX', 'SLA.AX', 'SLB.AX', 'SLC.AX', 'SLF.AX', 'SLH.AX', 'SLM.AX', 'SLS.AX', 'SLX.AX', 'SLZ.AX', 'SM1.AX', 'SMI.AX', 'SMM.AX', 'SMN.AX', 'SMP.AX', 'SMR.AX', 'SMS.AX', 'SMX.AX', 'SNC.AX', 'SND.AX', 'SNG.AX', 'SNL.AX', 'SNS.AX', 'SNT.AX', 'SNX.AX', 'SNZ.AX', 'SOC.AX', 'SOL.AX', 'SOM.AX', 'SOP.AX', 'SOR.AX', 'SP3.AX', 'SP4.AX', 'SP5.AX', 'SP8.AX', 'SPA.AX', 'SPD.AX', 'SPG.AX', 'SPK.AX', 'SPL.AX', 'SPN.AX', 'SPQ.AX', 'SPR.AX', 'SPX.AX', 'SPZ.AX', 'SQX.AX', 'SRG.AX', 'SRH.AX', 'SRI.AX', 'SRJ.AX', 'SRK.AX', 'SRL.AX', 'SRN.AX', 'SRR.AX', 'SRT.AX', 'SRV.AX', 'SRY.AX', 'SRZ.AX', 'SS1.AX', 'SSG.AX', 'SSH.AX', 'SSL.AX', 'SSM.AX', 'SSR.AX', 'SST.AX', 'ST1.AX', 'STA.AX', 'STG.AX', 'STK.AX', 'STM.AX', 'STN.AX', 'STO.AX', 'STP.AX', 'STR.AX', 'STW.AX', 'STX.AX', 'SUH.AX', 'SUL.AX', 'SUM.AX', 'SUN.AX', 'SVG.AX', 'SVL.AX', 'SVM.AX', 'SVR.AX', 'SVY.AX', 'SW1.AX', 'SWF.AX', 'SWM.AX', 'SWP.AX', 'SX2.AX', 'SXE.AX', 'SXL.AX', 'SYA.AX', 'SYL.AX', 'SYR.AX', 'T3D.AX', 'T88.AX', 'T92.AX', 'TA1.AX', 'TAH.AX', 'TAL.AX', 'TAM.AX', 'TAR.AX', 'TAS.AX', 'TAT.AX', 'TBN.AX', 'TBR.AX', 'TCF.AX', 'TCG.AX', 'TCL.AX', 'TCO.AX', 'TD1.AX', 'TDO.AX', 'TEA.AX', 'TEE.AX', 'TEG.AX', 'TEK.AX', 'TEM.AX', 'TER.AX', 'TES.AX', 'TFL.AX', 'TG1.AX', 'TG6.AX', 'TGF.AX', 'TGH.AX', 'TGM.AX', 'TGN.AX', 'TGP.AX', 'THB.AX', 'THL.AX', 'THR.AX', 'TI1.AX', 'TIA.AX', 'TIG.AX', 'TIP.AX', 'TKL.AX', 'TKM.AX', 'TL1.AX', 'TLC.AX', 'TLG.AX', 'TLM.AX', 'TLS.AX', 'TLX.AX', 'TM1.AX', 'TMB.AX', 'TMG.AX', 'TMK.AX', 'TML.AX', 'TMS.AX', 'TMX.AX', 'TNC.AX', 'TNE.AX', 'TNY.AX', 'TOE.AX', 'TOK.AX', 'TON.AX', 'TOP.AX', 'TOR.AX', 'TOT.AX', 'TOU.AX', 'TOY.AX', 'TPC.AX', 'TPG.AX', 'TPW.AX', 'TRA.AX', 'TRE.AX', 'TRI.AX', 'TRJ.AX', 'TRM.AX', 'TRP.AX', 'TRS.AX', 'TRU.AX', 'TSI.AX', 'TSL.AX', 'TSO.AX', 'TT1.AX', 'TT4.AX', 'TT6.AX', 'TTA.AX', 'TTI.AX', 'TTM.AX', 'TTT.AX', 'TTZ.AX', 'TUA.AX', 'TVL.AX', 'TVN.AX', 'TWD.AX', 'TWE.AX', 'TWR.AX', 'TX3.AX', 'TYP.AX', 'TYR.AX', 'TYX.AX', 'TZL.AX', 'TZN.AX', 'UBI.AX', 'UBN.AX', 'UCM.AX', 'UNI.AX', 'UNT.AX', 'UOS.AX', 'URF.AX', 'URW.AX', 'USL.AX', 'UVA.AX', 'UWC.AX', 'VAR.AX', 'VAU.AX', 'VBC.AX', 'VBS.AX', 'VCD.AX', 'VCX.AX', 'VEA.AX', 'VEE.AX', 'VEN.AX', 'VFX.AX', 'VFY.AX', 'VG1.AX', 'VGL.AX', 'VHM.AX', 'VIG.AX', 'VIT.AX', 'VKA.AX', 'VLS.AX', 'VMC.AX', 'VMG.AX', 'VML.AX', 'VMM.AX', 'VMT.AX', 'VN8.AX', 'VNL.AX', 'VNT.AX', 'VPG.AX', 'VPR.AX', 'VR1.AX', 'VR8.AX', 'VRC.AX', 'VRL.AX', 'VRS.AX', 'VRX.AX', 'VSL.AX', 'VSR.AX', 'VTM.AX', 'VTX.AX', 'VUL.AX', 'VVA.AX', 'VYS.AX', 'W2V.AX', 'WA1.AX', 'WA8.AX', 'WAA.AX', 'WAF.AX', 'WAG.AX', 'WAK.AX', 'WAM.AX', 'WAR.AX', 'WAT.AX', 'WAX.AX', 'WB1.AX', 'WBC.AX', 'WBE.AX', 'WBT.AX', 'WC1.AX', 'WC8.AX', 'WCN.AX', 'WDS.AX', 'WE1.AX', 'WEB.AX', 'WEC.AX', 'WEF.AX', 'WEJ.AX', 'WEL.AX', 'WEN.AX', 'WES.AX', 'WFL.AX', 'WGB.AX', 'WGN.AX', 'WGR.AX', 'WGX.AX', 'WHC.AX', 'WHF.AX', 'WHI.AX', 'WHK.AX', 'WIA.AX', 'WIN.AX', 'WJL.AX', 'WKT.AX', 'WLD.AX', 'WLE.AX', 'WMA.AX', 'WMG.AX', 'WMI.AX', 'WMX.AX', 'WNR.AX', 'WNX.AX', 'WOA.AX', 'WOR.AX', 'WOT.AX', 'WOW.AX', 'WPR.AX', 'WQG.AX', 'WR1.AX', 'WRK.AX', 'WS1.AX', 'WS2.AX', 'WSE.AX', 'WSI.AX', 'WSR.AX', 'WTC.AX', 'WTL.AX', 'WTM.AX', 'WTN.AX', 'WWG.AX', 'WWI.AX', 'WYX.AX', 'WZR.AX', 'X2M.AX', 'XAM.AX', 'XCL.AX', 'XF1.AX', 'XGL.AX', 'XNC.AX', 'XPN.AX', 'XQL.AX', 'XRF.AX', 'XRG.AX', 'XRO.AX', 'XST.AX', 'XTC.AX', 'XVG.AX', 'XYZ.AX', 'YAL.AX', 'YAR.AX', 'YOJ.AX', 'YOW.AX', 'YRL.AX', 'Z2U.AX', 'ZAG.AX', 'ZEO.AX', 'ZEU.AX', 'ZGL.AX', 'ZIM.AX', 'ZIP.AX', 'ZLD.AX', 'ZMI.AX', 'ZMM.AX', 'ZNC.AX', 'ZNO.AX', 'ZOR.AX']\n"
     ]
    }
   ],
   "source": [
    "print(TICKER_ALL)"
   ]
  },
  {
   "cell_type": "code",
   "execution_count": 31,
   "metadata": {},
   "outputs": [
    {
     "ename": "ModuleNotFoundError",
     "evalue": "No module named 'matplotlib'",
     "output_type": "error",
     "traceback": [
      "\u001b[0;31m---------------------------------------------------------------------------\u001b[0m",
      "\u001b[0;31mModuleNotFoundError\u001b[0m                       Traceback (most recent call last)",
      "Cell \u001b[0;32mIn[31], line 1\u001b[0m\n\u001b[0;32m----> 1\u001b[0m \u001b[38;5;28;01mimport\u001b[39;00m\u001b[38;5;250m \u001b[39m\u001b[38;5;21;01mmatplotlib\u001b[39;00m\u001b[38;5;21;01m.\u001b[39;00m\u001b[38;5;21;01mpyplot\u001b[39;00m\u001b[38;5;250m \u001b[39m\u001b[38;5;28;01mas\u001b[39;00m\u001b[38;5;250m \u001b[39m\u001b[38;5;21;01mplt\u001b[39;00m\n\u001b[1;32m      3\u001b[0m data \u001b[38;5;241m=\u001b[39m yf\u001b[38;5;241m.\u001b[39mdownload(\u001b[38;5;124m\"\u001b[39m\u001b[38;5;124mAAPL\u001b[39m\u001b[38;5;124m\"\u001b[39m, start\u001b[38;5;241m=\u001b[39m\u001b[38;5;124m\"\u001b[39m\u001b[38;5;124m2020-01-01\u001b[39m\u001b[38;5;124m\"\u001b[39m, end\u001b[38;5;241m=\u001b[39m\u001b[38;5;124m\"\u001b[39m\u001b[38;5;124m2021-01-01\u001b[39m\u001b[38;5;124m\"\u001b[39m)\n\u001b[1;32m      4\u001b[0m data[\u001b[38;5;124m'\u001b[39m\u001b[38;5;124mClose\u001b[39m\u001b[38;5;124m'\u001b[39m]\u001b[38;5;241m.\u001b[39mplot()\n",
      "\u001b[0;31mModuleNotFoundError\u001b[0m: No module named 'matplotlib'"
     ]
    }
   ],
   "source": [
    "import matplotlib.pyplot as plt\n",
    "\n",
    "data = yf.download(\"AAPL\", start=\"2020-01-01\", end=\"2021-01-01\")\n",
    "data['Close'].plot()\n",
    "plt.title(\"Apple Stock Prices\")\n",
    "plt.show()"
   ]
  },
  {
   "cell_type": "code",
   "execution_count": null,
   "metadata": {},
   "outputs": [],
   "source": []
  }
 ],
 "metadata": {
  "kernelspec": {
   "display_name": "Python 3",
   "language": "python",
   "name": "python3"
  },
  "language_info": {
   "codemirror_mode": {
    "name": "ipython",
    "version": 3
   },
   "file_extension": ".py",
   "mimetype": "text/x-python",
   "name": "python",
   "nbconvert_exporter": "python",
   "pygments_lexer": "ipython3",
   "version": "3.9.6"
  }
 },
 "nbformat": 4,
 "nbformat_minor": 2
}
