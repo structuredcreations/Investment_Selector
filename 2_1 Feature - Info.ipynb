{
 "metadata": {
  "language_info": {
   "codemirror_mode": {
    "name": "ipython",
    "version": 3
   },
   "file_extension": ".py",
   "mimetype": "text/x-python",
   "name": "python",
   "nbconvert_exporter": "python",
   "pygments_lexer": "ipython3",
   "version": "3.8.5-final"
  },
  "orig_nbformat": 2,
  "kernelspec": {
   "name": "python3",
   "display_name": "Python 3.8.5 64-bit ('base': conda)",
   "metadata": {
    "interpreter": {
     "hash": "2e80b46cd7ab2c4b8091b0b314a25adce498b8045c83140c5966e92a27ab602b"
    }
   }
  }
 },
 "nbformat": 4,
 "nbformat_minor": 2,
 "cells": [
  {
   "cell_type": "code",
   "execution_count": 1,
   "metadata": {},
   "outputs": [],
   "source": [
    "import pandas as pd\n",
    "DF_YFIN_INFO = pd.read_excel (r'/Users/joezhou/Downloads/ALL_INFO.xlsx') \n",
    "#Create a sample for code testing purposes\n",
    "#DF_SAMPLE = DF[DF['symbol'].isin(['CBA.AX','ANZ.AX','APT.AX','Z1P.AX'])]\n",
    "\n",
    "\n"
   ]
  },
  {
   "cell_type": "code",
   "execution_count": 6,
   "metadata": {},
   "outputs": [],
   "source": [
    "# Only keep columns needed, selected after manual review\n",
    "\n",
    "DF_YFIN_INFO_SUBSET = DF_YFIN_INFO[[\n",
    "# Price / volume Movement\t\n",
    "'52WeekChange','fiftyDayAverage','fiftyTwoWeekHigh','fiftyTwoWeekLow','averageDailyVolume10Day','averageVolume10days',\n",
    "#Location\t\n",
    "'address1','address2','city','state','country','zip','exchange',\n",
    "# Dividend\t\n",
    "'dividendRate','dividendYield','exDividendDate','payoutRatio','trailingAnnualDividendRate','trailingAnnualDividendYield',\n",
    "# Timing\t\n",
    "'mostRecentQuarter','lastFiscalYearEnd','lastSplitDate','nextFiscalYearEnd',\n",
    "# Fundamentals\t\n",
    "'open','marketCap','sharesOutstanding','floatShares','bookValue','regularMarketPrice','regularMarketVolume','heldPercentInsiders','heldPercentInstitutions',\n",
    "# Performance\t\n",
    "'earningsQuarterlyGrowth','netIncomeToCommon','beta','enterpriseToEbitda','enterpriseToRevenue','enterpriseValue','priceToBook','priceToSalesTrailing12Months','profitMargins','trailingEps','trailingPE','fullTimeEmployees',\n",
    "# Future dated\t\n",
    "'forwardEps','forwardPE',\n",
    "# Company Identifier\t\n",
    "'symbol','shortName','longName','longBusinessSummary','website','messageBoardId',\n",
    "# Index Grouping\t\n",
    "'industry','sector'\n",
    "]]\n",
    "\n",
    "DF_YFIN_INFO_SUBSET = DF_YFIN_INFO_SUBSET.rename(columns={\"Ticker\": \"symbol\"})\n"
   ]
  },
  {
   "cell_type": "code",
   "execution_count": 10,
   "metadata": {},
   "outputs": [],
   "source": [
    "#Export version for Tableau\n",
    "DF_YFIN_INFO_SUBSET.to_excel('/Users/joezhou/Downloads/ALL_INFO_FEATURES.xlsx')"
   ]
  },
  {
   "cell_type": "code",
   "execution_count": null,
   "metadata": {},
   "outputs": [],
   "source": [
    "\n",
    "DF_YFIN_INFO_SUBSET2 = DF_YFIN_INFO_SUBSET.drop(columns=[\n",
    "'address1',\n",
    "'address2',\n",
    "'city',\n",
    "# 'state',\n",
    "# 'country',\n",
    "# 'zip',\n",
    "'exchange',\n",
    "'mostRecentQuarter',\n",
    "'lastFiscalYearEnd',\n",
    "'lastSplitDate',\n",
    "'nextFiscalYearEnd',\n",
    "'shortName',\n",
    "'longName',\n",
    "'longBusinessSummary',\n",
    "'website',\n",
    "'messageBoardId'\n",
    "# 'industry',\n",
    "# 'sector'\n",
    "])\n",
    "\n",
    "# DF_YFIN_INFO_SUBSET_NUMS2.describe(include='all')\n",
    "\n",
    "\n"
   ]
  },
  {
   "cell_type": "code",
   "execution_count": null,
   "metadata": {},
   "outputs": [],
   "source": [
    "# Create distribution chart for variables to further reduce dataset\n",
    "import seaborn as sns\n",
    "\n",
    "# iteration verions\n",
    "# for VAR_COLUMN in DF_YFIN_INFO_SUBSET_NUMS:\n",
    "    # sns.displot(DF_YFIN_INFO_SUBSET_NUMS.dropna(), x=VAR_COLUMN)\n",
    "\n",
    "#faster version\n",
    "# sns.pairplot(DF_YFIN_INFO_SUBSET_NUMS)\n"
   ]
  },
  {
   "cell_type": "code",
   "execution_count": null,
   "metadata": {},
   "outputs": [],
   "source": [
    "\n",
    "DF_YFIN_INFO_BASE = DF_YFIN_INFO_SUBSET2[['dividendRate',\n",
    "'heldPercentInstitutions',\n",
    "'beta',\n",
    "'profitMargins',\n",
    "'trailingPE',\n",
    "'sector','state']]\n"
   ]
  },
  {
   "cell_type": "code",
   "execution_count": null,
   "metadata": {},
   "outputs": [],
   "source": [
    "# create relationship scatter plot\n",
    "# DF_YFIN_INFO_BASE.describe()\n",
    "\n",
    "import matplotlib.pyplot as plt\n",
    "\n",
    "DF_YFIN_INFO_BASE.plot('heldPercentInstitutions','dividendRate',kind = 'scatter')\n",
    "# DF_YFIN_INFO_BASE.plot('trailingPE','profitMargins',kind = 'scatter')\n"
   ]
  },
  {
   "cell_type": "code",
   "execution_count": null,
   "metadata": {},
   "outputs": [],
   "source": [
    "#Split into category vs continous features\n",
    "categorical_features = DF_YFIN_INFO_BASE[['sector','state']]\n",
    "continuous_features = DF_YFIN_INFO_BASE[['dividendRate',\n",
    "'heldPercentInstitutions',\n",
    "'beta',\n",
    "'profitMargins',\n",
    "'trailingPE']]\n",
    "\n",
    "data = DF_YFIN_INFO_BASE\n",
    "\n",
    "# convert categories to numeric\n",
    "for col in categorical_features:\n",
    "    dummies = pd.get_dummies(data[col], prefix=col)\n",
    "    data = pd.concat([data, dummies], axis=1)\n",
    "    data.drop(col, axis=1, inplace=True)\n",
    "\n",
    "# Standardise data\n",
    "import numpy as np\n",
    "\n",
    "data.replace([np.inf, -np.inf], np.nan, inplace=True)\n"
   ]
  }
 ]
}