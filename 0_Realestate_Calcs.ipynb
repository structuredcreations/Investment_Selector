{
 "cells": [
  {
   "cell_type": "code",
   "execution_count": 15,
   "metadata": {},
   "outputs": [],
   "source": [
    "# pip install -e git+https://github.com/tomquirk/realestate-com-au-api.git#egg=realestate_com_au_api\n"
   ]
  },
  {
   "cell_type": "code",
   "execution_count": 1,
   "metadata": {},
   "outputs": [],
   "source": [
    "from realestate_com_au import RealestateComAu\n",
    "\n",
    "api = RealestateComAu()\n",
    "\n",
    "# Get property listings\n",
    "# listings = api.search(locations=[\"seventeen seventy, qld 4677\"], channel=\"buy\", keywords=[\"tenant\"], exclude_keywords=[\"pool\"])\n",
    "\n"
   ]
  },
  {
   "cell_type": "code",
   "execution_count": 2,
   "metadata": {},
   "outputs": [],
   "source": [
    "import pandas as pd\n",
    "\n",
    "# https://www.matthewproctor.com/australian_postcodes\n",
    "df_postcode = pd.read_excel (r'/Users/joezhou/Downloads/Realestate/australian_postcodes.xlsx', sheet_name='Sheet1')\n",
    "\n",
    "# sample test suburb\n",
    "# df_postcode_subset = df_postcode.loc[(df_postcode['Locality']=='LIDCOMBE') & (df_postcode['Postcode']==2141) ]\n",
    "\n",
    "# df_postcode_subset[\"VAR_Find\"] = '[\"'+df_postcode_subset['Postcode'].apply(str)+\",\"+df_postcode_subset['Locality']+'\"]'\n",
    "# list_postcode = list(df_postcode_subset['VAR_Find'].dropna())\n"
   ]
  },
  {
   "cell_type": "code",
   "execution_count": null,
   "metadata": {},
   "outputs": [],
   "source": [
    "# listings_rent = api.search(locations=[\"ACT, NT, SA, WA, NSW, QLD, VIC, TAS\"], channel=\"rent\")\n",
    "# listings_all = api.search(locations=[\"ACT, NT, SA, WA, NSW, QLD, VIC, TAS\"])\n",
    "\n",
    "# last run for rent was 7 mins\n",
    "#note, output caps out at 2,000 records\n",
    "\n",
    "# Find_Text = [\"2141,LIDCOMBE\"]\n",
    "# df_out = api.search(locations=Find_Text,channel=\"rent\")\n",
    "# 870 search records with single quotes"
   ]
  },
  {
   "cell_type": "code",
   "execution_count": 3,
   "metadata": {},
   "outputs": [],
   "source": [
    "# try a loop approach by suburb\n",
    "#note: code below doesn't work for some reason, it returns an arbitary list of values\n",
    "\n",
    "DF_RENT = pd.DataFrame()\n",
    "DF_ALL = pd.DataFrame()\n",
    "\n",
    "def DWN_INF(Find_Text):    \n",
    "    global DF_RENT\n",
    "    try:\n",
    "        df_imp_rent = api.search(locations=Find_Text, channel=\"rent\")\n",
    "        df_imp_rent = pd.DataFrame(df_imp_rent)\n",
    "        \n",
    "        from datetime import datetime as dt\n",
    "        dte = dt.now().strftime('%Y%m%d')\n",
    "        fname = \"/Users/joezhou/Downloads/loop_test{}.xlsx\".format(dte)\n",
    "        df_imp_rent.to_excel(fname)\n",
    "\n",
    "        df_imp_all = api.search(locations=Find_Text)\n",
    "        df_imp_all = pd.DataFrame(df_imp_all)\n",
    "\n",
    "        DF_RENT = DF_RENT.append(df_imp_rent, ignore_index=True) \n",
    "        DF_ALL = DF_ALL.append(df_imp_all, ignore_index=True) \n",
    "\n",
    "        print(\"found for:\",Find_Text)\n",
    "\n",
    "    except Exception:\n",
    "        print(\"Error with:\",Find_Text)\n",
    "        pass    \n",
    "    return()\n",
    "\n",
    "# Download all\n",
    "# for Find_Var in list_postcode:\n",
    "#    DWN_INF(Find_Var)\n"
   ]
  },
  {
   "cell_type": "code",
   "execution_count": null,
   "metadata": {},
   "outputs": [],
   "source": [
    "DF_RENT = DF_RENT.drop_duplicates()\n"
   ]
  },
  {
   "cell_type": "code",
   "execution_count": 2,
   "metadata": {},
   "outputs": [],
   "source": [
    "# for Find_Var in list_postcode:\n",
    "    # df_imp_rent = api.search(locations=Find_Var, channel=\"rent\")\n",
    "\n",
    "# DF_RENT.to_pickle(\"/Users/joezhou/Downloads/Realestate/R_ALL_RENT.pkl\")\n",
    "\n",
    "import pandas as pd\n",
    "I_INFO = pd.read_pickle ('/Users/joezhou/Downloads/Realestate/R_ALL_RENT.pkl') \n",
    "\n",
    "\n",
    "from datetime import datetime as dt\n",
    "dte = dt.now().strftime('%Y%m%d')\n",
    "fname = \"/Users/joezhou/Downloads/test_extract_rent_AUS{}.xlsx\".format(dte)\n",
    "I_INFO.to_excel(fname)\n"
   ]
  },
  {
   "cell_type": "code",
   "execution_count": 1,
   "metadata": {},
   "outputs": [
    {
     "name": "stderr",
     "output_type": "stream",
     "text": [
      "/Users/joezhou/opt/anaconda3/lib/python3.8/site-packages/xlsxwriter/worksheet.py:941: UserWarning: Ignoring URL 'https://www.b1homes.com.au/house-land/l16576307-st-james%3cbr/%3e%3cbr/%3eTitles%20are%20nearing,%20and%20the%20owner%20wants%20these%20lots%20sold%20ASAP.%20Time%20to%20get%20in%20to%20this%20boom%20suburb%20and%20make%20your%20offer.%20Offers%20will%20be%20considered.%20%3cbr/%3e%3cbr/%3eRanging%20from%20approximately%20207sqm%20to%20229sqm%20these%20prime%20parcels%20of%20land%20will%20lend%20themselves%20to%20those%20seeking%20to%20design%20something%20low-maintenance%20and%20ready%20to%20live%20in.%20Decide%20whether%20you%20want%20to%20secure%20street%20frontage,%20privacy%20at%20the%20rear%20or%20the%20peace%20of%20mind%20of%20a%20nice,%20central%20position%20tucked%20in%20between%20two%20other%20properties.%3cbr/%3e%20%20%3cbr/%3eThese%20exciting%20lots%20are%20nestled%20very%20close%20to%20bus%20stops,%20the%20local%20pharmacy%20and%20Albany%20Highway,%20within%20walking%20distance%20of%20both%20Curtin%20University%20and%20South%20Metropolitan%20TAFE,%20handy%20to%20other%20major%20arterial%20roads%20and%20only%20minutes%20away%20from%20the%20Victoria%20Park%20town%20centre,%20the%20stunning%20Westfield%20Carousel%20Shopping%20Centre%20and%20wonderful%20schools%20and%20community%20sporting%20facilities.%20What%20a%20convenient%20location%20and%20what%20a%20magnificent%20opportunity.%20A%20brighter%20future%20awaits%20you%20here!%3cbr/%3e%20%3cbr/%3eFeatures%20include:%3cbr/%3e•\tLot%201%20-%20207sqm%20(approx.)%20EOI%3cbr/%3e•\tLot%202%20-%20196sqm%20(approx.)%20EOI%3cbr/%3e•\tLot%203%20-%20196sqm%20(approx.)%20EOI%3cbr/%3e•\tLot%204%20-%20229sqm%20(approx.)%20From%20EOI%3cbr/%3e•\tPending%20titles%20%3cbr/%3e%20%20%3cbr/%3eDistances%20to%20(approx.):%3cbr/%3e%20%3cbr/%3e•\tBentley%20Plaza%20Shopping%20Centre%20-%201.6km%3cbr/%3e•\tCurtin%20University%20-%202.0km%3cbr/%3e•\tSouth%20Metropolitan%20TAFE%20(Bentley%20Campus)%20-%202.2km%3cbr/%3e•\tWestfield%20Carousel%20-%204.9km%3cbr/%3e•\tPerth%20CBD%20-%209.1km%3cbr/%3e•\tPerth%20Airport%20(T1%20&%20T2)%20-%2010.9km%3cbr/%3e%3cbr/%3eDisclaimer:%20Whilst%20every%20care%20has%20been%20taken%20in%20the%20preparation%20of%20this%20advertisement,%20accuracy%20cannot%20be%20guaranteed.%20%20Prospective%20purchasers%20should%20make%20their%20own%20enquiries%20to%20satisfy%20themselves%20on%20all%20pertinent%20matters.%20Details%20herein%20do%20not%20constitute%20any%20representation%20by%20the%20Vendor%20or%20the%20agent%20and%20are%20expressly%20excluded%20from%20any%20contract.' with link or location/anchor > 2079 characters since it exceeds Excel's limit for URLS\n",
      "  warn(\"Ignoring URL '%s' with link or location/anchor > %d \"\n"
     ]
    }
   ],
   "source": [
    "\n",
    "import pandas as pd\n",
    "I_INFO = pd.read_pickle ('/Users/joezhou/Downloads/Realestate/R_ALL_WA.pkl') \n",
    "\n",
    "\n",
    "from datetime import datetime as dt\n",
    "dte = dt.now().strftime('%Y%m%d')\n",
    "fname = \"/Users/joezhou/Downloads/test_WA_ALL{}.xlsx\".format(dte)\n",
    "I_INFO.to_excel(fname)\n",
    "\n",
    "\n",
    "import pandas as pd\n",
    "I_INFO = pd.read_pickle ('/Users/joezhou/Downloads/Realestate/R_RENT_WA.pkl') \n",
    "\n",
    "\n",
    "from datetime import datetime as dt\n",
    "dte = dt.now().strftime('%Y%m%d')\n",
    "fname = \"/Users/joezhou/Downloads/test_WA_RENT{}.xlsx\".format(dte)\n",
    "I_INFO.to_excel(fname)\n",
    "\n"
   ]
  },
  {
   "cell_type": "code",
   "execution_count": 9,
   "metadata": {},
   "outputs": [
    {
     "name": "stderr",
     "output_type": "stream",
     "text": [
      "/Users/joezhou/opt/anaconda3/lib/python3.8/site-packages/xlsxwriter/worksheet.py:941: UserWarning: Ignoring URL 'https://www.2apply.com.au/agency?n=HaymanPartners&form=0%3cbr/%3e%3cbr/%3eIn%20a%20quiet%20cul-de-sac%20with%20uninterrupted%20leafy%20views%20straight%20down%20the%20Curtin%20green%20belt,%20also%20within%20walking%20distance%20to%20sought-after%20schools,%20the%20Curtin%20shops%20and%20the%20Woden%20Shopping%20precinct,%20this%20four-bedroom%20home%20provides%20the%20ultimate%20in%20family%20convenience.%3cbr/%3e%3cbr/%3eA%20decked%20front%20patio%20offers%20the%20prime%20position%20to%20sit%20and%20enjoy%20the%20views%20and%20keep%20a%20watchful%20eye%20on%20children%20playing%20at%20the%20nearby%20playground%20reserve.%20There's%20also%20additional%20entertaining%20space%20in%20the%20rear%20yard's%20paved%20courtyard%20conveniently%20placed%20off%20the%20kitchen/living%20area.%3cbr/%3e%3cbr/%3eFEATURES%3cbr/%3e•%20Single-level%20family%20brick%20home%20at%20the%20end%20of%20a%20cul-de-sac%20adjacent%20to%20reserve%3cbr/%3e•%20Master%20bedroom%20with%20green%20belt%20views,%20built-in%20wardrobe%20and%20renovated%20ensuite%3cbr/%3e•%20Oversized%20second%20bedroom%20with%20built-in%20wardrobe%3cbr/%3e•%20Main%20bathroom%20with%20shower%20and%20separate%20bathtub%3cbr/%3e•%20Toilet%20located%20in%20separate%20powder%20room%3cbr/%3e•%20Large%20living%20room%20featuring%20a%20brick%20surround%20open%20fireplace%20with%20hammered%20brass/copper%20vent%20hood%3cbr/%3e•%20Kitchen%20with%20walk%20in%20pantry,%20wall%20oven,%20dishwasher,%20and%20access%20to%20living%20room%20with%20a%20backyard%20view%3cbr/%3e•%20Renovated%20laundry%20with%20good%20storage%20and%20external%20access%3cbr/%3e•%20Ducted%20gas%20heating%3cbr/%3e•%20Reverse%20cycle%20heating%20and%20cooling%3cbr/%3e•%20New%20engineered%20hard%20wood%20flooring%20in%20living%20areas%3cbr/%3e•%20Contemporary%20ceiling%20fans%20in%20master%20bedroom,%20second%20bedroom%20and%20living%20room%3cbr/%3e•%20Front%20patio%20and%20deck%3cbr/%3e•%20Low%20maintenance%20gardens%3cbr/%3e•%20Ample%20parking%20including%20carport%20and%20off%20street%20parking%20for%20an%20additional%20car%3cbr/%3eLast%20known%20EER%200.0%3cbr/%3eTenants%20must%20seek%20permission%20to%20keep%20pets%20at%20the%20property%20%3cbr/%3e' with link or location/anchor > 2079 characters since it exceeds Excel's limit for URLS\n",
      "  warn(\"Ignoring URL '%s' with link or location/anchor > %d \"\n"
     ]
    }
   ],
   "source": [
    "df_out = pd.DataFrame(df_out)\n",
    "\n",
    "from datetime import datetime as dt\n",
    "dte = dt.now().strftime('%Y%m%d')\n",
    "fname = \"/Users/joezhou/Downloads/test_extract_rent_AUS{}.xlsx\".format(dte)\n",
    "DF_RENT.to_excel(fname)\n"
   ]
  },
  {
   "cell_type": "code",
   "execution_count": null,
   "metadata": {},
   "outputs": [],
   "source": [
    "\n",
    "\n",
    "# RAW_DATA = pd.read_pickle ('/Users/joezhou/Downloads/Realestate/R_REALESTATE_ALL.pkl') \n",
    "\n",
    "RAW_DATA_SUBSET = DF_ALL.drop(columns=['images', 'images_floorplans', 'listers'])\n",
    "\n",
    "# summarise by postcode\n",
    "\n",
    "RAW_DATA_SUM = RAW_DATA_SUBSET.groupby(\"postcode\")[\"price\"].median()\n",
    "RAW_DATA_SUM = pd.DataFrame(RAW_DATA_SUM)\n",
    "RAW_DATA_SUM.rename(columns={'price':'price_BUY'}, inplace = True)\n"
   ]
  },
  {
   "cell_type": "code",
   "execution_count": null,
   "metadata": {},
   "outputs": [],
   "source": [
    "# RAW_DATA_RENT = pd.read_pickle ('/Users/joezhou/Downloads/Realestate/R_REALESTATE_RENT.pkl') \n",
    "\n",
    "RAW_DATA_RENT_SUBSET = DF_RENT.drop(columns=['images', 'images_floorplans', 'listers'])\n",
    "\n",
    "# summarise by postcode\n",
    "\n",
    "RAW_DATA_RENT_SUM = RAW_DATA_RENT_SUBSET.groupby(\"postcode\")[\"price\"].median()\n",
    "RAW_DATA_RENT_SUM = pd.DataFrame(RAW_DATA_RENT_SUM)\n",
    "RAW_DATA_RENT_SUM.rename(columns={\"price\": \"price_RENT\"}, inplace = True)\n"
   ]
  },
  {
   "cell_type": "code",
   "execution_count": null,
   "metadata": {},
   "outputs": [
    {
     "name": "stderr",
     "output_type": "stream",
     "text": [
      "INFO:numexpr.utils:NumExpr defaulting to 4 threads.\n"
     ]
    }
   ],
   "source": [
    "df_comp = RAW_DATA_SUM.merge(RAW_DATA_RENT_SUM,how='left',on='postcode')\n",
    "\n",
    "df_comp['YEARLY_RENT']=df_comp['price_RENT']*52\n",
    "df_comp['RENT_YIELD']=df_comp['YEARLY_RENT']/df_comp['price_BUY']\n",
    "\n",
    "# 7303"
   ]
  },
  {
   "cell_type": "code",
   "execution_count": null,
   "metadata": {},
   "outputs": [],
   "source": [
    "RAW_ALL_ACT = pd.read_pickle ('/Users/joezhou/Downloads/Realestate/R_ALL_ACT.pkl').reset_index()\n",
    "\n",
    "RAW_ALL_ACT2 = RAW_ALL_ACT.drop(columns=['index','images','images_floorplans','listers'])\n",
    "DF_ALL = RAW_ALL_ACT2.drop_duplicates()\n",
    "\n",
    "RAW_RENT_ACT = pd.read_pickle ('/Users/joezhou/Downloads/Realestate/R_RENT_ACT.pkl').reset_index()\n",
    "\n",
    "RAW_RENT_ACT2 = RAW_RENT_ACT.drop(columns=['index','images','images_floorplans','listers'])\n",
    "DF_RENT = RAW_RENT_ACT2.drop_duplicates()\n",
    "\n",
    "del RAW_ALL_ACT, RAW_ALL_ACT2, RAW_RENT_ACT, RAW_RENT_ACT2"
   ]
  },
  {
   "cell_type": "code",
   "execution_count": null,
   "metadata": {},
   "outputs": [],
   "source": [
    "DF_ALL_MED = DF_ALL.groupby(\"postcode\")[\"price\"].median()\n",
    "DF_ALL_MED = pd.DataFrame(DF_ALL_MED)\n",
    "DF_ALL_MED.rename(columns={'price':'price_BUY'}, inplace = True)\n",
    "\n",
    "\n",
    "DF_RENT_MED = DF_RENT.groupby(\"postcode\")[\"price\"].median()\n",
    "DF_RENT_MED = pd.DataFrame(DF_RENT_MED)\n",
    "DF_RENT_MED.rename(columns={\"price\": \"price_RENT\"}, inplace = True)\n",
    "\n",
    "\n",
    "df_comp = DF_ALL_MED.merge(DF_RENT_MED,how='left',on='postcode')\n",
    "\n",
    "df_comp['YEARLY_RENT']=df_comp['price_RENT']*52\n",
    "df_comp['RENT_YIELD']=df_comp['YEARLY_RENT']/df_comp['price_BUY']\n",
    "\n",
    "# 7303"
   ]
  }
 ],
 "metadata": {
  "kernelspec": {
   "display_name": "Python 3.8.5 ('base')",
   "language": "python",
   "name": "python3"
  },
  "language_info": {
   "codemirror_mode": {
    "name": "ipython",
    "version": 3
   },
   "file_extension": ".py",
   "mimetype": "text/x-python",
   "name": "python",
   "nbconvert_exporter": "python",
   "pygments_lexer": "ipython3",
   "version": "3.8.5"
  },
  "orig_nbformat": 4,
  "vscode": {
   "interpreter": {
    "hash": "29ef60e46f341bb51c2a63b17c19fb7c83213fa52e6b916fbf12c8b5ee03317f"
   }
  }
 },
 "nbformat": 4,
 "nbformat_minor": 2
}
