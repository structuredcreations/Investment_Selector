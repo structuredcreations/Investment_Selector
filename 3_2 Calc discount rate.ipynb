{
 "cells": [
  {
   "cell_type": "code",
   "execution_count": null,
   "metadata": {},
   "outputs": [],
   "source": [
    "# The aim of this module is to calculate the discout rate using a weighted cost of capital approach\n",
    "\n",
    "# File name convention\n",
    "# R_ = raw extract \n",
    "# E_ = Entry files into enrichment layer\n",
    "# C_ = enriched layer with calculation\n",
    "# I = insights layer, designed for model baselines\n",
    "# V_ = validation\n"
   ]
  },
  {
   "cell_type": "code",
   "execution_count": 1,
   "metadata": {},
   "outputs": [],
   "source": [
    "import pandas as pd\n",
    "import numpy as np\n",
    "pd.options.mode.chained_assignment = None  # default='warn'\n",
    "\n",
    "I_FLAT = pd.read_pickle ('/Users/joezhou/Downloads/C_TICKER_FLAT.pkl') \n",
    "C_BG_MODEL = pd.read_pickle ('/Users/joezhou/Downloads/C_BEN_G_MODEL.pkl') \n"
   ]
  },
  {
   "cell_type": "code",
   "execution_count": null,
   "metadata": {},
   "outputs": [],
   "source": [
    "\n",
    "\n",
    "#Create a sample for code testing purposes\n",
    "FIN_S = FIN[FIN['TickName'].isin(['WES.AX'])]\n",
    "FIN_S = FIN_S.loc[(FIN_S['Date'] == '2020-06-30')]\n"
   ]
  },
  {
   "cell_type": "code",
   "execution_count": null,
   "metadata": {},
   "outputs": [],
   "source": [
    "# Caclulate WACC for Westfarmers\n",
    "\n",
    "FIN_S_T = FIN_S.pivot_table('Value', ['TickName', 'Date'], 'Metric')\n",
    "\n",
    "# FIN_S_T.to_excel('/Users/joezhou/Downloads/test_file.xlsx', engine='xlsxwriter')  \n",
    "\n",
    "FIN_S_T['C_TAX_R'] = FIN_S_T['Income Tax Expense']/ FIN_S_T['Income Before Tax']\n",
    "FIN_S_T['C_TOT_DEBT'] = FIN_S_T['Short Long Term Debt']+FIN_S_T['Long Term Debt']\n",
    "FIN_S_T['C_TOT_CPTL'] = FIN_S_T['C_TOT_DEBT'] + FIN_S_T['Total Stockholder Equity']\n",
    "\n",
    "FIN_S_T['C_TOT_DEBT_PERC'] = FIN_S_T['C_TOT_DEBT'] / FIN_S_T['C_TOT_CPTL']\n",
    "FIN_S_T['C_TOT_EQTY_PERC'] = 1 - FIN_S_T['C_TOT_DEBT_PERC']\n",
    "\n",
    "FIN_S_T['C_COST_DEBT'] = FIN_S_T['Long Term Debt'] / FIN_S_T['Total Assets']\n",
    "#need to work out cost of equity using westfarmers excel sheet\n",
    "FIN_S_T['C_COST_EQTY'] = 0.0502\n",
    "\n",
    "FIN_S_T['C_WACC'] = (FIN_S_T['C_TOT_DEBT_PERC']* FIN_S_T['C_COST_DEBT']) + (FIN_S_T['C_TOT_EQTY_PERC']*FIN_S_T['C_COST_EQTY'])*(1-FIN_S_T['C_TAX_R'])\n"
   ]
  },
  {
   "cell_type": "code",
   "execution_count": null,
   "metadata": {},
   "outputs": [],
   "source": [
    "# extract variables and formatting\n",
    "FIN_S2 = FIN_S[FIN_S['Metric'].isin(['Short Long Term Debt','Total Stockholder Equity'])]\n",
    "# the above used to calculate debt and equity rate\n",
    "\n",
    "# risk free rate, use the 10 year bond rate\n",
    "RF = .01\n",
    "\n",
    "# BETA = use from the info section\n",
    "\n",
    "# Gross yield\n",
    "average_return = 5.63\n",
    "\n",
    "\n"
   ]
  },
  {
   "cell_type": "code",
   "execution_count": null,
   "metadata": {},
   "outputs": [],
   "source": []
  },
  {
   "cell_type": "code",
   "execution_count": null,
   "metadata": {},
   "outputs": [],
   "source": [
    "# BG_MODEL.to_pickle(\"/Users/joezhou/Downloads/C_CALCS.pkl\")\n",
    "# BG_MODEL.to_excel('/Users/joezhou/Downloads/C_CALCS.xlsx', engine='xlsxwriter')  \n",
    "\n"
   ]
  }
 ],
 "metadata": {
  "kernelspec": {
   "display_name": "Python 3.8.5 ('base')",
   "language": "python",
   "name": "python3"
  },
  "language_info": {
   "codemirror_mode": {
    "name": "ipython",
    "version": 3
   },
   "file_extension": ".py",
   "mimetype": "text/x-python",
   "name": "python",
   "nbconvert_exporter": "python",
   "pygments_lexer": "ipython3",
   "version": "3.8.5"
  },
  "orig_nbformat": 4,
  "vscode": {
   "interpreter": {
    "hash": "29ef60e46f341bb51c2a63b17c19fb7c83213fa52e6b916fbf12c8b5ee03317f"
   }
  }
 },
 "nbformat": 4,
 "nbformat_minor": 2
}
