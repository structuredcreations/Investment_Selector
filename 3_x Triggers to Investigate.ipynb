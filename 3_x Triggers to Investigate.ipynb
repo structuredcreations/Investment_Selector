{
 "cells": [
  {
   "attachments": {},
   "cell_type": "markdown",
   "metadata": {},
   "source": [
    "The objective of this module is to identify triggers for further research"
   ]
  },
  {
   "cell_type": "code",
   "execution_count": 2,
   "metadata": {},
   "outputs": [],
   "source": [
    "import pandas as pd\n",
    "import numpy as np"
   ]
  },
  {
   "cell_type": "code",
   "execution_count": 4,
   "metadata": {},
   "outputs": [],
   "source": [
    "\n",
    "# The aim of this module is to calculate features using financial information\n",
    "\n",
    "# File name convention\n",
    "# R_ = raw extract \n",
    "# E_ = Entry files into enrichment layer\n",
    "# C_ = enriched layer with calculation\n",
    "# I = insights layer, designed for model baselines\n",
    "# V_ = validation\n",
    "\n",
    "R_INFO = pd.read_pickle ('/Users/joezhou/Downloads/Investment/1 data/R_ALL_INFO.pkl') \n",
    "R_DIV = pd.read_pickle ('/Users/joezhou/Downloads/Investment/1 data/R_ALL_Div.pkl') \n",
    "R_PRICE = pd.read_pickle ('/Users/joezhou/Downloads/Investment/1 data/R_ALL_Prices.pkl') \n",
    "\n",
    "FIN1 = pd.read_pickle ('/Users/joezhou/Downloads/Investment/1 data/R_ALL_FIN_1.pkl') \n",
    "FIN2 = pd.read_pickle ('/Users/joezhou/Downloads/Investment/1 data/R_ALL_FIN_2.pkl') \n",
    "FIN3 = pd.read_pickle ('/Users/joezhou/Downloads/Investment/1 data/R_ALL_FIN_3.pkl') \n",
    "FIN4 = pd.read_pickle ('/Users/joezhou/Downloads/Investment/1 data/R_ALL_FIN_4.pkl') \n",
    "\n",
    "R_FIN = pd.concat([FIN1, FIN2, FIN3, FIN4], ignore_index=True)\n",
    "del FIN1, FIN2, FIN3, FIN4\n",
    "\n",
    "\n",
    "\n",
    "I_TIC = pd.read_pickle ('/Users/joezhou/Downloads/Investment/1 data/E_TICK_INPUTS.pkl') \n",
    "I_INFO = pd.read_pickle ('/Users/joezhou/Downloads/Investment/1 data/E_ALL_INFO.pkl') \n",
    "I_DIV = pd.read_pickle ('/Users/joezhou/Downloads/Investment/1 data/E_ALL_Div.pkl') \n",
    "I_PRICE = pd.read_pickle ('/Users/joezhou/Downloads/Investment/1 data/E_ALL_Prices.pkl') \n",
    "I_FIN = pd.read_pickle ('/Users/joezhou/Downloads/Investment/1 data/E_ALL_FIN.pkl') \n",
    "\n",
    "I_FLAT = pd.read_pickle ('/Users/joezhou/Downloads/Investment/1 data/C_TICKER_FLAT.pkl') \n",
    "\n"
   ]
  },
  {
   "cell_type": "code",
   "execution_count": 5,
   "metadata": {},
   "outputs": [],
   "source": [
    "from datetime import datetime as dt\n",
    "dte = dt.now().strftime('%Y%m%d')\n",
    "fname = \"/Users/joezhou/Downloads/I_FLAT{}.xlsx\".format(dte)\n",
    "I_FLAT.to_excel(fname)"
   ]
  },
  {
   "cell_type": "code",
   "execution_count": null,
   "metadata": {},
   "outputs": [],
   "source": []
  }
 ],
 "metadata": {
  "kernelspec": {
   "display_name": "base",
   "language": "python",
   "name": "python3"
  },
  "language_info": {
   "codemirror_mode": {
    "name": "ipython",
    "version": 3
   },
   "file_extension": ".py",
   "mimetype": "text/x-python",
   "name": "python",
   "nbconvert_exporter": "python",
   "pygments_lexer": "ipython3",
   "version": "3.10.9"
  },
  "orig_nbformat": 4
 },
 "nbformat": 4,
 "nbformat_minor": 2
}
