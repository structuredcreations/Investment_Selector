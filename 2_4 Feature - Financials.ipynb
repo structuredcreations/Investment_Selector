{
 "metadata": {
  "language_info": {
   "codemirror_mode": {
    "name": "ipython",
    "version": 3
   },
   "file_extension": ".py",
   "mimetype": "text/x-python",
   "name": "python",
   "nbconvert_exporter": "python",
   "pygments_lexer": "ipython3",
   "version": "3.8.5-final"
  },
  "orig_nbformat": 2,
  "kernelspec": {
   "name": "python3",
   "display_name": "Python 3",
   "language": "python"
  }
 },
 "nbformat": 4,
 "nbformat_minor": 2,
 "cells": [
  {
   "cell_type": "code",
   "execution_count": 4,
   "metadata": {},
   "outputs": [],
   "source": [
    "import pandas as pd\n",
    "\n",
    "DF = pd.read_excel (r'/Users/joezhou/Downloads/ALL_FIN.xlsx') \n",
    "\n",
    "#Create a sample for code testing purposes\n",
    "FIN = DF[DF['TickName'].isin(['CBA.AX','ANZ.AX','APT.AX','Z1P.AX'])]\n",
    "\n",
    "#create a baselist for adding on the feature engineered variables\n",
    "TICKER_LIST = FIN['TickName'].drop_duplicates().reset_index(drop=True)"
   ]
  },
  {
   "cell_type": "code",
   "execution_count": 12,
   "metadata": {},
   "outputs": [],
   "source": [
    " FIN_METRICS = FIN.pivot_table(index=['TickName', 'Date'], columns='Metric', values='Value').reset_index()\n",
    " df.loc[df.groupby('id').date.idxmax()]"
   ]
  },
  {
   "cell_type": "code",
   "execution_count": 19,
   "metadata": {},
   "outputs": [],
   "source": [
    "# Create variables\n",
    "# FIN_METRICS.head()\n",
    "\n",
    "FIN_VARS = FIN_METRICS.loc[FIN_METRICS.groupby('TickName').Date.idxmax()]"
   ]
  },
  {
   "cell_type": "code",
   "execution_count": null,
   "metadata": {},
   "outputs": [],
   "source": [
    "#Split into category vs continous features\n",
    "categorical_features = DF_YFIN_INFO_BASE[['sector','state']]\n",
    "continuous_features = DF_YFIN_INFO_BASE[['dividendRate',\n",
    "'heldPercentInstitutions',\n",
    "'beta',\n",
    "'profitMargins',\n",
    "'trailingPE']]\n",
    "\n",
    "data = DF_YFIN_INFO_BASE\n",
    "\n",
    "# convert categories to numeric\n",
    "for col in categorical_features:\n",
    "    dummies = pd.get_dummies(data[col], prefix=col)\n",
    "    data = pd.concat([data, dummies], axis=1)\n",
    "    data.drop(col, axis=1, inplace=True)\n",
    "\n",
    "# Standardise data\n",
    "import numpy as np\n",
    "\n",
    "data.replace([np.inf, -np.inf], np.nan, inplace=True)"
   ]
  },
  {
   "cell_type": "code",
   "execution_count": null,
   "metadata": {},
   "outputs": [],
   "source": [
    "\n",
    "\n"
   ]
  },
  {
   "cell_type": "code",
   "execution_count": null,
   "metadata": {},
   "outputs": [],
   "source": []
  },
  {
   "cell_type": "code",
   "execution_count": null,
   "metadata": {},
   "outputs": [],
   "source": []
  },
  {
   "cell_type": "code",
   "execution_count": 20,
   "metadata": {},
   "outputs": [],
   "source": [
    "FIN_VARS.to_excel('/Users/joezhou/Downloads/ALL_FIN_Features.xlsx')  \n"
   ]
  },
  {
   "cell_type": "code",
   "execution_count": null,
   "metadata": {},
   "outputs": [],
   "source": []
  }
 ]
}