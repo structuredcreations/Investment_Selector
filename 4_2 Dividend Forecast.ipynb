{
 "metadata": {
  "language_info": {
   "codemirror_mode": {
    "name": "ipython",
    "version": 3
   },
   "file_extension": ".py",
   "mimetype": "text/x-python",
   "name": "python",
   "nbconvert_exporter": "python",
   "pygments_lexer": "ipython3",
   "version": "3.7.4-final"
  },
  "orig_nbformat": 2,
  "kernelspec": {
   "name": "python_defaultSpec_1598751631405",
   "display_name": "Python 3.7.4 64-bit ('base': conda)"
  }
 },
 "nbformat": 4,
 "nbformat_minor": 2,
 "cells": [
  {
   "cell_type": "code",
   "execution_count": 1,
   "metadata": {},
   "outputs": [],
   "source": [
    "import numpy as np\n",
    "import pandas as  pd\n",
    "import matplotlib.pyplot as plt\n",
    "import seaborn as sns\n",
    "\n",
    "#!pip install yfinance --upgrade --no-cache-dir\n",
    "#!pip uninstall yfinance\n",
    "#!pip install git+https://github.com/rodrigobercini/yfinance.git\n",
    "import yfinance as yf\n",
    "import yahoofinancials as yfin"
   ]
  },
  {
   "cell_type": "code",
   "execution_count": 2,
   "metadata": {},
   "outputs": [
    {
     "output_type": "execute_result",
     "data": {
      "text/plain": "4.224980162478038"
     },
     "metadata": {},
     "execution_count": 2
    }
   ],
   "source": [
    "tick = yf.Ticker(\"CBA.AX\")\n",
    "\n",
    "DIV = tick.dividends\n",
    "DIV_PA = DIV.resample('Y').sum()\n",
    "# minimum of last 4 dividends excluding the current calendar year\n",
    "# current calendar year is represented by -1\n",
    "DIV_L4_AVG = DIV_PA.iloc[[-5,-4,-3,-2]].sum()/4\n",
    "DIV_L4_STD = DIV_PA.iloc[[-5,-4,-3,-2]].std()\n",
    "DIVIDEND_BASE = DIV_L4_AVG - DIV_L4_STD\n",
    "DIVIDEND_BASE"
   ]
  },
  {
   "cell_type": "code",
   "execution_count": 3,
   "metadata": {},
   "outputs": [
    {
     "output_type": "execute_result",
     "data": {
      "text/plain": "Date\n2016-12-31    4.20\n2017-12-31    4.29\n2018-12-31    4.31\n2019-12-31    4.31\nName: Dividends, dtype: float64"
     },
     "metadata": {},
     "execution_count": 3
    }
   ],
   "source": [
    "#find last 5 years of dividends\n",
    "DIV2 = DIV\n",
    "DIV3 = DIV2.resample('Y').sum()\n",
    "DIV4= DIV3.iloc[[-5,-4,-3,-2]]\n",
    "DIV4"
   ]
  },
  {
   "cell_type": "code",
   "execution_count": 4,
   "metadata": {
    "tags": []
   },
   "outputs": [
    {
     "output_type": "stream",
     "name": "stdout",
     "text": "4.2620000000000005 0.16979399282660151\n"
    }
   ],
   "source": [
    "DIV2 = DIV\n",
    "\n",
    "DIV3 = DIV2.resample('Y').sum()\n",
    "mean = DIV3[-6:-1].mean()\n",
    "std = DIV[-6:-1].std()\n",
    "#DIV3[:-1].plot(title=\"yearly CBA Dividend over time\")\n",
    "print(mean,std)"
   ]
  },
  {
   "cell_type": "code",
   "execution_count": null,
   "metadata": {},
   "outputs": [],
   "source": []
  }
 ]
}