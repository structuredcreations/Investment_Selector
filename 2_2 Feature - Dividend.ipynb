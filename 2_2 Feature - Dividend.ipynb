{
 "cells": [
  {
   "cell_type": "code",
   "execution_count": 1,
   "metadata": {},
   "outputs": [],
   "source": [
    "# The aim of this module is to calculate features based on dividend history\n",
    "\n",
    "# File name convention\n",
    "# R_ = raw extract \n",
    "# E_ = Entry files into enrichment layer\n",
    "# C_ = enriched layer with calculation\n",
    "# I = insights layer, designed for model baselines\n",
    "# V_ = validation\n"
   ]
  },
  {
   "cell_type": "code",
   "execution_count": 1,
   "metadata": {},
   "outputs": [],
   "source": [
    "import pandas as pd\n",
    "pd.options.mode.chained_assignment = None  # default='warn'\n",
    "\n",
    "DIV = pd.read_pickle ('/Users/joezhou/Downloads/Investment/1 data/R_ALL_Div.pkl') \n",
    "\n",
    "\n",
    "#create a baselist for adding on the feature engineered variables\n",
    "TICKER_LIST = DIV['TickName'].drop_duplicates().reset_index()\n"
   ]
  },
  {
   "cell_type": "code",
   "execution_count": 2,
   "metadata": {},
   "outputs": [
    {
     "name": "stderr",
     "output_type": "stream",
     "text": [
      "<ipython-input-2-fc80c54eb52e>:35: FutureWarning: Indexing with multiple keys (implicitly converted to a tuple of keys) will be deprecated, use a list instead.\n",
      "  DF_DIV_SUM = DIV_CALC.groupby(['TickName'])['CALC_DIV_1YR','CALC_DIV_3YR','CALC_DIV_5YR','CALC_DIV_10YR'].sum().reset_index()\n",
      "<ipython-input-2-fc80c54eb52e>:36: FutureWarning: Indexing with multiple keys (implicitly converted to a tuple of keys) will be deprecated, use a list instead.\n",
      "  DF_DIV_MED = DIV_CALC.groupby(['TickName'])['CALC_DIV_1YR','CALC_DIV_3YR','CALC_DIV_5YR','CALC_DIV_10YR'].median().reset_index()\n",
      "<ipython-input-2-fc80c54eb52e>:37: FutureWarning: Indexing with multiple keys (implicitly converted to a tuple of keys) will be deprecated, use a list instead.\n",
      "  DF_DIV_FREQ = DIV_CALC.groupby(['TickName'])['CALC_DIV_1YR','CALC_DIV_3YR','CALC_DIV_5YR','CALC_DIV_10YR'].count().reset_index()\n",
      "<ipython-input-2-fc80c54eb52e>:38: FutureWarning: Indexing with multiple keys (implicitly converted to a tuple of keys) will be deprecated, use a list instead.\n",
      "  DF_DIV_STD = DIV_CALC.groupby(['TickName'])['CALC_DIV_1YR','CALC_DIV_3YR','CALC_DIV_5YR','CALC_DIV_10YR'].std().reset_index()\n"
     ]
    }
   ],
   "source": [
    "# find the last total dividend payout for last n years\n",
    "\n",
    "from datetime import datetime\n",
    "from dateutil.relativedelta import relativedelta\n",
    "\n",
    "yrs_ago1 = datetime.now() - relativedelta(years=1)\n",
    "yrs_ago3 = datetime.now() - relativedelta(years=3)\n",
    "yrs_ago5 = datetime.now() - relativedelta(years=5)\n",
    "yrs_ago10 = datetime.now() - relativedelta(years=10)\n",
    "\n",
    "DIV_CALC = DIV\n",
    "# DIV_CALC = DIV[DIV['TickName'].isin(['CBA.AX','WES.AX'])]\n",
    "# export to validate calculation below\n",
    "# from datetime import datetime as dt\n",
    "# dte = dt.now().strftime('%Y%m%d')\n",
    "# fname = \"/Users/joezhou/Downloads/TEST_HIST_DIV_PMT{}.xlsx\".format(dte)\n",
    "# DIV_CALC.to_excel(fname)\n",
    "\n",
    "DIV_CALC['DateTime'] = pd.to_datetime(DIV_CALC['Date'], format='%Y-%m-%d')\n",
    "DIV_CALC['Year'] = DIV_CALC['DateTime'].dt.year\n",
    "\n",
    "DIV_CALC['CALC_DIV_1YR'] = DIV_CALC.loc[DIV_CALC['DateTime'] >= yrs_ago1,['Dividends']].sum(axis=1)\n",
    "DIV_CALC['CALC_DIV_3YR'] = DIV_CALC.loc[DIV_CALC['DateTime'] >= yrs_ago3,['Dividends']].sum(axis=1)\n",
    "DIV_CALC['CALC_DIV_5YR'] = DIV_CALC.loc[DIV_CALC['DateTime'] >= yrs_ago5,['Dividends']].sum(axis=1)\n",
    "DIV_CALC['CALC_DIV_10YR'] = DIV_CALC.loc[DIV_CALC['DateTime'] >= yrs_ago10,['Dividends']].sum(axis=1)\n",
    "\n",
    "\n",
    "# DIV['CALC_DIV_1YR'].fillna(0, inplace=True)\n",
    "\n",
    "\n",
    "# DF_DIV_HIST_S2 = DIV.loc[(DIV['DateTime'] >= yrs_ago1)]\n",
    "\n",
    "# calculate the median as reference point\n",
    "# DF_DIV_MED = DF_DIV_HIST_S2.groupby(['TickName'])['Dividends'].median().reset_index()\n",
    "DF_DIV_SUM = DIV_CALC.groupby(['TickName'])['CALC_DIV_1YR','CALC_DIV_3YR','CALC_DIV_5YR','CALC_DIV_10YR'].sum().reset_index()\n",
    "DF_DIV_MED = DIV_CALC.groupby(['TickName'])['CALC_DIV_1YR','CALC_DIV_3YR','CALC_DIV_5YR','CALC_DIV_10YR'].median().reset_index()\n",
    "DF_DIV_FREQ = DIV_CALC.groupby(['TickName'])['CALC_DIV_1YR','CALC_DIV_3YR','CALC_DIV_5YR','CALC_DIV_10YR'].count().reset_index()\n",
    "DF_DIV_STD = DIV_CALC.groupby(['TickName'])['CALC_DIV_1YR','CALC_DIV_3YR','CALC_DIV_5YR','CALC_DIV_10YR'].std().reset_index()\n",
    "\n",
    "\n",
    "DF_DIV_SUM = DF_DIV_SUM.add_suffix('_AMT')\n",
    "DF_DIV_MED = DF_DIV_MED.add_suffix('_AMT_MED')\n",
    "DF_DIV_FREQ = DF_DIV_FREQ.add_suffix('_FREQ')\n",
    "DF_DIV_STD = DF_DIV_STD.add_suffix('_AMT_STDDEV')\n",
    "\n",
    "DF_DIV_SUM = DF_DIV_SUM.rename(columns={\"TickName_AMT\": \"TickName\"})\n",
    "DF_DIV_MED = DF_DIV_MED.rename(columns={\"TickName_AMT_MED\": \"TickName\"})\n",
    "DF_DIV_FREQ = DF_DIV_FREQ.rename(columns={\"TickName_FREQ\": \"TickName\"})\n",
    "DF_DIV_STD = DF_DIV_STD.rename(columns={\"TickName_AMT_STDDEV\": \"TickName\"})\n"
   ]
  },
  {
   "cell_type": "code",
   "execution_count": 3,
   "metadata": {},
   "outputs": [],
   "source": [
    "# Combine all parts together\n",
    "\n",
    "DIV_INFO = TICKER_LIST.merge(DF_DIV_SUM,how='left',on='TickName').merge(DF_DIV_MED,how='left',on='TickName').merge(DF_DIV_FREQ,how='left',on='TickName').merge(DF_DIV_STD,how='left',on='TickName')\n",
    "\n",
    "del DF_DIV_SUM, DF_DIV_MED, DF_DIV_FREQ, DF_DIV_STD"
   ]
  },
  {
   "cell_type": "code",
   "execution_count": 4,
   "metadata": {},
   "outputs": [],
   "source": [
    "# find the number of missing row within output table\n",
    "NAN_DIV_INFO = DIV_INFO.isna().sum()\n",
    "\n",
    "\n",
    "from datetime import datetime as dt\n",
    "dte = dt.now().strftime('%Y%m%d')\n",
    "fname = \"/Users/joezhou/Downloads/NAN_COUNT_R_DIV_INFO_{}.xlsx\".format(dte)\n",
    "NAN_DIV_INFO.to_excel(fname)\n"
   ]
  },
  {
   "cell_type": "code",
   "execution_count": 6,
   "metadata": {},
   "outputs": [],
   "source": [
    "# calculate rate of return for the dividend\n",
    "\n",
    "# DF_DIV_HIST_S = DIV_CALC.groupby(['TickName', \"Year\"])['Dividends'].sum().reset_index()\n",
    "# DF_DIV_HIST_S.sort_index(axis=1)\n",
    "\n"
   ]
  },
  {
   "cell_type": "code",
   "execution_count": 7,
   "metadata": {},
   "outputs": [],
   "source": [
    "#Note: need to loop this later on for 3mth, 6mth, 12mths and 24mths, or some stochastic process\n",
    "\n",
    "# DIV12_MEDIAN = DIV12.groupby(\"TickName\")[\"Dividends\"].median()\n",
    "# DIV12_STD = DIV12.groupby(\"TickName\")[\"Dividends\"].std()\n",
    "# DIV12_MIN = DIV12.groupby(\"TickName\")[\"Dividends\"].min()\n",
    "# DIV12_MAX = DIV12.groupby(\"TickName\")[\"Dividends\"].max()\n",
    "\n",
    "# TICKER_LIST_ADDED = pd.merge(TICKER_LIST_ADDED,DIV12_MEDIAN,on='TickName').rename(columns={'Dividends': 'Dividends_Median_12mths'})\n",
    "# TICKER_LIST_ADDED = pd.merge(TICKER_LIST_ADDED,DIV12_STD,on='TickName').rename(columns={'Dividends': 'Dividends_Std_12mths'})\n",
    "# TICKER_LIST_ADDED = pd.merge(TICKER_LIST_ADDED,DIV12_MIN,on='TickName').rename(columns={'Dividends': 'Dividends_Min_12mths'})\n",
    "# TICKER_LIST_ADDED = pd.merge(TICKER_LIST_ADDED,DIV12_MAX,on='TickName').rename(columns={'Dividends': 'Dividends_Max_12mths'})\n"
   ]
  },
  {
   "cell_type": "code",
   "execution_count": 8,
   "metadata": {},
   "outputs": [],
   "source": [
    "\n",
    "# calulate flat valuation based on dividend returns\n",
    "# assuming median returns based on PE ratio or flat 10 years\n",
    "\n",
    "# m = Number of payments per period (e.g., m=2 for semiannually payments)\n",
    "# t = Number of years to maturity\n",
    "# ytm = Yield to maturity (in decimals terms)\n",
    "# fv = The Bond’s Face Value\n",
    "# c = Coupon rate (in decimals terms)\n",
    "    \n",
    "# bondPrice = ((fv*c/m*(1-(1+ytm/m)**(-m*t)))/(ytm/m)) + fv*(1+(ytm/m))**(-m*t)"
   ]
  },
  {
   "cell_type": "code",
   "execution_count": 5,
   "metadata": {},
   "outputs": [],
   "source": [
    "DIV_INFO.to_pickle(\"/Users/joezhou/Downloads/Investment/1 data/E_ALL_Div.pkl\")\n"
   ]
  },
  {
   "cell_type": "code",
   "execution_count": 6,
   "metadata": {},
   "outputs": [],
   "source": [
    "DIV_INFO.to_excel(r'/Users/joezhou/Downloads/Investment/1 data/E_ALL_Div.xlsx', index=False)\n"
   ]
  },
  {
   "cell_type": "code",
   "execution_count": null,
   "metadata": {},
   "outputs": [],
   "source": []
  }
 ],
 "metadata": {
  "kernelspec": {
   "display_name": "Python 3.8.5 ('base')",
   "language": "python",
   "name": "python3"
  },
  "language_info": {
   "codemirror_mode": {
    "name": "ipython",
    "version": 3
   },
   "file_extension": ".py",
   "mimetype": "text/x-python",
   "name": "python",
   "nbconvert_exporter": "python",
   "pygments_lexer": "ipython3",
   "version": "3.8.5"
  },
  "orig_nbformat": 2,
  "vscode": {
   "interpreter": {
    "hash": "29ef60e46f341bb51c2a63b17c19fb7c83213fa52e6b916fbf12c8b5ee03317f"
   }
  }
 },
 "nbformat": 4,
 "nbformat_minor": 2
}
