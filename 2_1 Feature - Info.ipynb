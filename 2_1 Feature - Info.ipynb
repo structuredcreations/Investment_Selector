{
 "cells": [
  {
   "cell_type": "code",
   "execution_count": 8,
   "metadata": {},
   "outputs": [],
   "source": [
    "# The aim of this module is to keep non time sensitive variables\n",
    "\n",
    "# File name convention\n",
    "# R_ = raw extract \n",
    "# E_ = Entry files into enrichment layer\n",
    "# C_ = enriched layer with calculation\n",
    "# I = insights layer, designed for model baselines\n",
    "# V_ = validation"
   ]
  },
  {
   "cell_type": "code",
   "execution_count": 1,
   "metadata": {},
   "outputs": [],
   "source": [
    "import pandas as pd\n",
    "\n",
    "# DF_YFIN_INFO = pd.read_csv (r'/Users/joezhou/Downloads/R_ALL_INFO.csv',sep='|') \n",
    "\n",
    "# DF_YFIN_INFO1 = pd.read_csv (r'/Users/joezhou/Downloads/Investment/1 data/R_ALL_INFO_1.csv',sep='|') \n",
    "# DF_YFIN_INFO2 = pd.read_csv (r'/Users/joezhou/Downloads/Investment/1 data/R_ALL_INFO_2.csv',sep='|') \n",
    "# DF_YFIN_INFO3 = pd.read_csv (r'/Users/joezhou/Downloads/Investment/1 data/R_ALL_INFO_3.csv',sep='|') \n",
    "# DF_YFIN_INFO4 = pd.read_csv (r'/Users/joezhou/Downloads/Investment/1 data/R_ALL_INFO_4.csv',sep='|') \n",
    "\n",
    "# DF_YFIN_INFO1 = pd.read_pickle ('/Users/joezhou/Downloads/R_ALL_INFO_1.pkl') \n",
    "# DF_YFIN_INFO2 = pd.read_pickle ('/Users/joezhou/Downloads/R_ALL_INFO_2.pkl') \n",
    "# DF_YFIN_INFO3 = pd.read_pickle ('/Users/joezhou/Downloads/R_ALL_INFO_3.pkl') \n",
    "# DF_YFIN_INFO4 = pd.read_pickle ('/Users/joezhou/Downloads/R_ALL_INFO_4.pkl') \n",
    "\n",
    "DF_YFIN_INFO = pd.read_pickle ('/Users/joezhou/Downloads/Investment/1 data/R_ALL_INFO.pkl') \n",
    "DF_YFIN_INFO.ignore_index=True\n",
    "\n",
    "\n",
    "# DF_YFIN_INFO = pd.concat([DF_YFIN_INFO1, DF_YFIN_INFO2, DF_YFIN_INFO3, DF_YFIN_INFO4], ignore_index=True)\n",
    "\n",
    "# del DF_YFIN_INFO1, DF_YFIN_INFO2, DF_YFIN_INFO3, DF_YFIN_INFO4"
   ]
  },
  {
   "cell_type": "code",
   "execution_count": 8,
   "metadata": {},
   "outputs": [],
   "source": [
    "# extract list of columns for selection\n",
    "DF_YFIN_INFO_COLS = list(DF_YFIN_INFO.columns)\n",
    "\n",
    "# find the number of missing row\n",
    "DF_YFIN_INFO_NAN = DF_YFIN_INFO.isna().sum()\n",
    "\n",
    "\n",
    "from datetime import datetime as dt\n",
    "dte = dt.now().strftime('%Y%m%d')\n",
    "fname = \"/Users/joezhou/Downloads/NAN_COUNT_R_YFIN_INFO_{}.xlsx\".format(dte)\n",
    "DF_YFIN_INFO_NAN.to_excel(fname)\n",
    "\n",
    "\n"
   ]
  },
  {
   "attachments": {},
   "cell_type": "markdown",
   "metadata": {},
   "source": [
    "<!-- Columns with majority of 99%+ of values -->\n",
    "['algorithm'],['annualHoldingsTurnover'],['annualReportExpenseRatio'],['category'],['circulatingSupply'],['dateShortInterest'],['expireDate'],['fromCurrency'],['lastCapGain'],['lastMarket'],['maxSupply'],['morningStarOverallRating'],['morningStarRiskRating'],['revenueQuarterlyGrowth'],['sharesPercentSharesOut'],['sharesShort'],['sharesShortPreviousMonthDate'],['sharesShortPriorMonth'],['shortPercentOfFloat'],['shortRatio'],['startDate'],['strikePrice'],['toCurrency'],['volume24Hr'],['volumeAllCurrencies'],['ytdReturn'],['headSymbol'],['underlyingExchangeSymbol'],['underlyingSymbol'],['postMarketChange'],['postMarketPrice'],['preMarketChange'],['preMarketPrice'],['regularMarketChange'],['averageDailyVolume3Month'],['beta3Year'],['fiveYearAverageReturn'],['fundFamily'],['fundInceptionDate'],['legalType'],['navPrice'],['threeYearAverageReturn'],['totalAssets'],['yield'],['openInterest'],['lastDividendDate'],['lastDividendValue'],['exchangeDataDelayedBy'],['exchangeName'],['marketState'],['quoteSourceName'],['regularMarketSource'],['regularMarketTime'],['52WeekChange'],['SandP52WeekChange'],['impliedSharesOutstanding'],\n",
    "\n",
    "<!-- Columns to remove due to lack of information value -->\n",
    "<!-- location -->\n",
    "['address1'],['companyOfficers'],['address2'],\n",
    "<!-- Misc -->\n",
    "['currency'],['exchange'],['exchangeTimezoneName'],['exchangeTimezoneShortName'],['gmtOffSetMilliseconds'],['market'],['maxAge'],['tradeable'],\n",
    "<!-- Price -->\n",
    "['ask'],['bid'],['dayHigh'],['dayLow'],['fiftyDayAverage'],['fiftyTwoWeekHigh'],['fiftyTwoWeekLow'],['open'],['previousClose'],['regularMarketDayHigh'],['regularMarketDayLow'],['regularMarketOpen'],['regularMarketPreviousClose'],['regularMarketPrice'],['regularMarketVolume'],['volume'],['currentPrice'],['askSize'],['bidSize'],\n",
    "<!-- Reference -->\n",
    "['longBusinessSummary'],['logo_url'],['website'],['financialCurrency'],['phone'],['fax'],\n",
    "<!-- Timing -->\n",
    "['mostRecentQuarter'],['lastFiscalYearEnd'],['nextFiscalYearEnd'],['lastSplitDate'],['lastSplitFactor'],['exDividendDate'],\n",
    "\n",
    "<!-- Reviewed on 20220724, 169 variables were in the information extract -->"
   ]
  },
  {
   "cell_type": "code",
   "execution_count": 2,
   "metadata": {},
   "outputs": [],
   "source": [
    "DF_YFIN_INFO_SUBSET = DF_YFIN_INFO[[\n",
    "\n",
    "# Identifiers\n",
    "'symbol','messageBoardId','quoteType','shortName','longName','uuid',\n",
    "# Location\n",
    "'city','country','zip','state',\n",
    "# Industry and size\n",
    "'industry','sector','fullTimeEmployees',\n",
    "\n",
    "#holder details\n",
    "'heldPercentInsiders','heldPercentInstitutions',\n",
    "\n",
    "# Dividend related\n",
    "'trailingAnnualDividendRate','trailingAnnualDividendYield','dividendRate','dividendYield','fiveYearAvgDividendYield',\n",
    "\n",
    "# variables to investigate\n",
    "# 'isEsgPopulated','priceHint','recommendationKey','numberOfAnalystOpinions',\n",
    "\n",
    "# Price movement and targets\n",
    "'averageDailyVolume10Day','averageVolume','averageVolume10days',\n",
    "'twoHundredDayAverage','targetHighPrice','targetLowPrice','targetMeanPrice','targetMedianPrice','recommendationMean',\n",
    "\n",
    "# Financial metrics\n",
    "# forecast and market influence\n",
    "'forwardEps','forwardPE','beta',\n",
    "# Operations\n",
    "'earningsGrowth','earningsQuarterlyGrowth','ebitda','ebitdaMargins','freeCashflow','grossMargins','grossProfits','netIncomeToCommon','operatingCashflow','operatingMargins','payoutRatio','profitMargins','revenueGrowth','totalRevenue',\n",
    "# Portfolio\n",
    "'bookValue','currentRatio','debtToEquity','enterpriseValue','quickRatio','returnOnAssets','returnOnEquity','totalCash','totalDebt',\n",
    "# price valuation\n",
    "'pegRatio','priceToBook','trailingPE','enterpriseToEbitda','enterpriseToRevenue','priceToSalesTrailing12Months',\n",
    "# unit value\n",
    "'revenuePerShare','totalCashPerShare','trailingEps',\n",
    "# volume\n",
    "'floatShares','marketCap','sharesOutstanding',\n",
    "\n",
    "]]\n",
    "\n",
    "DF_YFIN_INFO_SUBSET = DF_YFIN_INFO_SUBSET.rename(columns={\"symbol\": \"TickName\"})\n",
    "\n"
   ]
  },
  {
   "cell_type": "code",
   "execution_count": 3,
   "metadata": {},
   "outputs": [],
   "source": [
    "\n",
    "DF_YFIN_INFO_SUBSET.to_pickle(\"/Users/joezhou/Downloads/Investment/1 data/E_ALL_INFO.pkl\")\n"
   ]
  },
  {
   "cell_type": "code",
   "execution_count": null,
   "metadata": {},
   "outputs": [],
   "source": []
  }
 ],
 "metadata": {
  "kernelspec": {
   "display_name": "Python 3.8.5 ('base')",
   "language": "python",
   "name": "python3"
  },
  "language_info": {
   "codemirror_mode": {
    "name": "ipython",
    "version": 3
   },
   "file_extension": ".py",
   "mimetype": "text/x-python",
   "name": "python",
   "nbconvert_exporter": "python",
   "pygments_lexer": "ipython3",
   "version": "3.10.9"
  },
  "orig_nbformat": 2,
  "vscode": {
   "interpreter": {
    "hash": "29ef60e46f341bb51c2a63b17c19fb7c83213fa52e6b916fbf12c8b5ee03317f"
   }
  }
 },
 "nbformat": 4,
 "nbformat_minor": 2
}
