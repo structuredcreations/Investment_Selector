{
 "cells": [
  {
   "cell_type": "code",
   "execution_count": 3,
   "metadata": {},
   "outputs": [],
   "source": [
    "# The aim of this module is to calculate features using financial information\n",
    "\n",
    "# File name convention\n",
    "# R_ = raw extract \n",
    "# E_ = Entry files into enrichment layer\n",
    "# C_ = enriched layer with calculation\n",
    "# I = insights layer, designed for model baselines\n",
    "# V_ = validation"
   ]
  },
  {
   "cell_type": "code",
   "execution_count": 11,
   "metadata": {},
   "outputs": [],
   "source": [
    "import pandas as pd\n",
    "import numpy as np\n",
    "\n",
    "# FIN = pd.read_csv (r'/Users/joezhou/Downloads/R_ALL_FIN.csv',sep='|') \n",
    "FIN = pd.read_pickle ('/Users/joezhou/Downloads/Investment/1 data/R_ALL_FIN_1.pkl') \n",
    "\n",
    "#Create a sample for code testing purposes\n",
    "# FIN = DF[DF['TickName'].isin(['CBA.AX','ANZ.AX','APT.AX','Z1P.AX'])]\n",
    "\n",
    "#create a baselist for adding on the feature engineered variables\n",
    "TICKER_LIST = FIN['TickName'].drop_duplicates().reset_index()\n"
   ]
  },
  {
   "cell_type": "code",
   "execution_count": 20,
   "metadata": {},
   "outputs": [],
   "source": [
    "# add suffix to the metric name before transforming into columns\n",
    "# df = FIN\n",
    "# df['color'] = np.where(df['Financial Data Type']== \"Income Statement\", 'F_INC_','')\n",
    "# df['color'] = np.where(df['Financial Data Type']== \"Balance Sheet\", 'F_BS_','')\n",
    "# df['color'] = np.where(df['Financial Data Type']== \"Cashflow\", 'F_CF_'+df['Metric'],'')\n",
    "\n",
    "# df['Metric_N'] = np.where(df['Financial Data Type']== \"Income Statement\", 'F_INC_'+df['Metric'],np.where(df['Financial Data Type']== \"Balance Sheet\", 'F_BS_'+df['Metric'],'F_CF_'+df['Metric']))\n",
    "\n",
    "# del df['Metric']\n",
    "\n",
    "\n",
    "# Transpose to ticker and date grain\n",
    "FIN['Value_num']=FIN['Value'].fillna(0).astype(int)\n",
    "FIN_METRICS = FIN.pivot_table(index=['TickName', 'Date'], columns='Metric', values='Value_num').reset_index()\n",
    "\n",
    "FIN_METRICS_LAST = FIN_METRICS.groupby(\"TickName\").last()\n"
   ]
  },
  {
   "cell_type": "code",
   "execution_count": 6,
   "metadata": {},
   "outputs": [],
   "source": [
    "# add some mmentum indicators\n",
    "# contine revenue growth\n",
    "# tax rate\n",
    "# common ratios, asset to liab etc, cashflow available vs using"
   ]
  },
  {
   "cell_type": "code",
   "execution_count": 21,
   "metadata": {},
   "outputs": [],
   "source": [
    "# Export for the next step\n",
    "FIN_METRICS_LAST.to_pickle(\"/Users/joezhou/Downloads/Investment/1 data/E_ALL_FIN.pkl\")\n"
   ]
  },
  {
   "cell_type": "code",
   "execution_count": 22,
   "metadata": {},
   "outputs": [],
   "source": []
  },
  {
   "cell_type": "code",
   "execution_count": null,
   "metadata": {},
   "outputs": [],
   "source": []
  }
 ],
 "metadata": {
  "kernelspec": {
   "display_name": "Python 3.8.5 ('base')",
   "language": "python",
   "name": "python3"
  },
  "language_info": {
   "codemirror_mode": {
    "name": "ipython",
    "version": 3
   },
   "file_extension": ".py",
   "mimetype": "text/x-python",
   "name": "python",
   "nbconvert_exporter": "python",
   "pygments_lexer": "ipython3",
   "version": "3.8.5"
  },
  "orig_nbformat": 2,
  "vscode": {
   "interpreter": {
    "hash": "29ef60e46f341bb51c2a63b17c19fb7c83213fa52e6b916fbf12c8b5ee03317f"
   }
  }
 },
 "nbformat": 4,
 "nbformat_minor": 2
}
