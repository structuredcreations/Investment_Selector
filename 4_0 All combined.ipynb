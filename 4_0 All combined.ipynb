{
 "cells": [
  {
   "cell_type": "code",
   "execution_count": 9,
   "metadata": {},
   "outputs": [],
   "source": [
    "# The aim of this module is to combine all features\n",
    "\n",
    "# File name convention\n",
    "# R_ = raw extract \n",
    "# E_ = Entry files into enrichment layer\n",
    "# C_ = enriched layer with calculation\n",
    "# I = insights layer, designed for model baselines\n",
    "# V_ = validation\n",
    "\n",
    "import pandas as pd\n",
    "import numpy as np\n",
    "pd.options.mode.chained_assignment = None  # default='warn'"
   ]
  },
  {
   "cell_type": "code",
   "execution_count": 10,
   "metadata": {},
   "outputs": [],
   "source": [
    "\n",
    "C_FLAT = pd.read_pickle ('/Users/joezhou/Downloads/Investment/1 data/C_TICKER_FLAT.pkl') \n"
   ]
  },
  {
   "cell_type": "code",
   "execution_count": 7,
   "metadata": {},
   "outputs": [],
   "source": [
    "C_FLAT = pd.read_pickle ('/Users/joezhou/Downloads/Investment/1 data/C_TICKER_FLAT.pkl') \n",
    "\n",
    "C_VALUE = pd.read_pickle ('/Users/joezhou/Downloads/Investment/1 data/C_VALUATION.pkl') \n",
    "\n",
    "C_BG_MOD = pd.read_pickle ('/Users/joezhou/Downloads/Investment/1 data/C_BEN_G_MODEL.pkl') \n",
    "C_BG_MOD = C_BG_MOD[['TickName','CALC_BG_CONS_BG_SCORE','CALC_BG_ENT_BG_SCORE']]\n",
    "\n",
    "\n",
    "DF_VAL = C_VALUE.merge(C_BG_MOD,how='inner',on='TickName').merge(C_FLAT,how='inner',on='TickName')\n",
    "DF_VAL['CALC_VAL_DIF']=DF_VAL['CALC_VAL_NTA_DIV']-DF_VAL['Last_Close_price']\n",
    "DF_VAL['CALC_VAL_DIF_PERC']=DF_VAL['CALC_VAL_DIF']/DF_VAL['Last_Close_price']\n",
    "\n",
    "\n",
    "DF_VAL.to_pickle(\"/Users/joezhou/Downloads/Investment/1 data/I_MASTER_FLAT.pkl\")\n"
   ]
  },
  {
   "cell_type": "code",
   "execution_count": 8,
   "metadata": {},
   "outputs": [],
   "source": [
    "\n",
    "from datetime import datetime as dt\n",
    "dte = dt.now().strftime('%Y%m%d')\n",
    "fname = \"/Users/joezhou/Downloads/Investment/TEST_FLAT_MASTER{}.xlsx\".format(dte)\n",
    "DF_VAL.to_excel(fname)\n",
    "\n",
    "fname = \"/Users/joezhou/Downloads/Investment/MASTER_DATA_LATEST.xlsx\".format(dte)\n",
    "DF_VAL.to_excel(fname)\n"
   ]
  },
  {
   "cell_type": "code",
   "execution_count": 11,
   "metadata": {},
   "outputs": [],
   "source": [
    "\n",
    "from datetime import datetime as dt\n",
    "dte = dt.now().strftime('%Y%m%d')\n",
    "fname = \"/Users/joezhou/Downloads/Investment/TEST_C_FLAT{}.xlsx\".format(dte)\n",
    "C_FLAT.to_excel(fname)\n"
   ]
  },
  {
   "cell_type": "code",
   "execution_count": null,
   "metadata": {},
   "outputs": [],
   "source": []
  }
 ],
 "metadata": {
  "kernelspec": {
   "display_name": "Python 3.8.5 ('base')",
   "language": "python",
   "name": "python3"
  },
  "language_info": {
   "codemirror_mode": {
    "name": "ipython",
    "version": 3
   },
   "file_extension": ".py",
   "mimetype": "text/x-python",
   "name": "python",
   "nbconvert_exporter": "python",
   "pygments_lexer": "ipython3",
   "version": "3.8.5"
  },
  "orig_nbformat": 4,
  "vscode": {
   "interpreter": {
    "hash": "29ef60e46f341bb51c2a63b17c19fb7c83213fa52e6b916fbf12c8b5ee03317f"
   }
  }
 },
 "nbformat": 4,
 "nbformat_minor": 2
}
