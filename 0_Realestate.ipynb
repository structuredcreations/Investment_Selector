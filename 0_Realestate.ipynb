{
 "cells": [
  {
   "cell_type": "code",
   "execution_count": 1,
   "metadata": {},
   "outputs": [
    {
     "name": "stdout",
     "output_type": "stream",
     "text": [
      "Obtaining realestate_com_au_api from git+https://github.com/tomquirk/realestate-com-au-api.git#egg=realestate_com_au_api\n",
      "  Cloning https://github.com/tomquirk/realestate-com-au-api.git to ./src/realestate-com-au-api\n",
      "Requirement already satisfied: requests in /Users/joezhou/opt/anaconda3/lib/python3.8/site-packages (from realestate_com_au_api) (2.24.0)\n",
      "Collecting fajita\n",
      "  Downloading fajita-0.0.2-py3-none-any.whl (4.7 kB)\n",
      "Requirement already satisfied: idna<3,>=2.5 in /Users/joezhou/opt/anaconda3/lib/python3.8/site-packages (from requests->realestate_com_au_api) (2.10)\n",
      "Requirement already satisfied: certifi>=2017.4.17 in /Users/joezhou/opt/anaconda3/lib/python3.8/site-packages (from requests->realestate_com_au_api) (2020.6.20)\n",
      "Requirement already satisfied: chardet<4,>=3.0.2 in /Users/joezhou/opt/anaconda3/lib/python3.8/site-packages (from requests->realestate_com_au_api) (3.0.4)\n",
      "Requirement already satisfied: urllib3!=1.25.0,!=1.25.1,<1.26,>=1.21.1 in /Users/joezhou/opt/anaconda3/lib/python3.8/site-packages (from requests->realestate_com_au_api) (1.25.11)\n",
      "Installing collected packages: fajita, realestate-com-au-api\n",
      "  Running setup.py develop for realestate-com-au-api\n",
      "Successfully installed fajita-0.0.2 realestate-com-au-api\n",
      "Note: you may need to restart the kernel to use updated packages.\n"
     ]
    }
   ],
   "source": [
    "pip install -e git+https://github.com/tomquirk/realestate-com-au-api.git#egg=realestate_com_au_api\n"
   ]
  },
  {
   "cell_type": "code",
   "execution_count": 2,
   "metadata": {},
   "outputs": [
    {
     "ename": "ModuleNotFoundError",
     "evalue": "No module named 'realestate_com_au'",
     "output_type": "error",
     "traceback": [
      "\u001b[0;31m---------------------------------------------------------------------------\u001b[0m",
      "\u001b[0;31mModuleNotFoundError\u001b[0m                       Traceback (most recent call last)",
      "\u001b[0;32m<ipython-input-2-76c315526094>\u001b[0m in \u001b[0;36m<module>\u001b[0;34m\u001b[0m\n\u001b[0;32m----> 1\u001b[0;31m \u001b[0;32mfrom\u001b[0m \u001b[0mrealestate_com_au\u001b[0m \u001b[0;32mimport\u001b[0m \u001b[0mRealestateComAu\u001b[0m\u001b[0;34m\u001b[0m\u001b[0;34m\u001b[0m\u001b[0m\n\u001b[0m\u001b[1;32m      2\u001b[0m \u001b[0;34m\u001b[0m\u001b[0m\n\u001b[1;32m      3\u001b[0m \u001b[0mapi\u001b[0m \u001b[0;34m=\u001b[0m \u001b[0mRealestateComAu\u001b[0m\u001b[0;34m(\u001b[0m\u001b[0;34m)\u001b[0m\u001b[0;34m\u001b[0m\u001b[0;34m\u001b[0m\u001b[0m\n\u001b[1;32m      4\u001b[0m \u001b[0;34m\u001b[0m\u001b[0m\n\u001b[1;32m      5\u001b[0m \u001b[0;31m# Get property listings\u001b[0m\u001b[0;34m\u001b[0m\u001b[0;34m\u001b[0m\u001b[0;34m\u001b[0m\u001b[0m\n",
      "\u001b[0;31mModuleNotFoundError\u001b[0m: No module named 'realestate_com_au'"
     ]
    }
   ],
   "source": [
    "from realestate_com_au import RealestateComAu\n",
    "\n",
    "api = RealestateComAu()\n",
    "\n",
    "# Get property listings\n",
    "listings = api.search(locations=[\"seventeen seventy, qld 4677\"], channel=\"buy\", keywords=[\"tenant\"], exclude_keywords=[\"pool\"])"
   ]
  },
  {
   "cell_type": "code",
   "execution_count": null,
   "metadata": {},
   "outputs": [],
   "source": []
  }
 ],
 "metadata": {
  "kernelspec": {
   "display_name": "Python 3.8.5 ('base')",
   "language": "python",
   "name": "python3"
  },
  "language_info": {
   "codemirror_mode": {
    "name": "ipython",
    "version": 3
   },
   "file_extension": ".py",
   "mimetype": "text/x-python",
   "name": "python",
   "nbconvert_exporter": "python",
   "pygments_lexer": "ipython3",
   "version": "3.8.5"
  },
  "orig_nbformat": 4,
  "vscode": {
   "interpreter": {
    "hash": "29ef60e46f341bb51c2a63b17c19fb7c83213fa52e6b916fbf12c8b5ee03317f"
   }
  }
 },
 "nbformat": 4,
 "nbformat_minor": 2
}
