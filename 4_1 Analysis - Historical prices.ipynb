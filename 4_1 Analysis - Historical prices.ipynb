{
 "metadata": {
  "language_info": {
   "codemirror_mode": {
    "name": "ipython",
    "version": 3
   },
   "file_extension": ".py",
   "mimetype": "text/x-python",
   "name": "python",
   "nbconvert_exporter": "python",
   "pygments_lexer": "ipython3",
   "version": "3.7.4-final"
  },
  "orig_nbformat": 2,
  "kernelspec": {
   "name": "python_defaultSpec_1600171131966",
   "display_name": "Python 3.7.4 64-bit ('base': conda)"
  }
 },
 "nbformat": 4,
 "nbformat_minor": 2,
 "cells": [
  {
   "cell_type": "code",
   "execution_count": 1,
   "metadata": {},
   "outputs": [],
   "source": [
    "import pandas as pd\n",
    "\n",
    "# Import data from excel, switch to sqlite later on\n",
    "# INF_DF = pd.read_excel (r'/Users/JZ/Downloads/TEST_INFO.xlsx')\n",
    "# FINANCIALS_DF = pd.read_excel (r'/Users/JZ/Downloads/TEST_FIN.xlsx')\n",
    "HIST_PRICE_DF = pd.read_csv (r'/Users/JZ/Downloads/ALL_Prices.csv', sep='|')\n"
   ]
  },
  {
   "cell_type": "code",
   "execution_count": 3,
   "metadata": {},
   "outputs": [],
   "source": [
    "DF_DUP_CHECK = HIST_PRICE_DF.groupby('TickName')['TickName'].nunique()"
   ]
  },
  {
   "cell_type": "code",
   "execution_count": 3,
   "metadata": {},
   "outputs": [],
   "source": [
    "#Find Correlation between all listed companies\n",
    "HIST_PRICE_DF1 = HIST_PRICE_DF\n",
    "#flip data columns\n",
    "HIST_PRICE_DF1['Daily_Open_Close_Chg_Rate']=(HIST_PRICE_DF1['Close']-HIST_PRICE_DF1['Open'])/HIST_PRICE_DF1['Open']\n",
    "HIST_PRICE_DF1['Daily_High_Low_Chg_Rate']=(HIST_PRICE_DF1['High']-HIST_PRICE_DF1['Low'])/HIST_PRICE_DF1['Open']\n",
    "#HIST_PRICE_DF1.pivot( columns='TickName')['Daily_Open_Close_Chg_Rate']\n",
    "\n"
   ]
  },
  {
   "cell_type": "code",
   "execution_count": null,
   "metadata": {},
   "outputs": [],
   "source": []
  }
 ]
}