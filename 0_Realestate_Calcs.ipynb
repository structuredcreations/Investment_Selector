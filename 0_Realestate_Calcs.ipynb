{
 "cells": [
  {
   "cell_type": "code",
   "execution_count": 15,
   "metadata": {},
   "outputs": [],
   "source": [
    "# pip install -e git+https://github.com/tomquirk/realestate-com-au-api.git#egg=realestate_com_au_api\n"
   ]
  },
  {
   "cell_type": "code",
   "execution_count": 1,
   "metadata": {},
   "outputs": [],
   "source": [
    "from realestate_com_au import RealestateComAu\n",
    "\n",
    "api = RealestateComAu()\n",
    "\n",
    "# Get property listings\n",
    "# listings = api.search(locations=[\"seventeen seventy, qld 4677\"], channel=\"buy\", keywords=[\"tenant\"], exclude_keywords=[\"pool\"])\n",
    "\n"
   ]
  },
  {
   "cell_type": "code",
   "execution_count": 2,
   "metadata": {},
   "outputs": [],
   "source": [
    "import pandas as pd\n",
    "\n",
    "# https://www.matthewproctor.com/australian_postcodes\n",
    "df_postcode = pd.read_excel (r'/Users/joezhou/Downloads/Realestate/australian_postcodes.xlsx', sheet_name='Sheet1')\n",
    "\n",
    "# sample test suburb\n",
    "# df_postcode_subset = df_postcode.loc[(df_postcode['Locality']=='LIDCOMBE') & (df_postcode['Postcode']==2141) ]\n",
    "\n",
    "# df_postcode_subset[\"VAR_Find\"] = '[\"'+df_postcode_subset['Postcode'].apply(str)+\",\"+df_postcode_subset['Locality']+'\"]'\n",
    "# list_postcode = list(df_postcode_subset['VAR_Find'].dropna())\n"
   ]
  },
  {
   "cell_type": "code",
   "execution_count": null,
   "metadata": {},
   "outputs": [],
   "source": [
    "# listings_rent = api.search(locations=[\"ACT, NT, SA, WA, NSW, QLD, VIC, TAS\"], channel=\"rent\")\n",
    "# listings_all = api.search(locations=[\"ACT, NT, SA, WA, NSW, QLD, VIC, TAS\"])\n",
    "\n",
    "# last run for rent was 7 mins\n",
    "#note, output caps out at 2,000 records\n",
    "\n",
    "# Find_Text = [\"2141,LIDCOMBE\"]\n",
    "# df_out = api.search(locations=Find_Text,channel=\"rent\")\n",
    "# 870 search records with single quotes"
   ]
  },
  {
   "cell_type": "code",
   "execution_count": 3,
   "metadata": {},
   "outputs": [],
   "source": [
    "# try a loop approach by suburb\n",
    "#note: code below doesn't work for some reason, it returns an arbitary list of values\n",
    "\n",
    "DF_RENT = pd.DataFrame()\n",
    "DF_ALL = pd.DataFrame()\n",
    "\n",
    "def DWN_INF(Find_Text):    \n",
    "    global DF_RENT\n",
    "    try:\n",
    "        df_imp_rent = api.search(locations=Find_Text, channel=\"rent\")\n",
    "        df_imp_rent = pd.DataFrame(df_imp_rent)\n",
    "        \n",
    "        from datetime import datetime as dt\n",
    "        dte = dt.now().strftime('%Y%m%d')\n",
    "        fname = \"/Users/joezhou/Downloads/loop_test{}.xlsx\".format(dte)\n",
    "        df_imp_rent.to_excel(fname)\n",
    "\n",
    "        df_imp_all = api.search(locations=Find_Text)\n",
    "        df_imp_all = pd.DataFrame(df_imp_all)\n",
    "\n",
    "        DF_RENT = DF_RENT.append(df_imp_rent, ignore_index=True) \n",
    "        DF_ALL = DF_ALL.append(df_imp_all, ignore_index=True) \n",
    "\n",
    "        print(\"found for:\",Find_Text)\n",
    "\n",
    "    except Exception:\n",
    "        print(\"Error with:\",Find_Text)\n",
    "        pass    \n",
    "    return()\n",
    "\n",
    "# Download all\n",
    "# for Find_Var in list_postcode:\n",
    "#    DWN_INF(Find_Var)\n"
   ]
  },
  {
   "cell_type": "code",
   "execution_count": null,
   "metadata": {},
   "outputs": [],
   "source": [
    "DF_RENT = DF_RENT.drop_duplicates()\n"
   ]
  },
  {
   "cell_type": "code",
   "execution_count": 2,
   "metadata": {},
   "outputs": [],
   "source": [
    "# for Find_Var in list_postcode:\n",
    "    # df_imp_rent = api.search(locations=Find_Var, channel=\"rent\")\n",
    "\n",
    "# DF_RENT.to_pickle(\"/Users/joezhou/Downloads/Realestate/R_ALL_RENT.pkl\")\n",
    "\n",
    "import pandas as pd\n",
    "I_INFO = pd.read_pickle ('/Users/joezhou/Downloads/Realestate/R_ALL_RENT.pkl') \n",
    "\n",
    "\n",
    "from datetime import datetime as dt\n",
    "dte = dt.now().strftime('%Y%m%d')\n",
    "fname = \"/Users/joezhou/Downloads/test_extract_rent_AUS{}.xlsx\".format(dte)\n",
    "I_INFO.to_excel(fname)\n"
   ]
  },
  {
   "cell_type": "code",
   "execution_count": 9,
   "metadata": {},
   "outputs": [
    {
     "name": "stderr",
     "output_type": "stream",
     "text": [
      "/Users/joezhou/opt/anaconda3/lib/python3.8/site-packages/xlsxwriter/worksheet.py:941: UserWarning: Ignoring URL 'https://www.2apply.com.au/agency?n=HaymanPartners&form=0%3cbr/%3e%3cbr/%3eIn%20a%20quiet%20cul-de-sac%20with%20uninterrupted%20leafy%20views%20straight%20down%20the%20Curtin%20green%20belt,%20also%20within%20walking%20distance%20to%20sought-after%20schools,%20the%20Curtin%20shops%20and%20the%20Woden%20Shopping%20precinct,%20this%20four-bedroom%20home%20provides%20the%20ultimate%20in%20family%20convenience.%3cbr/%3e%3cbr/%3eA%20decked%20front%20patio%20offers%20the%20prime%20position%20to%20sit%20and%20enjoy%20the%20views%20and%20keep%20a%20watchful%20eye%20on%20children%20playing%20at%20the%20nearby%20playground%20reserve.%20There's%20also%20additional%20entertaining%20space%20in%20the%20rear%20yard's%20paved%20courtyard%20conveniently%20placed%20off%20the%20kitchen/living%20area.%3cbr/%3e%3cbr/%3eFEATURES%3cbr/%3e•%20Single-level%20family%20brick%20home%20at%20the%20end%20of%20a%20cul-de-sac%20adjacent%20to%20reserve%3cbr/%3e•%20Master%20bedroom%20with%20green%20belt%20views,%20built-in%20wardrobe%20and%20renovated%20ensuite%3cbr/%3e•%20Oversized%20second%20bedroom%20with%20built-in%20wardrobe%3cbr/%3e•%20Main%20bathroom%20with%20shower%20and%20separate%20bathtub%3cbr/%3e•%20Toilet%20located%20in%20separate%20powder%20room%3cbr/%3e•%20Large%20living%20room%20featuring%20a%20brick%20surround%20open%20fireplace%20with%20hammered%20brass/copper%20vent%20hood%3cbr/%3e•%20Kitchen%20with%20walk%20in%20pantry,%20wall%20oven,%20dishwasher,%20and%20access%20to%20living%20room%20with%20a%20backyard%20view%3cbr/%3e•%20Renovated%20laundry%20with%20good%20storage%20and%20external%20access%3cbr/%3e•%20Ducted%20gas%20heating%3cbr/%3e•%20Reverse%20cycle%20heating%20and%20cooling%3cbr/%3e•%20New%20engineered%20hard%20wood%20flooring%20in%20living%20areas%3cbr/%3e•%20Contemporary%20ceiling%20fans%20in%20master%20bedroom,%20second%20bedroom%20and%20living%20room%3cbr/%3e•%20Front%20patio%20and%20deck%3cbr/%3e•%20Low%20maintenance%20gardens%3cbr/%3e•%20Ample%20parking%20including%20carport%20and%20off%20street%20parking%20for%20an%20additional%20car%3cbr/%3eLast%20known%20EER%200.0%3cbr/%3eTenants%20must%20seek%20permission%20to%20keep%20pets%20at%20the%20property%20%3cbr/%3e' with link or location/anchor > 2079 characters since it exceeds Excel's limit for URLS\n",
      "  warn(\"Ignoring URL '%s' with link or location/anchor > %d \"\n"
     ]
    }
   ],
   "source": [
    "df_out = pd.DataFrame(df_out)\n",
    "\n",
    "from datetime import datetime as dt\n",
    "dte = dt.now().strftime('%Y%m%d')\n",
    "fname = \"/Users/joezhou/Downloads/test_extract_rent_AUS{}.xlsx\".format(dte)\n",
    "DF_RENT.to_excel(fname)\n"
   ]
  },
  {
   "cell_type": "code",
   "execution_count": null,
   "metadata": {},
   "outputs": [],
   "source": [
    "\n",
    "\n",
    "# RAW_DATA = pd.read_pickle ('/Users/joezhou/Downloads/Realestate/R_REALESTATE_ALL.pkl') \n",
    "\n",
    "RAW_DATA_SUBSET = DF_ALL.drop(columns=['images', 'images_floorplans', 'listers'])\n",
    "\n",
    "# summarise by postcode\n",
    "\n",
    "RAW_DATA_SUM = RAW_DATA_SUBSET.groupby(\"postcode\")[\"price\"].median()\n",
    "RAW_DATA_SUM = pd.DataFrame(RAW_DATA_SUM)\n",
    "RAW_DATA_SUM.rename(columns={'price':'price_BUY'}, inplace = True)\n"
   ]
  },
  {
   "cell_type": "code",
   "execution_count": null,
   "metadata": {},
   "outputs": [],
   "source": [
    "# RAW_DATA_RENT = pd.read_pickle ('/Users/joezhou/Downloads/Realestate/R_REALESTATE_RENT.pkl') \n",
    "\n",
    "RAW_DATA_RENT_SUBSET = DF_RENT.drop(columns=['images', 'images_floorplans', 'listers'])\n",
    "\n",
    "# summarise by postcode\n",
    "\n",
    "RAW_DATA_RENT_SUM = RAW_DATA_RENT_SUBSET.groupby(\"postcode\")[\"price\"].median()\n",
    "RAW_DATA_RENT_SUM = pd.DataFrame(RAW_DATA_RENT_SUM)\n",
    "RAW_DATA_RENT_SUM.rename(columns={\"price\": \"price_RENT\"}, inplace = True)\n"
   ]
  },
  {
   "cell_type": "code",
   "execution_count": null,
   "metadata": {},
   "outputs": [
    {
     "name": "stderr",
     "output_type": "stream",
     "text": [
      "INFO:numexpr.utils:NumExpr defaulting to 4 threads.\n"
     ]
    }
   ],
   "source": [
    "df_comp = RAW_DATA_SUM.merge(RAW_DATA_RENT_SUM,how='left',on='postcode')\n",
    "\n",
    "df_comp['YEARLY_RENT']=df_comp['price_RENT']*52\n",
    "df_comp['RENT_YIELD']=df_comp['YEARLY_RENT']/df_comp['price_BUY']\n",
    "\n",
    "# 7303"
   ]
  },
  {
   "cell_type": "code",
   "execution_count": null,
   "metadata": {},
   "outputs": [],
   "source": []
  }
 ],
 "metadata": {
  "kernelspec": {
   "display_name": "Python 3.8.5 ('base')",
   "language": "python",
   "name": "python3"
  },
  "language_info": {
   "codemirror_mode": {
    "name": "ipython",
    "version": 3
   },
   "file_extension": ".py",
   "mimetype": "text/x-python",
   "name": "python",
   "nbconvert_exporter": "python",
   "pygments_lexer": "ipython3",
   "version": "3.8.5"
  },
  "orig_nbformat": 4,
  "vscode": {
   "interpreter": {
    "hash": "29ef60e46f341bb51c2a63b17c19fb7c83213fa52e6b916fbf12c8b5ee03317f"
   }
  }
 },
 "nbformat": 4,
 "nbformat_minor": 2
}
