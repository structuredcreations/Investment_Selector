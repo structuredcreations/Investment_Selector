{
 "cells": [
  {
   "cell_type": "code",
   "execution_count": 1,
   "metadata": {},
   "outputs": [],
   "source": [
    "# The aim of this script is to download all rental property data and all available property from realestate website.\n",
    "# the looping method doesn't work, hence the long winded version"
   ]
  },
  {
   "cell_type": "code",
   "execution_count": 1,
   "metadata": {},
   "outputs": [],
   "source": [
    "# pip install -e git+https://github.com/tomquirk/realestate-com-au-api.git#egg=realestate_com_au_api\n",
    "\n",
    "from realestate_com_au import RealestateComAu\n",
    "api = RealestateComAu()\n",
    "\n",
    "# Get property listings\n",
    "# listings = api.search(locations=[\"seventeen seventy, qld 4677\"], channel=\"buy\", keywords=[\"tenant\"], exclude_keywords=[\"pool\"])"
   ]
  },
  {
   "cell_type": "code",
   "execution_count": 2,
   "metadata": {},
   "outputs": [],
   "source": [
    "# https://www.matthewproctor.com/australian_postcodes\n",
    "# df_postcode = pd.read_excel (r'/Users/joezhou/Downloads/Realestate/australian_postcodes.xlsx', sheet_name='Sheet1')\n",
    "\n",
    "# sample test suburb\n",
    "# df_postcode_subset = df_postcode.loc[(df_postcode['Locality']=='LIDCOMBE') & (df_postcode['Postcode']==2141) ]\n",
    "\n",
    "# df_postcode_subset[\"VAR_Find\"] = '[\"'+df_postcode_subset['Postcode'].apply(str)+\",\"+df_postcode_subset['Locality']+'\"]'\n",
    "# list_postcode = list(df_postcode_subset['VAR_Find'].dropna())"
   ]
  },
  {
   "cell_type": "code",
   "execution_count": 2,
   "metadata": {},
   "outputs": [],
   "source": [
    "import pandas as pd\n",
    "\n",
    "# try a loop approach by suburb\n",
    "#note: code below doesn't work for some reason, it returns an arbitary list of values\n",
    "\n",
    "DF_RENT = pd.DataFrame()\n",
    "DF_ALL = pd.DataFrame()\n",
    "\n",
    "def DWN_INF(Find_Text):    \n",
    "    global DF_RENT\n",
    "    try:\n",
    "        df_imp_rent = api.search(locations=Find_Text, channel=\"rent\")\n",
    "        df_imp_rent = pd.DataFrame(df_imp_rent)\n",
    "        \n",
    "        from datetime import datetime as dt\n",
    "        dte = dt.now().strftime('%Y%m%d')\n",
    "        fname = \"/Users/joezhou/Downloads/loop_test{}.xlsx\".format(dte)\n",
    "        df_imp_rent.to_excel(fname)\n",
    "\n",
    "        df_imp_all = api.search(locations=Find_Text)\n",
    "        df_imp_all = pd.DataFrame(df_imp_all)\n",
    "\n",
    "        DF_RENT = DF_RENT.append(df_imp_rent, ignore_index=True) \n",
    "        DF_ALL = DF_ALL.append(df_imp_all, ignore_index=True) \n",
    "\n",
    "        print(\"found for:\",Find_Text)\n",
    "\n",
    "    except Exception:\n",
    "        print(\"Error with:\",Find_Text)\n",
    "        pass    \n",
    "    return()\n",
    "\n",
    "# Download all\n",
    "# for Find_Var in list_postcode:\n",
    "#    DWN_INF(Find_Var)\n"
   ]
  },
  {
   "cell_type": "code",
   "execution_count": null,
   "metadata": {},
   "outputs": [],
   "source": [
    "#  - rental\n",
    "DF_RENT = pd.DataFrame()\n",
    "\n",
    "DF_RENT1 = DF_RENT.reset_index()\n",
    "DF_RENT2 = DF_RENT1.drop(columns=['id','index','images','images_floorplans','listers'])\n",
    "DF_RENT_UNIQ = DF_RENT2.drop_duplicates()\n",
    "\n",
    "DF_RENT_UNIQ.to_pickle(\"/Users/joezhou/Downloads/Realestate/R_RENT_STATE.pkl\")"
   ]
  },
  {
   "cell_type": "code",
   "execution_count": 4,
   "metadata": {},
   "outputs": [],
   "source": [
    "# ACT - all\n",
    "DF_ALL = pd.DataFrame()\n",
    "\n",
    "\n",
    "\n",
    "DF_ALL1 = DF_ALL.reset_index()\n",
    "DF_ALL2 = DF_ALL1.drop(columns=['id','index','images','images_floorplans','listers'])\n",
    "DF_ALL_UNIQ = DF_ALL2.drop_duplicates()\n",
    "\n",
    "DF_ALL.to_pickle(\"/Users/joezhou/Downloads/Realestate/R_ALL_STATE.pkl\")"
   ]
  }
 ],
 "metadata": {
  "kernelspec": {
   "display_name": "Python 3.8.5 ('base')",
   "language": "python",
   "name": "python3"
  },
  "language_info": {
   "codemirror_mode": {
    "name": "ipython",
    "version": 3
   },
   "file_extension": ".py",
   "mimetype": "text/x-python",
   "name": "python",
   "nbconvert_exporter": "python",
   "pygments_lexer": "ipython3",
   "version": "3.8.5"
  },
  "orig_nbformat": 4,
  "vscode": {
   "interpreter": {
    "hash": "29ef60e46f341bb51c2a63b17c19fb7c83213fa52e6b916fbf12c8b5ee03317f"
   }
  }
 },
 "nbformat": 4,
 "nbformat_minor": 2
}
