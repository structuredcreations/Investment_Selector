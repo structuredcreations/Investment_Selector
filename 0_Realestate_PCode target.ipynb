{
 "cells": [
  {
   "cell_type": "code",
   "execution_count": 23,
   "metadata": {},
   "outputs": [],
   "source": [
    "# The aim of this script is to download all rental property data and all available property from realestate website.\n",
    "# the looping method doesn't work, hence the long winded version\n",
    "\n",
    "# pip install -e git+https://github.com/tomquirk/realestate-com-au-api.git#egg=realestate_com_au_api\n",
    "\n",
    "from realestate_com_au import RealestateComAu\n",
    "api = RealestateComAu()\n",
    "\n",
    "# Get property listings\n",
    "# listings = api.search(locations=[\"seventeen seventy, qld 4677\"], channel=\"buy\", keywords=[\"tenant\"], exclude_keywords=[\"pool\"])\n",
    "\n",
    "import pandas as pd"
   ]
  },
  {
   "cell_type": "code",
   "execution_count": 29,
   "metadata": {},
   "outputs": [
    {
     "name": "stdout",
     "output_type": "stream",
     "text": [
      "finished rent extract\n"
     ]
    },
    {
     "ename": "JSONDecodeError",
     "evalue": "Expecting value: line 1 column 1 (char 0)",
     "output_type": "error",
     "traceback": [
      "\u001b[0;31m---------------------------------------------------------------------------\u001b[0m",
      "\u001b[0;31mJSONDecodeError\u001b[0m                           Traceback (most recent call last)",
      "\u001b[0;32m<ipython-input-29-0b5d8a9aaa05>\u001b[0m in \u001b[0;36m<module>\u001b[0;34m\u001b[0m\n\u001b[1;32m      7\u001b[0m \u001b[0;31m# Everything within the postcode\u001b[0m\u001b[0;34m\u001b[0m\u001b[0;34m\u001b[0m\u001b[0;34m\u001b[0m\u001b[0m\n\u001b[1;32m      8\u001b[0m \u001b[0;31m# RAW_ALL = api.search(locations=['2127,Wentworth Point'] )\u001b[0m\u001b[0;34m\u001b[0m\u001b[0;34m\u001b[0m\u001b[0;34m\u001b[0m\u001b[0m\n\u001b[0;32m----> 9\u001b[0;31m \u001b[0mRAW_ALL\u001b[0m \u001b[0;34m=\u001b[0m \u001b[0mapi\u001b[0m\u001b[0;34m.\u001b[0m\u001b[0msearch\u001b[0m\u001b[0;34m(\u001b[0m\u001b[0mlocations\u001b[0m\u001b[0;34m=\u001b[0m\u001b[0;34m[\u001b[0m\u001b[0;34m'2127,Wentworth Point'\u001b[0m\u001b[0;34m]\u001b[0m\u001b[0;34m,\u001b[0m\u001b[0mchannel\u001b[0m\u001b[0;34m=\u001b[0m\u001b[0;34m\"sale\"\u001b[0m \u001b[0;34m)\u001b[0m\u001b[0;34m\u001b[0m\u001b[0;34m\u001b[0m\u001b[0m\n\u001b[0m\u001b[1;32m     10\u001b[0m \u001b[0mRAW_ALL_DF\u001b[0m \u001b[0;34m=\u001b[0m \u001b[0mpd\u001b[0m\u001b[0;34m.\u001b[0m\u001b[0mDataFrame\u001b[0m\u001b[0;34m(\u001b[0m\u001b[0mRAW_ALL\u001b[0m\u001b[0;34m)\u001b[0m\u001b[0;34m\u001b[0m\u001b[0;34m\u001b[0m\u001b[0m\n\u001b[1;32m     11\u001b[0m \u001b[0mRAW_ALL1\u001b[0m \u001b[0;34m=\u001b[0m \u001b[0mRAW_ALL_DF\u001b[0m\u001b[0;34m.\u001b[0m\u001b[0mdrop\u001b[0m\u001b[0;34m(\u001b[0m\u001b[0mcolumns\u001b[0m\u001b[0;34m=\u001b[0m\u001b[0;34m[\u001b[0m\u001b[0;34m'id'\u001b[0m\u001b[0;34m,\u001b[0m\u001b[0;34m'images'\u001b[0m\u001b[0;34m,\u001b[0m\u001b[0;34m'images_floorplans'\u001b[0m\u001b[0;34m,\u001b[0m\u001b[0;34m'listers'\u001b[0m\u001b[0;34m]\u001b[0m\u001b[0;34m)\u001b[0m\u001b[0;34m\u001b[0m\u001b[0;34m\u001b[0m\u001b[0m\n",
      "\u001b[0;32m~/Github_Repo/Investment_Selector/src/realestate-com-au-api/realestate_com_au/realestate_com_au.py\u001b[0m in \u001b[0;36msearch\u001b[0;34m(self, limit, channel, locations, surrounding_suburbs, exclude_no_sale_price, furnished, pets_allowed, ex_under_contract, min_price, max_price, min_bedrooms, max_bedrooms, property_types, min_bathrooms, min_carspaces, min_land_size, construction_status, keywords, exclude_keywords)\u001b[0m\n\u001b[1;32m    204\u001b[0m             \u001b[0;32mreturn\u001b[0m \u001b[0;32mFalse\u001b[0m\u001b[0;34m\u001b[0m\u001b[0;34m\u001b[0m\u001b[0m\n\u001b[1;32m    205\u001b[0m \u001b[0;34m\u001b[0m\u001b[0m\n\u001b[0;32m--> 206\u001b[0;31m         listings = self._scroll(\n\u001b[0m\u001b[1;32m    207\u001b[0m             \u001b[0;34m\"\"\u001b[0m\u001b[0;34m,\u001b[0m\u001b[0;34m\u001b[0m\u001b[0;34m\u001b[0m\u001b[0m\n\u001b[1;32m    208\u001b[0m             \u001b[0;34m\"POST\"\u001b[0m\u001b[0;34m,\u001b[0m\u001b[0;34m\u001b[0m\u001b[0;34m\u001b[0m\u001b[0m\n",
      "\u001b[0;32m~/opt/anaconda3/lib/python3.8/site-packages/fajita/fajita.py\u001b[0m in \u001b[0;36m_scroll\u001b[0;34m(self, uri, method, parse_items, next_page_fn, done_fn, items, **kwargs)\u001b[0m\n\u001b[1;32m     84\u001b[0m         \u001b[0;32melif\u001b[0m \u001b[0mmethod\u001b[0m \u001b[0;34m==\u001b[0m \u001b[0;34m\"POST\"\u001b[0m\u001b[0;34m:\u001b[0m\u001b[0;34m\u001b[0m\u001b[0;34m\u001b[0m\u001b[0m\n\u001b[1;32m     85\u001b[0m             \u001b[0mres\u001b[0m \u001b[0;34m=\u001b[0m \u001b[0mself\u001b[0m\u001b[0;34m.\u001b[0m\u001b[0m_post\u001b[0m\u001b[0;34m(\u001b[0m\u001b[0muri\u001b[0m\u001b[0;34m,\u001b[0m \u001b[0;34m**\u001b[0m\u001b[0mkwargs\u001b[0m\u001b[0;34m)\u001b[0m\u001b[0;34m\u001b[0m\u001b[0;34m\u001b[0m\u001b[0m\n\u001b[0;32m---> 86\u001b[0;31m         \u001b[0mitems\u001b[0m \u001b[0;34m=\u001b[0m \u001b[0mitems\u001b[0m \u001b[0;34m+\u001b[0m \u001b[0mparse_items\u001b[0m\u001b[0;34m(\u001b[0m\u001b[0mres\u001b[0m\u001b[0;34m)\u001b[0m\u001b[0;34m\u001b[0m\u001b[0;34m\u001b[0m\u001b[0m\n\u001b[0m\u001b[1;32m     87\u001b[0m \u001b[0;34m\u001b[0m\u001b[0m\n\u001b[1;32m     88\u001b[0m         \u001b[0;32mif\u001b[0m \u001b[0mdone_fn\u001b[0m\u001b[0;34m(\u001b[0m\u001b[0mitems\u001b[0m\u001b[0;34m,\u001b[0m \u001b[0mres\u001b[0m\u001b[0;34m,\u001b[0m \u001b[0;34m**\u001b[0m\u001b[0mkwargs\u001b[0m\u001b[0;34m)\u001b[0m\u001b[0;34m:\u001b[0m\u001b[0;34m\u001b[0m\u001b[0;34m\u001b[0m\u001b[0m\n",
      "\u001b[0;32m~/Github_Repo/Investment_Selector/src/realestate-com-au-api/realestate_com_au/realestate_com_au.py\u001b[0m in \u001b[0;36mparse_items\u001b[0;34m(res)\u001b[0m\n\u001b[1;32m    145\u001b[0m \u001b[0;34m\u001b[0m\u001b[0m\n\u001b[1;32m    146\u001b[0m         \u001b[0;32mdef\u001b[0m \u001b[0mparse_items\u001b[0m\u001b[0;34m(\u001b[0m\u001b[0mres\u001b[0m\u001b[0;34m)\u001b[0m\u001b[0;34m:\u001b[0m\u001b[0;34m\u001b[0m\u001b[0;34m\u001b[0m\u001b[0m\n\u001b[0;32m--> 147\u001b[0;31m             \u001b[0mdata\u001b[0m \u001b[0;34m=\u001b[0m \u001b[0mres\u001b[0m\u001b[0;34m.\u001b[0m\u001b[0mjson\u001b[0m\u001b[0;34m(\u001b[0m\u001b[0;34m)\u001b[0m\u001b[0;34m\u001b[0m\u001b[0;34m\u001b[0m\u001b[0m\n\u001b[0m\u001b[1;32m    148\u001b[0m             results = (\n\u001b[1;32m    149\u001b[0m                 \u001b[0mdata\u001b[0m\u001b[0;34m.\u001b[0m\u001b[0mget\u001b[0m\u001b[0;34m(\u001b[0m\u001b[0;34m\"data\"\u001b[0m\u001b[0;34m,\u001b[0m \u001b[0;34m{\u001b[0m\u001b[0;34m}\u001b[0m\u001b[0;34m)\u001b[0m\u001b[0;34m.\u001b[0m\u001b[0mget\u001b[0m\u001b[0;34m(\u001b[0m\u001b[0;34mf\"{channel}Search\"\u001b[0m\u001b[0;34m,\u001b[0m \u001b[0;34m{\u001b[0m\u001b[0;34m}\u001b[0m\u001b[0;34m)\u001b[0m\u001b[0;34m.\u001b[0m\u001b[0mget\u001b[0m\u001b[0;34m(\u001b[0m\u001b[0;34m\"results\"\u001b[0m\u001b[0;34m,\u001b[0m \u001b[0;34m{\u001b[0m\u001b[0;34m}\u001b[0m\u001b[0;34m)\u001b[0m\u001b[0;34m\u001b[0m\u001b[0;34m\u001b[0m\u001b[0m\n",
      "\u001b[0;32m~/opt/anaconda3/lib/python3.8/site-packages/requests/models.py\u001b[0m in \u001b[0;36mjson\u001b[0;34m(self, **kwargs)\u001b[0m\n\u001b[1;32m    896\u001b[0m                     \u001b[0;31m# used.\u001b[0m\u001b[0;34m\u001b[0m\u001b[0;34m\u001b[0m\u001b[0;34m\u001b[0m\u001b[0m\n\u001b[1;32m    897\u001b[0m                     \u001b[0;32mpass\u001b[0m\u001b[0;34m\u001b[0m\u001b[0;34m\u001b[0m\u001b[0m\n\u001b[0;32m--> 898\u001b[0;31m         \u001b[0;32mreturn\u001b[0m \u001b[0mcomplexjson\u001b[0m\u001b[0;34m.\u001b[0m\u001b[0mloads\u001b[0m\u001b[0;34m(\u001b[0m\u001b[0mself\u001b[0m\u001b[0;34m.\u001b[0m\u001b[0mtext\u001b[0m\u001b[0;34m,\u001b[0m \u001b[0;34m**\u001b[0m\u001b[0mkwargs\u001b[0m\u001b[0;34m)\u001b[0m\u001b[0;34m\u001b[0m\u001b[0;34m\u001b[0m\u001b[0m\n\u001b[0m\u001b[1;32m    899\u001b[0m \u001b[0;34m\u001b[0m\u001b[0m\n\u001b[1;32m    900\u001b[0m     \u001b[0;34m@\u001b[0m\u001b[0mproperty\u001b[0m\u001b[0;34m\u001b[0m\u001b[0;34m\u001b[0m\u001b[0m\n",
      "\u001b[0;32m~/opt/anaconda3/lib/python3.8/json/__init__.py\u001b[0m in \u001b[0;36mloads\u001b[0;34m(s, cls, object_hook, parse_float, parse_int, parse_constant, object_pairs_hook, **kw)\u001b[0m\n\u001b[1;32m    355\u001b[0m             \u001b[0mparse_int\u001b[0m \u001b[0;32mis\u001b[0m \u001b[0;32mNone\u001b[0m \u001b[0;32mand\u001b[0m \u001b[0mparse_float\u001b[0m \u001b[0;32mis\u001b[0m \u001b[0;32mNone\u001b[0m \u001b[0;32mand\u001b[0m\u001b[0;34m\u001b[0m\u001b[0;34m\u001b[0m\u001b[0m\n\u001b[1;32m    356\u001b[0m             parse_constant is None and object_pairs_hook is None and not kw):\n\u001b[0;32m--> 357\u001b[0;31m         \u001b[0;32mreturn\u001b[0m \u001b[0m_default_decoder\u001b[0m\u001b[0;34m.\u001b[0m\u001b[0mdecode\u001b[0m\u001b[0;34m(\u001b[0m\u001b[0ms\u001b[0m\u001b[0;34m)\u001b[0m\u001b[0;34m\u001b[0m\u001b[0;34m\u001b[0m\u001b[0m\n\u001b[0m\u001b[1;32m    358\u001b[0m     \u001b[0;32mif\u001b[0m \u001b[0mcls\u001b[0m \u001b[0;32mis\u001b[0m \u001b[0;32mNone\u001b[0m\u001b[0;34m:\u001b[0m\u001b[0;34m\u001b[0m\u001b[0;34m\u001b[0m\u001b[0m\n\u001b[1;32m    359\u001b[0m         \u001b[0mcls\u001b[0m \u001b[0;34m=\u001b[0m \u001b[0mJSONDecoder\u001b[0m\u001b[0;34m\u001b[0m\u001b[0;34m\u001b[0m\u001b[0m\n",
      "\u001b[0;32m~/opt/anaconda3/lib/python3.8/json/decoder.py\u001b[0m in \u001b[0;36mdecode\u001b[0;34m(self, s, _w)\u001b[0m\n\u001b[1;32m    335\u001b[0m \u001b[0;34m\u001b[0m\u001b[0m\n\u001b[1;32m    336\u001b[0m         \"\"\"\n\u001b[0;32m--> 337\u001b[0;31m         \u001b[0mobj\u001b[0m\u001b[0;34m,\u001b[0m \u001b[0mend\u001b[0m \u001b[0;34m=\u001b[0m \u001b[0mself\u001b[0m\u001b[0;34m.\u001b[0m\u001b[0mraw_decode\u001b[0m\u001b[0;34m(\u001b[0m\u001b[0ms\u001b[0m\u001b[0;34m,\u001b[0m \u001b[0midx\u001b[0m\u001b[0;34m=\u001b[0m\u001b[0m_w\u001b[0m\u001b[0;34m(\u001b[0m\u001b[0ms\u001b[0m\u001b[0;34m,\u001b[0m \u001b[0;36m0\u001b[0m\u001b[0;34m)\u001b[0m\u001b[0;34m.\u001b[0m\u001b[0mend\u001b[0m\u001b[0;34m(\u001b[0m\u001b[0;34m)\u001b[0m\u001b[0;34m)\u001b[0m\u001b[0;34m\u001b[0m\u001b[0;34m\u001b[0m\u001b[0m\n\u001b[0m\u001b[1;32m    338\u001b[0m         \u001b[0mend\u001b[0m \u001b[0;34m=\u001b[0m \u001b[0m_w\u001b[0m\u001b[0;34m(\u001b[0m\u001b[0ms\u001b[0m\u001b[0;34m,\u001b[0m \u001b[0mend\u001b[0m\u001b[0;34m)\u001b[0m\u001b[0;34m.\u001b[0m\u001b[0mend\u001b[0m\u001b[0;34m(\u001b[0m\u001b[0;34m)\u001b[0m\u001b[0;34m\u001b[0m\u001b[0;34m\u001b[0m\u001b[0m\n\u001b[1;32m    339\u001b[0m         \u001b[0;32mif\u001b[0m \u001b[0mend\u001b[0m \u001b[0;34m!=\u001b[0m \u001b[0mlen\u001b[0m\u001b[0;34m(\u001b[0m\u001b[0ms\u001b[0m\u001b[0;34m)\u001b[0m\u001b[0;34m:\u001b[0m\u001b[0;34m\u001b[0m\u001b[0;34m\u001b[0m\u001b[0m\n",
      "\u001b[0;32m~/opt/anaconda3/lib/python3.8/json/decoder.py\u001b[0m in \u001b[0;36mraw_decode\u001b[0;34m(self, s, idx)\u001b[0m\n\u001b[1;32m    353\u001b[0m             \u001b[0mobj\u001b[0m\u001b[0;34m,\u001b[0m \u001b[0mend\u001b[0m \u001b[0;34m=\u001b[0m \u001b[0mself\u001b[0m\u001b[0;34m.\u001b[0m\u001b[0mscan_once\u001b[0m\u001b[0;34m(\u001b[0m\u001b[0ms\u001b[0m\u001b[0;34m,\u001b[0m \u001b[0midx\u001b[0m\u001b[0;34m)\u001b[0m\u001b[0;34m\u001b[0m\u001b[0;34m\u001b[0m\u001b[0m\n\u001b[1;32m    354\u001b[0m         \u001b[0;32mexcept\u001b[0m \u001b[0mStopIteration\u001b[0m \u001b[0;32mas\u001b[0m \u001b[0merr\u001b[0m\u001b[0;34m:\u001b[0m\u001b[0;34m\u001b[0m\u001b[0;34m\u001b[0m\u001b[0m\n\u001b[0;32m--> 355\u001b[0;31m             \u001b[0;32mraise\u001b[0m \u001b[0mJSONDecodeError\u001b[0m\u001b[0;34m(\u001b[0m\u001b[0;34m\"Expecting value\"\u001b[0m\u001b[0;34m,\u001b[0m \u001b[0ms\u001b[0m\u001b[0;34m,\u001b[0m \u001b[0merr\u001b[0m\u001b[0;34m.\u001b[0m\u001b[0mvalue\u001b[0m\u001b[0;34m)\u001b[0m \u001b[0;32mfrom\u001b[0m \u001b[0;32mNone\u001b[0m\u001b[0;34m\u001b[0m\u001b[0;34m\u001b[0m\u001b[0m\n\u001b[0m\u001b[1;32m    356\u001b[0m         \u001b[0;32mreturn\u001b[0m \u001b[0mobj\u001b[0m\u001b[0;34m,\u001b[0m \u001b[0mend\u001b[0m\u001b[0;34m\u001b[0m\u001b[0;34m\u001b[0m\u001b[0m\n",
      "\u001b[0;31mJSONDecodeError\u001b[0m: Expecting value: line 1 column 1 (char 0)"
     ]
    }
   ],
   "source": [
    "\n",
    "# RAW_RENT = api.search(locations=['2127,Wentworth Point'],channel=\"rent\")\n",
    "# RAW_RENT_DF = pd.DataFrame(RAW_RENT)\n",
    "# RAW_RENT1 = RAW_RENT_DF.drop(columns=['id','images','images_floorplans','listers'])\n",
    "# RAW_RENT_UNIQ = RAW_RENT1.drop_duplicates()\n",
    "print(\"finished rent extract\")\n",
    "\n",
    "# Everything within the postcode\n",
    "RAW_ALL = api.search(locations=['2127,Wentworth Point'] )\n",
    "RAW_ALL_DF = pd.DataFrame(RAW_ALL)\n",
    "RAW_ALL1 = RAW_ALL_DF.drop(columns=['id','images','images_floorplans','listers'])\n",
    "RAW_ALL_UNIQ = RAW_ALL1.drop_duplicates()\n",
    "print(\"finished all extract\")\n",
    "\n",
    "# del RAW_RENT, RAW_RENT_DF, RAW_RENT1, RAW_ALL, RAW_ALL_DF, RAW_ALL1"
   ]
  },
  {
   "cell_type": "code",
   "execution_count": 25,
   "metadata": {},
   "outputs": [],
   "source": [
    "# consolidate for aggregation comparisons\n",
    "\n",
    "INFO_ALL = RAW_ALL_UNIQ.reset_index() \n",
    "INFO_RENT = RAW_RENT_UNIQ.reset_index()\n",
    "\n",
    "\n",
    "# REF_PCODE_SBRB = REF_PCODE_SBRB[[\"postcode\",\"suburb\"]]\n",
    "# full comparison version\n",
    "REF_PCODE_SBRB = INFO_ALL[[\"postcode\",\"suburb\",\"property_type\",\"bedrooms\",\"bathrooms\"]]\n",
    "REF_PCODE_SBRB = REF_PCODE_SBRB.drop_duplicates()\n",
    "\n",
    "\n",
    "# Remove rentals from the masterlist to create a list of properties to buy\n",
    "#   Note: maybe need to add a few extra filters to find the buy only population\n",
    "A_FIND_BUY = INFO_ALL.merge(INFO_RENT,how='outer',on=[\"postcode\",\"suburb\",\"property_type\",\"bedrooms\",\"bathrooms\"], indicator= True)\n",
    "INFO_BUY = A_FIND_BUY[A_FIND_BUY['_merge']==\"left_only\"]\n",
    "INFO_BUY = INFO_BUY.reset_index()\n",
    "INFO_BUY.columns = INFO_BUY.columns.str.replace(\"_x\",\"\")\n",
    "del A_FIND_BUY\n"
   ]
  },
  {
   "cell_type": "code",
   "execution_count": 26,
   "metadata": {},
   "outputs": [],
   "source": [
    "# Rental data\n",
    "INFO_RENT_1 = INFO_RENT[['suburb','state','postcode','short_address','full_address','property_type','price','price_text','bedrooms','bathrooms','parking_spaces','building_size','building_size_unit','land_size','land_size_unit']].fillna(0)\n",
    "\n",
    "# INFO_RENT_1 = R_INFO_ALL.drop(columns=['badge','url','listing_company_name','listing_company_phone','description']).fillna(0)\n",
    "INFO_RENT_1 = INFO_RENT_1.drop_duplicates()\n",
    "# summarise by postcode and suburb\n",
    "\n",
    "# INFO_RENT_MED = INFO_RENT_1.groupby([\"postcode\",\"suburb\"])[\"price\"].median().reset_index()\n",
    "INFO_RENT_MED = INFO_RENT_1.groupby([\"postcode\",\"suburb\",\"property_type\",\"bedrooms\"])[\"price\"].median().reset_index()\n",
    "INFO_RENT_MED.rename(columns={'price':'price_RENT'}, inplace = True)\n",
    "\n",
    "# INFO_RENT_FREQ = INFO_RENT_1.groupby([\"postcode\",\"suburb\"])[\"full_address\"].count().reset_index()\n",
    "INFO_RENT_FREQ = INFO_RENT_1.groupby([\"postcode\",\"suburb\",\"property_type\",\"bedrooms\"])[\"full_address\"].count().reset_index()\n",
    "INFO_RENT_FREQ.rename(columns={'full_address':'num_RENT'}, inplace = True)\n",
    "\n",
    "# del INFO_RENT_1 "
   ]
  },
  {
   "cell_type": "code",
   "execution_count": 27,
   "metadata": {},
   "outputs": [],
   "source": [
    "# Sales data\n",
    "INFO_BUY_1 = INFO_BUY[['suburb','state','postcode','short_address','full_address','property_type','price','price_text','bedrooms','bathrooms','parking_spaces','building_size','building_size_unit','land_size','land_size_unit']].fillna(0)\n",
    "# A_INFO_SUBSET= INFO_BUY_.reset_index()\n",
    "INFO_BUY_1.drop_duplicates()\n",
    "# summarise by postcode and suburb\n",
    "\n",
    "# INFO_BUY_MED = INFO_BUY_1.groupby([\"postcode\",\"suburb\"])[\"price\"].median().reset_index()\n",
    "INFO_BUY_MED = INFO_BUY_1.groupby([\"postcode\",\"suburb\",\"property_type\",\"bedrooms\"])[\"price\"].median().reset_index()\n",
    "INFO_BUY_MED.rename(columns={'price':'price_BUY'}, inplace = True)\n",
    "\n",
    "# INFO_BUY_FREQ = INFO_BUY_1.groupby([\"postcode\",\"suburb\"])[\"full_address\"].count().reset_index()\n",
    "INFO_BUY_FREQ = INFO_BUY_1.groupby([\"postcode\",\"suburb\",\"property_type\",\"bedrooms\"])[\"full_address\"].count().reset_index()\n",
    "INFO_BUY_FREQ.rename(columns={'full_address':'num_BUY'}, inplace = True)\n",
    "\n",
    "# del INFO_BUY_1"
   ]
  },
  {
   "cell_type": "code",
   "execution_count": 28,
   "metadata": {},
   "outputs": [],
   "source": [
    "df_comp = REF_PCODE_SBRB.merge(INFO_BUY_MED,how='left',on=[\"postcode\",\"suburb\",\"property_type\",\"bedrooms\"]).merge(INFO_RENT_MED,how='left',on=[\"postcode\",\"suburb\",\"property_type\",\"bedrooms\"]).fillna(0)\n",
    "df_comp = df_comp.merge(INFO_BUY_FREQ,how='left',on=[\"postcode\",\"suburb\",\"property_type\",\"bedrooms\"]).merge(INFO_RENT_FREQ,how='left',on=[\"postcode\",\"suburb\",\"property_type\",\"bedrooms\"]).fillna(0)\n",
    "\n",
    "df_comp.dtypes\n",
    "# df_comp = REF_PCODE_SBRB.merge(R_INFO_SUBSET_MED,how='left',on=[\"postcode\",\"suburb\"]).merge(R_INFO_SUBSET_FREQ,how='left',on=[\"postcode\",\"suburb\"]).fillna(0)\n",
    "# df_comp = df_comp.merge(A_INFO_SUBSET_MED,how='left',on=[\"postcode\",\"suburb\"]).merge(A_INFO_SUBSET_FREQ,how='left',on=[\"postcode\",\"suburb\"]).fillna(0)\n",
    "\n",
    "# if pd.to_numeric(df_comp['price_RENT']) == 0:\n",
    "    # df_comp['YEARLY_RENT']  = 0\n",
    "    # df_comp['RENT_YIELD']   = 0\n",
    "    # df_comp['RENT_DIV_BUY'] = 0\n",
    "# else:\n",
    "df_comp['YEARLY_RENT']=df_comp['price_RENT']*52\n",
    "df_comp['RENT_YIELD']=df_comp['YEARLY_RENT']/df_comp['price_BUY']\n",
    "df_comp['RENT_DIV_BUY'] = df_comp['num_RENT'] / df_comp['num_BUY']\n",
    "\n",
    "\n",
    "\n",
    "        # if INF['dividendRate'] is not None:\n",
    "        #     INF['dr']=INF['dividendRate']\n",
    "        # else:\n",
    "        #     INF['dr']=0\n",
    "\n",
    "\n",
    "# create combo key\n",
    "# df_comp['Property Desc'] = df_comp['postcode']+' ('+df_comp['suburb']+') :'+df_comp['property_type']+' '+df_comp['property_type']+str(df_comp['bedrooms'])+'bedroom '+str(df_comp['bathrooms'])+'baths'\n",
    "\n",
    "# del R_INFO_SUBSET_MED, R_INFO_SUBSET_FREQ, A_INFO_SUBSET_MED, A_INFO_SUBSET_FREQ\n",
    "# 7303"
   ]
  },
  {
   "cell_type": "code",
   "execution_count": null,
   "metadata": {},
   "outputs": [],
   "source": []
  }
 ],
 "metadata": {
  "kernelspec": {
   "display_name": "Python 3.8.5 ('base')",
   "language": "python",
   "name": "python3"
  },
  "language_info": {
   "codemirror_mode": {
    "name": "ipython",
    "version": 3
   },
   "file_extension": ".py",
   "mimetype": "text/x-python",
   "name": "python",
   "nbconvert_exporter": "python",
   "pygments_lexer": "ipython3",
   "version": "3.8.5"
  },
  "orig_nbformat": 4,
  "vscode": {
   "interpreter": {
    "hash": "29ef60e46f341bb51c2a63b17c19fb7c83213fa52e6b916fbf12c8b5ee03317f"
   }
  }
 },
 "nbformat": 4,
 "nbformat_minor": 2
}
