{
 "cells": [
  {
   "cell_type": "code",
   "execution_count": 1,
   "id": "336359b5",
   "metadata": {},
   "outputs": [
    {
     "name": "stderr",
     "output_type": "stream",
     "text": [
      "/Users/joezhou/Library/Python/3.9/lib/python/site-packages/urllib3/__init__.py:35: NotOpenSSLWarning: urllib3 v2 only supports OpenSSL 1.1.1+, currently the 'ssl' module is compiled with 'LibreSSL 2.8.3'. See: https://github.com/urllib3/urllib3/issues/3020\n",
      "  warnings.warn(\n"
     ]
    },
    {
     "name": "stdout",
     "output_type": "stream",
     "text": [
      "Failed to retrieve data\n"
     ]
    }
   ],
   "source": [
    "\n",
    "import requests\n",
    "from bs4 import BeautifulSoup\n",
    "import pandas as pd\n",
    "\n",
    "# Function to fetch property data\n",
    "def fetch_realestate_data(postcode):\n",
    "    base_url = \"https://www.realestate.com.au/buy/in-{}\".format(postcode)\n",
    "    headers = {\n",
    "        'User-Agent': 'Mozilla/5.0 (Windows NT 10.0; Win64; x64) AppleWebKit/537.36 (KHTML, like Gecko) Chrome/91.0.4472.124 Safari/537.36'\n",
    "    }\n",
    "\n",
    "    response = requests.get(base_url, headers=headers)\n",
    "    if response.status_code != 200:\n",
    "        print(\"Failed to retrieve data\")\n",
    "        return\n",
    "\n",
    "    soup = BeautifulSoup(response.content, 'html.parser')\n",
    "    listings = soup.find_all('article')  # Articles typically contain property listings\n",
    "\n",
    "    properties = []\n",
    "    for listing in listings:\n",
    "        title = listing.find('h2')\n",
    "        price = listing.find('span', class_='property-price')\n",
    "        address = listing.find('span', class_='property-address')\n",
    "\n",
    "        property_data = {\n",
    "            'Title': title.get_text(strip=True) if title else 'N/A',\n",
    "            'Price': price.get_text(strip=True) if price else 'N/A',\n",
    "            'Address': address.get_text(strip=True) if address else 'N/A'\n",
    "        }\n",
    "        properties.append(property_data)\n",
    "\n",
    "    # Convert to DataFrame\n",
    "    df = pd.DataFrame(properties)\n",
    "    df.to_csv(f'realestate_data_{postcode}.csv', index=False)\n",
    "    print(f\"Data saved to realestate_data_{postcode}.csv\")\n",
    "\n",
    "# Replace '3000' with your desired postcode\n",
    "fetch_realestate_data('2137')"
   ]
  },
  {
   "cell_type": "code",
   "execution_count": 2,
   "id": "87b42d6c",
   "metadata": {},
   "outputs": [
    {
     "name": "stdout",
     "output_type": "stream",
     "text": [
      "Failed to retrieve page 1\n",
      "Failed to retrieve page 2\n",
      "Failed to retrieve page 3\n",
      "Downloaded 0 properties. Data saved to realestate_data_2137.csv\n"
     ]
    }
   ],
   "source": [
    "import requests\n",
    "from bs4 import BeautifulSoup\n",
    "import pandas as pd\n",
    "\n",
    "def fetch_realestate_data(postcode, max_pages=3):\n",
    "    \"\"\"\n",
    "    Download a list of properties for sale on realestate.com.au by postcode.\n",
    "    Args:\n",
    "        postcode (str): The postcode to search.\n",
    "        max_pages (int): Number of pages to scrape (default 3).\n",
    "    \"\"\"\n",
    "    properties = []\n",
    "    headers = {\n",
    "        'User-Agent': 'Mozilla/5.0 (Windows NT 10.0; Win64; x64) AppleWebKit/537.36 (KHTML, like Gecko) Chrome/91.0.4472.124 Safari/537.36'\n",
    "    }\n",
    "\n",
    "    for page in range(1, max_pages + 1):\n",
    "        url = f\"https://www.realestate.com.au/buy/in-{postcode}/list-{page}\"\n",
    "        response = requests.get(url, headers=headers)\n",
    "        if response.status_code != 200:\n",
    "            print(f\"Failed to retrieve page {page}\")\n",
    "            continue\n",
    "\n",
    "        soup = BeautifulSoup(response.content, 'html.parser')\n",
    "        listings = soup.find_all('article')\n",
    "\n",
    "        for listing in listings:\n",
    "            title = listing.find('h2')\n",
    "            price = listing.find('span', class_='property-price')\n",
    "            address = listing.find('span', class_='property-address')\n",
    "\n",
    "            property_data = {\n",
    "                'Title': title.get_text(strip=True) if title else 'N/A',\n",
    "                'Price': price.get_text(strip=True) if price else 'N/A',\n",
    "                'Address': address.get_text(strip=True) if address else 'N/A'\n",
    "            }\n",
    "            properties.append(property_data)\n",
    "\n",
    "    df = pd.DataFrame(properties)\n",
    "    df.to_csv(f'realestate_data_{postcode}.csv', index=False)\n",
    "    print(f\"Downloaded {len(df)} properties. Data saved to realestate_data_{postcode}.csv\")\n",
    "\n",
    "# Example usage:\n",
    "fetch_realestate_data('2137', max_pages=3)"
   ]
  },
  {
   "cell_type": "code",
   "execution_count": null,
   "id": "fc54ee57",
   "metadata": {},
   "outputs": [],
   "source": []
  }
 ],
 "metadata": {
  "kernelspec": {
   "display_name": "Python 3",
   "language": "python",
   "name": "python3"
  },
  "language_info": {
   "codemirror_mode": {
    "name": "ipython",
    "version": 3
   },
   "file_extension": ".py",
   "mimetype": "text/x-python",
   "name": "python",
   "nbconvert_exporter": "python",
   "pygments_lexer": "ipython3",
   "version": "3.9.6"
  }
 },
 "nbformat": 4,
 "nbformat_minor": 5
}
