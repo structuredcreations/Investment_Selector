{
 "cells": [
  {
   "cell_type": "code",
   "execution_count": null,
   "metadata": {},
   "outputs": [],
   "source": [
    "# pip install -e git+https://github.com/tomquirk/realestate-com-au-api.git#egg=realestate_com_au_api\n"
   ]
  },
  {
   "cell_type": "code",
   "execution_count": 17,
   "metadata": {},
   "outputs": [],
   "source": [
    "from realestate_com_au import RealestateComAu\n",
    "\n",
    "api = RealestateComAu()\n",
    "\n",
    "# Get property listings\n",
    "# listings = api.search(locations=[\"seventeen seventy, qld 4677\"], channel=\"buy\", keywords=[\"tenant\"], exclude_keywords=[\"pool\"])\n",
    "\n",
    "# https://postcodes-australia.com/state-postcodes/tas"
   ]
  },
  {
   "cell_type": "code",
   "execution_count": 37,
   "metadata": {},
   "outputs": [],
   "source": [
    "# listings_rent = api.search(locations=[\"tasmania, 7000, 7001, 7002, 7004, 7005, 7006, 7007, 7008, 7009, 7010, 7011, 7012, 7015, 7016, 7017, 7018, 7019, 7020, 7021, 7022, 7023, 7024, 7025, 7026, 7027, 7030, 7050, 7051, 7052, 7053, 7054, 7055, 7109, 7112, 7113, 7116, 7117, 7119, 7120, 7139, 7140, 7150, 7151, 7155, 7162, 7163, 7170, 7171, 7172, 7173, 7174, 7175, 7176, 7177, 7178, 7179, 7180, 7182, 7183, 7184, 7185, 7186, 7187, 7190, 7209, 7210, 7211, 7212, 7213, 7214, 7215, 7216, 7248, 7249, 7250, 7252, 7253, 7254, 7255, 7256, 7257, 7258, 7259, 7260, 7261, 7262, 7263, 7264, 7265, 7267, 7268, 7270, 7275, 7276, 7277, 7290, 7291, 7292, 7300, 7301, 7302, 7303, 7304, 7305, 7306, 7307, 7310, 7315, 7316, 7320, 7321, 7322, 7325, 7330, 7331, 7466, 7467, 7468, 7469, 7470, 7800, 7802, 7803, 7804, 7805, 7806, 7807, 7808, 7809, 7810, 7811, 7812, 7813, 7814, 7823, 7824, 7827, 7828, 7829, 7845, 7850, 7901, 7902, 7903, 7904, 7905, 7906, 7907, 7908, 7909, 7910, 7911, 7912, 7913, 7914, 7915, 7916, 7917, 7918, 7919, 7920, 7921, 7922, 7923\"], channel=\"rent\")\n",
    "# listings_all = api.search(locations=[\"tasmania, 7000, 7001, 7002, 7004, 7005, 7006, 7007, 7008, 7009, 7010, 7011, 7012, 7015, 7016, 7017, 7018, 7019, 7020, 7021, 7022, 7023, 7024, 7025, 7026, 7027, 7030, 7050, 7051, 7052, 7053, 7054, 7055, 7109, 7112, 7113, 7116, 7117, 7119, 7120, 7139, 7140, 7150, 7151, 7155, 7162, 7163, 7170, 7171, 7172, 7173, 7174, 7175, 7176, 7177, 7178, 7179, 7180, 7182, 7183, 7184, 7185, 7186, 7187, 7190, 7209, 7210, 7211, 7212, 7213, 7214, 7215, 7216, 7248, 7249, 7250, 7252, 7253, 7254, 7255, 7256, 7257, 7258, 7259, 7260, 7261, 7262, 7263, 7264, 7265, 7267, 7268, 7270, 7275, 7276, 7277, 7290, 7291, 7292, 7300, 7301, 7302, 7303, 7304, 7305, 7306, 7307, 7310, 7315, 7316, 7320, 7321, 7322, 7325, 7330, 7331, 7466, 7467, 7468, 7469, 7470, 7800, 7802, 7803, 7804, 7805, 7806, 7807, 7808, 7809, 7810, 7811, 7812, 7813, 7814, 7823, 7824, 7827, 7828, 7829, 7845, 7850, 7901, 7902, 7903, 7904, 7905, 7906, 7907, 7908, 7909, 7910, 7911, 7912, 7913, 7914, 7915, 7916, 7917, 7918, 7919, 7920, 7921, 7922, 7923\"])\n",
    "\n",
    "# listings_rent = api.search(locations=[\"tasmania, 7000, 7001, 7002, 7004, 7005, 7006, 7007, 7008, 7009, 7010, 7011, 7012, 7015, 7016, 7017, 7018, 7019, 7020, 7021, 7022, 7023, 7024, 7025, 7026, 7027, 7030, 7050, 7051, 7052, 7053, 7054, 7055, 7109, 7112, 7113, 7116, 7117, 7119, 7120, 7139, 7140, 7150, 7151, 7155, 7162, 7163, 7170, 7171, 7172, 7173, 7174, 7175, 7176, 7177, 7178, 7179, 7180, 7182, 7183, 7184, 7185, 7186, 7187, 7190, 7209, 7210, 7211, 7212, 7213, 7214, 7215, 7216, 7248, 7249, 7250, 7252, 7253, 7254, 7255, 7256, 7257, 7258, 7259, 7260, 7261, 7262, 7263, 7264, 7265, 7267, 7268, 7270, 7275, 7276, 7277, 7290, 7291, 7292, 7300, 7301, 7302, 7303, 7304, 7305, 7306, 7307, 7310, 7315, 7316, 7320, 7321, 7322, 7325, 7330, 7331, 7466, 7467, 7468, 7469, 7470, 7800, 7802, 7803, 7804, 7805, 7806, 7807, 7808, 7809, 7810, 7811, 7812, 7813, 7814, 7823, 7824, 7827, 7828, 7829, 7845, 7850, 7901, 7902, 7903, 7904, 7905, 7906, 7907, 7908, 7909, 7910, 7911, 7912, 7913, 7914, 7915, 7916, 7917, 7918, 7919, 7920, 7921, 7922, 7923\"], channel=\"rent\")\n",
    "# listings_all = api.search(locations=[\"tasmania, 7000, 7001, 7002, 7004, 7005, 7006, 7007, 7008, 7009, 7010, 7011, 7012, 7015, 7016, 7017, 7018, 7019, 7020, 7021, 7022, 7023, 7024, 7025, 7026, 7027, 7030, 7050, 7051, 7052, 7053, 7054, 7055, 7109, 7112, 7113, 7116, 7117, 7119, 7120, 7139, 7140, 7150, 7151, 7155, 7162, 7163, 7170, 7171, 7172, 7173, 7174, 7175, 7176, 7177, 7178, 7179, 7180, 7182, 7183, 7184, 7185, 7186, 7187, 7190, 7209, 7210, 7211, 7212, 7213, 7214, 7215, 7216, 7248, 7249, 7250, 7252, 7253, 7254, 7255, 7256, 7257, 7258, 7259, 7260, 7261, 7262, 7263, 7264, 7265, 7267, 7268, 7270, 7275, 7276, 7277, 7290, 7291, 7292, 7300, 7301, 7302, 7303, 7304, 7305, 7306, 7307, 7310, 7315, 7316, 7320, 7321, 7322, 7325, 7330, 7331, 7466, 7467, 7468, 7469, 7470, 7800, 7802, 7803, 7804, 7805, 7806, 7807, 7808, 7809, 7810, 7811, 7812, 7813, 7814, 7823, 7824, 7827, 7828, 7829, 7845, 7850, 7901, 7902, 7903, 7904, 7905, 7906, 7907, 7908, 7909, 7910, 7911, 7912, 7913, 7914, 7915, 7916, 7917, 7918, 7919, 7920, 7921, 7922, 7923\"])\n"
   ]
  },
  {
   "cell_type": "code",
   "execution_count": 56,
   "metadata": {},
   "outputs": [],
   "source": [
    "import pandas as pd\n",
    "import numpy as np\n",
    "\n",
    "from datetime import datetime as dt\n",
    "dte = dt.now().strftime('%Y%m%d')\n",
    "\n",
    "df_rent = pd.DataFrame(listings_rent)\n",
    "df_rent.to_pickle(\"/Users/joezhou/Downloads/Realestate/R_TASMANIA_RENT.pkl\")\n",
    "\n",
    "fname = \"/Users/joezhou/Downloads/TEST_REALESTATE{}TASMANIA_RENT.xlsx\".format(dte)\n",
    "df_rent.to_excel(fname)\n",
    "\n",
    "\n",
    "df = pd.DataFrame(listings)\n",
    "# df.to_pickle(\"/Users/joezhou/Downloads/Realestate/R_TASMANIA_ALL.pkl\")\n",
    "\n",
    "# fname = \"/Users/joezhou/Downloads/TEST_REALESTATE{}TASMANIA_RENT.xlsx\".format(dte)\n",
    "# df.to_excel(fname)\n"
   ]
  },
  {
   "cell_type": "code",
   "execution_count": 58,
   "metadata": {},
   "outputs": [],
   "source": [
    "RAW_DATA = pd.read_pickle ('/Users/joezhou/Downloads/Realestate/R_TASMANIA_FULL.pkl') \n",
    "\n",
    "RAW_DATA_SUBSET = RAW_DATA.drop(columns=['images', 'images_floorplans', 'listers'])\n",
    "\n",
    "# summarise by postcode\n",
    "\n",
    "RAW_DATA_SUM = RAW_DATA_SUBSET.groupby(\"postcode\")[\"price\"].median()\n",
    "RAW_DATA_SUM = pd.DataFrame(RAW_DATA_SUM)\n",
    "RAW_DATA_SUM.rename(columns={'price':'price_BUY'}, inplace = True)\n"
   ]
  },
  {
   "cell_type": "code",
   "execution_count": 62,
   "metadata": {},
   "outputs": [],
   "source": [
    "RAW_DATA_RENT = pd.read_pickle ('/Users/joezhou/Downloads/Realestate/R_TASMANIA_RENT.pkl') \n",
    "\n",
    "RAW_DATA_RENT_SUBSET = RAW_DATA_RENT.drop(columns=['images', 'images_floorplans', 'listers'])\n",
    "\n",
    "# summarise by postcode\n",
    "\n",
    "RAW_DATA_RENT_SUM = RAW_DATA_RENT_SUBSET.groupby(\"postcode\")[\"price\"].median()\n",
    "RAW_DATA_RENT_SUM = pd.DataFrame(RAW_DATA_RENT_SUM)\n",
    "RAW_DATA_RENT_SUM.rename(columns={\"price\": \"price_RENT\"}, inplace = True)\n"
   ]
  },
  {
   "cell_type": "code",
   "execution_count": 64,
   "metadata": {},
   "outputs": [
    {
     "name": "stderr",
     "output_type": "stream",
     "text": [
      "INFO:numexpr.utils:NumExpr defaulting to 4 threads.\n"
     ]
    }
   ],
   "source": [
    "df_comp = RAW_DATA_SUM.merge(RAW_DATA_RENT_SUM,how='left',on='postcode')\n",
    "\n",
    "df_comp['YEARLY_RENT']=df_comp['price_RENT']*52\n",
    "df_comp['RENT_YIELD']=df_comp['YEARLY_RENT']/df_comp['price_BUY']\n",
    "\n",
    "# 7303"
   ]
  },
  {
   "cell_type": "code",
   "execution_count": null,
   "metadata": {},
   "outputs": [],
   "source": []
  }
 ],
 "metadata": {
  "kernelspec": {
   "display_name": "Python 3.8.5 ('base')",
   "language": "python",
   "name": "python3"
  },
  "language_info": {
   "codemirror_mode": {
    "name": "ipython",
    "version": 3
   },
   "file_extension": ".py",
   "mimetype": "text/x-python",
   "name": "python",
   "nbconvert_exporter": "python",
   "pygments_lexer": "ipython3",
   "version": "3.8.5"
  },
  "orig_nbformat": 4,
  "vscode": {
   "interpreter": {
    "hash": "29ef60e46f341bb51c2a63b17c19fb7c83213fa52e6b916fbf12c8b5ee03317f"
   }
  }
 },
 "nbformat": 4,
 "nbformat_minor": 2
}
