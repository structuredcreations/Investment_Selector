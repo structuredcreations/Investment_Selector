{
 "metadata": {
  "language_info": {
   "codemirror_mode": {
    "name": "ipython",
    "version": 3
   },
   "file_extension": ".py",
   "mimetype": "text/x-python",
   "name": "python",
   "nbconvert_exporter": "python",
   "pygments_lexer": "ipython3",
   "version": "3.8.5"
  },
  "orig_nbformat": 2,
  "kernelspec": {
   "name": "python3",
   "display_name": "Python 3.8.5 64-bit ('base': conda)"
  },
  "interpreter": {
   "hash": "2e80b46cd7ab2c4b8091b0b314a25adce498b8045c83140c5966e92a27ab602b"
  }
 },
 "nbformat": 4,
 "nbformat_minor": 2,
 "cells": [
  {
   "cell_type": "code",
   "execution_count": 5,
   "metadata": {},
   "outputs": [],
   "source": [
    "import pandas as pd\n",
    "\n",
    "FIN = pd.read_excel (r'/Users/joezhou/Downloads/ALL_FIN.xlsx') \n",
    "# FIN = pd.read_csv (r'/Users/joezhou/Downloads/R_ALL_FIN.csv',sep='|') \n",
    "\n",
    "#Create a sample for code testing purposes\n",
    "# FIN = DF[DF['TickName'].isin(['CBA.AX','ANZ.AX','APT.AX','Z1P.AX'])]\n",
    "\n",
    "#create a baselist for adding on the feature engineered variables\n",
    "TICKER_LIST = FIN['TickName'].drop_duplicates().reset_index(drop=True)\n"
   ]
  },
  {
   "cell_type": "code",
   "execution_count": 6,
   "metadata": {},
   "outputs": [],
   "source": [
    "# Transpose to ticker and date grain\n",
    "FIN_METRICS = FIN.pivot_table(index=['TickName', 'Date'], columns='Metric', values='Value').reset_index()\n",
    "\n",
    "FIN_VARS = FIN_METRICS.loc[FIN_METRICS.groupby('TickName').Date.idxmax()]"
   ]
  },
  {
   "cell_type": "code",
   "execution_count": 7,
   "metadata": {},
   "outputs": [],
   "source": [
    "# Create variables\n",
    "# FIN_METRICS.head()\n",
    "\n",
    "FIN_VARS = FIN_METRICS.loc[FIN_METRICS.groupby('TickName').Date.idxmax()]"
   ]
  },
  {
   "cell_type": "code",
   "execution_count": 8,
   "metadata": {},
   "outputs": [
    {
     "output_type": "error",
     "ename": "NameError",
     "evalue": "name 'DF_YFIN_INFO_BASE' is not defined",
     "traceback": [
      "\u001b[0;31m---------------------------------------------------------------------------\u001b[0m",
      "\u001b[0;31mNameError\u001b[0m                                 Traceback (most recent call last)",
      "\u001b[0;32m<ipython-input-8-9d9e291bc4c6>\u001b[0m in \u001b[0;36m<module>\u001b[0;34m\u001b[0m\n\u001b[1;32m      1\u001b[0m \u001b[0;31m#Split into category vs continous features\u001b[0m\u001b[0;34m\u001b[0m\u001b[0;34m\u001b[0m\u001b[0;34m\u001b[0m\u001b[0m\n\u001b[0;32m----> 2\u001b[0;31m \u001b[0mcategorical_features\u001b[0m \u001b[0;34m=\u001b[0m \u001b[0mDF_YFIN_INFO_BASE\u001b[0m\u001b[0;34m[\u001b[0m\u001b[0;34m[\u001b[0m\u001b[0;34m'sector'\u001b[0m\u001b[0;34m,\u001b[0m\u001b[0;34m'state'\u001b[0m\u001b[0;34m]\u001b[0m\u001b[0;34m]\u001b[0m\u001b[0;34m\u001b[0m\u001b[0;34m\u001b[0m\u001b[0m\n\u001b[0m\u001b[1;32m      3\u001b[0m continuous_features = DF_YFIN_INFO_BASE[['dividendRate',\n\u001b[1;32m      4\u001b[0m \u001b[0;34m'heldPercentInstitutions'\u001b[0m\u001b[0;34m,\u001b[0m\u001b[0;34m\u001b[0m\u001b[0;34m\u001b[0m\u001b[0m\n\u001b[1;32m      5\u001b[0m \u001b[0;34m'beta'\u001b[0m\u001b[0;34m,\u001b[0m\u001b[0;34m\u001b[0m\u001b[0;34m\u001b[0m\u001b[0m\n",
      "\u001b[0;31mNameError\u001b[0m: name 'DF_YFIN_INFO_BASE' is not defined"
     ]
    }
   ],
   "source": [
    "#Split into category vs continous features\n",
    "categorical_features = DF_YFIN_INFO_BASE[['sector','state']]\n",
    "continuous_features = DF_YFIN_INFO_BASE[['dividendRate',\n",
    "'heldPercentInstitutions',\n",
    "'beta',\n",
    "'profitMargins',\n",
    "'trailingPE']]\n",
    "\n",
    "data = DF_YFIN_INFO_BASE\n",
    "\n",
    "# convert categories to numeric\n",
    "for col in categorical_features:\n",
    "    dummies = pd.get_dummies(data[col], prefix=col)\n",
    "    data = pd.concat([data, dummies], axis=1)\n",
    "    data.drop(col, axis=1, inplace=True)\n",
    "\n",
    "# Standardise data\n",
    "import numpy as np\n",
    "\n",
    "data.replace([np.inf, -np.inf], np.nan, inplace=True)"
   ]
  },
  {
   "cell_type": "code",
   "execution_count": null,
   "metadata": {},
   "outputs": [],
   "source": [
    "\n",
    "\n"
   ]
  },
  {
   "cell_type": "code",
   "execution_count": null,
   "metadata": {},
   "outputs": [],
   "source": []
  },
  {
   "cell_type": "code",
   "execution_count": null,
   "metadata": {},
   "outputs": [],
   "source": []
  },
  {
   "cell_type": "code",
   "execution_count": 8,
   "metadata": {},
   "outputs": [],
   "source": [
    "FIN_VARS.to_excel('/Users/joezhou/Downloads/ALL_FIN_Features.xlsx')  \n"
   ]
  },
  {
   "cell_type": "code",
   "execution_count": null,
   "metadata": {},
   "outputs": [],
   "source": []
  }
 ]
}