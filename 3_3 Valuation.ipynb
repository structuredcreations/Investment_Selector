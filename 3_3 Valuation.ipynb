{
 "cells": [
  {
   "cell_type": "code",
   "execution_count": null,
   "metadata": {},
   "outputs": [],
   "source": [
    "# The aim of this module is to company value and expected growth rate using Ben Graham's formula\n",
    "\n",
    "# File name convention\n",
    "# R_ = raw extract \n",
    "# E_ = Entry files into enrichment layer\n",
    "# C_ = enriched layer with calculation\n",
    "# I = insights layer, designed for model baselines\n",
    "# V_ = validation"
   ]
  },
  {
   "cell_type": "code",
   "execution_count": 1,
   "metadata": {},
   "outputs": [],
   "source": [
    "import pandas as pd\n",
    "import numpy as np\n",
    "pd.options.mode.chained_assignment = None  # default='warn'\n",
    "\n",
    "# I_FLAT = pd.read_pickle ('/Users/joezhou/Downloads/C_TICKER_FLAT.pkl') \n",
    "# C_BG_MODEL = pd.read_pickle ('/Users/joezhou/Downloads/C_BEN_G_MODEL.pkl') \n",
    "I_FLAT = pd.read_pickle ('/Users/joezhou/Downloads/Investment/1 data/C_TICKER_FLAT.pkl') \n"
   ]
  },
  {
   "cell_type": "code",
   "execution_count": 2,
   "metadata": {},
   "outputs": [],
   "source": [
    "# from datetime import datetime as dt\n",
    "# dte = dt.now().strftime('%Y%m%d')\n",
    "# fname = \"/Users/joezhou/Downloads/Investment/TEST_I_FLAT{}.xlsx\".format(dte)\n",
    "# I_FLAT.to_excel(fname)"
   ]
  },
  {
   "cell_type": "code",
   "execution_count": 5,
   "metadata": {},
   "outputs": [],
   "source": [
    "# valuation using NTA approach\n",
    "DF_VAL1 = I_FLAT \n",
    "DF_VAL1['CALC_TA_PS'] = DF_VAL1['Net Tangible Assets']/DF_VAL1['sharesOutstanding']\n",
    "DF_VAL1['VAL_NTA_DIV'] = DF_VAL1['CALC_TA_PS'] + (DF_VAL1['CALC_DIV_10YR_AMT']*.8)\n",
    "\n",
    "DF_VAL1 = DF_VAL1[['TickName','VAL_NTA_DIV','CALC_TA_PS','CALC_DIV_10YR_AMT']]\n",
    "\n",
    "# Note: need to discount cashflows & find median NTA over the last few years\n"
   ]
  },
  {
   "cell_type": "code",
   "execution_count": null,
   "metadata": {},
   "outputs": [],
   "source": [
    "# Calculate Ben Graham intrensic valuations and revse engineer a target growth rate based on latest closing price\n",
    "\n",
    "# the current yield on AAA corporate bonds (CURR_AAA_Y)\n",
    "CURR_AAA_Y = 3.38\n",
    "# the average yield of AAA corporate bonds (AVG_BND_Y)\n",
    "AVG_BND_Y = 4.4\n",
    "# EPS of non growing company (EPS_NG)\n",
    "EPS_NG = 8.5\n",
    "\n",
    "# reasonably expected 7 to 10 Year Growth Rate of EPS (EPS_G = 8.5)\n",
    "EPS_G = ADDED_PRICE_INF['earningsQuarterlyGrowth']*3\n",
    "\n",
    "# actual formula\n",
    "# ADDED_PRICE_INF['CALC_BF_IV'] = ADDED_PRICE_INF['trailingEps']*(EPS_NG+2*EPS_G))*AVG_BND_Y/CURR_AAA_Y\n",
    "# conservative\n",
    "ADDED_PRICE_INF['CALC_BF_IV'] = ADDED_PRICE_INF['trailingEps']*(EPS_NG+EPS_G)*AVG_BND_Y/CURR_AAA_Y\n",
    "\n",
    "ADDED_PRICE_INF['CALC_BF_GRWTH'] = (ADDED_PRICE_INF['Last_Close_price']*CURR_AAA_Y/AVG_BND_Y/ADDED_PRICE_INF['trailingEps']-EPS_NG)/2\n",
    "\n"
   ]
  },
  {
   "cell_type": "code",
   "execution_count": null,
   "metadata": {},
   "outputs": [],
   "source": []
  },
  {
   "cell_type": "code",
   "execution_count": 6,
   "metadata": {},
   "outputs": [],
   "source": [
    "# BG_MODEL.to_pickle(\"/Users/joezhou/Downloads/C_CALCS.pkl\")\n",
    "# BG_MODEL.to_excel('/Users/joezhou/Downloads/C_CALCS.xlsx', engine='xlsxwriter')  \n",
    "\n",
    "DF_VAL1.to_pickle(\"/Users/joezhou/Downloads/Investment/1 data/C_VALUATION.pkl\")\n"
   ]
  },
  {
   "cell_type": "code",
   "execution_count": 9,
   "metadata": {},
   "outputs": [],
   "source": [
    "\n",
    "E_PRICE = pd.read_pickle ('/Users/joezhou/Downloads/Investment/1 data/E_ALL_Prices.pkl') \n",
    "C_BG_MOD = pd.read_pickle ('/Users/joezhou/Downloads/Investment/1 data/C_BEN_G_MODEL.pkl') \n",
    "C_VALUE = pd.read_pickle ('/Users/joezhou/Downloads/Investment/1 data/C_VALUATION.pkl') \n",
    "\n",
    "\n",
    "DF_VAL = C_VALUE.merge(C_BG_MOD,how='inner',on='TickName').merge(E_PRICE,how='inner',on='TickName')\n",
    "\n",
    "\n",
    "DF_VAL.to_pickle(\"/Users/joezhou/Downloads/Investment/1 data/I_MASTER_FLAT.pkl\")\n",
    "\n",
    "from datetime import datetime as dt\n",
    "dte = dt.now().strftime('%Y%m%d')\n",
    "fname = \"/Users/joezhou/Downloads/Investment/TEST_FLAT_MASTER{}.xlsx\".format(dte)\n",
    "DF_VAL.to_excel(fname)\n"
   ]
  },
  {
   "cell_type": "code",
   "execution_count": null,
   "metadata": {},
   "outputs": [],
   "source": []
  }
 ],
 "metadata": {
  "kernelspec": {
   "display_name": "Python 3.8.5 ('base')",
   "language": "python",
   "name": "python3"
  },
  "language_info": {
   "codemirror_mode": {
    "name": "ipython",
    "version": 3
   },
   "file_extension": ".py",
   "mimetype": "text/x-python",
   "name": "python",
   "nbconvert_exporter": "python",
   "pygments_lexer": "ipython3",
   "version": "3.8.5"
  },
  "orig_nbformat": 4,
  "vscode": {
   "interpreter": {
    "hash": "29ef60e46f341bb51c2a63b17c19fb7c83213fa52e6b916fbf12c8b5ee03317f"
   }
  }
 },
 "nbformat": 4,
 "nbformat_minor": 2
}
