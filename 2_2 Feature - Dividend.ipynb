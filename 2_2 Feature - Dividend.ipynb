{
 "cells": [
  {
   "cell_type": "code",
   "execution_count": null,
   "metadata": {},
   "outputs": [],
   "source": [
    "# The aim of this module is to calculate features based on dividend history\n",
    "\n",
    "# File name convention\n",
    "# R_ = raw extract \n",
    "# E_ = Entry files into enrichment layer\n",
    "# C_ = enriched layer with calculation\n",
    "# I = insights layer, designed for model baselines\n",
    "# V_ = validation\n"
   ]
  },
  {
   "cell_type": "code",
   "execution_count": 8,
   "metadata": {},
   "outputs": [],
   "source": [
    "import pandas as pd\n",
    "\n",
    "DIV = pd.read_csv (r'/Users/joezhou/Downloads/R_ALL_Div.csv',sep='|') \n",
    "\n",
    "\n",
    "# DIV12 = DIV.loc[(DIV['Date'] >= pd.to_datetime('now')- pd.DateOffset(months=12))\n",
    "                    # & (DIV['Date'] < pd.to_datetime('now'))]\n",
    "\n",
    "#create a baselist for adding on the feature engineered variables\n",
    "TICKER_LIST = DIV['TickName'].drop_duplicates().reset_index(drop=True)\n"
   ]
  },
  {
   "cell_type": "code",
   "execution_count": 13,
   "metadata": {},
   "outputs": [],
   "source": [
    "# Calculate volatility features\n",
    "DIV_MEDIAN = DIV.groupby(\"TickName\")[\"Dividends\"].median()\n",
    "DIV_STD = DIV.groupby(\"TickName\")[\"Dividends\"].std()\n",
    "DIV_MIN = DIV.groupby(\"TickName\")[\"Dividends\"].min()\n",
    "DIV_MAX = DIV.groupby(\"TickName\")[\"Dividends\"].max()\n",
    "DIV_SUM = DIV.groupby(\"TickName\")[\"Dividends\"].sum()\n",
    "\n",
    "\n",
    "TICKER_LIST_ADDED = pd.merge(TICKER_LIST,DIV_MEDIAN,on='TickName').rename(columns={'Dividends': 'Dividends_Median'})\n",
    "TICKER_LIST_ADDED = pd.merge(TICKER_LIST_ADDED,DIV_STD,on='TickName').rename(columns={'Dividends': 'Dividends_Std'})\n",
    "TICKER_LIST_ADDED = pd.merge(TICKER_LIST_ADDED,DIV_MIN,on='TickName').rename(columns={'Dividends': 'Dividends_Min'})\n",
    "TICKER_LIST_ADDED = pd.merge(TICKER_LIST_ADDED,DIV_MAX,on='TickName').rename(columns={'Dividends': 'Dividends_Max'})\n",
    "TICKER_LIST_ADDED = pd.merge(TICKER_LIST_ADDED,DIV_SUM,on='TickName').rename(columns={'Dividends': 'Dividends_Sum'})\n",
    "\n",
    "del DIV_MEDIAN, DIV_STD, DIV_MIN, DIV_MAX, DIV_SUM"
   ]
  },
  {
   "cell_type": "code",
   "execution_count": null,
   "metadata": {},
   "outputs": [],
   "source": [
    "#Note: need to loop this later on for 3mth, 6mth, 12mths and 24mths, or some stochastic process\n",
    "\n",
    "# DIV12_MEDIAN = DIV12.groupby(\"TickName\")[\"Dividends\"].median()\n",
    "# DIV12_STD = DIV12.groupby(\"TickName\")[\"Dividends\"].std()\n",
    "# DIV12_MIN = DIV12.groupby(\"TickName\")[\"Dividends\"].min()\n",
    "# DIV12_MAX = DIV12.groupby(\"TickName\")[\"Dividends\"].max()\n",
    "\n",
    "# TICKER_LIST_ADDED = pd.merge(TICKER_LIST_ADDED,DIV12_MEDIAN,on='TickName').rename(columns={'Dividends': 'Dividends_Median_12mths'})\n",
    "# TICKER_LIST_ADDED = pd.merge(TICKER_LIST_ADDED,DIV12_STD,on='TickName').rename(columns={'Dividends': 'Dividends_Std_12mths'})\n",
    "# TICKER_LIST_ADDED = pd.merge(TICKER_LIST_ADDED,DIV12_MIN,on='TickName').rename(columns={'Dividends': 'Dividends_Min_12mths'})\n",
    "# TICKER_LIST_ADDED = pd.merge(TICKER_LIST_ADDED,DIV12_MAX,on='TickName').rename(columns={'Dividends': 'Dividends_Max_12mths'})\n"
   ]
  },
  {
   "cell_type": "code",
   "execution_count": 14,
   "metadata": {},
   "outputs": [],
   "source": [
    "TICKER_LIST_ADDED.to_csv('/Users/joezhou/Downloads/E_ALL_Div.csv', sep='|', index=False)\n"
   ]
  },
  {
   "cell_type": "code",
   "execution_count": null,
   "metadata": {},
   "outputs": [],
   "source": []
  }
 ],
 "metadata": {
  "kernelspec": {
   "display_name": "Python 3.8.5 ('base')",
   "language": "python",
   "name": "python3"
  },
  "language_info": {
   "codemirror_mode": {
    "name": "ipython",
    "version": 3
   },
   "file_extension": ".py",
   "mimetype": "text/x-python",
   "name": "python",
   "nbconvert_exporter": "python",
   "pygments_lexer": "ipython3",
   "version": "3.8.5"
  },
  "orig_nbformat": 2,
  "vscode": {
   "interpreter": {
    "hash": "29ef60e46f341bb51c2a63b17c19fb7c83213fa52e6b916fbf12c8b5ee03317f"
   }
  }
 },
 "nbformat": 4,
 "nbformat_minor": 2
}
