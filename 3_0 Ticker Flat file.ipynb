{
 "metadata": {
  "language_info": {
   "codemirror_mode": {
    "name": "ipython",
    "version": 3
   },
   "file_extension": ".py",
   "mimetype": "text/x-python",
   "name": "python",
   "nbconvert_exporter": "python",
   "pygments_lexer": "ipython3",
   "version": "3.8.5-final"
  },
  "orig_nbformat": 2,
  "kernelspec": {
   "name": "python3",
   "display_name": "Python 3",
   "language": "python"
  }
 },
 "nbformat": 4,
 "nbformat_minor": 2,
 "cells": [
  {
   "cell_type": "code",
   "execution_count": 1,
   "metadata": {},
   "outputs": [],
   "source": [
    "import pandas as pd\n"
   ]
  },
  {
   "cell_type": "code",
   "execution_count": 2,
   "metadata": {},
   "outputs": [],
   "source": [
    "#import all flat files\n",
    "dp_cov = pd.read_excel(r'/Users/joezhou/Downloads/ALL_TICKER_COVERAGE.xlsx')\n",
    "\n",
    "INF_Feature = pd.read_excel (r'/Users/joezhou/Downloads/ALL_INFO_FEATURES.xlsx') \n",
    "PRICE_Feature = pd.read_csv (r'/Users/joezhou/Downloads/ALL_Prices.csv', sep='|')\n",
    "FIN_Feature = pd.read_csv (r'/Users/joezhou/Downloads/ALL_FIN.csv', sep='|')\n",
    "DIV_Feature = pd.read_excel (r'/Users/joezhou/Downloads/ALL_Div_FEATURES.xlsx') \n",
    "\n"
   ]
  },
  {
   "cell_type": "code",
   "execution_count": 3,
   "metadata": {},
   "outputs": [],
   "source": [
    "\n",
    "#Remove tickers without complete variable set\n",
    "dp_cov_comp = dp_cov[(dp_cov.IN_INFO == 'In Info Extract') \n",
    "                    & (dp_cov.IN_PRICE == 'In Price Extract')\n",
    "                    & (dp_cov.IN_FIN == 'In Financial Extract')\n",
    "                    ]\n",
    "\n"
   ]
  },
  {
   "cell_type": "code",
   "execution_count": 5,
   "metadata": {},
   "outputs": [
    {
     "output_type": "execute_result",
     "data": {
      "text/plain": [
       "Unnamed: 0    1039\n",
       "TickName      1039\n",
       "Counter       1039\n",
       "IN_INFO       1039\n",
       "IN_PRICE      1039\n",
       "IN_FIN        1039\n",
       "dtype: int64"
      ]
     },
     "metadata": {},
     "execution_count": 5
    }
   ],
   "source": [
    "dp_cov_comp.count()"
   ]
  },
  {
   "cell_type": "code",
   "execution_count": 6,
   "metadata": {},
   "outputs": [],
   "source": [
    "\n",
    "# Combine the feature sets\n",
    "\n",
    "TIC_FLAT = dp_cov_comp.merge(PRICE_Feature,how='left',on='TickName').merge(FIN_Feature,how='left',on='TickName').merge(DIV_Feature,how='left',on='TickName').fillna('Missing')\n",
    "\n",
    "# merge(INF_Feature,how='left',on='TickName').\n"
   ]
  },
  {
   "cell_type": "code",
   "execution_count": null,
   "metadata": {},
   "outputs": [],
   "source": [
    "TIC_FLAT.head(5)"
   ]
  },
  {
   "cell_type": "code",
   "execution_count": null,
   "metadata": {},
   "outputs": [],
   "source": [
    "TIC_FLAT.to_excel('/Users/joezhou/Downloads/TIC_FLAT.xlsx')  \n"
   ]
  }
 ]
}