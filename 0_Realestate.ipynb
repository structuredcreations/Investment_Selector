{
 "cells": [
  {
   "cell_type": "code",
   "execution_count": 16,
   "metadata": {},
   "outputs": [
    {
     "name": "stdout",
     "output_type": "stream",
     "text": [
      "Obtaining realestate_com_au_api from git+https://github.com/tomquirk/realestate-com-au-api.git#egg=realestate_com_au_api\n",
      "  Updating ./src/realestate-com-au-api clone\n",
      "Requirement already satisfied: requests in /Users/joezhou/opt/anaconda3/lib/python3.8/site-packages (from realestate_com_au_api) (2.24.0)\n",
      "Requirement already satisfied: fajita in /Users/joezhou/opt/anaconda3/lib/python3.8/site-packages (from realestate_com_au_api) (0.0.2)\n",
      "Requirement already satisfied: certifi>=2017.4.17 in /Users/joezhou/opt/anaconda3/lib/python3.8/site-packages (from requests->realestate_com_au_api) (2020.6.20)\n",
      "Requirement already satisfied: urllib3!=1.25.0,!=1.25.1,<1.26,>=1.21.1 in /Users/joezhou/opt/anaconda3/lib/python3.8/site-packages (from requests->realestate_com_au_api) (1.25.11)\n",
      "Requirement already satisfied: chardet<4,>=3.0.2 in /Users/joezhou/opt/anaconda3/lib/python3.8/site-packages (from requests->realestate_com_au_api) (3.0.4)\n",
      "Requirement already satisfied: idna<3,>=2.5 in /Users/joezhou/opt/anaconda3/lib/python3.8/site-packages (from requests->realestate_com_au_api) (2.10)\n",
      "Installing collected packages: realestate-com-au-api\n",
      "  Attempting uninstall: realestate-com-au-api\n",
      "    Found existing installation: realestate-com-au-api 0.0.1b1\n",
      "    Uninstalling realestate-com-au-api-0.0.1b1:\n",
      "      Successfully uninstalled realestate-com-au-api-0.0.1b1\n",
      "  Running setup.py develop for realestate-com-au-api\n",
      "Successfully installed realestate-com-au-api\n",
      "Note: you may need to restart the kernel to use updated packages.\n"
     ]
    }
   ],
   "source": [
    "pip install -e git+https://github.com/tomquirk/realestate-com-au-api.git#egg=realestate_com_au_api\n"
   ]
  },
  {
   "cell_type": "code",
   "execution_count": 17,
   "metadata": {},
   "outputs": [],
   "source": [
    "from realestate_com_au import RealestateComAu\n",
    "\n",
    "api = RealestateComAu()\n",
    "\n",
    "# Get property listings\n",
    "# listings = api.search(locations=[\"seventeen seventy, qld 4677\"], channel=\"buy\", keywords=[\"tenant\"], exclude_keywords=[\"pool\"])"
   ]
  },
  {
   "cell_type": "code",
   "execution_count": 14,
   "metadata": {},
   "outputs": [],
   "source": [
    "listings = api.search(locations=[\"Barnsley, Queens Park, 6107\"])\n"
   ]
  },
  {
   "cell_type": "code",
   "execution_count": 18,
   "metadata": {},
   "outputs": [
    {
     "name": "stderr",
     "output_type": "stream",
     "text": [
      "/Users/joezhou/opt/anaconda3/lib/python3.8/site-packages/xlsxwriter/worksheet.py:941: UserWarning: Ignoring URL 'https://www.b1homes.com.au/house-land/l16576307-st-james%3cbr/%3e%3cbr/%3eTitles%20are%20nearing,%20and%20the%20owner%20wants%20these%20lots%20sold%20ASAP.%20Time%20to%20get%20in%20to%20this%20boom%20suburb%20and%20make%20your%20offer.%20Offers%20will%20be%20considered.%20%3cbr/%3e%3cbr/%3eRanging%20from%20approximately%20207sqm%20to%20229sqm%20these%20prime%20parcels%20of%20land%20will%20lend%20themselves%20to%20those%20seeking%20to%20design%20something%20low-maintenance%20and%20ready%20to%20live%20in.%20Decide%20whether%20you%20want%20to%20secure%20street%20frontage,%20privacy%20at%20the%20rear%20or%20the%20peace%20of%20mind%20of%20a%20nice,%20central%20position%20tucked%20in%20between%20two%20other%20properties.%3cbr/%3e%20%20%3cbr/%3eThese%20exciting%20lots%20are%20nestled%20very%20close%20to%20bus%20stops,%20the%20local%20pharmacy%20and%20Albany%20Highway,%20within%20walking%20distance%20of%20both%20Curtin%20University%20and%20South%20Metropolitan%20TAFE,%20handy%20to%20other%20major%20arterial%20roads%20and%20only%20minutes%20away%20from%20the%20Victoria%20Park%20town%20centre,%20the%20stunning%20Westfield%20Carousel%20Shopping%20Centre%20and%20wonderful%20schools%20and%20community%20sporting%20facilities.%20What%20a%20convenient%20location%20and%20what%20a%20magnificent%20opportunity.%20A%20brighter%20future%20awaits%20you%20here!%3cbr/%3e%20%3cbr/%3eFeatures%20include:%3cbr/%3e•\tLot%201%20-%20207sqm%20(approx.)%20EOI%3cbr/%3e•\tLot%202%20-%20196sqm%20(approx.)%20EOI%3cbr/%3e•\tLot%203%20-%20196sqm%20(approx.)%20EOI%3cbr/%3e•\tLot%204%20-%20229sqm%20(approx.)%20From%20EOI%3cbr/%3e•\tPending%20titles%20%3cbr/%3e%20%20%3cbr/%3eDistances%20to%20(approx.):%3cbr/%3e%20%3cbr/%3e•\tBentley%20Plaza%20Shopping%20Centre%20-%201.6km%3cbr/%3e•\tCurtin%20University%20-%202.0km%3cbr/%3e•\tSouth%20Metropolitan%20TAFE%20(Bentley%20Campus)%20-%202.2km%3cbr/%3e•\tWestfield%20Carousel%20-%204.9km%3cbr/%3e•\tPerth%20CBD%20-%209.1km%3cbr/%3e•\tPerth%20Airport%20(T1%20&%20T2)%20-%2010.9km%3cbr/%3e%3cbr/%3eDisclaimer:%20Whilst%20every%20care%20has%20been%20taken%20in%20the%20preparation%20of%20this%20advertisement,%20accuracy%20cannot%20be%20guaranteed.%20%20Prospective%20purchasers%20should%20make%20their%20own%20enquiries%20to%20satisfy%20themselves%20on%20all%20pertinent%20matters.%20Details%20herein%20do%20not%20constitute%20any%20representation%20by%20the%20Vendor%20or%20the%20agent%20and%20are%20expressly%20excluded%20from%20any%20contract.' with link or location/anchor > 2079 characters since it exceeds Excel's limit for URLS\n",
      "  warn(\"Ignoring URL '%s' with link or location/anchor > %d \"\n"
     ]
    }
   ],
   "source": [
    "import pandas as pd\n",
    "import numpy as np\n",
    "df = pd.DataFrame(listings)\n",
    "\n",
    "from datetime import datetime as dt\n",
    "dte = dt.now().strftime('%Y%m%d')\n",
    "fname = \"/Users/joezhou/Downloads/TEST_REALESTATE{}.xlsx\".format(dte)\n",
    "df.to_excel(fname)"
   ]
  },
  {
   "cell_type": "code",
   "execution_count": null,
   "metadata": {},
   "outputs": [],
   "source": []
  }
 ],
 "metadata": {
  "kernelspec": {
   "display_name": "Python 3.8.5 ('base')",
   "language": "python",
   "name": "python3"
  },
  "language_info": {
   "codemirror_mode": {
    "name": "ipython",
    "version": 3
   },
   "file_extension": ".py",
   "mimetype": "text/x-python",
   "name": "python",
   "nbconvert_exporter": "python",
   "pygments_lexer": "ipython3",
   "version": "3.8.5"
  },
  "orig_nbformat": 4,
  "vscode": {
   "interpreter": {
    "hash": "29ef60e46f341bb51c2a63b17c19fb7c83213fa52e6b916fbf12c8b5ee03317f"
   }
  }
 },
 "nbformat": 4,
 "nbformat_minor": 2
}
