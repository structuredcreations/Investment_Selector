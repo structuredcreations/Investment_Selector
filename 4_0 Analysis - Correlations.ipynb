{
 "cells": [
  {
   "cell_type": "code",
   "execution_count": null,
   "metadata": {},
   "outputs": [],
   "source": [
    "# The aim of this module is to calculate correlations for variables in the flat files\n",
    "# the variables are then used for linear regression\n",
    "\n",
    "# File name convention\n",
    "# R_ = raw extract \n",
    "# E_ = Entry files into enrichment layer\n",
    "# C_ = enriched layer with calculation\n",
    "# I = insights layer, designed for model baselines\n",
    "# V_ = validation"
   ]
  },
  {
   "cell_type": "code",
   "execution_count": 1,
   "metadata": {},
   "outputs": [],
   "source": [
    "import pandas as pd\n",
    "import numpy as np\n",
    "pd.options.mode.chained_assignment = None  # default='warn'\n",
    "\n",
    "# I_FLAT = pd.read_pickle ('/Users/joezhou/Downloads/C_TICKER_FLAT.pkl') \n",
    "# C_BG_MODEL = pd.read_pickle ('/Users/joezhou/Downloads/C_BEN_G_MODEL.pkl') \n",
    "\n",
    "R_PRICE = pd.read_pickle ('/Users/joezhou/Downloads/Investment/1 data/R_ALL_Prices.pkl') \n",
    "\n"
   ]
  },
  {
   "cell_type": "code",
   "execution_count": 2,
   "metadata": {},
   "outputs": [],
   "source": [
    "# Find daily price correlations\n",
    "# R_PRICE1 = R_PRICE[R_PRICE['TickName'].isin(['CBA.AX','ANZ.AX','WPC.AX','JBH.AX','LGP.AX'])]\n",
    "\n",
    "R_PRICE_CLSE = R_PRICE[['Date', 'TickName','Close']]\n",
    "\n",
    "R_PRICE_CLSE2 = R_PRICE_CLSE.pivot_table(index=['Date'], columns='TickName', values='Close').reset_index()\n",
    "\n",
    "# Create correlation matrix\n",
    "corr_matrix = R_PRICE_CLSE2.corr()\n",
    "upper = corr_matrix.where(np.triu(np.ones(corr_matrix.shape), k=1).astype(np.bool))\n",
    "upper = upper.reset_index(level=0)\n",
    "R_PRICE_CORR=upper.melt(id_vars=[\"TickName\"],var_name=\"TickName2\",value_name=\"CORR_PRICE\").dropna()\n",
    "\n",
    "R_PRICE_CORR_HIGH = R_PRICE_CORR.loc[(R_PRICE_CORR['CORR_PRICE'] >= 0.8) | (R_PRICE_CORR['CORR_PRICE'] <= -0.8)]\n",
    "\n",
    "\n",
    "del R_PRICE_CLSE, R_PRICE_CLSE2, corr_matrix, upper"
   ]
  },
  {
   "cell_type": "code",
   "execution_count": null,
   "metadata": {},
   "outputs": [],
   "source": [
    "# next iteration, loop differing time periods\n",
    "\n",
    "# from datetime import datetime\n",
    "# from dateutil.relativedelta import relativedelta\n",
    "\n",
    "# yrs_ago1 = datetime.now() - relativedelta(years=1)\n",
    "# yrs_ago3 = datetime.now() - relativedelta(years=3)\n",
    "# yrs_ago5 = datetime.now() - relativedelta(years=5)\n",
    "# yrs_ago10 = datetime.now() - relativedelta(years=10)\n",
    "\n",
    "# PRICE_CALC = R_PRICE\n",
    "\n",
    "\n",
    "# PRICE_CALC['DateTime'] = pd.to_datetime(PRICE_CALC['Date'], format='%Y-%m-%d')\n",
    "# PRICE_CALC['Year'] = PRICE_CALC['DateTime'].dt.year\n",
    "\n",
    "# PRICE_CALC['CALC_DIV_1YR'] = PRICE_CALC.loc[PRICE_CALC['DateTime'] >= yrs_ago1,['Dividends']].sum(axis=1)\n",
    "# PRICE_CALC['CALC_DIV_3YR'] = PRICE_CALC.loc[PRICE_CALC['DateTime'] >= yrs_ago3,['Dividends']].sum(axis=1)\n",
    "# PRICE_CALC['CALC_DIV_5YR'] = PRICE_CALC.loc[PRICE_CALC['DateTime'] >= yrs_ago5,['Dividends']].sum(axis=1)\n",
    "# PRICE_CALC['CALC_DIV_10YR'] = PRICE_CALC.loc[PRICE_CALC\n",
    "# ['DateTime'] >= yrs_ago10,['Dividends']].sum(axis=1)\n"
   ]
  },
  {
   "cell_type": "code",
   "execution_count": 3,
   "metadata": {},
   "outputs": [],
   "source": [
    "R_PRICE_CORR.to_pickle(\"/Users/joezhou/Downloads/Investment/1 data/C_PRICE_CORR.pkl\")\n",
    "R_PRICE_CORR_HIGH.to_pickle(\"/Users/joezhou/Downloads/Investment/1 data/R_PRICE_CORR_HIGH.pkl\")\n",
    "\n",
    "# from datetime import datetime as dt\n",
    "# dte = dt.now().strftime('%Y%m%d')\n",
    "# fname = \"/Users/joezhou/Downloads/Investment/TEST_CORR_MATRIX{}.xlsx\".format(dte)\n",
    "# R_PRICE_CORR_HIGH.to_excel(fname)\n",
    "\n"
   ]
  },
  {
   "cell_type": "code",
   "execution_count": 16,
   "metadata": {},
   "outputs": [],
   "source": [
    "# Bring in features to reduce set\n",
    "\n",
    "DF_MASTER = pd.read_pickle ('/Users/joezhou/Downloads/Investment/1 data/I_MASTER_FLAT.pkl') \n",
    "DF_MASTER2 = DF_MASTER.add_suffix('2')\n",
    "\n",
    "DF_MASTER_CORR = R_PRICE_CORR_HIGH.merge(DF_MASTER,how='inner',on='TickName').merge(DF_MASTER2,how='inner',on='TickName2')\n",
    "\n",
    "# Apply filter conditions on the first ticker\n",
    "DF_MASTER_CORR_ = DF_MASTER_CORR.loc[(DF_MASTER_CORR['CALC_BG_CONS_BG_SCORE'] >= 4) \n",
    "                                    & (DF_MASTER_CORR['CALC_BG_ENT_BG_SCORE'] >=4)\n",
    "                                    & (DF_MASTER_CORR['CALC_PE_RATIO'] <=25)\n",
    "                                    & (DF_MASTER_CORR['profitMargins'] >= 0.15)\n",
    "                                    & (DF_MASTER_CORR['CALC_BG_CONS_BG_SCORE2'] >= 4) \n",
    "                                    & (DF_MASTER_CORR['CALC_BG_ENT_BG_SCORE2'] >=4)\n",
    "                                    & (DF_MASTER_CORR['CALC_PE_RATIO2'] <=25)\n",
    "                                    & (DF_MASTER_CORR['profitMargins2'] >= 0.15)\n",
    "                                    ]\n",
    "\n",
    "from datetime import datetime as dt\n",
    "dte = dt.now().strftime('%Y%m%d')\n",
    "fname = \"/Users/joezhou/Downloads/Investment/TEST_CORR_MATRIX_HIGH_PAIRS{}.xlsx\".format(dte)\n",
    "DF_MASTER_CORR_.to_excel(fname)\n"
   ]
  },
  {
   "cell_type": "code",
   "execution_count": 26,
   "metadata": {},
   "outputs": [],
   "source": [
    "\n",
    "\n",
    "# Note: code below is work in progress"
   ]
  },
  {
   "cell_type": "code",
   "execution_count": 62,
   "metadata": {},
   "outputs": [],
   "source": [
    "# cluster to find similar performing\n",
    "\n",
    "import matplotlib.pyplot as plt\n",
    "# from kneed import KneeLocator\n",
    "from sklearn.datasets import make_blobs\n",
    "from sklearn.cluster import KMeans\n",
    "from sklearn.metrics import silhouette_score\n",
    "from sklearn.preprocessing import StandardScaler\n"
   ]
  },
  {
   "cell_type": "code",
   "execution_count": 67,
   "metadata": {},
   "outputs": [
    {
     "data": {
      "text/plain": [
       "KMeans(init='random', n_clusters=3, random_state=42)"
      ]
     },
     "execution_count": 67,
     "metadata": {},
     "output_type": "execute_result"
    }
   ],
   "source": [
    "features, true_labels = make_blobs(\n",
    "n_samples=200,\n",
    "centers=3,\n",
    "cluster_std=2.75,\n",
    "random_state=42\n",
    " )\n",
    "\n",
    "scaler = StandardScaler()\n",
    "scaled_features = scaler.fit_transform(features)\n",
    "\n",
    "kmeans = KMeans(\n",
    "   init=\"random\",\n",
    "   n_clusters=3,\n",
    "   n_init=10,\n",
    "   max_iter=300,\n",
    "   random_state=42\n",
    "   )\n",
    "\n",
    "\n",
    "kmeans.fit(scaled_features)"
   ]
  },
  {
   "cell_type": "code",
   "execution_count": null,
   "metadata": {},
   "outputs": [],
   "source": [
    "# Build sector related models\n",
    "MOD_DATA = ADDED_PRICE_INF[['TickName','PROB_HIGH','CHG_RTE_PRICE','sector']]\n",
    "\n",
    "# padding rows into columns of 1 or 0\n",
    "# MOD_DATA = pd.concat([MOD_DATA, pd.get_dummies(MOD_DATA['sector'])], axis=1);\n",
    "\n",
    "\n",
    "# transpose for excel movement correlations\n",
    "\n",
    "\n",
    "MOD_DATA2 = MOD_DATA.pivot_table('PROB_HIGH', ['TickName','CHG_RTE_PRICE'], 'sector')\n",
    "\n",
    "#Export version for Tableau\n",
    "\n",
    "MOD_DATA2.to_excel('/Users/joezhou/Downloads/T_SECTOR_MODEL2.xls', index=False)\n",
    "\n",
    "\n",
    "# del MOD_DATA['sector'], MOD_DATA['TickName']\n",
    "\n",
    "# np.array(MOD_DATA, dtype=bool)\n"
   ]
  },
  {
   "cell_type": "code",
   "execution_count": null,
   "metadata": {},
   "outputs": [],
   "source": [
    "# BG_MODEL.to_pickle(\"/Users/joezhou/Downloads/C_CALCS.pkl\")\n",
    "# BG_MODEL.to_excel('/Users/joezhou/Downloads/C_CALCS.xlsx', engine='xlsxwriter')  \n",
    "\n"
   ]
  }
 ],
 "metadata": {
  "interpreter": {
   "hash": "29ef60e46f341bb51c2a63b17c19fb7c83213fa52e6b916fbf12c8b5ee03317f"
  },
  "kernelspec": {
   "display_name": "Python 3.8.5 ('base')",
   "language": "python",
   "name": "python3"
  },
  "language_info": {
   "codemirror_mode": {
    "name": "ipython",
    "version": 3
   },
   "file_extension": ".py",
   "mimetype": "text/x-python",
   "name": "python",
   "nbconvert_exporter": "python",
   "pygments_lexer": "ipython3",
   "version": "3.8.5"
  },
  "orig_nbformat": 4
 },
 "nbformat": 4,
 "nbformat_minor": 2
}
