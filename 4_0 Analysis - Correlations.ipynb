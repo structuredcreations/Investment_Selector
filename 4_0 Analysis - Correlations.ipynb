{
 "cells": [
  {
   "cell_type": "code",
   "execution_count": null,
   "metadata": {},
   "outputs": [],
   "source": [
    "# The aim of this module is to calculate correlations for variables in the flat files\n",
    "# the variables are then used for linear regression\n",
    "\n",
    "# File name convention\n",
    "# R_ = raw extract \n",
    "# E_ = Entry files into enrichment layer\n",
    "# C_ = enriched layer with calculation\n",
    "# I = insights layer, designed for model baselines\n",
    "# V_ = validation"
   ]
  },
  {
   "cell_type": "code",
   "execution_count": 2,
   "metadata": {},
   "outputs": [],
   "source": [
    "import pandas as pd\n",
    "import numpy as np\n",
    "pd.options.mode.chained_assignment = None  # default='warn'\n",
    "\n",
    "# I_FLAT = pd.read_pickle ('/Users/joezhou/Downloads/C_TICKER_FLAT.pkl') \n",
    "# C_BG_MODEL = pd.read_pickle ('/Users/joezhou/Downloads/C_BEN_G_MODEL.pkl') \n",
    "\n",
    "R_PRICE = pd.read_pickle ('/Users/joezhou/Downloads/Investment/1 data/R_ALL_Prices.pkl') \n",
    "\n"
   ]
  },
  {
   "cell_type": "code",
   "execution_count": 47,
   "metadata": {},
   "outputs": [
    {
     "ename": "KeyError",
     "evalue": "\"The following 'id_vars' are not present in the DataFrame: ['TickName']\"",
     "output_type": "error",
     "traceback": [
      "\u001b[0;31m---------------------------------------------------------------------------\u001b[0m",
      "\u001b[0;31mKeyError\u001b[0m                                  Traceback (most recent call last)",
      "\u001b[0;32m<ipython-input-47-a21590cdf21c>\u001b[0m in \u001b[0;36m<module>\u001b[0;34m\u001b[0m\n\u001b[1;32m     10\u001b[0m \u001b[0mupper\u001b[0m \u001b[0;34m=\u001b[0m \u001b[0mcorr_matrix\u001b[0m\u001b[0;34m.\u001b[0m\u001b[0mwhere\u001b[0m\u001b[0;34m(\u001b[0m\u001b[0mnp\u001b[0m\u001b[0;34m.\u001b[0m\u001b[0mtriu\u001b[0m\u001b[0;34m(\u001b[0m\u001b[0mnp\u001b[0m\u001b[0;34m.\u001b[0m\u001b[0mones\u001b[0m\u001b[0;34m(\u001b[0m\u001b[0mcorr_matrix\u001b[0m\u001b[0;34m.\u001b[0m\u001b[0mshape\u001b[0m\u001b[0;34m)\u001b[0m\u001b[0;34m,\u001b[0m \u001b[0mk\u001b[0m\u001b[0;34m=\u001b[0m\u001b[0;36m1\u001b[0m\u001b[0;34m)\u001b[0m\u001b[0;34m.\u001b[0m\u001b[0mastype\u001b[0m\u001b[0;34m(\u001b[0m\u001b[0mnp\u001b[0m\u001b[0;34m.\u001b[0m\u001b[0mbool\u001b[0m\u001b[0;34m)\u001b[0m\u001b[0;34m)\u001b[0m\u001b[0;34m\u001b[0m\u001b[0;34m\u001b[0m\u001b[0m\n\u001b[1;32m     11\u001b[0m \u001b[0;31m# upper.reset_index()\u001b[0m\u001b[0;34m\u001b[0m\u001b[0;34m\u001b[0m\u001b[0;34m\u001b[0m\u001b[0m\n\u001b[0;32m---> 12\u001b[0;31m \u001b[0mupper2\u001b[0m\u001b[0;34m=\u001b[0m\u001b[0mupper\u001b[0m\u001b[0;34m.\u001b[0m\u001b[0mmelt\u001b[0m\u001b[0;34m(\u001b[0m\u001b[0mid_vars\u001b[0m\u001b[0;34m=\u001b[0m\u001b[0;34m[\u001b[0m\u001b[0;34m\"TickName\"\u001b[0m\u001b[0;34m]\u001b[0m\u001b[0;34m,\u001b[0m\u001b[0mvar_name\u001b[0m\u001b[0;34m=\u001b[0m\u001b[0;34m\"TickName2\"\u001b[0m\u001b[0;34m,\u001b[0m\u001b[0mvalue_name\u001b[0m\u001b[0;34m=\u001b[0m\u001b[0;34m\"Correl\"\u001b[0m\u001b[0;34m)\u001b[0m\u001b[0;34m\u001b[0m\u001b[0;34m\u001b[0m\u001b[0m\n\u001b[0m\u001b[1;32m     13\u001b[0m \u001b[0;34m\u001b[0m\u001b[0m\n\u001b[1;32m     14\u001b[0m \u001b[0;34m\u001b[0m\u001b[0m\n",
      "\u001b[0;32m~/opt/anaconda3/lib/python3.8/site-packages/pandas/core/frame.py\u001b[0m in \u001b[0;36mmelt\u001b[0;34m(self, id_vars, value_vars, var_name, value_name, col_level, ignore_index)\u001b[0m\n\u001b[1;32m   7160\u001b[0m     ) -> \"DataFrame\":\n\u001b[1;32m   7161\u001b[0m \u001b[0;34m\u001b[0m\u001b[0m\n\u001b[0;32m-> 7162\u001b[0;31m         return melt(\n\u001b[0m\u001b[1;32m   7163\u001b[0m             \u001b[0mself\u001b[0m\u001b[0;34m,\u001b[0m\u001b[0;34m\u001b[0m\u001b[0;34m\u001b[0m\u001b[0m\n\u001b[1;32m   7164\u001b[0m             \u001b[0mid_vars\u001b[0m\u001b[0;34m=\u001b[0m\u001b[0mid_vars\u001b[0m\u001b[0;34m,\u001b[0m\u001b[0;34m\u001b[0m\u001b[0;34m\u001b[0m\u001b[0m\n",
      "\u001b[0;32m~/opt/anaconda3/lib/python3.8/site-packages/pandas/core/reshape/melt.py\u001b[0m in \u001b[0;36mmelt\u001b[0;34m(frame, id_vars, value_vars, var_name, value_name, col_level, ignore_index)\u001b[0m\n\u001b[1;32m     65\u001b[0m             \u001b[0mmissing\u001b[0m \u001b[0;34m=\u001b[0m \u001b[0mIndex\u001b[0m\u001b[0;34m(\u001b[0m\u001b[0mcom\u001b[0m\u001b[0;34m.\u001b[0m\u001b[0mflatten\u001b[0m\u001b[0;34m(\u001b[0m\u001b[0mid_vars\u001b[0m\u001b[0;34m)\u001b[0m\u001b[0;34m)\u001b[0m\u001b[0;34m.\u001b[0m\u001b[0mdifference\u001b[0m\u001b[0;34m(\u001b[0m\u001b[0mcols\u001b[0m\u001b[0;34m)\u001b[0m\u001b[0;34m\u001b[0m\u001b[0;34m\u001b[0m\u001b[0m\n\u001b[1;32m     66\u001b[0m             \u001b[0;32mif\u001b[0m \u001b[0;32mnot\u001b[0m \u001b[0mmissing\u001b[0m\u001b[0;34m.\u001b[0m\u001b[0mempty\u001b[0m\u001b[0;34m:\u001b[0m\u001b[0;34m\u001b[0m\u001b[0;34m\u001b[0m\u001b[0m\n\u001b[0;32m---> 67\u001b[0;31m                 raise KeyError(\n\u001b[0m\u001b[1;32m     68\u001b[0m                     \u001b[0;34m\"The following 'id_vars' are not present \"\u001b[0m\u001b[0;34m\u001b[0m\u001b[0;34m\u001b[0m\u001b[0m\n\u001b[1;32m     69\u001b[0m                     \u001b[0;34mf\"in the DataFrame: {list(missing)}\"\u001b[0m\u001b[0;34m\u001b[0m\u001b[0;34m\u001b[0m\u001b[0m\n",
      "\u001b[0;31mKeyError\u001b[0m: \"The following 'id_vars' are not present in the DataFrame: ['TickName']\""
     ]
    }
   ],
   "source": [
    "# Find daily price correlations\n",
    "R_PRICE1 = R_PRICE[R_PRICE['TickName'].isin(['CBA.AX','ANZ.AX','WPC.AX','JBH.AX','LGP.AX'])]\n",
    "\n",
    "R_PRICE_CLSE = R_PRICE1[['Date', 'TickName','Close']]\n",
    "\n",
    "R_PRICE_CLSE2 = R_PRICE_CLSE.pivot_table(index=['Date'], columns='TickName', values='Close').reset_index()\n",
    "\n",
    "# Create correlation matrix\n",
    "corr_matrix = R_PRICE_CLSE2.corr()\n",
    "upper = corr_matrix.where(np.triu(np.ones(corr_matrix.shape), k=1).astype(np.bool))\n",
    "# upper.reset_index()\n",
    "upper2=upper.melt(id_vars=[\"TickName\"],var_name=\"TickName2\",value_name=\"Correl\")\n",
    "\n",
    "\n",
    "# upper.to_excel('/Users/joezhou/Downloads/Investment/corr_matrix.xlsx', engine='xlsxwriter')  \n",
    "# Find features with correlation greater than threshold\n",
    "# to_drop = [column for column in upper.columns if any(upper[column] > 0.7)]\n",
    "# Drop features \n",
    "\n",
    "# upper2 = upper.head(10)\n",
    "\n",
    "\n",
    "# flip back to create comparison sets\n",
    "# upper.rename(columns = {'index':'Metric'}, inplace = True)\n",
    "# upper2=upper.melt(id_vars=[\"Metric\"],var_name=\"TickName\",value_name=\"Correlation\")\n",
    "\n",
    "\n"
   ]
  },
  {
   "cell_type": "code",
   "execution_count": 26,
   "metadata": {},
   "outputs": [],
   "source": [
    "\n",
    "from datetime import datetime as dt\n",
    "dte = dt.now().strftime('%Y%m%d')\n",
    "fname = \"/Users/joezhou/Downloads/Investment/TEST_CORR_MATRIX{}.xlsx\".format(dte)\n",
    "upper.to_excel(fname)\n",
    "\n",
    "# last run, 1.41"
   ]
  },
  {
   "cell_type": "code",
   "execution_count": 62,
   "metadata": {},
   "outputs": [],
   "source": [
    "# cluster to find similar performing\n",
    "\n",
    "import matplotlib.pyplot as plt\n",
    "# from kneed import KneeLocator\n",
    "from sklearn.datasets import make_blobs\n",
    "from sklearn.cluster import KMeans\n",
    "from sklearn.metrics import silhouette_score\n",
    "from sklearn.preprocessing import StandardScaler\n"
   ]
  },
  {
   "cell_type": "code",
   "execution_count": 67,
   "metadata": {},
   "outputs": [
    {
     "data": {
      "text/plain": [
       "KMeans(init='random', n_clusters=3, random_state=42)"
      ]
     },
     "execution_count": 67,
     "metadata": {},
     "output_type": "execute_result"
    }
   ],
   "source": [
    "features, true_labels = make_blobs(\n",
    "n_samples=200,\n",
    "centers=3,\n",
    "cluster_std=2.75,\n",
    "random_state=42\n",
    " )\n",
    "\n",
    "scaler = StandardScaler()\n",
    "scaled_features = scaler.fit_transform(features)\n",
    "\n",
    "kmeans = KMeans(\n",
    "   init=\"random\",\n",
    "   n_clusters=3,\n",
    "   n_init=10,\n",
    "   max_iter=300,\n",
    "   random_state=42\n",
    "   )\n",
    "\n",
    "\n",
    "kmeans.fit(scaled_features)"
   ]
  },
  {
   "cell_type": "code",
   "execution_count": null,
   "metadata": {},
   "outputs": [],
   "source": [
    "# Build sector related models\n",
    "MOD_DATA = ADDED_PRICE_INF[['TickName','PROB_HIGH','CHG_RTE_PRICE','sector']]\n",
    "\n",
    "# padding rows into columns of 1 or 0\n",
    "# MOD_DATA = pd.concat([MOD_DATA, pd.get_dummies(MOD_DATA['sector'])], axis=1);\n",
    "\n",
    "\n",
    "# transpose for excel movement correlations\n",
    "\n",
    "\n",
    "MOD_DATA2 = MOD_DATA.pivot_table('PROB_HIGH', ['TickName','CHG_RTE_PRICE'], 'sector')\n",
    "\n",
    "#Export version for Tableau\n",
    "\n",
    "MOD_DATA2.to_excel('/Users/joezhou/Downloads/T_SECTOR_MODEL2.xls', index=False)\n",
    "\n",
    "\n",
    "# del MOD_DATA['sector'], MOD_DATA['TickName']\n",
    "\n",
    "# np.array(MOD_DATA, dtype=bool)\n"
   ]
  },
  {
   "cell_type": "code",
   "execution_count": null,
   "metadata": {},
   "outputs": [],
   "source": [
    "# BG_MODEL.to_pickle(\"/Users/joezhou/Downloads/C_CALCS.pkl\")\n",
    "# BG_MODEL.to_excel('/Users/joezhou/Downloads/C_CALCS.xlsx', engine='xlsxwriter')  \n",
    "\n"
   ]
  }
 ],
 "metadata": {
  "interpreter": {
   "hash": "29ef60e46f341bb51c2a63b17c19fb7c83213fa52e6b916fbf12c8b5ee03317f"
  },
  "kernelspec": {
   "display_name": "Python 3.8.5 ('base')",
   "language": "python",
   "name": "python3"
  },
  "language_info": {
   "codemirror_mode": {
    "name": "ipython",
    "version": 3
   },
   "file_extension": ".py",
   "mimetype": "text/x-python",
   "name": "python",
   "nbconvert_exporter": "python",
   "pygments_lexer": "ipython3",
   "version": "3.8.5"
  },
  "orig_nbformat": 4
 },
 "nbformat": 4,
 "nbformat_minor": 2
}
